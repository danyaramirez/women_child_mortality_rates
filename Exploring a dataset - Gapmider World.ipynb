{
 "cells": [
  {
   "cell_type": "markdown",
   "metadata": {
    "slideshow": {
     "slide_type": "slide"
    }
   },
   "source": [
    "# PROJECT 2: \n",
    "\n",
    "# Interaction between Skilled Health Assistance and Newborn and Maternal Mortality Rates\n",
    "\n",
    "## Table of Contents\n",
    "<ul>\n",
    "<li><a href=\"#intro\">Introduction</a></li>\n",
    "<li><a href=\"#wrangling\">Data Wrangling</a></li>\n",
    "<li><a href=\"#eda\">Exploratory Data Analysis</a></li>\n",
    "<li><a href=\"#conclusions\">Conclusions</a></li>\n",
    "</ul>"
   ]
  },
  {
   "cell_type": "markdown",
   "metadata": {},
   "source": [
    "<a id='intro'></a>\n",
    "## Introduction\n",
    "\n",
    "This projects explores the connection between maternal mortality rates and newborn mortality rates with skilled health assistance at birth, and also with income inequality.\n",
    "\n",
    "For this analysis, four indicators from the Gapminder World Dataset were selected:\n",
    "\n",
    "- Newborn Mortality Rate - deaths per 1,000 live births in the first 28 days from pregnancy termination\n",
    "- Maternal Mortality Ratio (IHME) - deaths per 100,000 live births within a year of pregnancy termination, due to a cause related to pregnancy or delivery\n",
    "- Gini Coefficient for Income Inequality - 0 to 1 (lower being \"more equal\")\n",
    "- Births Attended by Skilled Health Staff - percent of total deliveries attended by skilled health staff\n",
    "\n",
    "The questions to be addressed in this analysis are as follows:\n",
    "\n",
    "1. What countries have the highest and lowest maternal mortality rates in 2015?\n",
    "2. How have maternal mortality rates changed over time worldwide?\n",
    "3. How have maternal mortality rates changed in 26 years for each country? \n",
    "4. Which countries have increased/decreased their maternal mortality rates?\n",
    "5. What countries have the highest and lowest newborn mortality rates in 2015?\n",
    "6. How have newborn mortality rates changed over time worldwide?\n",
    "7. How have newborn mortality rates changed in 26 years for each country? \n",
    "8. Which countries have increased/decreased their newborn mortality rates?\n",
    "9. Are maternal mortality rates and newborn mortality rates correlated? How? \n",
    "10. Are maternal mortality rates and newborn mortality rates correlated with income inequality? How?\n",
    "11. Are maternal mortality rates and newborn mortality rates correlated with skilled health assistanc? How?\n",
    "\n",
    "_Note: \"Skilled Health Staff\" is defined as health personnel (doctors, nurses or midwives) trained in providing life-saving obstetric care, including giving the necessary supervision, care and advice to women during pregnancy, childbirth and the postpartum period, to conduct deliveries on their own, and to care for newborns._"
   ]
  },
  {
   "cell_type": "code",
   "execution_count": 106,
   "metadata": {},
   "outputs": [],
   "source": [
    "# Import all necessary packages\n",
    "import pandas as pd\n",
    "import numpy as np\n",
    "import matplotlib.pyplot as plt\n",
    "import plotly.express as px\n",
    "import scipy.stats as stats\n",
    "import seaborn as sb\n",
    "%matplotlib inline"
   ]
  },
  {
   "cell_type": "markdown",
   "metadata": {},
   "source": [
    "<a id='wrangling'></a>\n",
    "## Data Wrangling"
   ]
  },
  {
   "cell_type": "code",
   "execution_count": 107,
   "metadata": {},
   "outputs": [
    {
     "data": {
      "text/html": [
       "<div>\n",
       "<style scoped>\n",
       "    .dataframe tbody tr th:only-of-type {\n",
       "        vertical-align: middle;\n",
       "    }\n",
       "\n",
       "    .dataframe tbody tr th {\n",
       "        vertical-align: top;\n",
       "    }\n",
       "\n",
       "    .dataframe thead th {\n",
       "        text-align: right;\n",
       "    }\n",
       "</style>\n",
       "<table border=\"1\" class=\"dataframe\">\n",
       "  <thead>\n",
       "    <tr style=\"text-align: right;\">\n",
       "      <th></th>\n",
       "      <th>country</th>\n",
       "      <th>1990</th>\n",
       "      <th>1991</th>\n",
       "      <th>1992</th>\n",
       "      <th>1993</th>\n",
       "      <th>1994</th>\n",
       "      <th>1995</th>\n",
       "      <th>1996</th>\n",
       "      <th>1997</th>\n",
       "      <th>1998</th>\n",
       "      <th>...</th>\n",
       "      <th>2010</th>\n",
       "      <th>2011</th>\n",
       "      <th>2012</th>\n",
       "      <th>2013</th>\n",
       "      <th>2014</th>\n",
       "      <th>2015</th>\n",
       "      <th>2016</th>\n",
       "      <th>2017</th>\n",
       "      <th>2018</th>\n",
       "      <th>2019</th>\n",
       "    </tr>\n",
       "  </thead>\n",
       "  <tbody>\n",
       "    <tr>\n",
       "      <th>0</th>\n",
       "      <td>Afghanistan</td>\n",
       "      <td>496.00</td>\n",
       "      <td>468.00</td>\n",
       "      <td>442.00</td>\n",
       "      <td>434.00</td>\n",
       "      <td>435.00</td>\n",
       "      <td>437.00</td>\n",
       "      <td>441.00</td>\n",
       "      <td>448.0</td>\n",
       "      <td>456.00</td>\n",
       "      <td>...</td>\n",
       "      <td>417.00</td>\n",
       "      <td>396.00</td>\n",
       "      <td>373.00</td>\n",
       "      <td>353.00</td>\n",
       "      <td>335.00</td>\n",
       "      <td>318.00</td>\n",
       "      <td>302.00</td>\n",
       "      <td>289.00</td>\n",
       "      <td>281.00</td>\n",
       "      <td>267.00</td>\n",
       "    </tr>\n",
       "    <tr>\n",
       "      <th>1</th>\n",
       "      <td>Albania</td>\n",
       "      <td>28.50</td>\n",
       "      <td>27.00</td>\n",
       "      <td>23.40</td>\n",
       "      <td>20.40</td>\n",
       "      <td>17.30</td>\n",
       "      <td>16.40</td>\n",
       "      <td>15.30</td>\n",
       "      <td>13.8</td>\n",
       "      <td>12.30</td>\n",
       "      <td>...</td>\n",
       "      <td>9.13</td>\n",
       "      <td>8.76</td>\n",
       "      <td>8.47</td>\n",
       "      <td>8.26</td>\n",
       "      <td>7.98</td>\n",
       "      <td>7.75</td>\n",
       "      <td>7.58</td>\n",
       "      <td>7.46</td>\n",
       "      <td>7.33</td>\n",
       "      <td>7.18</td>\n",
       "    </tr>\n",
       "    <tr>\n",
       "      <th>2</th>\n",
       "      <td>Algeria</td>\n",
       "      <td>210.00</td>\n",
       "      <td>200.00</td>\n",
       "      <td>194.00</td>\n",
       "      <td>189.00</td>\n",
       "      <td>183.00</td>\n",
       "      <td>177.00</td>\n",
       "      <td>170.00</td>\n",
       "      <td>162.0</td>\n",
       "      <td>152.00</td>\n",
       "      <td>...</td>\n",
       "      <td>91.20</td>\n",
       "      <td>86.70</td>\n",
       "      <td>82.10</td>\n",
       "      <td>78.40</td>\n",
       "      <td>75.00</td>\n",
       "      <td>75.30</td>\n",
       "      <td>73.80</td>\n",
       "      <td>72.70</td>\n",
       "      <td>72.90</td>\n",
       "      <td>71.50</td>\n",
       "    </tr>\n",
       "    <tr>\n",
       "      <th>3</th>\n",
       "      <td>Andorra</td>\n",
       "      <td>2.67</td>\n",
       "      <td>2.59</td>\n",
       "      <td>2.57</td>\n",
       "      <td>2.58</td>\n",
       "      <td>2.59</td>\n",
       "      <td>2.52</td>\n",
       "      <td>2.45</td>\n",
       "      <td>2.4</td>\n",
       "      <td>2.34</td>\n",
       "      <td>...</td>\n",
       "      <td>2.10</td>\n",
       "      <td>2.08</td>\n",
       "      <td>2.06</td>\n",
       "      <td>2.00</td>\n",
       "      <td>1.95</td>\n",
       "      <td>1.88</td>\n",
       "      <td>1.92</td>\n",
       "      <td>1.92</td>\n",
       "      <td>1.90</td>\n",
       "      <td>1.88</td>\n",
       "    </tr>\n",
       "    <tr>\n",
       "      <th>4</th>\n",
       "      <td>Angola</td>\n",
       "      <td>322.00</td>\n",
       "      <td>315.00</td>\n",
       "      <td>311.00</td>\n",
       "      <td>317.00</td>\n",
       "      <td>320.00</td>\n",
       "      <td>307.00</td>\n",
       "      <td>278.00</td>\n",
       "      <td>267.0</td>\n",
       "      <td>278.00</td>\n",
       "      <td>...</td>\n",
       "      <td>238.00</td>\n",
       "      <td>233.00</td>\n",
       "      <td>227.00</td>\n",
       "      <td>219.00</td>\n",
       "      <td>211.00</td>\n",
       "      <td>205.00</td>\n",
       "      <td>199.00</td>\n",
       "      <td>198.00</td>\n",
       "      <td>193.00</td>\n",
       "      <td>186.00</td>\n",
       "    </tr>\n",
       "  </tbody>\n",
       "</table>\n",
       "<p>5 rows × 31 columns</p>\n",
       "</div>"
      ],
      "text/plain": [
       "       country    1990    1991    1992    1993    1994    1995    1996   1997  \\\n",
       "0  Afghanistan  496.00  468.00  442.00  434.00  435.00  437.00  441.00  448.0   \n",
       "1      Albania   28.50   27.00   23.40   20.40   17.30   16.40   15.30   13.8   \n",
       "2      Algeria  210.00  200.00  194.00  189.00  183.00  177.00  170.00  162.0   \n",
       "3      Andorra    2.67    2.59    2.57    2.58    2.59    2.52    2.45    2.4   \n",
       "4       Angola  322.00  315.00  311.00  317.00  320.00  307.00  278.00  267.0   \n",
       "\n",
       "     1998  ...    2010    2011    2012    2013    2014    2015    2016  \\\n",
       "0  456.00  ...  417.00  396.00  373.00  353.00  335.00  318.00  302.00   \n",
       "1   12.30  ...    9.13    8.76    8.47    8.26    7.98    7.75    7.58   \n",
       "2  152.00  ...   91.20   86.70   82.10   78.40   75.00   75.30   73.80   \n",
       "3    2.34  ...    2.10    2.08    2.06    2.00    1.95    1.88    1.92   \n",
       "4  278.00  ...  238.00  233.00  227.00  219.00  211.00  205.00  199.00   \n",
       "\n",
       "     2017    2018    2019  \n",
       "0  289.00  281.00  267.00  \n",
       "1    7.46    7.33    7.18  \n",
       "2   72.70   72.90   71.50  \n",
       "3    1.92    1.90    1.88  \n",
       "4  198.00  193.00  186.00  \n",
       "\n",
       "[5 rows x 31 columns]"
      ]
     },
     "execution_count": 107,
     "metadata": {},
     "output_type": "execute_result"
    }
   ],
   "source": [
    "# Load the four relevant datasets\n",
    "df_maternal_original = pd.read_csv(\"mmr_ihme.csv\")\n",
    "df_maternal_original.head()"
   ]
  },
  {
   "cell_type": "code",
   "execution_count": 108,
   "metadata": {},
   "outputs": [
    {
     "data": {
      "text/html": [
       "<div>\n",
       "<style scoped>\n",
       "    .dataframe tbody tr th:only-of-type {\n",
       "        vertical-align: middle;\n",
       "    }\n",
       "\n",
       "    .dataframe tbody tr th {\n",
       "        vertical-align: top;\n",
       "    }\n",
       "\n",
       "    .dataframe thead th {\n",
       "        text-align: right;\n",
       "    }\n",
       "</style>\n",
       "<table border=\"1\" class=\"dataframe\">\n",
       "  <thead>\n",
       "    <tr style=\"text-align: right;\">\n",
       "      <th></th>\n",
       "      <th>country</th>\n",
       "      <th>1951</th>\n",
       "      <th>1952</th>\n",
       "      <th>1953</th>\n",
       "      <th>1954</th>\n",
       "      <th>1955</th>\n",
       "      <th>1956</th>\n",
       "      <th>1957</th>\n",
       "      <th>1958</th>\n",
       "      <th>1959</th>\n",
       "      <th>...</th>\n",
       "      <th>2006</th>\n",
       "      <th>2007</th>\n",
       "      <th>2008</th>\n",
       "      <th>2009</th>\n",
       "      <th>2010</th>\n",
       "      <th>2011</th>\n",
       "      <th>2012</th>\n",
       "      <th>2013</th>\n",
       "      <th>2014</th>\n",
       "      <th>2015</th>\n",
       "    </tr>\n",
       "  </thead>\n",
       "  <tbody>\n",
       "    <tr>\n",
       "      <th>0</th>\n",
       "      <td>Afghanistan</td>\n",
       "      <td>NaN</td>\n",
       "      <td>NaN</td>\n",
       "      <td>NaN</td>\n",
       "      <td>NaN</td>\n",
       "      <td>NaN</td>\n",
       "      <td>NaN</td>\n",
       "      <td>NaN</td>\n",
       "      <td>NaN</td>\n",
       "      <td>NaN</td>\n",
       "      <td>...</td>\n",
       "      <td>41.0</td>\n",
       "      <td>40.4</td>\n",
       "      <td>39.8</td>\n",
       "      <td>39.1</td>\n",
       "      <td>38.7</td>\n",
       "      <td>38.1</td>\n",
       "      <td>37.4</td>\n",
       "      <td>36.8</td>\n",
       "      <td>36.1</td>\n",
       "      <td>35.5</td>\n",
       "    </tr>\n",
       "    <tr>\n",
       "      <th>1</th>\n",
       "      <td>Albania</td>\n",
       "      <td>NaN</td>\n",
       "      <td>NaN</td>\n",
       "      <td>NaN</td>\n",
       "      <td>NaN</td>\n",
       "      <td>NaN</td>\n",
       "      <td>NaN</td>\n",
       "      <td>NaN</td>\n",
       "      <td>NaN</td>\n",
       "      <td>NaN</td>\n",
       "      <td>...</td>\n",
       "      <td>8.9</td>\n",
       "      <td>8.5</td>\n",
       "      <td>8.2</td>\n",
       "      <td>7.9</td>\n",
       "      <td>7.5</td>\n",
       "      <td>7.2</td>\n",
       "      <td>7.0</td>\n",
       "      <td>6.8</td>\n",
       "      <td>6.5</td>\n",
       "      <td>6.2</td>\n",
       "    </tr>\n",
       "    <tr>\n",
       "      <th>2</th>\n",
       "      <td>Algeria</td>\n",
       "      <td>NaN</td>\n",
       "      <td>NaN</td>\n",
       "      <td>NaN</td>\n",
       "      <td>NaN</td>\n",
       "      <td>NaN</td>\n",
       "      <td>NaN</td>\n",
       "      <td>NaN</td>\n",
       "      <td>NaN</td>\n",
       "      <td>NaN</td>\n",
       "      <td>...</td>\n",
       "      <td>18.8</td>\n",
       "      <td>18.2</td>\n",
       "      <td>17.5</td>\n",
       "      <td>17.0</td>\n",
       "      <td>16.5</td>\n",
       "      <td>16.2</td>\n",
       "      <td>15.9</td>\n",
       "      <td>15.7</td>\n",
       "      <td>15.6</td>\n",
       "      <td>15.5</td>\n",
       "    </tr>\n",
       "    <tr>\n",
       "      <th>3</th>\n",
       "      <td>Andorra</td>\n",
       "      <td>NaN</td>\n",
       "      <td>NaN</td>\n",
       "      <td>NaN</td>\n",
       "      <td>NaN</td>\n",
       "      <td>NaN</td>\n",
       "      <td>NaN</td>\n",
       "      <td>NaN</td>\n",
       "      <td>NaN</td>\n",
       "      <td>NaN</td>\n",
       "      <td>...</td>\n",
       "      <td>1.9</td>\n",
       "      <td>1.8</td>\n",
       "      <td>1.8</td>\n",
       "      <td>1.7</td>\n",
       "      <td>1.7</td>\n",
       "      <td>1.6</td>\n",
       "      <td>1.6</td>\n",
       "      <td>1.5</td>\n",
       "      <td>1.5</td>\n",
       "      <td>1.4</td>\n",
       "    </tr>\n",
       "    <tr>\n",
       "      <th>4</th>\n",
       "      <td>Angola</td>\n",
       "      <td>NaN</td>\n",
       "      <td>NaN</td>\n",
       "      <td>NaN</td>\n",
       "      <td>NaN</td>\n",
       "      <td>NaN</td>\n",
       "      <td>NaN</td>\n",
       "      <td>NaN</td>\n",
       "      <td>NaN</td>\n",
       "      <td>NaN</td>\n",
       "      <td>...</td>\n",
       "      <td>55.5</td>\n",
       "      <td>55.0</td>\n",
       "      <td>54.1</td>\n",
       "      <td>53.4</td>\n",
       "      <td>52.6</td>\n",
       "      <td>51.9</td>\n",
       "      <td>51.1</td>\n",
       "      <td>50.4</td>\n",
       "      <td>49.6</td>\n",
       "      <td>48.7</td>\n",
       "    </tr>\n",
       "  </tbody>\n",
       "</table>\n",
       "<p>5 rows × 66 columns</p>\n",
       "</div>"
      ],
      "text/plain": [
       "       country  1951  1952  1953  1954  1955  1956  1957  1958  1959  ...  \\\n",
       "0  Afghanistan   NaN   NaN   NaN   NaN   NaN   NaN   NaN   NaN   NaN  ...   \n",
       "1      Albania   NaN   NaN   NaN   NaN   NaN   NaN   NaN   NaN   NaN  ...   \n",
       "2      Algeria   NaN   NaN   NaN   NaN   NaN   NaN   NaN   NaN   NaN  ...   \n",
       "3      Andorra   NaN   NaN   NaN   NaN   NaN   NaN   NaN   NaN   NaN  ...   \n",
       "4       Angola   NaN   NaN   NaN   NaN   NaN   NaN   NaN   NaN   NaN  ...   \n",
       "\n",
       "   2006  2007  2008  2009  2010  2011  2012  2013  2014  2015  \n",
       "0  41.0  40.4  39.8  39.1  38.7  38.1  37.4  36.8  36.1  35.5  \n",
       "1   8.9   8.5   8.2   7.9   7.5   7.2   7.0   6.8   6.5   6.2  \n",
       "2  18.8  18.2  17.5  17.0  16.5  16.2  15.9  15.7  15.6  15.5  \n",
       "3   1.9   1.8   1.8   1.7   1.7   1.6   1.6   1.5   1.5   1.4  \n",
       "4  55.5  55.0  54.1  53.4  52.6  51.9  51.1  50.4  49.6  48.7  \n",
       "\n",
       "[5 rows x 66 columns]"
      ]
     },
     "execution_count": 108,
     "metadata": {},
     "output_type": "execute_result"
    }
   ],
   "source": [
    "df_newborn_original = pd.read_csv(\"newborn_mortality_rate_per_1000.csv\")\n",
    "df_newborn_original.head()"
   ]
  },
  {
   "cell_type": "code",
   "execution_count": 109,
   "metadata": {},
   "outputs": [
    {
     "data": {
      "text/html": [
       "<div>\n",
       "<style scoped>\n",
       "    .dataframe tbody tr th:only-of-type {\n",
       "        vertical-align: middle;\n",
       "    }\n",
       "\n",
       "    .dataframe tbody tr th {\n",
       "        vertical-align: top;\n",
       "    }\n",
       "\n",
       "    .dataframe thead th {\n",
       "        text-align: right;\n",
       "    }\n",
       "</style>\n",
       "<table border=\"1\" class=\"dataframe\">\n",
       "  <thead>\n",
       "    <tr style=\"text-align: right;\">\n",
       "      <th></th>\n",
       "      <th>country</th>\n",
       "      <th>1800</th>\n",
       "      <th>1801</th>\n",
       "      <th>1802</th>\n",
       "      <th>1803</th>\n",
       "      <th>1804</th>\n",
       "      <th>1805</th>\n",
       "      <th>1806</th>\n",
       "      <th>1807</th>\n",
       "      <th>1808</th>\n",
       "      <th>...</th>\n",
       "      <th>2031</th>\n",
       "      <th>2032</th>\n",
       "      <th>2033</th>\n",
       "      <th>2034</th>\n",
       "      <th>2035</th>\n",
       "      <th>2036</th>\n",
       "      <th>2037</th>\n",
       "      <th>2038</th>\n",
       "      <th>2039</th>\n",
       "      <th>2040</th>\n",
       "    </tr>\n",
       "  </thead>\n",
       "  <tbody>\n",
       "    <tr>\n",
       "      <th>0</th>\n",
       "      <td>Afghanistan</td>\n",
       "      <td>30.5</td>\n",
       "      <td>30.5</td>\n",
       "      <td>30.5</td>\n",
       "      <td>30.5</td>\n",
       "      <td>30.5</td>\n",
       "      <td>30.5</td>\n",
       "      <td>30.5</td>\n",
       "      <td>30.5</td>\n",
       "      <td>30.5</td>\n",
       "      <td>...</td>\n",
       "      <td>36.8</td>\n",
       "      <td>36.8</td>\n",
       "      <td>36.8</td>\n",
       "      <td>36.8</td>\n",
       "      <td>36.8</td>\n",
       "      <td>36.8</td>\n",
       "      <td>36.8</td>\n",
       "      <td>36.8</td>\n",
       "      <td>36.8</td>\n",
       "      <td>36.8</td>\n",
       "    </tr>\n",
       "    <tr>\n",
       "      <th>1</th>\n",
       "      <td>Albania</td>\n",
       "      <td>38.9</td>\n",
       "      <td>38.9</td>\n",
       "      <td>38.9</td>\n",
       "      <td>38.9</td>\n",
       "      <td>38.9</td>\n",
       "      <td>38.9</td>\n",
       "      <td>38.9</td>\n",
       "      <td>38.9</td>\n",
       "      <td>38.9</td>\n",
       "      <td>...</td>\n",
       "      <td>29.0</td>\n",
       "      <td>29.0</td>\n",
       "      <td>29.0</td>\n",
       "      <td>29.0</td>\n",
       "      <td>29.0</td>\n",
       "      <td>29.0</td>\n",
       "      <td>29.0</td>\n",
       "      <td>29.0</td>\n",
       "      <td>29.0</td>\n",
       "      <td>29.0</td>\n",
       "    </tr>\n",
       "    <tr>\n",
       "      <th>2</th>\n",
       "      <td>Algeria</td>\n",
       "      <td>56.2</td>\n",
       "      <td>56.2</td>\n",
       "      <td>56.2</td>\n",
       "      <td>56.2</td>\n",
       "      <td>56.2</td>\n",
       "      <td>56.2</td>\n",
       "      <td>56.2</td>\n",
       "      <td>56.2</td>\n",
       "      <td>56.2</td>\n",
       "      <td>...</td>\n",
       "      <td>27.6</td>\n",
       "      <td>27.6</td>\n",
       "      <td>27.6</td>\n",
       "      <td>27.6</td>\n",
       "      <td>27.6</td>\n",
       "      <td>27.6</td>\n",
       "      <td>27.6</td>\n",
       "      <td>27.6</td>\n",
       "      <td>27.6</td>\n",
       "      <td>27.6</td>\n",
       "    </tr>\n",
       "    <tr>\n",
       "      <th>3</th>\n",
       "      <td>Andorra</td>\n",
       "      <td>40.0</td>\n",
       "      <td>40.0</td>\n",
       "      <td>40.0</td>\n",
       "      <td>40.0</td>\n",
       "      <td>40.0</td>\n",
       "      <td>40.0</td>\n",
       "      <td>40.0</td>\n",
       "      <td>40.0</td>\n",
       "      <td>40.0</td>\n",
       "      <td>...</td>\n",
       "      <td>40.0</td>\n",
       "      <td>40.0</td>\n",
       "      <td>40.0</td>\n",
       "      <td>40.0</td>\n",
       "      <td>40.0</td>\n",
       "      <td>40.0</td>\n",
       "      <td>40.0</td>\n",
       "      <td>40.0</td>\n",
       "      <td>40.0</td>\n",
       "      <td>40.0</td>\n",
       "    </tr>\n",
       "    <tr>\n",
       "      <th>4</th>\n",
       "      <td>Angola</td>\n",
       "      <td>57.2</td>\n",
       "      <td>57.2</td>\n",
       "      <td>57.2</td>\n",
       "      <td>57.2</td>\n",
       "      <td>57.2</td>\n",
       "      <td>57.2</td>\n",
       "      <td>57.2</td>\n",
       "      <td>57.2</td>\n",
       "      <td>57.2</td>\n",
       "      <td>...</td>\n",
       "      <td>42.6</td>\n",
       "      <td>42.6</td>\n",
       "      <td>42.6</td>\n",
       "      <td>42.6</td>\n",
       "      <td>42.6</td>\n",
       "      <td>42.6</td>\n",
       "      <td>42.6</td>\n",
       "      <td>42.6</td>\n",
       "      <td>42.6</td>\n",
       "      <td>42.6</td>\n",
       "    </tr>\n",
       "  </tbody>\n",
       "</table>\n",
       "<p>5 rows × 242 columns</p>\n",
       "</div>"
      ],
      "text/plain": [
       "       country  1800  1801  1802  1803  1804  1805  1806  1807  1808  ...  \\\n",
       "0  Afghanistan  30.5  30.5  30.5  30.5  30.5  30.5  30.5  30.5  30.5  ...   \n",
       "1      Albania  38.9  38.9  38.9  38.9  38.9  38.9  38.9  38.9  38.9  ...   \n",
       "2      Algeria  56.2  56.2  56.2  56.2  56.2  56.2  56.2  56.2  56.2  ...   \n",
       "3      Andorra  40.0  40.0  40.0  40.0  40.0  40.0  40.0  40.0  40.0  ...   \n",
       "4       Angola  57.2  57.2  57.2  57.2  57.2  57.2  57.2  57.2  57.2  ...   \n",
       "\n",
       "   2031  2032  2033  2034  2035  2036  2037  2038  2039  2040  \n",
       "0  36.8  36.8  36.8  36.8  36.8  36.8  36.8  36.8  36.8  36.8  \n",
       "1  29.0  29.0  29.0  29.0  29.0  29.0  29.0  29.0  29.0  29.0  \n",
       "2  27.6  27.6  27.6  27.6  27.6  27.6  27.6  27.6  27.6  27.6  \n",
       "3  40.0  40.0  40.0  40.0  40.0  40.0  40.0  40.0  40.0  40.0  \n",
       "4  42.6  42.6  42.6  42.6  42.6  42.6  42.6  42.6  42.6  42.6  \n",
       "\n",
       "[5 rows x 242 columns]"
      ]
     },
     "execution_count": 109,
     "metadata": {},
     "output_type": "execute_result"
    }
   ],
   "source": [
    "df_ineq_original = pd.read_csv(\"gini_original.csv\")\n",
    "df_ineq_original.head()"
   ]
  },
  {
   "cell_type": "code",
   "execution_count": 110,
   "metadata": {
    "scrolled": true
   },
   "outputs": [
    {
     "data": {
      "text/html": [
       "<div>\n",
       "<style scoped>\n",
       "    .dataframe tbody tr th:only-of-type {\n",
       "        vertical-align: middle;\n",
       "    }\n",
       "\n",
       "    .dataframe tbody tr th {\n",
       "        vertical-align: top;\n",
       "    }\n",
       "\n",
       "    .dataframe thead th {\n",
       "        text-align: right;\n",
       "    }\n",
       "</style>\n",
       "<table border=\"1\" class=\"dataframe\">\n",
       "  <thead>\n",
       "    <tr style=\"text-align: right;\">\n",
       "      <th></th>\n",
       "      <th>country</th>\n",
       "      <th>1984</th>\n",
       "      <th>1985</th>\n",
       "      <th>1986</th>\n",
       "      <th>1987</th>\n",
       "      <th>1988</th>\n",
       "      <th>1989</th>\n",
       "      <th>1990</th>\n",
       "      <th>1991</th>\n",
       "      <th>1992</th>\n",
       "      <th>...</th>\n",
       "      <th>2009</th>\n",
       "      <th>2010</th>\n",
       "      <th>2011</th>\n",
       "      <th>2012</th>\n",
       "      <th>2013</th>\n",
       "      <th>2014</th>\n",
       "      <th>2015</th>\n",
       "      <th>2016</th>\n",
       "      <th>2017</th>\n",
       "      <th>2018</th>\n",
       "    </tr>\n",
       "  </thead>\n",
       "  <tbody>\n",
       "    <tr>\n",
       "      <th>0</th>\n",
       "      <td>Afghanistan</td>\n",
       "      <td>NaN</td>\n",
       "      <td>NaN</td>\n",
       "      <td>NaN</td>\n",
       "      <td>NaN</td>\n",
       "      <td>NaN</td>\n",
       "      <td>NaN</td>\n",
       "      <td>NaN</td>\n",
       "      <td>NaN</td>\n",
       "      <td>NaN</td>\n",
       "      <td>...</td>\n",
       "      <td>NaN</td>\n",
       "      <td>0.343</td>\n",
       "      <td>0.386</td>\n",
       "      <td>0.399</td>\n",
       "      <td>NaN</td>\n",
       "      <td>0.452</td>\n",
       "      <td>0.505</td>\n",
       "      <td>NaN</td>\n",
       "      <td>NaN</td>\n",
       "      <td>NaN</td>\n",
       "    </tr>\n",
       "    <tr>\n",
       "      <th>1</th>\n",
       "      <td>Albania</td>\n",
       "      <td>NaN</td>\n",
       "      <td>NaN</td>\n",
       "      <td>NaN</td>\n",
       "      <td>NaN</td>\n",
       "      <td>NaN</td>\n",
       "      <td>0.927</td>\n",
       "      <td>0.93</td>\n",
       "      <td>0.926</td>\n",
       "      <td>0.864</td>\n",
       "      <td>...</td>\n",
       "      <td>0.993</td>\n",
       "      <td>NaN</td>\n",
       "      <td>NaN</td>\n",
       "      <td>NaN</td>\n",
       "      <td>NaN</td>\n",
       "      <td>NaN</td>\n",
       "      <td>NaN</td>\n",
       "      <td>NaN</td>\n",
       "      <td>NaN</td>\n",
       "      <td>0.998</td>\n",
       "    </tr>\n",
       "    <tr>\n",
       "      <th>2</th>\n",
       "      <td>Algeria</td>\n",
       "      <td>NaN</td>\n",
       "      <td>NaN</td>\n",
       "      <td>NaN</td>\n",
       "      <td>NaN</td>\n",
       "      <td>NaN</td>\n",
       "      <td>NaN</td>\n",
       "      <td>NaN</td>\n",
       "      <td>NaN</td>\n",
       "      <td>0.765</td>\n",
       "      <td>...</td>\n",
       "      <td>NaN</td>\n",
       "      <td>NaN</td>\n",
       "      <td>NaN</td>\n",
       "      <td>NaN</td>\n",
       "      <td>0.966</td>\n",
       "      <td>NaN</td>\n",
       "      <td>NaN</td>\n",
       "      <td>NaN</td>\n",
       "      <td>NaN</td>\n",
       "      <td>NaN</td>\n",
       "    </tr>\n",
       "    <tr>\n",
       "      <th>3</th>\n",
       "      <td>Angola</td>\n",
       "      <td>NaN</td>\n",
       "      <td>NaN</td>\n",
       "      <td>NaN</td>\n",
       "      <td>NaN</td>\n",
       "      <td>NaN</td>\n",
       "      <td>NaN</td>\n",
       "      <td>NaN</td>\n",
       "      <td>NaN</td>\n",
       "      <td>NaN</td>\n",
       "      <td>...</td>\n",
       "      <td>NaN</td>\n",
       "      <td>NaN</td>\n",
       "      <td>NaN</td>\n",
       "      <td>NaN</td>\n",
       "      <td>NaN</td>\n",
       "      <td>NaN</td>\n",
       "      <td>NaN</td>\n",
       "      <td>0.496</td>\n",
       "      <td>NaN</td>\n",
       "      <td>NaN</td>\n",
       "    </tr>\n",
       "    <tr>\n",
       "      <th>4</th>\n",
       "      <td>Antigua and Barbuda</td>\n",
       "      <td>NaN</td>\n",
       "      <td>NaN</td>\n",
       "      <td>NaN</td>\n",
       "      <td>NaN</td>\n",
       "      <td>NaN</td>\n",
       "      <td>NaN</td>\n",
       "      <td>NaN</td>\n",
       "      <td>NaN</td>\n",
       "      <td>NaN</td>\n",
       "      <td>...</td>\n",
       "      <td>1.000</td>\n",
       "      <td>1.000</td>\n",
       "      <td>NaN</td>\n",
       "      <td>1.000</td>\n",
       "      <td>1.000</td>\n",
       "      <td>1.000</td>\n",
       "      <td>NaN</td>\n",
       "      <td>NaN</td>\n",
       "      <td>NaN</td>\n",
       "      <td>NaN</td>\n",
       "    </tr>\n",
       "  </tbody>\n",
       "</table>\n",
       "<p>5 rows × 36 columns</p>\n",
       "</div>"
      ],
      "text/plain": [
       "               country  1984  1985  1986  1987  1988   1989  1990   1991  \\\n",
       "0          Afghanistan   NaN   NaN   NaN   NaN   NaN    NaN   NaN    NaN   \n",
       "1              Albania   NaN   NaN   NaN   NaN   NaN  0.927  0.93  0.926   \n",
       "2              Algeria   NaN   NaN   NaN   NaN   NaN    NaN   NaN    NaN   \n",
       "3               Angola   NaN   NaN   NaN   NaN   NaN    NaN   NaN    NaN   \n",
       "4  Antigua and Barbuda   NaN   NaN   NaN   NaN   NaN    NaN   NaN    NaN   \n",
       "\n",
       "    1992  ...   2009   2010   2011   2012   2013   2014   2015   2016  2017  \\\n",
       "0    NaN  ...    NaN  0.343  0.386  0.399    NaN  0.452  0.505    NaN   NaN   \n",
       "1  0.864  ...  0.993    NaN    NaN    NaN    NaN    NaN    NaN    NaN   NaN   \n",
       "2  0.765  ...    NaN    NaN    NaN    NaN  0.966    NaN    NaN    NaN   NaN   \n",
       "3    NaN  ...    NaN    NaN    NaN    NaN    NaN    NaN    NaN  0.496   NaN   \n",
       "4    NaN  ...  1.000  1.000    NaN  1.000  1.000  1.000    NaN    NaN   NaN   \n",
       "\n",
       "    2018  \n",
       "0    NaN  \n",
       "1  0.998  \n",
       "2    NaN  \n",
       "3    NaN  \n",
       "4    NaN  \n",
       "\n",
       "[5 rows x 36 columns]"
      ]
     },
     "execution_count": 110,
     "metadata": {},
     "output_type": "execute_result"
    }
   ],
   "source": [
    "df_assistance_original = pd.read_csv(\"births_attended_by_skilled_health_staff_percent_of_total.csv\")\n",
    "df_assistance_original.head()"
   ]
  },
  {
   "cell_type": "code",
   "execution_count": 111,
   "metadata": {},
   "outputs": [
    {
     "data": {
      "text/plain": [
       "((193, 31), (193, 66), (195, 242), (188, 36))"
      ]
     },
     "execution_count": 111,
     "metadata": {},
     "output_type": "execute_result"
    }
   ],
   "source": [
    "# Check number of rows and columns for all data sets\n",
    "df_maternal_original.shape, df_newborn_original.shape, df_ineq_original.shape, df_assistance_original.shape"
   ]
  },
  {
   "cell_type": "code",
   "execution_count": 112,
   "metadata": {},
   "outputs": [
    {
     "data": {
      "text/plain": [
       "country     object\n",
       "1990       float64\n",
       "1991       float64\n",
       "1992       float64\n",
       "1993       float64\n",
       "1994       float64\n",
       "1995       float64\n",
       "1996       float64\n",
       "1997       float64\n",
       "1998       float64\n",
       "1999       float64\n",
       "2000       float64\n",
       "2001       float64\n",
       "2002       float64\n",
       "2003       float64\n",
       "2004       float64\n",
       "2005       float64\n",
       "2006       float64\n",
       "2007       float64\n",
       "2008       float64\n",
       "2009       float64\n",
       "2010       float64\n",
       "2011       float64\n",
       "2012       float64\n",
       "2013       float64\n",
       "2014       float64\n",
       "2015       float64\n",
       "2016       float64\n",
       "2017       float64\n",
       "2018       float64\n",
       "2019       float64\n",
       "dtype: object"
      ]
     },
     "execution_count": 112,
     "metadata": {},
     "output_type": "execute_result"
    }
   ],
   "source": [
    "# Check data types for all datasets\n",
    "df_maternal_original.dtypes"
   ]
  },
  {
   "cell_type": "code",
   "execution_count": 113,
   "metadata": {},
   "outputs": [
    {
     "data": {
      "text/plain": [
       "country     object\n",
       "1951       float64\n",
       "1952       float64\n",
       "1953       float64\n",
       "1954       float64\n",
       "            ...   \n",
       "2011       float64\n",
       "2012       float64\n",
       "2013       float64\n",
       "2014       float64\n",
       "2015       float64\n",
       "Length: 66, dtype: object"
      ]
     },
     "execution_count": 113,
     "metadata": {},
     "output_type": "execute_result"
    }
   ],
   "source": [
    "df_newborn_original.dtypes"
   ]
  },
  {
   "cell_type": "code",
   "execution_count": 114,
   "metadata": {},
   "outputs": [
    {
     "data": {
      "text/plain": [
       "country     object\n",
       "1800       float64\n",
       "1801       float64\n",
       "1802       float64\n",
       "1803       float64\n",
       "            ...   \n",
       "2036       float64\n",
       "2037       float64\n",
       "2038       float64\n",
       "2039       float64\n",
       "2040       float64\n",
       "Length: 242, dtype: object"
      ]
     },
     "execution_count": 114,
     "metadata": {},
     "output_type": "execute_result"
    }
   ],
   "source": [
    "df_ineq_original.dtypes"
   ]
  },
  {
   "cell_type": "code",
   "execution_count": 115,
   "metadata": {
    "scrolled": true
   },
   "outputs": [
    {
     "data": {
      "text/plain": [
       "country     object\n",
       "1984       float64\n",
       "1985       float64\n",
       "1986       float64\n",
       "1987       float64\n",
       "1988       float64\n",
       "1989       float64\n",
       "1990       float64\n",
       "1991       float64\n",
       "1992       float64\n",
       "1993       float64\n",
       "1994       float64\n",
       "1995       float64\n",
       "1996       float64\n",
       "1997       float64\n",
       "1998       float64\n",
       "1999       float64\n",
       "2000       float64\n",
       "2001       float64\n",
       "2002       float64\n",
       "2003       float64\n",
       "2004       float64\n",
       "2005       float64\n",
       "2006       float64\n",
       "2007       float64\n",
       "2008       float64\n",
       "2009       float64\n",
       "2010       float64\n",
       "2011       float64\n",
       "2012       float64\n",
       "2013       float64\n",
       "2014       float64\n",
       "2015       float64\n",
       "2016       float64\n",
       "2017       float64\n",
       "2018       float64\n",
       "dtype: object"
      ]
     },
     "execution_count": 115,
     "metadata": {},
     "output_type": "execute_result"
    }
   ],
   "source": [
    "df_assistance_original.dtypes"
   ]
  },
  {
   "cell_type": "markdown",
   "metadata": {},
   "source": [
    "__Observation:__ As shown above, all datasets include floats in most columns, except for the column that contains the country name (string). Also, the results of the ```df.head()``` operations above suggest that our datasets may have missing data. In the next section, the extent of the missing data in all four datasets will be determined."
   ]
  },
  {
   "cell_type": "code",
   "execution_count": 116,
   "metadata": {},
   "outputs": [
    {
     "data": {
      "text/plain": [
       "country    0\n",
       "1990       0\n",
       "1991       0\n",
       "1992       0\n",
       "1993       0\n",
       "1994       0\n",
       "1995       0\n",
       "1996       0\n",
       "1997       0\n",
       "1998       0\n",
       "1999       0\n",
       "2000       0\n",
       "2001       0\n",
       "2002       0\n",
       "2003       0\n",
       "2004       0\n",
       "2005       0\n",
       "2006       0\n",
       "2007       0\n",
       "2008       0\n",
       "2009       0\n",
       "2010       0\n",
       "2011       0\n",
       "2012       0\n",
       "2013       0\n",
       "2014       0\n",
       "2015       0\n",
       "2016       0\n",
       "2017       0\n",
       "2018       0\n",
       "2019       0\n",
       "dtype: int64"
      ]
     },
     "execution_count": 116,
     "metadata": {},
     "output_type": "execute_result"
    }
   ],
   "source": [
    "# Determine missing values per column per dataset\n",
    "df_maternal_original.isnull().sum()"
   ]
  },
  {
   "cell_type": "code",
   "execution_count": 117,
   "metadata": {},
   "outputs": [
    {
     "data": {
      "text/plain": [
       "country      0\n",
       "1951       192\n",
       "1952       184\n",
       "1953       181\n",
       "1954       175\n",
       "          ... \n",
       "2011         0\n",
       "2012         0\n",
       "2013         0\n",
       "2014         0\n",
       "2015         0\n",
       "Length: 66, dtype: int64"
      ]
     },
     "execution_count": 117,
     "metadata": {},
     "output_type": "execute_result"
    }
   ],
   "source": [
    "df_newborn_original.isnull().sum()"
   ]
  },
  {
   "cell_type": "code",
   "execution_count": 118,
   "metadata": {},
   "outputs": [
    {
     "data": {
      "text/plain": [
       "country    0\n",
       "1800       0\n",
       "1801       0\n",
       "1802       0\n",
       "1803       0\n",
       "          ..\n",
       "2036       0\n",
       "2037       0\n",
       "2038       0\n",
       "2039       0\n",
       "2040       0\n",
       "Length: 242, dtype: int64"
      ]
     },
     "execution_count": 118,
     "metadata": {},
     "output_type": "execute_result"
    }
   ],
   "source": [
    "df_ineq_original.isnull().sum()"
   ]
  },
  {
   "cell_type": "code",
   "execution_count": 119,
   "metadata": {},
   "outputs": [
    {
     "data": {
      "text/plain": [
       "country      0\n",
       "1984       186\n",
       "1985       187\n",
       "1986       177\n",
       "1987       171\n",
       "1988       180\n",
       "1989       156\n",
       "1990       132\n",
       "1991       140\n",
       "1992       135\n",
       "1993       131\n",
       "1994       132\n",
       "1995       110\n",
       "1996       120\n",
       "1997       118\n",
       "1998       105\n",
       "1999       107\n",
       "2000        50\n",
       "2001       105\n",
       "2002        94\n",
       "2003        86\n",
       "2004        85\n",
       "2005        84\n",
       "2006        64\n",
       "2007        83\n",
       "2008        85\n",
       "2009        86\n",
       "2010        75\n",
       "2011        86\n",
       "2012        85\n",
       "2013        91\n",
       "2014        79\n",
       "2015       116\n",
       "2016       143\n",
       "2017       176\n",
       "2018       178\n",
       "dtype: int64"
      ]
     },
     "execution_count": 119,
     "metadata": {},
     "output_type": "execute_result"
    }
   ],
   "source": [
    "df_assistance_original.isnull().sum()"
   ]
  },
  {
   "cell_type": "markdown",
   "metadata": {},
   "source": [
    "__Observations:__ The sizes of two datasets (```df_newborn_original``` and ```df_ineq_original```) make it challenging to establish where exactly the missing values are. Therefore, we will examine the data frames with the operations below, which provide a list of those columns that have any missing values."
   ]
  },
  {
   "cell_type": "code",
   "execution_count": 120,
   "metadata": {},
   "outputs": [
    {
     "data": {
      "text/plain": [
       "Index([], dtype='object')"
      ]
     },
     "execution_count": 120,
     "metadata": {},
     "output_type": "execute_result"
    }
   ],
   "source": [
    "df_maternal_original.columns[df_maternal_original.isnull().any()]"
   ]
  },
  {
   "cell_type": "code",
   "execution_count": 121,
   "metadata": {
    "scrolled": true
   },
   "outputs": [
    {
     "data": {
      "text/plain": [
       "Index(['1951', '1952', '1953', '1954', '1955', '1956', '1957', '1958', '1959',\n",
       "       '1960', '1961', '1962', '1963', '1964', '1965', '1966', '1967', '1968',\n",
       "       '1969', '1970', '1971', '1972', '1973', '1974', '1975', '1976', '1977',\n",
       "       '1978', '1979', '1980', '1981', '1982', '1983', '1984', '1985', '1986',\n",
       "       '1987', '1988', '1989'],\n",
       "      dtype='object')"
      ]
     },
     "execution_count": 121,
     "metadata": {},
     "output_type": "execute_result"
    }
   ],
   "source": [
    "df_newborn_original.columns[df_newborn_original.isnull().any()]"
   ]
  },
  {
   "cell_type": "code",
   "execution_count": 122,
   "metadata": {
    "scrolled": false
   },
   "outputs": [
    {
     "data": {
      "text/plain": [
       "Index([], dtype='object')"
      ]
     },
     "execution_count": 122,
     "metadata": {},
     "output_type": "execute_result"
    }
   ],
   "source": [
    "df_ineq_original.columns[df_ineq_original.isnull().any()]"
   ]
  },
  {
   "cell_type": "code",
   "execution_count": 123,
   "metadata": {},
   "outputs": [
    {
     "data": {
      "text/plain": [
       "Index(['1984', '1985', '1986', '1987', '1988', '1989', '1990', '1991', '1992',\n",
       "       '1993', '1994', '1995', '1996', '1997', '1998', '1999', '2000', '2001',\n",
       "       '2002', '2003', '2004', '2005', '2006', '2007', '2008', '2009', '2010',\n",
       "       '2011', '2012', '2013', '2014', '2015', '2016', '2017', '2018'],\n",
       "      dtype='object')"
      ]
     },
     "execution_count": 123,
     "metadata": {},
     "output_type": "execute_result"
    }
   ],
   "source": [
    "df_assistance_original.columns[df_assistance_original.isnull().any()]"
   ]
  },
  {
   "cell_type": "markdown",
   "metadata": {},
   "source": [
    "__Observations:__ While both maternal mortality rate and income inequality datasets are complete, they differ in terms of the years included. On the other hand, newborn and skilled health assistance datasets do have missing values. However, the former has missing values only until 1989. Therefore, the timespan from 1990 to 2015 will be the range to explore in this analysis. \n",
    "\n",
    "The data set for skilled health assistance is the only dataset with a considerable number of missing values from 1990 to 2015, with at least 50 missing values every single year. Since dropping columns or rows based on the occurrence of missing values would leave us with no data frame, and filling empty values with means does not seem appropriate either, this data set will be left \"uncleaned\" for now and treated differently in the analysis below."
   ]
  },
  {
   "cell_type": "markdown",
   "metadata": {},
   "source": [
    "### Data Cleaning\n",
    "\n",
    "In this section, we will create copies for all datasets and deal with missing values in these copies following the  operations below:\n",
    "\n",
    "- Deletion of columns for the years prior to 1990 and subsequent to 2015\n",
    "- Deletion of rows for countries that are not present accross datasets\n",
    "- Deletion of duplicated rows, if any"
   ]
  },
  {
   "cell_type": "code",
   "execution_count": 124,
   "metadata": {},
   "outputs": [],
   "source": [
    "# Create function that creates a copy for each data frame. The function takes a data frame list, creates an empty list \n",
    "# where the copies will be appended. Then, it loops through the df list and creates a copy of each df. It returns\n",
    "# the list of new data frames\n",
    "def copy_df(df_list):\n",
    "    copy_list = []\n",
    "    for df in df_list:\n",
    "        copy_list.append(df.copy())\n",
    "    return copy_list"
   ]
  },
  {
   "cell_type": "code",
   "execution_count": 125,
   "metadata": {},
   "outputs": [],
   "source": [
    "# Apply copy_df() function to the list of data frames to copy and assign them to a new list of data frame names\n",
    "df_maternal, df_newborn, df_ineq, df_assistance = copy_df([\n",
    "    df_maternal_original,\n",
    "    df_newborn_original,\n",
    "    df_ineq_original,\n",
    "    df_assistance_original\n",
    "])"
   ]
  },
  {
   "cell_type": "code",
   "execution_count": 126,
   "metadata": {},
   "outputs": [
    {
     "data": {
      "text/html": [
       "<div>\n",
       "<style scoped>\n",
       "    .dataframe tbody tr th:only-of-type {\n",
       "        vertical-align: middle;\n",
       "    }\n",
       "\n",
       "    .dataframe tbody tr th {\n",
       "        vertical-align: top;\n",
       "    }\n",
       "\n",
       "    .dataframe thead th {\n",
       "        text-align: right;\n",
       "    }\n",
       "</style>\n",
       "<table border=\"1\" class=\"dataframe\">\n",
       "  <thead>\n",
       "    <tr style=\"text-align: right;\">\n",
       "      <th></th>\n",
       "      <th>country</th>\n",
       "      <th>1990</th>\n",
       "      <th>1991</th>\n",
       "      <th>1992</th>\n",
       "      <th>1993</th>\n",
       "      <th>1994</th>\n",
       "      <th>1995</th>\n",
       "      <th>1996</th>\n",
       "      <th>1997</th>\n",
       "      <th>1998</th>\n",
       "      <th>...</th>\n",
       "      <th>2006</th>\n",
       "      <th>2007</th>\n",
       "      <th>2008</th>\n",
       "      <th>2009</th>\n",
       "      <th>2010</th>\n",
       "      <th>2011</th>\n",
       "      <th>2012</th>\n",
       "      <th>2013</th>\n",
       "      <th>2014</th>\n",
       "      <th>2015</th>\n",
       "    </tr>\n",
       "  </thead>\n",
       "  <tbody>\n",
       "    <tr>\n",
       "      <th>0</th>\n",
       "      <td>Afghanistan</td>\n",
       "      <td>496.0</td>\n",
       "      <td>468.0</td>\n",
       "      <td>442.0</td>\n",
       "      <td>434.0</td>\n",
       "      <td>435.0</td>\n",
       "      <td>437.0</td>\n",
       "      <td>441.0</td>\n",
       "      <td>448.0</td>\n",
       "      <td>456.0</td>\n",
       "      <td>...</td>\n",
       "      <td>456.0</td>\n",
       "      <td>458.0</td>\n",
       "      <td>450.0</td>\n",
       "      <td>438.0</td>\n",
       "      <td>417.0</td>\n",
       "      <td>396.0</td>\n",
       "      <td>373.0</td>\n",
       "      <td>353.0</td>\n",
       "      <td>335.0</td>\n",
       "      <td>318.0</td>\n",
       "    </tr>\n",
       "  </tbody>\n",
       "</table>\n",
       "<p>1 rows × 27 columns</p>\n",
       "</div>"
      ],
      "text/plain": [
       "       country   1990   1991   1992   1993   1994   1995   1996   1997   1998  \\\n",
       "0  Afghanistan  496.0  468.0  442.0  434.0  435.0  437.0  441.0  448.0  456.0   \n",
       "\n",
       "   ...   2006   2007   2008   2009   2010   2011   2012   2013   2014   2015  \n",
       "0  ...  456.0  458.0  450.0  438.0  417.0  396.0  373.0  353.0  335.0  318.0  \n",
       "\n",
       "[1 rows x 27 columns]"
      ]
     },
     "execution_count": 126,
     "metadata": {},
     "output_type": "execute_result"
    }
   ],
   "source": [
    "# Discard unnecessary columns in each copy\n",
    "df_maternal.drop(columns=[\"2016\", \"2017\", \"2018\", \"2019\"], inplace=True)\n",
    "df_maternal.head(1)"
   ]
  },
  {
   "cell_type": "code",
   "execution_count": 127,
   "metadata": {},
   "outputs": [
    {
     "data": {
      "text/html": [
       "<div>\n",
       "<style scoped>\n",
       "    .dataframe tbody tr th:only-of-type {\n",
       "        vertical-align: middle;\n",
       "    }\n",
       "\n",
       "    .dataframe tbody tr th {\n",
       "        vertical-align: top;\n",
       "    }\n",
       "\n",
       "    .dataframe thead th {\n",
       "        text-align: right;\n",
       "    }\n",
       "</style>\n",
       "<table border=\"1\" class=\"dataframe\">\n",
       "  <thead>\n",
       "    <tr style=\"text-align: right;\">\n",
       "      <th></th>\n",
       "      <th>country</th>\n",
       "      <th>1990</th>\n",
       "      <th>1991</th>\n",
       "      <th>1992</th>\n",
       "      <th>1993</th>\n",
       "      <th>1994</th>\n",
       "      <th>1995</th>\n",
       "      <th>1996</th>\n",
       "      <th>1997</th>\n",
       "      <th>1998</th>\n",
       "      <th>...</th>\n",
       "      <th>2006</th>\n",
       "      <th>2007</th>\n",
       "      <th>2008</th>\n",
       "      <th>2009</th>\n",
       "      <th>2010</th>\n",
       "      <th>2011</th>\n",
       "      <th>2012</th>\n",
       "      <th>2013</th>\n",
       "      <th>2014</th>\n",
       "      <th>2015</th>\n",
       "    </tr>\n",
       "  </thead>\n",
       "  <tbody>\n",
       "    <tr>\n",
       "      <th>0</th>\n",
       "      <td>Afghanistan</td>\n",
       "      <td>52.8</td>\n",
       "      <td>51.9</td>\n",
       "      <td>50.9</td>\n",
       "      <td>49.9</td>\n",
       "      <td>49.1</td>\n",
       "      <td>48.2</td>\n",
       "      <td>47.5</td>\n",
       "      <td>47.0</td>\n",
       "      <td>46.1</td>\n",
       "      <td>...</td>\n",
       "      <td>41.0</td>\n",
       "      <td>40.4</td>\n",
       "      <td>39.8</td>\n",
       "      <td>39.1</td>\n",
       "      <td>38.7</td>\n",
       "      <td>38.1</td>\n",
       "      <td>37.4</td>\n",
       "      <td>36.8</td>\n",
       "      <td>36.1</td>\n",
       "      <td>35.5</td>\n",
       "    </tr>\n",
       "  </tbody>\n",
       "</table>\n",
       "<p>1 rows × 27 columns</p>\n",
       "</div>"
      ],
      "text/plain": [
       "       country  1990  1991  1992  1993  1994  1995  1996  1997  1998  ...  \\\n",
       "0  Afghanistan  52.8  51.9  50.9  49.9  49.1  48.2  47.5  47.0  46.1  ...   \n",
       "\n",
       "   2006  2007  2008  2009  2010  2011  2012  2013  2014  2015  \n",
       "0  41.0  40.4  39.8  39.1  38.7  38.1  37.4  36.8  36.1  35.5  \n",
       "\n",
       "[1 rows x 27 columns]"
      ]
     },
     "execution_count": 127,
     "metadata": {},
     "output_type": "execute_result"
    }
   ],
   "source": [
    "to_delete_newb = df_newborn.columns[df_newborn.isnull().any()]\n",
    "df_newborn.drop(columns=to_delete_newb, inplace=True)\n",
    "df_newborn.head(1)"
   ]
  },
  {
   "cell_type": "code",
   "execution_count": 128,
   "metadata": {},
   "outputs": [
    {
     "data": {
      "text/html": [
       "<div>\n",
       "<style scoped>\n",
       "    .dataframe tbody tr th:only-of-type {\n",
       "        vertical-align: middle;\n",
       "    }\n",
       "\n",
       "    .dataframe tbody tr th {\n",
       "        vertical-align: top;\n",
       "    }\n",
       "\n",
       "    .dataframe thead th {\n",
       "        text-align: right;\n",
       "    }\n",
       "</style>\n",
       "<table border=\"1\" class=\"dataframe\">\n",
       "  <thead>\n",
       "    <tr style=\"text-align: right;\">\n",
       "      <th></th>\n",
       "      <th>country</th>\n",
       "      <th>1990</th>\n",
       "      <th>1991</th>\n",
       "      <th>1992</th>\n",
       "      <th>1993</th>\n",
       "      <th>1994</th>\n",
       "      <th>1995</th>\n",
       "      <th>1996</th>\n",
       "      <th>1997</th>\n",
       "      <th>1998</th>\n",
       "      <th>...</th>\n",
       "      <th>2006</th>\n",
       "      <th>2007</th>\n",
       "      <th>2008</th>\n",
       "      <th>2009</th>\n",
       "      <th>2010</th>\n",
       "      <th>2011</th>\n",
       "      <th>2012</th>\n",
       "      <th>2013</th>\n",
       "      <th>2014</th>\n",
       "      <th>2015</th>\n",
       "    </tr>\n",
       "  </thead>\n",
       "  <tbody>\n",
       "    <tr>\n",
       "      <th>0</th>\n",
       "      <td>Afghanistan</td>\n",
       "      <td>36.4</td>\n",
       "      <td>36.7</td>\n",
       "      <td>36.7</td>\n",
       "      <td>36.8</td>\n",
       "      <td>36.8</td>\n",
       "      <td>36.8</td>\n",
       "      <td>36.8</td>\n",
       "      <td>36.8</td>\n",
       "      <td>36.8</td>\n",
       "      <td>...</td>\n",
       "      <td>36.8</td>\n",
       "      <td>36.8</td>\n",
       "      <td>36.8</td>\n",
       "      <td>36.8</td>\n",
       "      <td>36.8</td>\n",
       "      <td>36.8</td>\n",
       "      <td>36.8</td>\n",
       "      <td>36.8</td>\n",
       "      <td>36.8</td>\n",
       "      <td>36.8</td>\n",
       "    </tr>\n",
       "  </tbody>\n",
       "</table>\n",
       "<p>1 rows × 27 columns</p>\n",
       "</div>"
      ],
      "text/plain": [
       "       country  1990  1991  1992  1993  1994  1995  1996  1997  1998  ...  \\\n",
       "0  Afghanistan  36.4  36.7  36.7  36.8  36.8  36.8  36.8  36.8  36.8  ...   \n",
       "\n",
       "   2006  2007  2008  2009  2010  2011  2012  2013  2014  2015  \n",
       "0  36.8  36.8  36.8  36.8  36.8  36.8  36.8  36.8  36.8  36.8  \n",
       "\n",
       "[1 rows x 27 columns]"
      ]
     },
     "execution_count": 128,
     "metadata": {},
     "output_type": "execute_result"
    }
   ],
   "source": [
    "to_delete_ineq = df_ineq.iloc[:,1:191] + df_ineq.iloc[:,217:]\n",
    "df_ineq.drop(columns=to_delete_ineq, inplace=True)\n",
    "df_ineq.head(1)"
   ]
  },
  {
   "cell_type": "code",
   "execution_count": 129,
   "metadata": {},
   "outputs": [
    {
     "data": {
      "text/html": [
       "<div>\n",
       "<style scoped>\n",
       "    .dataframe tbody tr th:only-of-type {\n",
       "        vertical-align: middle;\n",
       "    }\n",
       "\n",
       "    .dataframe tbody tr th {\n",
       "        vertical-align: top;\n",
       "    }\n",
       "\n",
       "    .dataframe thead th {\n",
       "        text-align: right;\n",
       "    }\n",
       "</style>\n",
       "<table border=\"1\" class=\"dataframe\">\n",
       "  <thead>\n",
       "    <tr style=\"text-align: right;\">\n",
       "      <th></th>\n",
       "      <th>country</th>\n",
       "      <th>1990</th>\n",
       "      <th>1991</th>\n",
       "      <th>1992</th>\n",
       "      <th>1993</th>\n",
       "      <th>1994</th>\n",
       "      <th>1995</th>\n",
       "      <th>1996</th>\n",
       "      <th>1997</th>\n",
       "      <th>1998</th>\n",
       "      <th>...</th>\n",
       "      <th>2006</th>\n",
       "      <th>2007</th>\n",
       "      <th>2008</th>\n",
       "      <th>2009</th>\n",
       "      <th>2010</th>\n",
       "      <th>2011</th>\n",
       "      <th>2012</th>\n",
       "      <th>2013</th>\n",
       "      <th>2014</th>\n",
       "      <th>2015</th>\n",
       "    </tr>\n",
       "  </thead>\n",
       "  <tbody>\n",
       "    <tr>\n",
       "      <th>0</th>\n",
       "      <td>Afghanistan</td>\n",
       "      <td>NaN</td>\n",
       "      <td>NaN</td>\n",
       "      <td>NaN</td>\n",
       "      <td>NaN</td>\n",
       "      <td>NaN</td>\n",
       "      <td>NaN</td>\n",
       "      <td>NaN</td>\n",
       "      <td>NaN</td>\n",
       "      <td>NaN</td>\n",
       "      <td>...</td>\n",
       "      <td>0.189</td>\n",
       "      <td>NaN</td>\n",
       "      <td>0.24</td>\n",
       "      <td>NaN</td>\n",
       "      <td>0.343</td>\n",
       "      <td>0.386</td>\n",
       "      <td>0.399</td>\n",
       "      <td>NaN</td>\n",
       "      <td>0.452</td>\n",
       "      <td>0.505</td>\n",
       "    </tr>\n",
       "  </tbody>\n",
       "</table>\n",
       "<p>1 rows × 27 columns</p>\n",
       "</div>"
      ],
      "text/plain": [
       "       country  1990  1991  1992  1993  1994  1995  1996  1997  1998  ...  \\\n",
       "0  Afghanistan   NaN   NaN   NaN   NaN   NaN   NaN   NaN   NaN   NaN  ...   \n",
       "\n",
       "    2006  2007  2008  2009   2010   2011   2012  2013   2014   2015  \n",
       "0  0.189   NaN  0.24   NaN  0.343  0.386  0.399   NaN  0.452  0.505  \n",
       "\n",
       "[1 rows x 27 columns]"
      ]
     },
     "execution_count": 129,
     "metadata": {},
     "output_type": "execute_result"
    }
   ],
   "source": [
    "to_delete_assis = df_assistance.iloc[:,1:7]\n",
    "df_assistance.drop(columns=to_delete_assis, inplace=True)\n",
    "df_assistance.drop(columns=[\"2016\", \"2017\", \"2018\"], inplace=True)\n",
    "df_assistance.head(1)"
   ]
  },
  {
   "cell_type": "code",
   "execution_count": 130,
   "metadata": {
    "scrolled": true
   },
   "outputs": [
    {
     "data": {
      "text/plain": [
       "country    0\n",
       "1990       0\n",
       "1991       0\n",
       "1992       0\n",
       "1993       0\n",
       "1994       0\n",
       "1995       0\n",
       "1996       0\n",
       "1997       0\n",
       "1998       0\n",
       "1999       0\n",
       "2000       0\n",
       "2001       0\n",
       "2002       0\n",
       "2003       0\n",
       "2004       0\n",
       "2005       0\n",
       "2006       0\n",
       "2007       0\n",
       "2008       0\n",
       "2009       0\n",
       "2010       0\n",
       "2011       0\n",
       "2012       0\n",
       "2013       0\n",
       "2014       0\n",
       "2015       0\n",
       "dtype: int64"
      ]
     },
     "execution_count": 130,
     "metadata": {},
     "output_type": "execute_result"
    }
   ],
   "source": [
    "# Confirm if there are still any missing values in the final range of columns.\n",
    "df_maternal.isnull().sum()"
   ]
  },
  {
   "cell_type": "code",
   "execution_count": 131,
   "metadata": {
    "scrolled": true
   },
   "outputs": [
    {
     "data": {
      "text/plain": [
       "country    0\n",
       "1990       0\n",
       "1991       0\n",
       "1992       0\n",
       "1993       0\n",
       "1994       0\n",
       "1995       0\n",
       "1996       0\n",
       "1997       0\n",
       "1998       0\n",
       "1999       0\n",
       "2000       0\n",
       "2001       0\n",
       "2002       0\n",
       "2003       0\n",
       "2004       0\n",
       "2005       0\n",
       "2006       0\n",
       "2007       0\n",
       "2008       0\n",
       "2009       0\n",
       "2010       0\n",
       "2011       0\n",
       "2012       0\n",
       "2013       0\n",
       "2014       0\n",
       "2015       0\n",
       "dtype: int64"
      ]
     },
     "execution_count": 131,
     "metadata": {},
     "output_type": "execute_result"
    }
   ],
   "source": [
    "df_newborn.isnull().sum()"
   ]
  },
  {
   "cell_type": "code",
   "execution_count": 132,
   "metadata": {
    "scrolled": true
   },
   "outputs": [
    {
     "data": {
      "text/plain": [
       "country    0\n",
       "1990       0\n",
       "1991       0\n",
       "1992       0\n",
       "1993       0\n",
       "1994       0\n",
       "1995       0\n",
       "1996       0\n",
       "1997       0\n",
       "1998       0\n",
       "1999       0\n",
       "2000       0\n",
       "2001       0\n",
       "2002       0\n",
       "2003       0\n",
       "2004       0\n",
       "2005       0\n",
       "2006       0\n",
       "2007       0\n",
       "2008       0\n",
       "2009       0\n",
       "2010       0\n",
       "2011       0\n",
       "2012       0\n",
       "2013       0\n",
       "2014       0\n",
       "2015       0\n",
       "dtype: int64"
      ]
     },
     "execution_count": 132,
     "metadata": {},
     "output_type": "execute_result"
    }
   ],
   "source": [
    "df_ineq.isnull().sum()"
   ]
  },
  {
   "cell_type": "code",
   "execution_count": 133,
   "metadata": {
    "scrolled": true
   },
   "outputs": [
    {
     "data": {
      "text/plain": [
       "country      0\n",
       "1990       132\n",
       "1991       140\n",
       "1992       135\n",
       "1993       131\n",
       "1994       132\n",
       "1995       110\n",
       "1996       120\n",
       "1997       118\n",
       "1998       105\n",
       "1999       107\n",
       "2000        50\n",
       "2001       105\n",
       "2002        94\n",
       "2003        86\n",
       "2004        85\n",
       "2005        84\n",
       "2006        64\n",
       "2007        83\n",
       "2008        85\n",
       "2009        86\n",
       "2010        75\n",
       "2011        86\n",
       "2012        85\n",
       "2013        91\n",
       "2014        79\n",
       "2015       116\n",
       "dtype: int64"
      ]
     },
     "execution_count": 133,
     "metadata": {},
     "output_type": "execute_result"
    }
   ],
   "source": [
    "df_assistance.isnull().sum()"
   ]
  },
  {
   "cell_type": "code",
   "execution_count": 134,
   "metadata": {},
   "outputs": [
    {
     "data": {
      "text/plain": [
       "((193, 27), (193, 27), (188, 27), (195, 27))"
      ]
     },
     "execution_count": 134,
     "metadata": {},
     "output_type": "execute_result"
    }
   ],
   "source": [
    "# Confirm dataset shapes after deleting columns\n",
    "df_maternal.shape, df_newborn.shape, df_assistance.shape, df_ineq.shape"
   ]
  },
  {
   "cell_type": "markdown",
   "metadata": {},
   "source": [
    "__Observations:__ We have now four datasets with data from 1990 to 2015. However, datasets differ slightly in the number of rows (countries) included. Thus, in the next section, we will make sure all datasets have no duplicated data, and that they include the same number of rows (same countries)."
   ]
  },
  {
   "cell_type": "code",
   "execution_count": 135,
   "metadata": {},
   "outputs": [
    {
     "data": {
      "text/plain": [
       "(0, 0, 0, 0)"
      ]
     },
     "execution_count": 135,
     "metadata": {},
     "output_type": "execute_result"
    }
   ],
   "source": [
    "# Determine whether there are duplicated rows in each dataset\n",
    "df_maternal.duplicated().sum(), df_newborn.duplicated().sum(), df_assistance.duplicated().sum(), df_ineq.duplicated().sum()"
   ]
  },
  {
   "cell_type": "markdown",
   "metadata": {},
   "source": [
    "__Observations:__ There are no duplicated data in any dataset. We now proceed to delete countries (rows) that are not present accross datasets."
   ]
  },
  {
   "cell_type": "code",
   "execution_count": 136,
   "metadata": {
    "scrolled": false
   },
   "outputs": [
    {
     "data": {
      "text/html": [
       "<div>\n",
       "<style scoped>\n",
       "    .dataframe tbody tr th:only-of-type {\n",
       "        vertical-align: middle;\n",
       "    }\n",
       "\n",
       "    .dataframe tbody tr th {\n",
       "        vertical-align: top;\n",
       "    }\n",
       "\n",
       "    .dataframe thead th {\n",
       "        text-align: right;\n",
       "    }\n",
       "</style>\n",
       "<table border=\"1\" class=\"dataframe\">\n",
       "  <thead>\n",
       "    <tr style=\"text-align: right;\">\n",
       "      <th></th>\n",
       "      <th>country</th>\n",
       "      <th>1990</th>\n",
       "      <th>1991</th>\n",
       "      <th>1992</th>\n",
       "      <th>1993</th>\n",
       "      <th>1994</th>\n",
       "      <th>1995</th>\n",
       "      <th>1996</th>\n",
       "      <th>1997</th>\n",
       "      <th>1998</th>\n",
       "      <th>...</th>\n",
       "      <th>2006</th>\n",
       "      <th>2007</th>\n",
       "      <th>2008</th>\n",
       "      <th>2009</th>\n",
       "      <th>2010</th>\n",
       "      <th>2011</th>\n",
       "      <th>2012</th>\n",
       "      <th>2013</th>\n",
       "      <th>2014</th>\n",
       "      <th>2015</th>\n",
       "    </tr>\n",
       "  </thead>\n",
       "  <tbody>\n",
       "  </tbody>\n",
       "</table>\n",
       "<p>0 rows × 27 columns</p>\n",
       "</div>"
      ],
      "text/plain": [
       "Empty DataFrame\n",
       "Columns: [country, 1990, 1991, 1992, 1993, 1994, 1995, 1996, 1997, 1998, 1999, 2000, 2001, 2002, 2003, 2004, 2005, 2006, 2007, 2008, 2009, 2010, 2011, 2012, 2013, 2014, 2015]\n",
       "Index: []\n",
       "\n",
       "[0 rows x 27 columns]"
      ]
     },
     "execution_count": 136,
     "metadata": {},
     "output_type": "execute_result"
    }
   ],
   "source": [
    "# Find countries (rows) in maternal mortality rates dataset that are not present in newborn mortality rate dataset (and vice versa)\n",
    "df_maternal[~df_maternal[\"country\"].isin(df_newborn[\"country\"])]"
   ]
  },
  {
   "cell_type": "code",
   "execution_count": 137,
   "metadata": {
    "scrolled": false
   },
   "outputs": [
    {
     "data": {
      "text/html": [
       "<div>\n",
       "<style scoped>\n",
       "    .dataframe tbody tr th:only-of-type {\n",
       "        vertical-align: middle;\n",
       "    }\n",
       "\n",
       "    .dataframe tbody tr th {\n",
       "        vertical-align: top;\n",
       "    }\n",
       "\n",
       "    .dataframe thead th {\n",
       "        text-align: right;\n",
       "    }\n",
       "</style>\n",
       "<table border=\"1\" class=\"dataframe\">\n",
       "  <thead>\n",
       "    <tr style=\"text-align: right;\">\n",
       "      <th></th>\n",
       "      <th>country</th>\n",
       "      <th>1990</th>\n",
       "      <th>1991</th>\n",
       "      <th>1992</th>\n",
       "      <th>1993</th>\n",
       "      <th>1994</th>\n",
       "      <th>1995</th>\n",
       "      <th>1996</th>\n",
       "      <th>1997</th>\n",
       "      <th>1998</th>\n",
       "      <th>...</th>\n",
       "      <th>2006</th>\n",
       "      <th>2007</th>\n",
       "      <th>2008</th>\n",
       "      <th>2009</th>\n",
       "      <th>2010</th>\n",
       "      <th>2011</th>\n",
       "      <th>2012</th>\n",
       "      <th>2013</th>\n",
       "      <th>2014</th>\n",
       "      <th>2015</th>\n",
       "    </tr>\n",
       "  </thead>\n",
       "  <tbody>\n",
       "  </tbody>\n",
       "</table>\n",
       "<p>0 rows × 27 columns</p>\n",
       "</div>"
      ],
      "text/plain": [
       "Empty DataFrame\n",
       "Columns: [country, 1990, 1991, 1992, 1993, 1994, 1995, 1996, 1997, 1998, 1999, 2000, 2001, 2002, 2003, 2004, 2005, 2006, 2007, 2008, 2009, 2010, 2011, 2012, 2013, 2014, 2015]\n",
       "Index: []\n",
       "\n",
       "[0 rows x 27 columns]"
      ]
     },
     "execution_count": 137,
     "metadata": {},
     "output_type": "execute_result"
    }
   ],
   "source": [
    "df_newborn[~df_newborn[\"country\"].isin(df_maternal[\"country\"])]"
   ]
  },
  {
   "cell_type": "markdown",
   "metadata": {},
   "source": [
    "__Observations:__ Newborn mortality rate and maternal mortality rate datasets include the same countries, so no changes are necessary in this regard."
   ]
  },
  {
   "cell_type": "code",
   "execution_count": 138,
   "metadata": {
    "scrolled": true
   },
   "outputs": [
    {
     "data": {
      "text/html": [
       "<div>\n",
       "<style scoped>\n",
       "    .dataframe tbody tr th:only-of-type {\n",
       "        vertical-align: middle;\n",
       "    }\n",
       "\n",
       "    .dataframe tbody tr th {\n",
       "        vertical-align: top;\n",
       "    }\n",
       "\n",
       "    .dataframe thead th {\n",
       "        text-align: right;\n",
       "    }\n",
       "</style>\n",
       "<table border=\"1\" class=\"dataframe\">\n",
       "  <thead>\n",
       "    <tr style=\"text-align: right;\">\n",
       "      <th></th>\n",
       "      <th>country</th>\n",
       "      <th>1990</th>\n",
       "      <th>1991</th>\n",
       "      <th>1992</th>\n",
       "      <th>1993</th>\n",
       "      <th>1994</th>\n",
       "      <th>1995</th>\n",
       "      <th>1996</th>\n",
       "      <th>1997</th>\n",
       "      <th>1998</th>\n",
       "      <th>...</th>\n",
       "      <th>2006</th>\n",
       "      <th>2007</th>\n",
       "      <th>2008</th>\n",
       "      <th>2009</th>\n",
       "      <th>2010</th>\n",
       "      <th>2011</th>\n",
       "      <th>2012</th>\n",
       "      <th>2013</th>\n",
       "      <th>2014</th>\n",
       "      <th>2015</th>\n",
       "    </tr>\n",
       "  </thead>\n",
       "  <tbody>\n",
       "  </tbody>\n",
       "</table>\n",
       "<p>0 rows × 27 columns</p>\n",
       "</div>"
      ],
      "text/plain": [
       "Empty DataFrame\n",
       "Columns: [country, 1990, 1991, 1992, 1993, 1994, 1995, 1996, 1997, 1998, 1999, 2000, 2001, 2002, 2003, 2004, 2005, 2006, 2007, 2008, 2009, 2010, 2011, 2012, 2013, 2014, 2015]\n",
       "Index: []\n",
       "\n",
       "[0 rows x 27 columns]"
      ]
     },
     "execution_count": 138,
     "metadata": {},
     "output_type": "execute_result"
    }
   ],
   "source": [
    "# Find countries (rows) in maternal mortality rates dataset that are not present in skilled assistance dataset (and vice versa)\n",
    "df_assistance[~df_assistance[\"country\"].isin(df_maternal[\"country\"])]"
   ]
  },
  {
   "cell_type": "code",
   "execution_count": 139,
   "metadata": {
    "scrolled": false
   },
   "outputs": [
    {
     "data": {
      "text/html": [
       "<div>\n",
       "<style scoped>\n",
       "    .dataframe tbody tr th:only-of-type {\n",
       "        vertical-align: middle;\n",
       "    }\n",
       "\n",
       "    .dataframe tbody tr th {\n",
       "        vertical-align: top;\n",
       "    }\n",
       "\n",
       "    .dataframe thead th {\n",
       "        text-align: right;\n",
       "    }\n",
       "</style>\n",
       "<table border=\"1\" class=\"dataframe\">\n",
       "  <thead>\n",
       "    <tr style=\"text-align: right;\">\n",
       "      <th></th>\n",
       "      <th>country</th>\n",
       "      <th>1990</th>\n",
       "      <th>1991</th>\n",
       "      <th>1992</th>\n",
       "      <th>1993</th>\n",
       "      <th>1994</th>\n",
       "      <th>1995</th>\n",
       "      <th>1996</th>\n",
       "      <th>1997</th>\n",
       "      <th>1998</th>\n",
       "      <th>...</th>\n",
       "      <th>2006</th>\n",
       "      <th>2007</th>\n",
       "      <th>2008</th>\n",
       "      <th>2009</th>\n",
       "      <th>2010</th>\n",
       "      <th>2011</th>\n",
       "      <th>2012</th>\n",
       "      <th>2013</th>\n",
       "      <th>2014</th>\n",
       "      <th>2015</th>\n",
       "    </tr>\n",
       "  </thead>\n",
       "  <tbody>\n",
       "    <tr>\n",
       "      <th>3</th>\n",
       "      <td>Andorra</td>\n",
       "      <td>2.67</td>\n",
       "      <td>2.59</td>\n",
       "      <td>2.57</td>\n",
       "      <td>2.58</td>\n",
       "      <td>2.59</td>\n",
       "      <td>2.52</td>\n",
       "      <td>2.45</td>\n",
       "      <td>2.40</td>\n",
       "      <td>2.34</td>\n",
       "      <td>...</td>\n",
       "      <td>2.25</td>\n",
       "      <td>2.21</td>\n",
       "      <td>2.18</td>\n",
       "      <td>2.16</td>\n",
       "      <td>2.10</td>\n",
       "      <td>2.08</td>\n",
       "      <td>2.06</td>\n",
       "      <td>2.00</td>\n",
       "      <td>1.95</td>\n",
       "      <td>1.88</td>\n",
       "    </tr>\n",
       "    <tr>\n",
       "      <th>66</th>\n",
       "      <td>Greece</td>\n",
       "      <td>4.45</td>\n",
       "      <td>5.02</td>\n",
       "      <td>5.65</td>\n",
       "      <td>2.65</td>\n",
       "      <td>3.73</td>\n",
       "      <td>3.33</td>\n",
       "      <td>4.84</td>\n",
       "      <td>3.13</td>\n",
       "      <td>6.93</td>\n",
       "      <td>...</td>\n",
       "      <td>4.69</td>\n",
       "      <td>5.18</td>\n",
       "      <td>2.71</td>\n",
       "      <td>6.09</td>\n",
       "      <td>6.99</td>\n",
       "      <td>6.42</td>\n",
       "      <td>5.07</td>\n",
       "      <td>3.68</td>\n",
       "      <td>4.98</td>\n",
       "      <td>4.86</td>\n",
       "    </tr>\n",
       "    <tr>\n",
       "      <th>111</th>\n",
       "      <td>Monaco</td>\n",
       "      <td>1.65</td>\n",
       "      <td>1.64</td>\n",
       "      <td>1.63</td>\n",
       "      <td>1.63</td>\n",
       "      <td>1.64</td>\n",
       "      <td>1.66</td>\n",
       "      <td>1.69</td>\n",
       "      <td>1.73</td>\n",
       "      <td>1.78</td>\n",
       "      <td>...</td>\n",
       "      <td>1.96</td>\n",
       "      <td>1.96</td>\n",
       "      <td>1.96</td>\n",
       "      <td>1.97</td>\n",
       "      <td>1.98</td>\n",
       "      <td>1.98</td>\n",
       "      <td>1.98</td>\n",
       "      <td>1.95</td>\n",
       "      <td>1.90</td>\n",
       "      <td>1.85</td>\n",
       "    </tr>\n",
       "    <tr>\n",
       "      <th>144</th>\n",
       "      <td>San Marino</td>\n",
       "      <td>2.51</td>\n",
       "      <td>2.48</td>\n",
       "      <td>2.46</td>\n",
       "      <td>2.42</td>\n",
       "      <td>2.37</td>\n",
       "      <td>2.31</td>\n",
       "      <td>2.24</td>\n",
       "      <td>2.21</td>\n",
       "      <td>2.20</td>\n",
       "      <td>...</td>\n",
       "      <td>2.68</td>\n",
       "      <td>2.66</td>\n",
       "      <td>2.64</td>\n",
       "      <td>2.63</td>\n",
       "      <td>2.62</td>\n",
       "      <td>2.60</td>\n",
       "      <td>2.62</td>\n",
       "      <td>2.62</td>\n",
       "      <td>2.63</td>\n",
       "      <td>2.63</td>\n",
       "    </tr>\n",
       "    <tr>\n",
       "      <th>159</th>\n",
       "      <td>Spain</td>\n",
       "      <td>8.93</td>\n",
       "      <td>8.06</td>\n",
       "      <td>8.25</td>\n",
       "      <td>7.06</td>\n",
       "      <td>6.89</td>\n",
       "      <td>6.16</td>\n",
       "      <td>5.53</td>\n",
       "      <td>5.43</td>\n",
       "      <td>5.12</td>\n",
       "      <td>...</td>\n",
       "      <td>4.34</td>\n",
       "      <td>3.99</td>\n",
       "      <td>4.73</td>\n",
       "      <td>4.36</td>\n",
       "      <td>4.62</td>\n",
       "      <td>3.97</td>\n",
       "      <td>3.36</td>\n",
       "      <td>4.41</td>\n",
       "      <td>3.34</td>\n",
       "      <td>3.94</td>\n",
       "    </tr>\n",
       "  </tbody>\n",
       "</table>\n",
       "<p>5 rows × 27 columns</p>\n",
       "</div>"
      ],
      "text/plain": [
       "        country  1990  1991  1992  1993  1994  1995  1996  1997  1998  ...  \\\n",
       "3       Andorra  2.67  2.59  2.57  2.58  2.59  2.52  2.45  2.40  2.34  ...   \n",
       "66       Greece  4.45  5.02  5.65  2.65  3.73  3.33  4.84  3.13  6.93  ...   \n",
       "111      Monaco  1.65  1.64  1.63  1.63  1.64  1.66  1.69  1.73  1.78  ...   \n",
       "144  San Marino  2.51  2.48  2.46  2.42  2.37  2.31  2.24  2.21  2.20  ...   \n",
       "159       Spain  8.93  8.06  8.25  7.06  6.89  6.16  5.53  5.43  5.12  ...   \n",
       "\n",
       "     2006  2007  2008  2009  2010  2011  2012  2013  2014  2015  \n",
       "3    2.25  2.21  2.18  2.16  2.10  2.08  2.06  2.00  1.95  1.88  \n",
       "66   4.69  5.18  2.71  6.09  6.99  6.42  5.07  3.68  4.98  4.86  \n",
       "111  1.96  1.96  1.96  1.97  1.98  1.98  1.98  1.95  1.90  1.85  \n",
       "144  2.68  2.66  2.64  2.63  2.62  2.60  2.62  2.62  2.63  2.63  \n",
       "159  4.34  3.99  4.73  4.36  4.62  3.97  3.36  4.41  3.34  3.94  \n",
       "\n",
       "[5 rows x 27 columns]"
      ]
     },
     "execution_count": 139,
     "metadata": {},
     "output_type": "execute_result"
    }
   ],
   "source": [
    "df_maternal[~df_maternal[\"country\"].isin(df_assistance[\"country\"])]"
   ]
  },
  {
   "cell_type": "markdown",
   "metadata": {},
   "source": [
    "__Observations:__ The data frame above shows those countries in the maternal mortality dataset that are not found in the skilled assistance dataset. Therefore, we need to delete these rows in the maternal mortality dataset AND in the newborn mortality dataset."
   ]
  },
  {
   "cell_type": "code",
   "execution_count": 140,
   "metadata": {},
   "outputs": [],
   "source": [
    "# Drop rows (countries) that are found in newborn and maternal mortality datasets but not in the skilled assistance dataset.\n",
    "df_maternal.drop([3,66,111,144,159], inplace=True)\n",
    "df_newborn.drop([3,66,111,144,159], inplace=True)\n",
    "df_maternal.reset_index(drop=True, inplace=True)\n",
    "df_newborn.reset_index(drop=True, inplace=True)"
   ]
  },
  {
   "cell_type": "code",
   "execution_count": 141,
   "metadata": {},
   "outputs": [
    {
     "data": {
      "text/html": [
       "<div>\n",
       "<style scoped>\n",
       "    .dataframe tbody tr th:only-of-type {\n",
       "        vertical-align: middle;\n",
       "    }\n",
       "\n",
       "    .dataframe tbody tr th {\n",
       "        vertical-align: top;\n",
       "    }\n",
       "\n",
       "    .dataframe thead th {\n",
       "        text-align: right;\n",
       "    }\n",
       "</style>\n",
       "<table border=\"1\" class=\"dataframe\">\n",
       "  <thead>\n",
       "    <tr style=\"text-align: right;\">\n",
       "      <th></th>\n",
       "      <th>country</th>\n",
       "      <th>1990</th>\n",
       "      <th>1991</th>\n",
       "      <th>1992</th>\n",
       "      <th>1993</th>\n",
       "      <th>1994</th>\n",
       "      <th>1995</th>\n",
       "      <th>1996</th>\n",
       "      <th>1997</th>\n",
       "      <th>1998</th>\n",
       "      <th>...</th>\n",
       "      <th>2006</th>\n",
       "      <th>2007</th>\n",
       "      <th>2008</th>\n",
       "      <th>2009</th>\n",
       "      <th>2010</th>\n",
       "      <th>2011</th>\n",
       "      <th>2012</th>\n",
       "      <th>2013</th>\n",
       "      <th>2014</th>\n",
       "      <th>2015</th>\n",
       "    </tr>\n",
       "  </thead>\n",
       "  <tbody>\n",
       "  </tbody>\n",
       "</table>\n",
       "<p>0 rows × 27 columns</p>\n",
       "</div>"
      ],
      "text/plain": [
       "Empty DataFrame\n",
       "Columns: [country, 1990, 1991, 1992, 1993, 1994, 1995, 1996, 1997, 1998, 1999, 2000, 2001, 2002, 2003, 2004, 2005, 2006, 2007, 2008, 2009, 2010, 2011, 2012, 2013, 2014, 2015]\n",
       "Index: []\n",
       "\n",
       "[0 rows x 27 columns]"
      ]
     },
     "execution_count": 141,
     "metadata": {},
     "output_type": "execute_result"
    }
   ],
   "source": [
    "# Confirm the row drop came through correctly.\n",
    "df_maternal[~df_maternal[\"country\"].isin(df_assistance[\"country\"])]"
   ]
  },
  {
   "cell_type": "code",
   "execution_count": 142,
   "metadata": {},
   "outputs": [
    {
     "data": {
      "text/plain": [
       "((188, 27), (188, 27), (188, 27), (195, 27))"
      ]
     },
     "execution_count": 142,
     "metadata": {},
     "output_type": "execute_result"
    }
   ],
   "source": [
    "# Double check the number of rows and columns.\n",
    "df_maternal.shape, df_newborn.shape, df_assistance.shape, df_ineq.shape"
   ]
  },
  {
   "cell_type": "markdown",
   "metadata": {},
   "source": [
    "__Observations:__ Finally, we will examine which countries are found in the income inequality dataset but not in the others."
   ]
  },
  {
   "cell_type": "code",
   "execution_count": 143,
   "metadata": {},
   "outputs": [
    {
     "data": {
      "text/html": [
       "<div>\n",
       "<style scoped>\n",
       "    .dataframe tbody tr th:only-of-type {\n",
       "        vertical-align: middle;\n",
       "    }\n",
       "\n",
       "    .dataframe tbody tr th {\n",
       "        vertical-align: top;\n",
       "    }\n",
       "\n",
       "    .dataframe thead th {\n",
       "        text-align: right;\n",
       "    }\n",
       "</style>\n",
       "<table border=\"1\" class=\"dataframe\">\n",
       "  <thead>\n",
       "    <tr style=\"text-align: right;\">\n",
       "      <th></th>\n",
       "      <th>country</th>\n",
       "      <th>1990</th>\n",
       "      <th>1991</th>\n",
       "      <th>1992</th>\n",
       "      <th>1993</th>\n",
       "      <th>1994</th>\n",
       "      <th>1995</th>\n",
       "      <th>1996</th>\n",
       "      <th>1997</th>\n",
       "      <th>1998</th>\n",
       "      <th>...</th>\n",
       "      <th>2006</th>\n",
       "      <th>2007</th>\n",
       "      <th>2008</th>\n",
       "      <th>2009</th>\n",
       "      <th>2010</th>\n",
       "      <th>2011</th>\n",
       "      <th>2012</th>\n",
       "      <th>2013</th>\n",
       "      <th>2014</th>\n",
       "      <th>2015</th>\n",
       "    </tr>\n",
       "  </thead>\n",
       "  <tbody>\n",
       "  </tbody>\n",
       "</table>\n",
       "<p>0 rows × 27 columns</p>\n",
       "</div>"
      ],
      "text/plain": [
       "Empty DataFrame\n",
       "Columns: [country, 1990, 1991, 1992, 1993, 1994, 1995, 1996, 1997, 1998, 1999, 2000, 2001, 2002, 2003, 2004, 2005, 2006, 2007, 2008, 2009, 2010, 2011, 2012, 2013, 2014, 2015]\n",
       "Index: []\n",
       "\n",
       "[0 rows x 27 columns]"
      ]
     },
     "execution_count": 143,
     "metadata": {},
     "output_type": "execute_result"
    }
   ],
   "source": [
    "# Find countries (rows) in the skilled assisstance dataset that are not present in the income inequality dataset (and vice versa)\n",
    "df_assistance[~df_assistance[\"country\"].isin(df_ineq[\"country\"])]"
   ]
  },
  {
   "cell_type": "code",
   "execution_count": 144,
   "metadata": {},
   "outputs": [
    {
     "data": {
      "text/html": [
       "<div>\n",
       "<style scoped>\n",
       "    .dataframe tbody tr th:only-of-type {\n",
       "        vertical-align: middle;\n",
       "    }\n",
       "\n",
       "    .dataframe tbody tr th {\n",
       "        vertical-align: top;\n",
       "    }\n",
       "\n",
       "    .dataframe thead th {\n",
       "        text-align: right;\n",
       "    }\n",
       "</style>\n",
       "<table border=\"1\" class=\"dataframe\">\n",
       "  <thead>\n",
       "    <tr style=\"text-align: right;\">\n",
       "      <th></th>\n",
       "      <th>country</th>\n",
       "      <th>1990</th>\n",
       "      <th>1991</th>\n",
       "      <th>1992</th>\n",
       "      <th>1993</th>\n",
       "      <th>1994</th>\n",
       "      <th>1995</th>\n",
       "      <th>1996</th>\n",
       "      <th>1997</th>\n",
       "      <th>1998</th>\n",
       "      <th>...</th>\n",
       "      <th>2006</th>\n",
       "      <th>2007</th>\n",
       "      <th>2008</th>\n",
       "      <th>2009</th>\n",
       "      <th>2010</th>\n",
       "      <th>2011</th>\n",
       "      <th>2012</th>\n",
       "      <th>2013</th>\n",
       "      <th>2014</th>\n",
       "      <th>2015</th>\n",
       "    </tr>\n",
       "  </thead>\n",
       "  <tbody>\n",
       "    <tr>\n",
       "      <th>3</th>\n",
       "      <td>Andorra</td>\n",
       "      <td>40.0</td>\n",
       "      <td>40.0</td>\n",
       "      <td>40.0</td>\n",
       "      <td>40.0</td>\n",
       "      <td>40.0</td>\n",
       "      <td>40.0</td>\n",
       "      <td>40.0</td>\n",
       "      <td>40.0</td>\n",
       "      <td>40.0</td>\n",
       "      <td>...</td>\n",
       "      <td>40.0</td>\n",
       "      <td>40.0</td>\n",
       "      <td>40.0</td>\n",
       "      <td>40.0</td>\n",
       "      <td>40.0</td>\n",
       "      <td>40.0</td>\n",
       "      <td>40.0</td>\n",
       "      <td>40.0</td>\n",
       "      <td>40.0</td>\n",
       "      <td>40.0</td>\n",
       "    </tr>\n",
       "    <tr>\n",
       "      <th>66</th>\n",
       "      <td>Greece</td>\n",
       "      <td>35.5</td>\n",
       "      <td>35.2</td>\n",
       "      <td>34.9</td>\n",
       "      <td>34.6</td>\n",
       "      <td>34.3</td>\n",
       "      <td>34.1</td>\n",
       "      <td>33.8</td>\n",
       "      <td>33.6</td>\n",
       "      <td>33.5</td>\n",
       "      <td>...</td>\n",
       "      <td>34.2</td>\n",
       "      <td>34.2</td>\n",
       "      <td>34.1</td>\n",
       "      <td>34.0</td>\n",
       "      <td>34.5</td>\n",
       "      <td>35.0</td>\n",
       "      <td>35.4</td>\n",
       "      <td>35.8</td>\n",
       "      <td>36.0</td>\n",
       "      <td>36.0</td>\n",
       "    </tr>\n",
       "    <tr>\n",
       "      <th>73</th>\n",
       "      <td>Holy See</td>\n",
       "      <td>40.0</td>\n",
       "      <td>40.0</td>\n",
       "      <td>40.0</td>\n",
       "      <td>40.0</td>\n",
       "      <td>40.0</td>\n",
       "      <td>40.0</td>\n",
       "      <td>40.0</td>\n",
       "      <td>40.0</td>\n",
       "      <td>40.0</td>\n",
       "      <td>...</td>\n",
       "      <td>40.0</td>\n",
       "      <td>40.0</td>\n",
       "      <td>40.0</td>\n",
       "      <td>40.0</td>\n",
       "      <td>40.0</td>\n",
       "      <td>40.0</td>\n",
       "      <td>40.0</td>\n",
       "      <td>40.0</td>\n",
       "      <td>40.0</td>\n",
       "      <td>40.0</td>\n",
       "    </tr>\n",
       "    <tr>\n",
       "      <th>98</th>\n",
       "      <td>Liechtenstein</td>\n",
       "      <td>40.0</td>\n",
       "      <td>40.0</td>\n",
       "      <td>40.0</td>\n",
       "      <td>40.0</td>\n",
       "      <td>40.0</td>\n",
       "      <td>40.0</td>\n",
       "      <td>40.0</td>\n",
       "      <td>40.0</td>\n",
       "      <td>40.0</td>\n",
       "      <td>...</td>\n",
       "      <td>40.0</td>\n",
       "      <td>40.0</td>\n",
       "      <td>40.0</td>\n",
       "      <td>40.0</td>\n",
       "      <td>40.0</td>\n",
       "      <td>40.0</td>\n",
       "      <td>40.0</td>\n",
       "      <td>40.0</td>\n",
       "      <td>40.0</td>\n",
       "      <td>40.0</td>\n",
       "    </tr>\n",
       "    <tr>\n",
       "      <th>113</th>\n",
       "      <td>Monaco</td>\n",
       "      <td>40.0</td>\n",
       "      <td>40.0</td>\n",
       "      <td>40.0</td>\n",
       "      <td>40.0</td>\n",
       "      <td>40.0</td>\n",
       "      <td>40.0</td>\n",
       "      <td>40.0</td>\n",
       "      <td>40.0</td>\n",
       "      <td>40.0</td>\n",
       "      <td>...</td>\n",
       "      <td>40.0</td>\n",
       "      <td>40.0</td>\n",
       "      <td>40.0</td>\n",
       "      <td>40.0</td>\n",
       "      <td>40.0</td>\n",
       "      <td>40.0</td>\n",
       "      <td>40.0</td>\n",
       "      <td>40.0</td>\n",
       "      <td>40.0</td>\n",
       "      <td>40.0</td>\n",
       "    </tr>\n",
       "    <tr>\n",
       "      <th>146</th>\n",
       "      <td>San Marino</td>\n",
       "      <td>40.0</td>\n",
       "      <td>40.0</td>\n",
       "      <td>40.0</td>\n",
       "      <td>40.0</td>\n",
       "      <td>40.0</td>\n",
       "      <td>40.0</td>\n",
       "      <td>40.0</td>\n",
       "      <td>40.0</td>\n",
       "      <td>40.0</td>\n",
       "      <td>...</td>\n",
       "      <td>40.0</td>\n",
       "      <td>40.0</td>\n",
       "      <td>40.0</td>\n",
       "      <td>40.0</td>\n",
       "      <td>40.0</td>\n",
       "      <td>40.0</td>\n",
       "      <td>40.0</td>\n",
       "      <td>40.0</td>\n",
       "      <td>40.0</td>\n",
       "      <td>40.0</td>\n",
       "    </tr>\n",
       "    <tr>\n",
       "      <th>161</th>\n",
       "      <td>Spain</td>\n",
       "      <td>34.7</td>\n",
       "      <td>34.9</td>\n",
       "      <td>34.9</td>\n",
       "      <td>34.5</td>\n",
       "      <td>34.2</td>\n",
       "      <td>33.8</td>\n",
       "      <td>33.3</td>\n",
       "      <td>32.8</td>\n",
       "      <td>32.4</td>\n",
       "      <td>...</td>\n",
       "      <td>33.5</td>\n",
       "      <td>33.9</td>\n",
       "      <td>34.4</td>\n",
       "      <td>34.8</td>\n",
       "      <td>35.1</td>\n",
       "      <td>35.5</td>\n",
       "      <td>35.7</td>\n",
       "      <td>35.9</td>\n",
       "      <td>36.0</td>\n",
       "      <td>36.2</td>\n",
       "    </tr>\n",
       "  </tbody>\n",
       "</table>\n",
       "<p>7 rows × 27 columns</p>\n",
       "</div>"
      ],
      "text/plain": [
       "           country  1990  1991  1992  1993  1994  1995  1996  1997  1998  ...  \\\n",
       "3          Andorra  40.0  40.0  40.0  40.0  40.0  40.0  40.0  40.0  40.0  ...   \n",
       "66          Greece  35.5  35.2  34.9  34.6  34.3  34.1  33.8  33.6  33.5  ...   \n",
       "73        Holy See  40.0  40.0  40.0  40.0  40.0  40.0  40.0  40.0  40.0  ...   \n",
       "98   Liechtenstein  40.0  40.0  40.0  40.0  40.0  40.0  40.0  40.0  40.0  ...   \n",
       "113         Monaco  40.0  40.0  40.0  40.0  40.0  40.0  40.0  40.0  40.0  ...   \n",
       "146     San Marino  40.0  40.0  40.0  40.0  40.0  40.0  40.0  40.0  40.0  ...   \n",
       "161          Spain  34.7  34.9  34.9  34.5  34.2  33.8  33.3  32.8  32.4  ...   \n",
       "\n",
       "     2006  2007  2008  2009  2010  2011  2012  2013  2014  2015  \n",
       "3    40.0  40.0  40.0  40.0  40.0  40.0  40.0  40.0  40.0  40.0  \n",
       "66   34.2  34.2  34.1  34.0  34.5  35.0  35.4  35.8  36.0  36.0  \n",
       "73   40.0  40.0  40.0  40.0  40.0  40.0  40.0  40.0  40.0  40.0  \n",
       "98   40.0  40.0  40.0  40.0  40.0  40.0  40.0  40.0  40.0  40.0  \n",
       "113  40.0  40.0  40.0  40.0  40.0  40.0  40.0  40.0  40.0  40.0  \n",
       "146  40.0  40.0  40.0  40.0  40.0  40.0  40.0  40.0  40.0  40.0  \n",
       "161  33.5  33.9  34.4  34.8  35.1  35.5  35.7  35.9  36.0  36.2  \n",
       "\n",
       "[7 rows x 27 columns]"
      ]
     },
     "execution_count": 144,
     "metadata": {},
     "output_type": "execute_result"
    }
   ],
   "source": [
    "df_ineq[~df_ineq[\"country\"].isin(df_assistance[\"country\"])]"
   ]
  },
  {
   "cell_type": "markdown",
   "metadata": {},
   "source": [
    "__Observations:__ The data frame above shows the countries (rows) in the income inequality dataset that are not in the other datasets. We will drop those rows below."
   ]
  },
  {
   "cell_type": "code",
   "execution_count": 145,
   "metadata": {},
   "outputs": [],
   "source": [
    "df_ineq.drop([3,66,73,98,113,146,161], inplace=True)\n",
    "df_ineq.reset_index(drop=True, inplace=True)\n",
    "df_assistance.reset_index(drop=True, inplace=True)"
   ]
  },
  {
   "cell_type": "code",
   "execution_count": 146,
   "metadata": {},
   "outputs": [
    {
     "data": {
      "text/html": [
       "<div>\n",
       "<style scoped>\n",
       "    .dataframe tbody tr th:only-of-type {\n",
       "        vertical-align: middle;\n",
       "    }\n",
       "\n",
       "    .dataframe tbody tr th {\n",
       "        vertical-align: top;\n",
       "    }\n",
       "\n",
       "    .dataframe thead th {\n",
       "        text-align: right;\n",
       "    }\n",
       "</style>\n",
       "<table border=\"1\" class=\"dataframe\">\n",
       "  <thead>\n",
       "    <tr style=\"text-align: right;\">\n",
       "      <th></th>\n",
       "      <th>country</th>\n",
       "      <th>1990</th>\n",
       "      <th>1991</th>\n",
       "      <th>1992</th>\n",
       "      <th>1993</th>\n",
       "      <th>1994</th>\n",
       "      <th>1995</th>\n",
       "      <th>1996</th>\n",
       "      <th>1997</th>\n",
       "      <th>1998</th>\n",
       "      <th>...</th>\n",
       "      <th>2006</th>\n",
       "      <th>2007</th>\n",
       "      <th>2008</th>\n",
       "      <th>2009</th>\n",
       "      <th>2010</th>\n",
       "      <th>2011</th>\n",
       "      <th>2012</th>\n",
       "      <th>2013</th>\n",
       "      <th>2014</th>\n",
       "      <th>2015</th>\n",
       "    </tr>\n",
       "  </thead>\n",
       "  <tbody>\n",
       "  </tbody>\n",
       "</table>\n",
       "<p>0 rows × 27 columns</p>\n",
       "</div>"
      ],
      "text/plain": [
       "Empty DataFrame\n",
       "Columns: [country, 1990, 1991, 1992, 1993, 1994, 1995, 1996, 1997, 1998, 1999, 2000, 2001, 2002, 2003, 2004, 2005, 2006, 2007, 2008, 2009, 2010, 2011, 2012, 2013, 2014, 2015]\n",
       "Index: []\n",
       "\n",
       "[0 rows x 27 columns]"
      ]
     },
     "execution_count": 146,
     "metadata": {},
     "output_type": "execute_result"
    }
   ],
   "source": [
    "# Double check rows were dropped\n",
    "df_ineq[~df_ineq[\"country\"].isin(df_assistance[\"country\"])]"
   ]
  },
  {
   "cell_type": "code",
   "execution_count": 147,
   "metadata": {
    "scrolled": false
   },
   "outputs": [
    {
     "data": {
      "text/plain": [
       "((188, 27), (188, 27), (188, 27), (188, 27))"
      ]
     },
     "execution_count": 147,
     "metadata": {},
     "output_type": "execute_result"
    }
   ],
   "source": [
    "# Final check of the number of rows and columns\n",
    "df_maternal.shape, df_newborn.shape, df_assistance.shape, df_ineq.shape"
   ]
  },
  {
   "cell_type": "markdown",
   "metadata": {},
   "source": [
    "__Observations:__ At last, we have a consistent group of datasets that include the same countries (rows) and the same years (columns)."
   ]
  },
  {
   "cell_type": "markdown",
   "metadata": {},
   "source": [
    "<a id='eda'></a>\n",
    "## Exploratory Data Analysis\n",
    "\n",
    "### What countries have the highest and lowest maternal mortality rates in 2015?"
   ]
  },
  {
   "cell_type": "code",
   "execution_count": 148,
   "metadata": {},
   "outputs": [],
   "source": [
    "# Create function to make a horizontal bar plot with the values of all countries in a specific year \n",
    "#in a particular data frame. \n",
    "def per_country_bar_plot(df, year, plot_title, xaxis_label):\n",
    "    sorted_2015 = df.sort_values(year)\n",
    "    fig = px.bar(sorted_2015, x=year, y='country', hover_data={year:\":.2f\"}, height=3500,\n",
    "             title= plot_title)\n",
    "\n",
    "    fig.update_layout(\n",
    "        font_family=\"Avenir\",\n",
    "        font_color=\"Black\",\n",
    "        title_font_family=\"Avenir\",\n",
    "        title_font_color=\"Dark Gray\",\n",
    "        font_size= 14,\n",
    "        legend_title_font_color=\"Black\"\n",
    "    )\n",
    "\n",
    "    fig.update_xaxes(title= xaxis_label, title_font_family=\"Avenir\")\n",
    "    fig.update_yaxes(title= \"Country\", title_font_family=\"Avenir\")\n",
    "    fig.show()"
   ]
  },
  {
   "cell_type": "code",
   "execution_count": 149,
   "metadata": {},
   "outputs": [
    {
     "data": {
      "application/vnd.plotly.v1+json": {
       "config": {
        "plotlyServerURL": "https://plot.ly"
       },
       "data": [
        {
         "alignmentgroup": "True",
         "customdata": [
          [
           1.33
          ],
          [
           1.6
          ],
          [
           2.1
          ],
          [
           2.11
          ],
          [
           2.31
          ],
          [
           2.49
          ],
          [
           2.6
          ],
          [
           3.12
          ],
          [
           3.39
          ],
          [
           3.56
          ],
          [
           3.67
          ],
          [
           3.74
          ],
          [
           3.89
          ],
          [
           3.89
          ],
          [
           4.14
          ],
          [
           4.28
          ],
          [
           4.3
          ],
          [
           4.54
          ],
          [
           4.58
          ],
          [
           4.63
          ],
          [
           4.67
          ],
          [
           4.9
          ],
          [
           5.6
          ],
          [
           5.71
          ],
          [
           6.07
          ],
          [
           6.16
          ],
          [
           6.33
          ],
          [
           6.63
          ],
          [
           6.75
          ],
          [
           7
          ],
          [
           7.54
          ],
          [
           7.75
          ],
          [
           8.92
          ],
          [
           9.48
          ],
          [
           10.2
          ],
          [
           10.2
          ],
          [
           10.3
          ],
          [
           10.6
          ],
          [
           10.9
          ],
          [
           11.9
          ],
          [
           12.5
          ],
          [
           13.5
          ],
          [
           13.8
          ],
          [
           14
          ],
          [
           16.5
          ],
          [
           16.6
          ],
          [
           16.6
          ],
          [
           16.6
          ],
          [
           18
          ],
          [
           18.8
          ],
          [
           19
          ],
          [
           19.9
          ],
          [
           20.3
          ],
          [
           21.1
          ],
          [
           21.3
          ],
          [
           23.6
          ],
          [
           24.2
          ],
          [
           25.6
          ],
          [
           28
          ],
          [
           28
          ],
          [
           29.8
          ],
          [
           30.1
          ],
          [
           30.8
          ],
          [
           31.6
          ],
          [
           31.7
          ],
          [
           32.4
          ],
          [
           33.4
          ],
          [
           34.4
          ],
          [
           35.1
          ],
          [
           37.2
          ],
          [
           37.9
          ],
          [
           38.8
          ],
          [
           43.2
          ],
          [
           43.2
          ],
          [
           43.3
          ],
          [
           45.1
          ],
          [
           45.2
          ],
          [
           45.8
          ],
          [
           46.6
          ],
          [
           47.2
          ],
          [
           48.1
          ],
          [
           48.6
          ],
          [
           48.6
          ],
          [
           48.9
          ],
          [
           51.7
          ],
          [
           53.4
          ],
          [
           53.7
          ],
          [
           54
          ],
          [
           57.4
          ],
          [
           57.9
          ],
          [
           60.3
          ],
          [
           60.4
          ],
          [
           65.4
          ],
          [
           70.6
          ],
          [
           74.4
          ],
          [
           75.3
          ],
          [
           75.3
          ],
          [
           75.9
          ],
          [
           76.8
          ],
          [
           77
          ],
          [
           78.8
          ],
          [
           81.3
          ],
          [
           82.5
          ],
          [
           82.5
          ],
          [
           82.9
          ],
          [
           83.8
          ],
          [
           87.4
          ],
          [
           89.9
          ],
          [
           92.5
          ],
          [
           95
          ],
          [
           97.1
          ],
          [
           102
          ],
          [
           102
          ],
          [
           105
          ],
          [
           106
          ],
          [
           106
          ],
          [
           110
          ],
          [
           111
          ],
          [
           116
          ],
          [
           117
          ],
          [
           123
          ],
          [
           123
          ],
          [
           127
          ],
          [
           130
          ],
          [
           131
          ],
          [
           137
          ],
          [
           137
          ],
          [
           138
          ],
          [
           138
          ],
          [
           142
          ],
          [
           145
          ],
          [
           156
          ],
          [
           160
          ],
          [
           164
          ],
          [
           167
          ],
          [
           168
          ],
          [
           170
          ],
          [
           172
          ],
          [
           178
          ],
          [
           181
          ],
          [
           184
          ],
          [
           185
          ],
          [
           186
          ],
          [
           194
          ],
          [
           204
          ],
          [
           205
          ],
          [
           205
          ],
          [
           208
          ],
          [
           214
          ],
          [
           216
          ],
          [
           219
          ],
          [
           219
          ],
          [
           231
          ],
          [
           244
          ],
          [
           247
          ],
          [
           255
          ],
          [
           261
          ],
          [
           261
          ],
          [
           269
          ],
          [
           270
          ],
          [
           280
          ],
          [
           283
          ],
          [
           288
          ],
          [
           289
          ],
          [
           294
          ],
          [
           295
          ],
          [
           295
          ],
          [
           300
          ],
          [
           301
          ],
          [
           316
          ],
          [
           318
          ],
          [
           319
          ],
          [
           347
          ],
          [
           359
          ],
          [
           360
          ],
          [
           366
          ],
          [
           372
          ],
          [
           381
          ],
          [
           394
          ],
          [
           405
          ],
          [
           428
          ],
          [
           447
          ],
          [
           467
          ],
          [
           489
          ],
          [
           511
          ],
          [
           512
          ],
          [
           516
          ],
          [
           561
          ]
         ],
         "hovertemplate": "2015=%{customdata[0]:.2f}<br>country=%{y}<extra></extra>",
         "legendgroup": "",
         "marker": {
          "color": "#636efa"
         },
         "name": "",
         "offsetgroup": "",
         "orientation": "h",
         "showlegend": false,
         "textposition": "auto",
         "type": "bar",
         "x": [
          1.33,
          1.6,
          2.1,
          2.11,
          2.31,
          2.49,
          2.6,
          3.12,
          3.39,
          3.56,
          3.67,
          3.74,
          3.89,
          3.89,
          4.14,
          4.28,
          4.3,
          4.54,
          4.58,
          4.63,
          4.67,
          4.9,
          5.6,
          5.71,
          6.07,
          6.16,
          6.33,
          6.63,
          6.75,
          7,
          7.54,
          7.75,
          8.92,
          9.48,
          10.2,
          10.2,
          10.3,
          10.6,
          10.9,
          11.9,
          12.5,
          13.5,
          13.8,
          14,
          16.5,
          16.6,
          16.6,
          16.6,
          18,
          18.8,
          19,
          19.9,
          20.3,
          21.1,
          21.3,
          23.6,
          24.2,
          25.6,
          28,
          28,
          29.8,
          30.1,
          30.8,
          31.6,
          31.7,
          32.4,
          33.4,
          34.4,
          35.1,
          37.2,
          37.9,
          38.8,
          43.2,
          43.2,
          43.3,
          45.1,
          45.2,
          45.8,
          46.6,
          47.2,
          48.1,
          48.6,
          48.6,
          48.9,
          51.7,
          53.4,
          53.7,
          54,
          57.4,
          57.9,
          60.3,
          60.4,
          65.4,
          70.6,
          74.4,
          75.3,
          75.3,
          75.9,
          76.8,
          77,
          78.8,
          81.3,
          82.5,
          82.5,
          82.9,
          83.8,
          87.4,
          89.9,
          92.5,
          95,
          97.1,
          102,
          102,
          105,
          106,
          106,
          110,
          111,
          116,
          117,
          123,
          123,
          127,
          130,
          131,
          137,
          137,
          138,
          138,
          142,
          145,
          156,
          160,
          164,
          167,
          168,
          170,
          172,
          178,
          181,
          184,
          185,
          186,
          194,
          204,
          205,
          205,
          208,
          214,
          216,
          219,
          219,
          231,
          244,
          247,
          255,
          261,
          261,
          269,
          270,
          280,
          283,
          288,
          289,
          294,
          295,
          295,
          300,
          301,
          316,
          318,
          319,
          347,
          359,
          360,
          366,
          372,
          381,
          394,
          405,
          428,
          447,
          467,
          489,
          511,
          512,
          516,
          561
         ],
         "xaxis": "x",
         "y": [
          "Denmark",
          "Estonia",
          "Sweden",
          "Norway",
          "Cyprus",
          "Czech Republic",
          "Iceland",
          "Poland",
          "Ireland",
          "Bosnia and Herzegovina",
          "Netherlands",
          "Australia",
          "Singapore",
          "Finland",
          "Belgium",
          "Croatia",
          "Austria",
          "Israel",
          "Germany",
          "United Kingdom",
          "Italy",
          "Japan",
          "Kuwait",
          "Slovak Republic",
          "Switzerland",
          "France",
          "Luxembourg",
          "Portugal",
          "Montenegro",
          "North Macedonia",
          "Canada",
          "Albania",
          "Lithuania",
          "Slovenia",
          "Bulgaria",
          "Serbia",
          "South Korea",
          "New Zealand",
          "Malta",
          "Belarus",
          "Russia",
          "Hungary",
          "China",
          "Kazakhstan",
          "United Arab Emirates",
          "Lebanon",
          "Palestine",
          "Romania",
          "Iran",
          "Vietnam",
          "Armenia",
          "Azerbaijan",
          "Tajikistan",
          "Ukraine",
          "Oman",
          "Syria",
          "Uruguay",
          "Chile",
          "United States",
          "Moldova",
          "Latvia",
          "Qatar",
          "Uzbekistan",
          "Jordan",
          "Costa Rica",
          "Turkey",
          "Samoa",
          "Libya",
          "Sri Lanka",
          "Tunisia",
          "Brunei",
          "Egypt",
          "Georgia",
          "El Salvador",
          "Bahrain",
          "Nicaragua",
          "Iraq",
          "Antigua and Barbuda",
          "Trinidad and Tobago",
          "Kyrgyz Republic",
          "Thailand",
          "Mauritius",
          "Mongolia",
          "Mexico",
          "Malaysia",
          "Argentina",
          "Turkmenistan",
          "Cuba",
          "Saudi Arabia",
          "Barbados",
          "North Korea",
          "Seychelles",
          "Brazil",
          "Panama",
          "Philippines",
          "Algeria",
          "Cape Verde",
          "Peru",
          "Ecuador",
          "Maldives",
          "Paraguay",
          "Jamaica",
          "Belize",
          "Fiji",
          "Grenada",
          "Colombia",
          "St. Vincent and the Grenadines",
          "Tonga",
          "Bahamas",
          "Eswatini",
          "St. Lucia",
          "Morocco",
          "South Africa",
          "Vanuatu",
          "Tuvalu",
          "Botswana",
          "Dominica",
          "Honduras",
          "Suriname",
          "Dominican Republic",
          "Micronesia, Fed. Sts.",
          "Palau",
          "Venezuela",
          "Namibia",
          "Guatemala",
          "Marshall Islands",
          "Zambia",
          "Nauru",
          "Sao Tome and Principe",
          "Cambodia",
          "Uganda",
          "Indonesia",
          "Equatorial Guinea",
          "St. Kitts and Nevis",
          "Yemen",
          "Myanmar",
          "Timor-Leste",
          "Guyana",
          "India",
          "Bolivia",
          "Ghana",
          "South Sudan",
          "Comoros",
          "Bhutan",
          "Mozambique",
          "Gabon",
          "Angola",
          "Lao",
          "Sudan",
          "Burkina Faso",
          "Malawi",
          "Ethiopia",
          "Togo",
          "Rwanda",
          "Papua New Guinea",
          "Nigeria",
          "Pakistan",
          "Bangladesh",
          "Tanzania",
          "Guinea-Bissau",
          "Kiribati",
          "Kenya",
          "Benin",
          "Cote d'Ivoire",
          "Burundi",
          "Madagascar",
          "Zimbabwe",
          "Solomon Islands",
          "Congo, Rep.",
          "Nepal",
          "Afghanistan",
          "Niger",
          "Cameroon",
          "Djibouti",
          "Somalia",
          "Mali",
          "Lesotho",
          "Gambia",
          "Congo, Dem. Rep.",
          "Senegal",
          "Chad",
          "Eritrea",
          "Central African Republic",
          "Mauritania",
          "Guinea",
          "Sierra Leone",
          "Haiti",
          "Liberia"
         ],
         "yaxis": "y"
        }
       ],
       "layout": {
        "barmode": "relative",
        "font": {
         "color": "Black",
         "family": "Avenir",
         "size": 14
        },
        "height": 3500,
        "legend": {
         "title": {
          "font": {
           "color": "Black"
          }
         },
         "tracegroupgap": 0
        },
        "template": {
         "data": {
          "bar": [
           {
            "error_x": {
             "color": "#2a3f5f"
            },
            "error_y": {
             "color": "#2a3f5f"
            },
            "marker": {
             "line": {
              "color": "#E5ECF6",
              "width": 0.5
             }
            },
            "type": "bar"
           }
          ],
          "barpolar": [
           {
            "marker": {
             "line": {
              "color": "#E5ECF6",
              "width": 0.5
             }
            },
            "type": "barpolar"
           }
          ],
          "carpet": [
           {
            "aaxis": {
             "endlinecolor": "#2a3f5f",
             "gridcolor": "white",
             "linecolor": "white",
             "minorgridcolor": "white",
             "startlinecolor": "#2a3f5f"
            },
            "baxis": {
             "endlinecolor": "#2a3f5f",
             "gridcolor": "white",
             "linecolor": "white",
             "minorgridcolor": "white",
             "startlinecolor": "#2a3f5f"
            },
            "type": "carpet"
           }
          ],
          "choropleth": [
           {
            "colorbar": {
             "outlinewidth": 0,
             "ticks": ""
            },
            "type": "choropleth"
           }
          ],
          "contour": [
           {
            "colorbar": {
             "outlinewidth": 0,
             "ticks": ""
            },
            "colorscale": [
             [
              0,
              "#0d0887"
             ],
             [
              0.1111111111111111,
              "#46039f"
             ],
             [
              0.2222222222222222,
              "#7201a8"
             ],
             [
              0.3333333333333333,
              "#9c179e"
             ],
             [
              0.4444444444444444,
              "#bd3786"
             ],
             [
              0.5555555555555556,
              "#d8576b"
             ],
             [
              0.6666666666666666,
              "#ed7953"
             ],
             [
              0.7777777777777778,
              "#fb9f3a"
             ],
             [
              0.8888888888888888,
              "#fdca26"
             ],
             [
              1,
              "#f0f921"
             ]
            ],
            "type": "contour"
           }
          ],
          "contourcarpet": [
           {
            "colorbar": {
             "outlinewidth": 0,
             "ticks": ""
            },
            "type": "contourcarpet"
           }
          ],
          "heatmap": [
           {
            "colorbar": {
             "outlinewidth": 0,
             "ticks": ""
            },
            "colorscale": [
             [
              0,
              "#0d0887"
             ],
             [
              0.1111111111111111,
              "#46039f"
             ],
             [
              0.2222222222222222,
              "#7201a8"
             ],
             [
              0.3333333333333333,
              "#9c179e"
             ],
             [
              0.4444444444444444,
              "#bd3786"
             ],
             [
              0.5555555555555556,
              "#d8576b"
             ],
             [
              0.6666666666666666,
              "#ed7953"
             ],
             [
              0.7777777777777778,
              "#fb9f3a"
             ],
             [
              0.8888888888888888,
              "#fdca26"
             ],
             [
              1,
              "#f0f921"
             ]
            ],
            "type": "heatmap"
           }
          ],
          "heatmapgl": [
           {
            "colorbar": {
             "outlinewidth": 0,
             "ticks": ""
            },
            "colorscale": [
             [
              0,
              "#0d0887"
             ],
             [
              0.1111111111111111,
              "#46039f"
             ],
             [
              0.2222222222222222,
              "#7201a8"
             ],
             [
              0.3333333333333333,
              "#9c179e"
             ],
             [
              0.4444444444444444,
              "#bd3786"
             ],
             [
              0.5555555555555556,
              "#d8576b"
             ],
             [
              0.6666666666666666,
              "#ed7953"
             ],
             [
              0.7777777777777778,
              "#fb9f3a"
             ],
             [
              0.8888888888888888,
              "#fdca26"
             ],
             [
              1,
              "#f0f921"
             ]
            ],
            "type": "heatmapgl"
           }
          ],
          "histogram": [
           {
            "marker": {
             "colorbar": {
              "outlinewidth": 0,
              "ticks": ""
             }
            },
            "type": "histogram"
           }
          ],
          "histogram2d": [
           {
            "colorbar": {
             "outlinewidth": 0,
             "ticks": ""
            },
            "colorscale": [
             [
              0,
              "#0d0887"
             ],
             [
              0.1111111111111111,
              "#46039f"
             ],
             [
              0.2222222222222222,
              "#7201a8"
             ],
             [
              0.3333333333333333,
              "#9c179e"
             ],
             [
              0.4444444444444444,
              "#bd3786"
             ],
             [
              0.5555555555555556,
              "#d8576b"
             ],
             [
              0.6666666666666666,
              "#ed7953"
             ],
             [
              0.7777777777777778,
              "#fb9f3a"
             ],
             [
              0.8888888888888888,
              "#fdca26"
             ],
             [
              1,
              "#f0f921"
             ]
            ],
            "type": "histogram2d"
           }
          ],
          "histogram2dcontour": [
           {
            "colorbar": {
             "outlinewidth": 0,
             "ticks": ""
            },
            "colorscale": [
             [
              0,
              "#0d0887"
             ],
             [
              0.1111111111111111,
              "#46039f"
             ],
             [
              0.2222222222222222,
              "#7201a8"
             ],
             [
              0.3333333333333333,
              "#9c179e"
             ],
             [
              0.4444444444444444,
              "#bd3786"
             ],
             [
              0.5555555555555556,
              "#d8576b"
             ],
             [
              0.6666666666666666,
              "#ed7953"
             ],
             [
              0.7777777777777778,
              "#fb9f3a"
             ],
             [
              0.8888888888888888,
              "#fdca26"
             ],
             [
              1,
              "#f0f921"
             ]
            ],
            "type": "histogram2dcontour"
           }
          ],
          "mesh3d": [
           {
            "colorbar": {
             "outlinewidth": 0,
             "ticks": ""
            },
            "type": "mesh3d"
           }
          ],
          "parcoords": [
           {
            "line": {
             "colorbar": {
              "outlinewidth": 0,
              "ticks": ""
             }
            },
            "type": "parcoords"
           }
          ],
          "pie": [
           {
            "automargin": true,
            "type": "pie"
           }
          ],
          "scatter": [
           {
            "marker": {
             "colorbar": {
              "outlinewidth": 0,
              "ticks": ""
             }
            },
            "type": "scatter"
           }
          ],
          "scatter3d": [
           {
            "line": {
             "colorbar": {
              "outlinewidth": 0,
              "ticks": ""
             }
            },
            "marker": {
             "colorbar": {
              "outlinewidth": 0,
              "ticks": ""
             }
            },
            "type": "scatter3d"
           }
          ],
          "scattercarpet": [
           {
            "marker": {
             "colorbar": {
              "outlinewidth": 0,
              "ticks": ""
             }
            },
            "type": "scattercarpet"
           }
          ],
          "scattergeo": [
           {
            "marker": {
             "colorbar": {
              "outlinewidth": 0,
              "ticks": ""
             }
            },
            "type": "scattergeo"
           }
          ],
          "scattergl": [
           {
            "marker": {
             "colorbar": {
              "outlinewidth": 0,
              "ticks": ""
             }
            },
            "type": "scattergl"
           }
          ],
          "scattermapbox": [
           {
            "marker": {
             "colorbar": {
              "outlinewidth": 0,
              "ticks": ""
             }
            },
            "type": "scattermapbox"
           }
          ],
          "scatterpolar": [
           {
            "marker": {
             "colorbar": {
              "outlinewidth": 0,
              "ticks": ""
             }
            },
            "type": "scatterpolar"
           }
          ],
          "scatterpolargl": [
           {
            "marker": {
             "colorbar": {
              "outlinewidth": 0,
              "ticks": ""
             }
            },
            "type": "scatterpolargl"
           }
          ],
          "scatterternary": [
           {
            "marker": {
             "colorbar": {
              "outlinewidth": 0,
              "ticks": ""
             }
            },
            "type": "scatterternary"
           }
          ],
          "surface": [
           {
            "colorbar": {
             "outlinewidth": 0,
             "ticks": ""
            },
            "colorscale": [
             [
              0,
              "#0d0887"
             ],
             [
              0.1111111111111111,
              "#46039f"
             ],
             [
              0.2222222222222222,
              "#7201a8"
             ],
             [
              0.3333333333333333,
              "#9c179e"
             ],
             [
              0.4444444444444444,
              "#bd3786"
             ],
             [
              0.5555555555555556,
              "#d8576b"
             ],
             [
              0.6666666666666666,
              "#ed7953"
             ],
             [
              0.7777777777777778,
              "#fb9f3a"
             ],
             [
              0.8888888888888888,
              "#fdca26"
             ],
             [
              1,
              "#f0f921"
             ]
            ],
            "type": "surface"
           }
          ],
          "table": [
           {
            "cells": {
             "fill": {
              "color": "#EBF0F8"
             },
             "line": {
              "color": "white"
             }
            },
            "header": {
             "fill": {
              "color": "#C8D4E3"
             },
             "line": {
              "color": "white"
             }
            },
            "type": "table"
           }
          ]
         },
         "layout": {
          "annotationdefaults": {
           "arrowcolor": "#2a3f5f",
           "arrowhead": 0,
           "arrowwidth": 1
          },
          "coloraxis": {
           "colorbar": {
            "outlinewidth": 0,
            "ticks": ""
           }
          },
          "colorscale": {
           "diverging": [
            [
             0,
             "#8e0152"
            ],
            [
             0.1,
             "#c51b7d"
            ],
            [
             0.2,
             "#de77ae"
            ],
            [
             0.3,
             "#f1b6da"
            ],
            [
             0.4,
             "#fde0ef"
            ],
            [
             0.5,
             "#f7f7f7"
            ],
            [
             0.6,
             "#e6f5d0"
            ],
            [
             0.7,
             "#b8e186"
            ],
            [
             0.8,
             "#7fbc41"
            ],
            [
             0.9,
             "#4d9221"
            ],
            [
             1,
             "#276419"
            ]
           ],
           "sequential": [
            [
             0,
             "#0d0887"
            ],
            [
             0.1111111111111111,
             "#46039f"
            ],
            [
             0.2222222222222222,
             "#7201a8"
            ],
            [
             0.3333333333333333,
             "#9c179e"
            ],
            [
             0.4444444444444444,
             "#bd3786"
            ],
            [
             0.5555555555555556,
             "#d8576b"
            ],
            [
             0.6666666666666666,
             "#ed7953"
            ],
            [
             0.7777777777777778,
             "#fb9f3a"
            ],
            [
             0.8888888888888888,
             "#fdca26"
            ],
            [
             1,
             "#f0f921"
            ]
           ],
           "sequentialminus": [
            [
             0,
             "#0d0887"
            ],
            [
             0.1111111111111111,
             "#46039f"
            ],
            [
             0.2222222222222222,
             "#7201a8"
            ],
            [
             0.3333333333333333,
             "#9c179e"
            ],
            [
             0.4444444444444444,
             "#bd3786"
            ],
            [
             0.5555555555555556,
             "#d8576b"
            ],
            [
             0.6666666666666666,
             "#ed7953"
            ],
            [
             0.7777777777777778,
             "#fb9f3a"
            ],
            [
             0.8888888888888888,
             "#fdca26"
            ],
            [
             1,
             "#f0f921"
            ]
           ]
          },
          "colorway": [
           "#636efa",
           "#EF553B",
           "#00cc96",
           "#ab63fa",
           "#FFA15A",
           "#19d3f3",
           "#FF6692",
           "#B6E880",
           "#FF97FF",
           "#FECB52"
          ],
          "font": {
           "color": "#2a3f5f"
          },
          "geo": {
           "bgcolor": "white",
           "lakecolor": "white",
           "landcolor": "#E5ECF6",
           "showlakes": true,
           "showland": true,
           "subunitcolor": "white"
          },
          "hoverlabel": {
           "align": "left"
          },
          "hovermode": "closest",
          "mapbox": {
           "style": "light"
          },
          "paper_bgcolor": "white",
          "plot_bgcolor": "#E5ECF6",
          "polar": {
           "angularaxis": {
            "gridcolor": "white",
            "linecolor": "white",
            "ticks": ""
           },
           "bgcolor": "#E5ECF6",
           "radialaxis": {
            "gridcolor": "white",
            "linecolor": "white",
            "ticks": ""
           }
          },
          "scene": {
           "xaxis": {
            "backgroundcolor": "#E5ECF6",
            "gridcolor": "white",
            "gridwidth": 2,
            "linecolor": "white",
            "showbackground": true,
            "ticks": "",
            "zerolinecolor": "white"
           },
           "yaxis": {
            "backgroundcolor": "#E5ECF6",
            "gridcolor": "white",
            "gridwidth": 2,
            "linecolor": "white",
            "showbackground": true,
            "ticks": "",
            "zerolinecolor": "white"
           },
           "zaxis": {
            "backgroundcolor": "#E5ECF6",
            "gridcolor": "white",
            "gridwidth": 2,
            "linecolor": "white",
            "showbackground": true,
            "ticks": "",
            "zerolinecolor": "white"
           }
          },
          "shapedefaults": {
           "line": {
            "color": "#2a3f5f"
           }
          },
          "ternary": {
           "aaxis": {
            "gridcolor": "white",
            "linecolor": "white",
            "ticks": ""
           },
           "baxis": {
            "gridcolor": "white",
            "linecolor": "white",
            "ticks": ""
           },
           "bgcolor": "#E5ECF6",
           "caxis": {
            "gridcolor": "white",
            "linecolor": "white",
            "ticks": ""
           }
          },
          "title": {
           "x": 0.05
          },
          "xaxis": {
           "automargin": true,
           "gridcolor": "white",
           "linecolor": "white",
           "ticks": "",
           "title": {
            "standoff": 15
           },
           "zerolinecolor": "white",
           "zerolinewidth": 2
          },
          "yaxis": {
           "automargin": true,
           "gridcolor": "white",
           "linecolor": "white",
           "ticks": "",
           "title": {
            "standoff": 15
           },
           "zerolinecolor": "white",
           "zerolinewidth": 2
          }
         }
        },
        "title": {
         "font": {
          "color": "Dark Gray",
          "family": "Avenir"
         },
         "text": "Maternal Deaths per 100,000 Births in 2015 per Country"
        },
        "xaxis": {
         "anchor": "y",
         "domain": [
          0,
          1
         ],
         "title": {
          "font": {
           "family": "Avenir"
          },
          "text": "Number of Maternal Deaths"
         }
        },
        "yaxis": {
         "anchor": "x",
         "domain": [
          0,
          1
         ],
         "title": {
          "font": {
           "family": "Avenir"
          },
          "text": "Country"
         }
        }
       }
      },
      "text/html": [
       "<div>                            <div id=\"60eab715-32bb-4dde-a463-49936d775d32\" class=\"plotly-graph-div\" style=\"height:3500px; width:100%;\"></div>            <script type=\"text/javascript\">                require([\"plotly\"], function(Plotly) {                    window.PLOTLYENV=window.PLOTLYENV || {};                                    if (document.getElementById(\"60eab715-32bb-4dde-a463-49936d775d32\")) {                    Plotly.newPlot(                        \"60eab715-32bb-4dde-a463-49936d775d32\",                        [{\"alignmentgroup\": \"True\", \"customdata\": [[1.33], [1.6], [2.1], [2.11], [2.31], [2.49], [2.6], [3.12], [3.39], [3.56], [3.67], [3.74], [3.89], [3.89], [4.14], [4.28], [4.3], [4.54], [4.58], [4.63], [4.67], [4.9], [5.6], [5.71], [6.07], [6.16], [6.33], [6.63], [6.75], [7.0], [7.54], [7.75], [8.92], [9.48], [10.2], [10.2], [10.3], [10.6], [10.9], [11.9], [12.5], [13.5], [13.8], [14.0], [16.5], [16.6], [16.6], [16.6], [18.0], [18.8], [19.0], [19.9], [20.3], [21.1], [21.3], [23.6], [24.2], [25.6], [28.0], [28.0], [29.8], [30.1], [30.8], [31.6], [31.7], [32.4], [33.4], [34.4], [35.1], [37.2], [37.9], [38.8], [43.2], [43.2], [43.3], [45.1], [45.2], [45.8], [46.6], [47.2], [48.1], [48.6], [48.6], [48.9], [51.7], [53.4], [53.7], [54.0], [57.4], [57.9], [60.3], [60.4], [65.4], [70.6], [74.4], [75.3], [75.3], [75.9], [76.8], [77.0], [78.8], [81.3], [82.5], [82.5], [82.9], [83.8], [87.4], [89.9], [92.5], [95.0], [97.1], [102.0], [102.0], [105.0], [106.0], [106.0], [110.0], [111.0], [116.0], [117.0], [123.0], [123.0], [127.0], [130.0], [131.0], [137.0], [137.0], [138.0], [138.0], [142.0], [145.0], [156.0], [160.0], [164.0], [167.0], [168.0], [170.0], [172.0], [178.0], [181.0], [184.0], [185.0], [186.0], [194.0], [204.0], [205.0], [205.0], [208.0], [214.0], [216.0], [219.0], [219.0], [231.0], [244.0], [247.0], [255.0], [261.0], [261.0], [269.0], [270.0], [280.0], [283.0], [288.0], [289.0], [294.0], [295.0], [295.0], [300.0], [301.0], [316.0], [318.0], [319.0], [347.0], [359.0], [360.0], [366.0], [372.0], [381.0], [394.0], [405.0], [428.0], [447.0], [467.0], [489.0], [511.0], [512.0], [516.0], [561.0]], \"hovertemplate\": \"2015=%{customdata[0]:.2f}<br>country=%{y}<extra></extra>\", \"legendgroup\": \"\", \"marker\": {\"color\": \"#636efa\"}, \"name\": \"\", \"offsetgroup\": \"\", \"orientation\": \"h\", \"showlegend\": false, \"textposition\": \"auto\", \"type\": \"bar\", \"x\": [1.33, 1.6, 2.1, 2.11, 2.31, 2.49, 2.6, 3.12, 3.39, 3.56, 3.67, 3.74, 3.89, 3.89, 4.14, 4.28, 4.3, 4.54, 4.58, 4.63, 4.67, 4.9, 5.6, 5.71, 6.07, 6.16, 6.33, 6.63, 6.75, 7.0, 7.54, 7.75, 8.92, 9.48, 10.2, 10.2, 10.3, 10.6, 10.9, 11.9, 12.5, 13.5, 13.8, 14.0, 16.5, 16.6, 16.6, 16.6, 18.0, 18.8, 19.0, 19.9, 20.3, 21.1, 21.3, 23.6, 24.2, 25.6, 28.0, 28.0, 29.8, 30.1, 30.8, 31.6, 31.7, 32.4, 33.4, 34.4, 35.1, 37.2, 37.9, 38.8, 43.2, 43.2, 43.3, 45.1, 45.2, 45.8, 46.6, 47.2, 48.1, 48.6, 48.6, 48.9, 51.7, 53.4, 53.7, 54.0, 57.4, 57.9, 60.3, 60.4, 65.4, 70.6, 74.4, 75.3, 75.3, 75.9, 76.8, 77.0, 78.8, 81.3, 82.5, 82.5, 82.9, 83.8, 87.4, 89.9, 92.5, 95.0, 97.1, 102.0, 102.0, 105.0, 106.0, 106.0, 110.0, 111.0, 116.0, 117.0, 123.0, 123.0, 127.0, 130.0, 131.0, 137.0, 137.0, 138.0, 138.0, 142.0, 145.0, 156.0, 160.0, 164.0, 167.0, 168.0, 170.0, 172.0, 178.0, 181.0, 184.0, 185.0, 186.0, 194.0, 204.0, 205.0, 205.0, 208.0, 214.0, 216.0, 219.0, 219.0, 231.0, 244.0, 247.0, 255.0, 261.0, 261.0, 269.0, 270.0, 280.0, 283.0, 288.0, 289.0, 294.0, 295.0, 295.0, 300.0, 301.0, 316.0, 318.0, 319.0, 347.0, 359.0, 360.0, 366.0, 372.0, 381.0, 394.0, 405.0, 428.0, 447.0, 467.0, 489.0, 511.0, 512.0, 516.0, 561.0], \"xaxis\": \"x\", \"y\": [\"Denmark\", \"Estonia\", \"Sweden\", \"Norway\", \"Cyprus\", \"Czech Republic\", \"Iceland\", \"Poland\", \"Ireland\", \"Bosnia and Herzegovina\", \"Netherlands\", \"Australia\", \"Singapore\", \"Finland\", \"Belgium\", \"Croatia\", \"Austria\", \"Israel\", \"Germany\", \"United Kingdom\", \"Italy\", \"Japan\", \"Kuwait\", \"Slovak Republic\", \"Switzerland\", \"France\", \"Luxembourg\", \"Portugal\", \"Montenegro\", \"North Macedonia\", \"Canada\", \"Albania\", \"Lithuania\", \"Slovenia\", \"Bulgaria\", \"Serbia\", \"South Korea\", \"New Zealand\", \"Malta\", \"Belarus\", \"Russia\", \"Hungary\", \"China\", \"Kazakhstan\", \"United Arab Emirates\", \"Lebanon\", \"Palestine\", \"Romania\", \"Iran\", \"Vietnam\", \"Armenia\", \"Azerbaijan\", \"Tajikistan\", \"Ukraine\", \"Oman\", \"Syria\", \"Uruguay\", \"Chile\", \"United States\", \"Moldova\", \"Latvia\", \"Qatar\", \"Uzbekistan\", \"Jordan\", \"Costa Rica\", \"Turkey\", \"Samoa\", \"Libya\", \"Sri Lanka\", \"Tunisia\", \"Brunei\", \"Egypt\", \"Georgia\", \"El Salvador\", \"Bahrain\", \"Nicaragua\", \"Iraq\", \"Antigua and Barbuda\", \"Trinidad and Tobago\", \"Kyrgyz Republic\", \"Thailand\", \"Mauritius\", \"Mongolia\", \"Mexico\", \"Malaysia\", \"Argentina\", \"Turkmenistan\", \"Cuba\", \"Saudi Arabia\", \"Barbados\", \"North Korea\", \"Seychelles\", \"Brazil\", \"Panama\", \"Philippines\", \"Algeria\", \"Cape Verde\", \"Peru\", \"Ecuador\", \"Maldives\", \"Paraguay\", \"Jamaica\", \"Belize\", \"Fiji\", \"Grenada\", \"Colombia\", \"St. Vincent and the Grenadines\", \"Tonga\", \"Bahamas\", \"Eswatini\", \"St. Lucia\", \"Morocco\", \"South Africa\", \"Vanuatu\", \"Tuvalu\", \"Botswana\", \"Dominica\", \"Honduras\", \"Suriname\", \"Dominican Republic\", \"Micronesia, Fed. Sts.\", \"Palau\", \"Venezuela\", \"Namibia\", \"Guatemala\", \"Marshall Islands\", \"Zambia\", \"Nauru\", \"Sao Tome and Principe\", \"Cambodia\", \"Uganda\", \"Indonesia\", \"Equatorial Guinea\", \"St. Kitts and Nevis\", \"Yemen\", \"Myanmar\", \"Timor-Leste\", \"Guyana\", \"India\", \"Bolivia\", \"Ghana\", \"South Sudan\", \"Comoros\", \"Bhutan\", \"Mozambique\", \"Gabon\", \"Angola\", \"Lao\", \"Sudan\", \"Burkina Faso\", \"Malawi\", \"Ethiopia\", \"Togo\", \"Rwanda\", \"Papua New Guinea\", \"Nigeria\", \"Pakistan\", \"Bangladesh\", \"Tanzania\", \"Guinea-Bissau\", \"Kiribati\", \"Kenya\", \"Benin\", \"Cote d'Ivoire\", \"Burundi\", \"Madagascar\", \"Zimbabwe\", \"Solomon Islands\", \"Congo, Rep.\", \"Nepal\", \"Afghanistan\", \"Niger\", \"Cameroon\", \"Djibouti\", \"Somalia\", \"Mali\", \"Lesotho\", \"Gambia\", \"Congo, Dem. Rep.\", \"Senegal\", \"Chad\", \"Eritrea\", \"Central African Republic\", \"Mauritania\", \"Guinea\", \"Sierra Leone\", \"Haiti\", \"Liberia\"], \"yaxis\": \"y\"}],                        {\"barmode\": \"relative\", \"font\": {\"color\": \"Black\", \"family\": \"Avenir\", \"size\": 14}, \"height\": 3500, \"legend\": {\"title\": {\"font\": {\"color\": \"Black\"}}, \"tracegroupgap\": 0}, \"template\": {\"data\": {\"bar\": [{\"error_x\": {\"color\": \"#2a3f5f\"}, \"error_y\": {\"color\": \"#2a3f5f\"}, \"marker\": {\"line\": {\"color\": \"#E5ECF6\", \"width\": 0.5}}, \"type\": \"bar\"}], \"barpolar\": [{\"marker\": {\"line\": {\"color\": \"#E5ECF6\", \"width\": 0.5}}, \"type\": \"barpolar\"}], \"carpet\": [{\"aaxis\": {\"endlinecolor\": \"#2a3f5f\", \"gridcolor\": \"white\", \"linecolor\": \"white\", \"minorgridcolor\": \"white\", \"startlinecolor\": \"#2a3f5f\"}, \"baxis\": {\"endlinecolor\": \"#2a3f5f\", \"gridcolor\": \"white\", \"linecolor\": \"white\", \"minorgridcolor\": \"white\", \"startlinecolor\": \"#2a3f5f\"}, \"type\": \"carpet\"}], \"choropleth\": [{\"colorbar\": {\"outlinewidth\": 0, \"ticks\": \"\"}, \"type\": \"choropleth\"}], \"contour\": [{\"colorbar\": {\"outlinewidth\": 0, \"ticks\": \"\"}, \"colorscale\": [[0.0, \"#0d0887\"], [0.1111111111111111, \"#46039f\"], [0.2222222222222222, \"#7201a8\"], [0.3333333333333333, \"#9c179e\"], [0.4444444444444444, \"#bd3786\"], [0.5555555555555556, \"#d8576b\"], [0.6666666666666666, \"#ed7953\"], [0.7777777777777778, \"#fb9f3a\"], [0.8888888888888888, \"#fdca26\"], [1.0, \"#f0f921\"]], \"type\": \"contour\"}], \"contourcarpet\": [{\"colorbar\": {\"outlinewidth\": 0, \"ticks\": \"\"}, \"type\": \"contourcarpet\"}], \"heatmap\": [{\"colorbar\": {\"outlinewidth\": 0, \"ticks\": \"\"}, \"colorscale\": [[0.0, \"#0d0887\"], [0.1111111111111111, \"#46039f\"], [0.2222222222222222, \"#7201a8\"], [0.3333333333333333, \"#9c179e\"], [0.4444444444444444, \"#bd3786\"], [0.5555555555555556, \"#d8576b\"], [0.6666666666666666, \"#ed7953\"], [0.7777777777777778, \"#fb9f3a\"], [0.8888888888888888, \"#fdca26\"], [1.0, \"#f0f921\"]], \"type\": \"heatmap\"}], \"heatmapgl\": [{\"colorbar\": {\"outlinewidth\": 0, \"ticks\": \"\"}, \"colorscale\": [[0.0, \"#0d0887\"], [0.1111111111111111, \"#46039f\"], [0.2222222222222222, \"#7201a8\"], [0.3333333333333333, \"#9c179e\"], [0.4444444444444444, \"#bd3786\"], [0.5555555555555556, \"#d8576b\"], [0.6666666666666666, \"#ed7953\"], [0.7777777777777778, \"#fb9f3a\"], [0.8888888888888888, \"#fdca26\"], [1.0, \"#f0f921\"]], \"type\": \"heatmapgl\"}], \"histogram\": [{\"marker\": {\"colorbar\": {\"outlinewidth\": 0, \"ticks\": \"\"}}, \"type\": \"histogram\"}], \"histogram2d\": [{\"colorbar\": {\"outlinewidth\": 0, \"ticks\": \"\"}, \"colorscale\": [[0.0, \"#0d0887\"], [0.1111111111111111, \"#46039f\"], [0.2222222222222222, \"#7201a8\"], [0.3333333333333333, \"#9c179e\"], [0.4444444444444444, \"#bd3786\"], [0.5555555555555556, \"#d8576b\"], [0.6666666666666666, \"#ed7953\"], [0.7777777777777778, \"#fb9f3a\"], [0.8888888888888888, \"#fdca26\"], [1.0, \"#f0f921\"]], \"type\": \"histogram2d\"}], \"histogram2dcontour\": [{\"colorbar\": {\"outlinewidth\": 0, \"ticks\": \"\"}, \"colorscale\": [[0.0, \"#0d0887\"], [0.1111111111111111, \"#46039f\"], [0.2222222222222222, \"#7201a8\"], [0.3333333333333333, \"#9c179e\"], [0.4444444444444444, \"#bd3786\"], [0.5555555555555556, \"#d8576b\"], [0.6666666666666666, \"#ed7953\"], [0.7777777777777778, \"#fb9f3a\"], [0.8888888888888888, \"#fdca26\"], [1.0, \"#f0f921\"]], \"type\": \"histogram2dcontour\"}], \"mesh3d\": [{\"colorbar\": {\"outlinewidth\": 0, \"ticks\": \"\"}, \"type\": \"mesh3d\"}], \"parcoords\": [{\"line\": {\"colorbar\": {\"outlinewidth\": 0, \"ticks\": \"\"}}, \"type\": \"parcoords\"}], \"pie\": [{\"automargin\": true, \"type\": \"pie\"}], \"scatter\": [{\"marker\": {\"colorbar\": {\"outlinewidth\": 0, \"ticks\": \"\"}}, \"type\": \"scatter\"}], \"scatter3d\": [{\"line\": {\"colorbar\": {\"outlinewidth\": 0, \"ticks\": \"\"}}, \"marker\": {\"colorbar\": {\"outlinewidth\": 0, \"ticks\": \"\"}}, \"type\": \"scatter3d\"}], \"scattercarpet\": [{\"marker\": {\"colorbar\": {\"outlinewidth\": 0, \"ticks\": \"\"}}, \"type\": \"scattercarpet\"}], \"scattergeo\": [{\"marker\": {\"colorbar\": {\"outlinewidth\": 0, \"ticks\": \"\"}}, \"type\": \"scattergeo\"}], \"scattergl\": [{\"marker\": {\"colorbar\": {\"outlinewidth\": 0, \"ticks\": \"\"}}, \"type\": \"scattergl\"}], \"scattermapbox\": [{\"marker\": {\"colorbar\": {\"outlinewidth\": 0, \"ticks\": \"\"}}, \"type\": \"scattermapbox\"}], \"scatterpolar\": [{\"marker\": {\"colorbar\": {\"outlinewidth\": 0, \"ticks\": \"\"}}, \"type\": \"scatterpolar\"}], \"scatterpolargl\": [{\"marker\": {\"colorbar\": {\"outlinewidth\": 0, \"ticks\": \"\"}}, \"type\": \"scatterpolargl\"}], \"scatterternary\": [{\"marker\": {\"colorbar\": {\"outlinewidth\": 0, \"ticks\": \"\"}}, \"type\": \"scatterternary\"}], \"surface\": [{\"colorbar\": {\"outlinewidth\": 0, \"ticks\": \"\"}, \"colorscale\": [[0.0, \"#0d0887\"], [0.1111111111111111, \"#46039f\"], [0.2222222222222222, \"#7201a8\"], [0.3333333333333333, \"#9c179e\"], [0.4444444444444444, \"#bd3786\"], [0.5555555555555556, \"#d8576b\"], [0.6666666666666666, \"#ed7953\"], [0.7777777777777778, \"#fb9f3a\"], [0.8888888888888888, \"#fdca26\"], [1.0, \"#f0f921\"]], \"type\": \"surface\"}], \"table\": [{\"cells\": {\"fill\": {\"color\": \"#EBF0F8\"}, \"line\": {\"color\": \"white\"}}, \"header\": {\"fill\": {\"color\": \"#C8D4E3\"}, \"line\": {\"color\": \"white\"}}, \"type\": \"table\"}]}, \"layout\": {\"annotationdefaults\": {\"arrowcolor\": \"#2a3f5f\", \"arrowhead\": 0, \"arrowwidth\": 1}, \"coloraxis\": {\"colorbar\": {\"outlinewidth\": 0, \"ticks\": \"\"}}, \"colorscale\": {\"diverging\": [[0, \"#8e0152\"], [0.1, \"#c51b7d\"], [0.2, \"#de77ae\"], [0.3, \"#f1b6da\"], [0.4, \"#fde0ef\"], [0.5, \"#f7f7f7\"], [0.6, \"#e6f5d0\"], [0.7, \"#b8e186\"], [0.8, \"#7fbc41\"], [0.9, \"#4d9221\"], [1, \"#276419\"]], \"sequential\": [[0.0, \"#0d0887\"], [0.1111111111111111, \"#46039f\"], [0.2222222222222222, \"#7201a8\"], [0.3333333333333333, \"#9c179e\"], [0.4444444444444444, \"#bd3786\"], [0.5555555555555556, \"#d8576b\"], [0.6666666666666666, \"#ed7953\"], [0.7777777777777778, \"#fb9f3a\"], [0.8888888888888888, \"#fdca26\"], [1.0, \"#f0f921\"]], \"sequentialminus\": [[0.0, \"#0d0887\"], [0.1111111111111111, \"#46039f\"], [0.2222222222222222, \"#7201a8\"], [0.3333333333333333, \"#9c179e\"], [0.4444444444444444, \"#bd3786\"], [0.5555555555555556, \"#d8576b\"], [0.6666666666666666, \"#ed7953\"], [0.7777777777777778, \"#fb9f3a\"], [0.8888888888888888, \"#fdca26\"], [1.0, \"#f0f921\"]]}, \"colorway\": [\"#636efa\", \"#EF553B\", \"#00cc96\", \"#ab63fa\", \"#FFA15A\", \"#19d3f3\", \"#FF6692\", \"#B6E880\", \"#FF97FF\", \"#FECB52\"], \"font\": {\"color\": \"#2a3f5f\"}, \"geo\": {\"bgcolor\": \"white\", \"lakecolor\": \"white\", \"landcolor\": \"#E5ECF6\", \"showlakes\": true, \"showland\": true, \"subunitcolor\": \"white\"}, \"hoverlabel\": {\"align\": \"left\"}, \"hovermode\": \"closest\", \"mapbox\": {\"style\": \"light\"}, \"paper_bgcolor\": \"white\", \"plot_bgcolor\": \"#E5ECF6\", \"polar\": {\"angularaxis\": {\"gridcolor\": \"white\", \"linecolor\": \"white\", \"ticks\": \"\"}, \"bgcolor\": \"#E5ECF6\", \"radialaxis\": {\"gridcolor\": \"white\", \"linecolor\": \"white\", \"ticks\": \"\"}}, \"scene\": {\"xaxis\": {\"backgroundcolor\": \"#E5ECF6\", \"gridcolor\": \"white\", \"gridwidth\": 2, \"linecolor\": \"white\", \"showbackground\": true, \"ticks\": \"\", \"zerolinecolor\": \"white\"}, \"yaxis\": {\"backgroundcolor\": \"#E5ECF6\", \"gridcolor\": \"white\", \"gridwidth\": 2, \"linecolor\": \"white\", \"showbackground\": true, \"ticks\": \"\", \"zerolinecolor\": \"white\"}, \"zaxis\": {\"backgroundcolor\": \"#E5ECF6\", \"gridcolor\": \"white\", \"gridwidth\": 2, \"linecolor\": \"white\", \"showbackground\": true, \"ticks\": \"\", \"zerolinecolor\": \"white\"}}, \"shapedefaults\": {\"line\": {\"color\": \"#2a3f5f\"}}, \"ternary\": {\"aaxis\": {\"gridcolor\": \"white\", \"linecolor\": \"white\", \"ticks\": \"\"}, \"baxis\": {\"gridcolor\": \"white\", \"linecolor\": \"white\", \"ticks\": \"\"}, \"bgcolor\": \"#E5ECF6\", \"caxis\": {\"gridcolor\": \"white\", \"linecolor\": \"white\", \"ticks\": \"\"}}, \"title\": {\"x\": 0.05}, \"xaxis\": {\"automargin\": true, \"gridcolor\": \"white\", \"linecolor\": \"white\", \"ticks\": \"\", \"title\": {\"standoff\": 15}, \"zerolinecolor\": \"white\", \"zerolinewidth\": 2}, \"yaxis\": {\"automargin\": true, \"gridcolor\": \"white\", \"linecolor\": \"white\", \"ticks\": \"\", \"title\": {\"standoff\": 15}, \"zerolinecolor\": \"white\", \"zerolinewidth\": 2}}}, \"title\": {\"font\": {\"color\": \"Dark Gray\", \"family\": \"Avenir\"}, \"text\": \"Maternal Deaths per 100,000 Births in 2015 per Country\"}, \"xaxis\": {\"anchor\": \"y\", \"domain\": [0.0, 1.0], \"title\": {\"font\": {\"family\": \"Avenir\"}, \"text\": \"Number of Maternal Deaths\"}}, \"yaxis\": {\"anchor\": \"x\", \"domain\": [0.0, 1.0], \"title\": {\"font\": {\"family\": \"Avenir\"}, \"text\": \"Country\"}}},                        {\"responsive\": true}                    ).then(function(){\n",
       "                            \n",
       "var gd = document.getElementById('60eab715-32bb-4dde-a463-49936d775d32');\n",
       "var x = new MutationObserver(function (mutations, observer) {{\n",
       "        var display = window.getComputedStyle(gd).display;\n",
       "        if (!display || display === 'none') {{\n",
       "            console.log([gd, 'removed!']);\n",
       "            Plotly.purge(gd);\n",
       "            observer.disconnect();\n",
       "        }}\n",
       "}});\n",
       "\n",
       "// Listen for the removal of the full notebook cells\n",
       "var notebookContainer = gd.closest('#notebook-container');\n",
       "if (notebookContainer) {{\n",
       "    x.observe(notebookContainer, {childList: true});\n",
       "}}\n",
       "\n",
       "// Listen for the clearing of the current output cell\n",
       "var outputEl = gd.closest('.output');\n",
       "if (outputEl) {{\n",
       "    x.observe(outputEl, {childList: true});\n",
       "}}\n",
       "\n",
       "                        })                };                });            </script>        </div>"
      ]
     },
     "metadata": {},
     "output_type": "display_data"
    }
   ],
   "source": [
    "# Apply function to create a horizontal bar plot for the values of each country\n",
    "per_country_bar_plot(df_maternal, \"2015\", \"Maternal Deaths per 100,000 Births in 2015 per Country\", \"Number of Maternal Deaths\");"
   ]
  },
  {
   "cell_type": "markdown",
   "metadata": {},
   "source": [
    "__Observations:__ As the chart shows, the countries with the lowest maternal mortality rates include European countries such as Denmark, Estonia, Sweden, Norway, and Cyprus, while those with the highest rates include some African and Caribbean countries such as Liberia, Haiti, Sierra Leone, Guinea, and Mauritania."
   ]
  },
  {
   "cell_type": "markdown",
   "metadata": {},
   "source": [
    "### How have maternal mortality rates changed over time worlwide?"
   ]
  },
  {
   "cell_type": "code",
   "execution_count": 150,
   "metadata": {
    "scrolled": true
   },
   "outputs": [
    {
     "data": {
      "text/plain": [
       "1990    162.861170\n",
       "1991    160.080638\n",
       "1992    159.107979\n",
       "1993    157.195106\n",
       "1994    156.814574\n",
       "1995    155.177553\n",
       "1996    151.488085\n",
       "1997    150.539574\n",
       "1998    149.017553\n",
       "1999    148.399894\n",
       "2000    146.444362\n",
       "2001    144.972394\n",
       "2002    143.977287\n",
       "2003    142.725532\n",
       "2004    141.646330\n",
       "2005    140.505585\n",
       "2006    137.824202\n",
       "2007    136.355160\n",
       "2008    134.348989\n",
       "2009    132.547819\n",
       "2010    129.878617\n",
       "2011    127.221649\n",
       "2012    124.313245\n",
       "2013    122.882926\n",
       "2014    121.601809\n",
       "2015    119.648830\n",
       "dtype: float64"
      ]
     },
     "execution_count": 150,
     "metadata": {},
     "output_type": "execute_result"
    }
   ],
   "source": [
    "# Calculate the maternal mortality rate mean of all countries per year\n",
    "mat_mean = df_maternal.mean()\n",
    "mat_mean"
   ]
  },
  {
   "cell_type": "code",
   "execution_count": 151,
   "metadata": {
    "scrolled": true
   },
   "outputs": [
    {
     "data": {
      "image/png": "[encoded data removed]",
      "text/plain": [
       "<Figure size 648x216 with 1 Axes>"
      ]
     },
     "metadata": {
      "needs_background": "light"
     },
     "output_type": "display_data"
    }
   ],
   "source": [
    "# Create plot with mean mortality rates\n",
    "plt.figure(figsize=(9, 3))\n",
    "plt.plot(mat_mean)\n",
    "plt.xticks(rotation=45)\n",
    "\n",
    "plt.xlabel(\"Year\")\n",
    "plt.ylabel(\"Deaths per 100,000 births\")\n",
    "plt.title(\"Worldwide maternal mortality rate from 1990 through 2015\");"
   ]
  },
  {
   "cell_type": "markdown",
   "metadata": {},
   "source": [
    "__Observations:__ According to the chart, from 1990 to 2015, the number of maternal deaths within the first year since delivery (deaths  associated with birth) has decreased consistently worldwide, from 162.86 down to 119.64. "
   ]
  },
  {
   "cell_type": "markdown",
   "metadata": {},
   "source": [
    "### How have maternal mortality rates changed in 26 years for each country?"
   ]
  },
  {
   "cell_type": "code",
   "execution_count": 152,
   "metadata": {},
   "outputs": [
    {
     "data": {
      "text/html": [
       "<div>\n",
       "<style scoped>\n",
       "    .dataframe tbody tr th:only-of-type {\n",
       "        vertical-align: middle;\n",
       "    }\n",
       "\n",
       "    .dataframe tbody tr th {\n",
       "        vertical-align: top;\n",
       "    }\n",
       "\n",
       "    .dataframe thead th {\n",
       "        text-align: right;\n",
       "    }\n",
       "</style>\n",
       "<table border=\"1\" class=\"dataframe\">\n",
       "  <thead>\n",
       "    <tr style=\"text-align: right;\">\n",
       "      <th></th>\n",
       "      <th>country</th>\n",
       "      <th>1990</th>\n",
       "      <th>1991</th>\n",
       "      <th>1992</th>\n",
       "      <th>1993</th>\n",
       "      <th>1994</th>\n",
       "      <th>1995</th>\n",
       "      <th>1996</th>\n",
       "      <th>1997</th>\n",
       "      <th>1998</th>\n",
       "      <th>...</th>\n",
       "      <th>2007</th>\n",
       "      <th>2008</th>\n",
       "      <th>2009</th>\n",
       "      <th>2010</th>\n",
       "      <th>2011</th>\n",
       "      <th>2012</th>\n",
       "      <th>2013</th>\n",
       "      <th>2014</th>\n",
       "      <th>2015</th>\n",
       "      <th>difference</th>\n",
       "    </tr>\n",
       "  </thead>\n",
       "  <tbody>\n",
       "    <tr>\n",
       "      <th>0</th>\n",
       "      <td>Afghanistan</td>\n",
       "      <td>496.0</td>\n",
       "      <td>468.0</td>\n",
       "      <td>442.0</td>\n",
       "      <td>434.0</td>\n",
       "      <td>435.0</td>\n",
       "      <td>437.0</td>\n",
       "      <td>441.0</td>\n",
       "      <td>448.0</td>\n",
       "      <td>456.0</td>\n",
       "      <td>...</td>\n",
       "      <td>458.0</td>\n",
       "      <td>450.0</td>\n",
       "      <td>438.00</td>\n",
       "      <td>417.00</td>\n",
       "      <td>396.00</td>\n",
       "      <td>373.00</td>\n",
       "      <td>353.00</td>\n",
       "      <td>335.00</td>\n",
       "      <td>318.00</td>\n",
       "      <td>-178.00</td>\n",
       "    </tr>\n",
       "    <tr>\n",
       "      <th>1</th>\n",
       "      <td>Albania</td>\n",
       "      <td>28.5</td>\n",
       "      <td>27.0</td>\n",
       "      <td>23.4</td>\n",
       "      <td>20.4</td>\n",
       "      <td>17.3</td>\n",
       "      <td>16.4</td>\n",
       "      <td>15.3</td>\n",
       "      <td>13.8</td>\n",
       "      <td>12.3</td>\n",
       "      <td>...</td>\n",
       "      <td>10.8</td>\n",
       "      <td>10.5</td>\n",
       "      <td>9.67</td>\n",
       "      <td>9.13</td>\n",
       "      <td>8.76</td>\n",
       "      <td>8.47</td>\n",
       "      <td>8.26</td>\n",
       "      <td>7.98</td>\n",
       "      <td>7.75</td>\n",
       "      <td>-20.75</td>\n",
       "    </tr>\n",
       "    <tr>\n",
       "      <th>2</th>\n",
       "      <td>Algeria</td>\n",
       "      <td>210.0</td>\n",
       "      <td>200.0</td>\n",
       "      <td>194.0</td>\n",
       "      <td>189.0</td>\n",
       "      <td>183.0</td>\n",
       "      <td>177.0</td>\n",
       "      <td>170.0</td>\n",
       "      <td>162.0</td>\n",
       "      <td>152.0</td>\n",
       "      <td>...</td>\n",
       "      <td>104.0</td>\n",
       "      <td>100.0</td>\n",
       "      <td>96.50</td>\n",
       "      <td>91.20</td>\n",
       "      <td>86.70</td>\n",
       "      <td>82.10</td>\n",
       "      <td>78.40</td>\n",
       "      <td>75.00</td>\n",
       "      <td>75.30</td>\n",
       "      <td>-134.70</td>\n",
       "    </tr>\n",
       "    <tr>\n",
       "      <th>3</th>\n",
       "      <td>Angola</td>\n",
       "      <td>322.0</td>\n",
       "      <td>315.0</td>\n",
       "      <td>311.0</td>\n",
       "      <td>317.0</td>\n",
       "      <td>320.0</td>\n",
       "      <td>307.0</td>\n",
       "      <td>278.0</td>\n",
       "      <td>267.0</td>\n",
       "      <td>278.0</td>\n",
       "      <td>...</td>\n",
       "      <td>254.0</td>\n",
       "      <td>246.0</td>\n",
       "      <td>244.00</td>\n",
       "      <td>238.00</td>\n",
       "      <td>233.00</td>\n",
       "      <td>227.00</td>\n",
       "      <td>219.00</td>\n",
       "      <td>211.00</td>\n",
       "      <td>205.00</td>\n",
       "      <td>-117.00</td>\n",
       "    </tr>\n",
       "    <tr>\n",
       "      <th>4</th>\n",
       "      <td>Antigua and Barbuda</td>\n",
       "      <td>30.8</td>\n",
       "      <td>28.9</td>\n",
       "      <td>28.0</td>\n",
       "      <td>23.6</td>\n",
       "      <td>25.7</td>\n",
       "      <td>26.1</td>\n",
       "      <td>22.4</td>\n",
       "      <td>25.9</td>\n",
       "      <td>25.3</td>\n",
       "      <td>...</td>\n",
       "      <td>32.4</td>\n",
       "      <td>35.3</td>\n",
       "      <td>33.90</td>\n",
       "      <td>36.20</td>\n",
       "      <td>37.90</td>\n",
       "      <td>41.50</td>\n",
       "      <td>42.40</td>\n",
       "      <td>39.80</td>\n",
       "      <td>45.80</td>\n",
       "      <td>15.00</td>\n",
       "    </tr>\n",
       "  </tbody>\n",
       "</table>\n",
       "<p>5 rows × 28 columns</p>\n",
       "</div>"
      ],
      "text/plain": [
       "               country   1990   1991   1992   1993   1994   1995   1996  \\\n",
       "0          Afghanistan  496.0  468.0  442.0  434.0  435.0  437.0  441.0   \n",
       "1              Albania   28.5   27.0   23.4   20.4   17.3   16.4   15.3   \n",
       "2              Algeria  210.0  200.0  194.0  189.0  183.0  177.0  170.0   \n",
       "3               Angola  322.0  315.0  311.0  317.0  320.0  307.0  278.0   \n",
       "4  Antigua and Barbuda   30.8   28.9   28.0   23.6   25.7   26.1   22.4   \n",
       "\n",
       "    1997   1998  ...   2007   2008    2009    2010    2011    2012    2013  \\\n",
       "0  448.0  456.0  ...  458.0  450.0  438.00  417.00  396.00  373.00  353.00   \n",
       "1   13.8   12.3  ...   10.8   10.5    9.67    9.13    8.76    8.47    8.26   \n",
       "2  162.0  152.0  ...  104.0  100.0   96.50   91.20   86.70   82.10   78.40   \n",
       "3  267.0  278.0  ...  254.0  246.0  244.00  238.00  233.00  227.00  219.00   \n",
       "4   25.9   25.3  ...   32.4   35.3   33.90   36.20   37.90   41.50   42.40   \n",
       "\n",
       "     2014    2015  difference  \n",
       "0  335.00  318.00     -178.00  \n",
       "1    7.98    7.75      -20.75  \n",
       "2   75.00   75.30     -134.70  \n",
       "3  211.00  205.00     -117.00  \n",
       "4   39.80   45.80       15.00  \n",
       "\n",
       "[5 rows x 28 columns]"
      ]
     },
     "execution_count": 152,
     "metadata": {},
     "output_type": "execute_result"
    }
   ],
   "source": [
    "# Create a new column in the dataset with the mortality rate difference between 1990 and 2015.\n",
    "df_maternal[\"difference\"] = df_maternal[\"2015\"] - df_maternal[\"1990\"]\n",
    "df_maternal.head()"
   ]
  },
  {
   "cell_type": "code",
   "execution_count": 153,
   "metadata": {},
   "outputs": [
    {
     "data": {
      "text/plain": [
       "-43.212340425531906"
      ]
     },
     "execution_count": 153,
     "metadata": {},
     "output_type": "execute_result"
    }
   ],
   "source": [
    "# Mean of the difference in maternal mortality rates between 1990 and 2015\n",
    "df_maternal[\"difference\"].mean()"
   ]
  },
  {
   "cell_type": "code",
   "execution_count": 154,
   "metadata": {
    "scrolled": false
   },
   "outputs": [
    {
     "data": {
      "image/png": "[encoded data removed]",
      "text/plain": [
       "<Figure size 432x288 with 1 Axes>"
      ]
     },
     "metadata": {
      "needs_background": "light"
     },
     "output_type": "display_data"
    }
   ],
   "source": [
    "# Distribution of difference means per country.\n",
    "df_maternal[\"difference\"].hist()\n",
    "plt.grid(False)\n",
    "plt.title(\"Distribution of the Difference between Maternal Deaths in 1990 and in 2015 per Country\")\n",
    "plt.xlabel(\"Difference between maternal deaths in 1990 and in 2015\")\n",
    "plt.ylabel(\"Number of countries\");"
   ]
  },
  {
   "cell_type": "markdown",
   "metadata": {},
   "source": [
    "> According to the analysis, the mean of the difference between rates in 1990 and 2015 is -43.21. This means that worldwide, in average, we have decreased maternal mortality rates by more than 40 deaths a year. The histogram suggests that some countries have considerably decreased their rates (minus 200, 300 or 400 deaths a year), although some contries have increased their rate, as well. Let's see which countries are these in the following section."
   ]
  },
  {
   "cell_type": "markdown",
   "metadata": {},
   "source": [
    "### Which countries have increased/decreased their maternal mortality rates the most?"
   ]
  },
  {
   "cell_type": "code",
   "execution_count": 155,
   "metadata": {},
   "outputs": [],
   "source": [
    "# Create a function for a horizontal bar plot that shows the values in the \"difference\" column in the data frames, \n",
    "# per country\n",
    "def diff_per_country_bar_plot(df, plot_title):\n",
    "    sorted_df = df.sort_values(\"difference\")\n",
    "    fig = px.bar(sorted_df, x='difference', y='country', hover_data={\"difference\":\":.2f\"}, height=3500,\n",
    "             title= plot_title)\n",
    "\n",
    "    fig.update_layout(\n",
    "        font_family=\"Avenir\",\n",
    "        font_color=\"Black\",\n",
    "        title_font_family=\"Avenir\",\n",
    "        title_font_color=\"Dark Gray\",\n",
    "        font_size= 14,\n",
    "        legend_title_font_color=\"Black\"\n",
    "    )\n",
    "\n",
    "    fig.update_xaxes(title= \"Change in Number of Deaths\", title_font_family=\"Avenir\")\n",
    "    fig.update_yaxes(title= \"Country\", title_font_family=\"Avenir\")\n",
    "    fig.show()"
   ]
  },
  {
   "cell_type": "code",
   "execution_count": 156,
   "metadata": {},
   "outputs": [
    {
     "data": {
      "application/vnd.plotly.v1+json": {
       "config": {
        "plotlyServerURL": "https://plot.ly"
       },
       "data": [
        {
         "alignmentgroup": "True",
         "customdata": [
          [
           -402
          ],
          [
           -370
          ],
          [
           -298
          ],
          [
           -277
          ],
          [
           -254
          ],
          [
           -246
          ],
          [
           -241
          ],
          [
           -234
          ],
          [
           -231
          ],
          [
           -230
          ],
          [
           -223
          ],
          [
           -212
          ],
          [
           -178
          ],
          [
           -178
          ],
          [
           -173
          ],
          [
           -157
          ],
          [
           -155
          ],
          [
           -153
          ],
          [
           -152
          ],
          [
           -151
          ],
          [
           -149.1
          ],
          [
           -143
          ],
          [
           -140.8
          ],
          [
           -134.7
          ],
          [
           -119.4
          ],
          [
           -117
          ],
          [
           -113
          ],
          [
           -111
          ],
          [
           -109
          ],
          [
           -108
          ],
          [
           -106
          ],
          [
           -101
          ],
          [
           -94
          ],
          [
           -80
          ],
          [
           -79
          ],
          [
           -76
          ],
          [
           -75
          ],
          [
           -74
          ],
          [
           -73
          ],
          [
           -72
          ],
          [
           -70
          ],
          [
           -67.7
          ],
          [
           -66
          ],
          [
           -65.7
          ],
          [
           -65.2
          ],
          [
           -65
          ],
          [
           -63
          ],
          [
           -62.49999999999999
          ],
          [
           -62.4
          ],
          [
           -59.00000000000001
          ],
          [
           -57.10000000000001
          ],
          [
           -53.99999999999999
          ],
          [
           -53.199999999999996
          ],
          [
           -52
          ],
          [
           -50
          ],
          [
           -49.4
          ],
          [
           -49
          ],
          [
           -49
          ],
          [
           -48.2
          ],
          [
           -48
          ],
          [
           -46.699999999999996
          ],
          [
           -46
          ],
          [
           -45.7
          ],
          [
           -45.599999999999994
          ],
          [
           -45.5
          ],
          [
           -44
          ],
          [
           -42
          ],
          [
           -39.00000000000001
          ],
          [
           -39
          ],
          [
           -38.599999999999994
          ],
          [
           -38.2
          ],
          [
           -37.9
          ],
          [
           -37.7
          ],
          [
           -37.099999999999994
          ],
          [
           -37
          ],
          [
           -33.9
          ],
          [
           -33
          ],
          [
           -33
          ],
          [
           -32.099999999999994
          ],
          [
           -31.400000000000002
          ],
          [
           -30.599999999999994
          ],
          [
           -28.4
          ],
          [
           -27
          ],
          [
           -26.1
          ],
          [
           -26
          ],
          [
           -24.5
          ],
          [
           -24.5
          ],
          [
           -23.7
          ],
          [
           -23.699999999999996
          ],
          [
           -23.300000000000004
          ],
          [
           -21.6
          ],
          [
           -21.599999999999994
          ],
          [
           -20.75
          ],
          [
           -20
          ],
          [
           -19.94
          ],
          [
           -19.699999999999996
          ],
          [
           -19.5
          ],
          [
           -18.199999999999996
          ],
          [
           -18.099999999999994
          ],
          [
           -16.800000000000004
          ],
          [
           -16.799999999999997
          ],
          [
           -16.6
          ],
          [
           -15.779999999999998
          ],
          [
           -15.479999999999999
          ],
          [
           -14
          ],
          [
           -13.200000000000001
          ],
          [
           -12.300000000000004
          ],
          [
           -11.91
          ],
          [
           -10.2
          ],
          [
           -10
          ],
          [
           -9.7
          ],
          [
           -9.69
          ],
          [
           -9.5
          ],
          [
           -9.2
          ],
          [
           -8.489999999999998
          ],
          [
           -8.04
          ],
          [
           -7.619999999999999
          ],
          [
           -7.5
          ],
          [
           -7.419999999999999
          ],
          [
           -7.100000000000001
          ],
          [
           -6.670000000000001
          ],
          [
           -6.630000000000001
          ],
          [
           -6.470000000000001
          ],
          [
           -5.96
          ],
          [
           -5.800000000000001
          ],
          [
           -5.100000000000001
          ],
          [
           -5
          ],
          [
           -4.86
          ],
          [
           -4.790000000000001
          ],
          [
           -4
          ],
          [
           -4
          ],
          [
           -3.79
          ],
          [
           -3.4199999999999995
          ],
          [
           -3.3899999999999997
          ],
          [
           -3.1800000000000006
          ],
          [
           -2.8100000000000005
          ],
          [
           -2.799999999999999
          ],
          [
           -2.7899999999999996
          ],
          [
           -2.65
          ],
          [
           -2.2899999999999996
          ],
          [
           -2.1899999999999995
          ],
          [
           -1.7099999999999995
          ],
          [
           -0.3699999999999992
          ],
          [
           -0.3100000000000005
          ],
          [
           -0.3000000000000007
          ],
          [
           0
          ],
          [
           0
          ],
          [
           0.09999999999999964
          ],
          [
           0.7600000000000007
          ],
          [
           0.7999999999999972
          ],
          [
           1
          ],
          [
           1.7999999999999972
          ],
          [
           2
          ],
          [
           3.12
          ],
          [
           3.3999999999999986
          ],
          [
           3.6999999999999993
          ],
          [
           4.800000000000004
          ],
          [
           5.899999999999999
          ],
          [
           7.700000000000003
          ],
          [
           8
          ],
          [
           9
          ],
          [
           9.299999999999997
          ],
          [
           10
          ],
          [
           11.200000000000003
          ],
          [
           12.199999999999996
          ],
          [
           14.999999999999996
          ],
          [
           15.2
          ],
          [
           16
          ],
          [
           16
          ],
          [
           26
          ],
          [
           27
          ],
          [
           27.10000000000001
          ],
          [
           29
          ],
          [
           33.2
          ],
          [
           34.7
          ],
          [
           37.400000000000006
          ],
          [
           39.60000000000001
          ],
          [
           42.4
          ],
          [
           43
          ],
          [
           43
          ],
          [
           51.3
          ],
          [
           51.8
          ],
          [
           53.5
          ],
          [
           55.7
          ],
          [
           75
          ],
          [
           94
          ],
          [
           101
          ],
          [
           150
          ]
         ],
         "hovertemplate": "difference=%{customdata[0]:.2f}<br>country=%{y}<extra></extra>",
         "legendgroup": "",
         "marker": {
          "color": "#636efa"
         },
         "name": "",
         "offsetgroup": "",
         "orientation": "h",
         "showlegend": false,
         "textposition": "auto",
         "type": "bar",
         "x": [
          -402,
          -370,
          -298,
          -277,
          -254,
          -246,
          -241,
          -234,
          -231,
          -230,
          -223,
          -212,
          -178,
          -178,
          -173,
          -157,
          -155,
          -153,
          -152,
          -151,
          -149.1,
          -143,
          -140.8,
          -134.7,
          -119.4,
          -117,
          -113,
          -111,
          -109,
          -108,
          -106,
          -101,
          -94,
          -80,
          -79,
          -76,
          -75,
          -74,
          -73,
          -72,
          -70,
          -67.7,
          -66,
          -65.7,
          -65.2,
          -65,
          -63,
          -62.49999999999999,
          -62.4,
          -59.00000000000001,
          -57.10000000000001,
          -53.99999999999999,
          -53.199999999999996,
          -52,
          -50,
          -49.4,
          -49,
          -49,
          -48.2,
          -48,
          -46.699999999999996,
          -46,
          -45.7,
          -45.599999999999994,
          -45.5,
          -44,
          -42,
          -39.00000000000001,
          -39,
          -38.599999999999994,
          -38.2,
          -37.9,
          -37.7,
          -37.099999999999994,
          -37,
          -33.9,
          -33,
          -33,
          -32.099999999999994,
          -31.400000000000002,
          -30.599999999999994,
          -28.4,
          -27,
          -26.1,
          -26,
          -24.5,
          -24.5,
          -23.7,
          -23.699999999999996,
          -23.300000000000004,
          -21.6,
          -21.599999999999994,
          -20.75,
          -20,
          -19.94,
          -19.699999999999996,
          -19.5,
          -18.199999999999996,
          -18.099999999999994,
          -16.800000000000004,
          -16.799999999999997,
          -16.6,
          -15.779999999999998,
          -15.479999999999999,
          -14,
          -13.200000000000001,
          -12.300000000000004,
          -11.91,
          -10.2,
          -10,
          -9.7,
          -9.69,
          -9.5,
          -9.2,
          -8.489999999999998,
          -8.04,
          -7.619999999999999,
          -7.5,
          -7.419999999999999,
          -7.100000000000001,
          -6.670000000000001,
          -6.630000000000001,
          -6.470000000000001,
          -5.96,
          -5.800000000000001,
          -5.100000000000001,
          -5,
          -4.86,
          -4.790000000000001,
          -4,
          -4,
          -3.79,
          -3.4199999999999995,
          -3.3899999999999997,
          -3.1800000000000006,
          -2.8100000000000005,
          -2.799999999999999,
          -2.7899999999999996,
          -2.65,
          -2.2899999999999996,
          -2.1899999999999995,
          -1.7099999999999995,
          -0.3699999999999992,
          -0.3100000000000005,
          -0.3000000000000007,
          0,
          0,
          0.09999999999999964,
          0.7600000000000007,
          0.7999999999999972,
          1,
          1.7999999999999972,
          2,
          3.12,
          3.3999999999999986,
          3.6999999999999993,
          4.800000000000004,
          5.899999999999999,
          7.700000000000003,
          8,
          9,
          9.299999999999997,
          10,
          11.200000000000003,
          12.199999999999996,
          14.999999999999996,
          15.2,
          16,
          16,
          26,
          27,
          27.10000000000001,
          29,
          33.2,
          34.7,
          37.400000000000006,
          39.60000000000001,
          42.4,
          43,
          43,
          51.3,
          51.8,
          53.5,
          55.7,
          75,
          94,
          101,
          150
         ],
         "xaxis": "x",
         "y": [
          "Ethiopia",
          "Lao",
          "Mauritania",
          "Maldives",
          "Timor-Leste",
          "Equatorial Guinea",
          "Bangladesh",
          "Indonesia",
          "Rwanda",
          "Cambodia",
          "India",
          "Morocco",
          "Nepal",
          "Afghanistan",
          "Burundi",
          "Benin",
          "Guinea-Bissau",
          "Bhutan",
          "Mali",
          "Honduras",
          "Peru",
          "South Africa",
          "El Salvador",
          "Algeria",
          "Mongolia",
          "Angola",
          "Bolivia",
          "Somalia",
          "Togo",
          "Zambia",
          "St. Kitts and Nevis",
          "Tuvalu",
          "Kiribati",
          "Guatemala",
          "Eritrea",
          "Sudan",
          "Malawi",
          "Madagascar",
          "Namibia",
          "Mozambique",
          "Guinea",
          "North Korea",
          "Papua New Guinea",
          "Cape Verde",
          "Egypt",
          "South Sudan",
          "Yemen",
          "Jordan",
          "Syria",
          "Turkey",
          "China",
          "Romania",
          "Sri Lanka",
          "Gabon",
          "Niger",
          "Samoa",
          "Tanzania",
          "Micronesia, Fed. Sts.",
          "Paraguay",
          "Central African Republic",
          "Qatar",
          "Kazakhstan",
          "Tajikistan",
          "Brazil",
          "Malaysia",
          "Cameroon",
          "Comoros",
          "Seychelles",
          "Botswana",
          "Tunisia",
          "Ecuador",
          "Nicaragua",
          "Russia",
          "Oman",
          "Ghana",
          "Estonia",
          "Liberia",
          "Burkina Faso",
          "Iraq",
          "Vietnam",
          "Philippines",
          "Thailand",
          "Eswatini",
          "Iran",
          "Sao Tome and Principe",
          "Fiji",
          "Chile",
          "Bulgaria",
          "Lebanon",
          "Mexico",
          "Trinidad and Tobago",
          "Kyrgyz Republic",
          "Albania",
          "Nigeria",
          "Bosnia and Herzegovina",
          "Mauritius",
          "Armenia",
          "Palestine",
          "Tonga",
          "Azerbaijan",
          "Ukraine",
          "Moldova",
          "Poland",
          "Lithuania",
          "Brunei",
          "Belarus",
          "Argentina",
          "Czech Republic",
          "South Korea",
          "Congo, Rep.",
          "Serbia",
          "Cyprus",
          "Japan",
          "North Macedonia",
          "Slovak Republic",
          "France",
          "Germany",
          "United Arab Emirates",
          "Croatia",
          "Hungary",
          "Portugal",
          "Netherlands",
          "Luxembourg",
          "Israel",
          "Uzbekistan",
          "Uruguay",
          "Saudi Arabia",
          "United Kingdom",
          "Italy",
          "Myanmar",
          "Norway",
          "Australia",
          "Singapore",
          "Denmark",
          "Austria",
          "Belgium",
          "Malta",
          "Finland",
          "Sweden",
          "Iceland",
          "Montenegro",
          "Ireland",
          "Slovenia",
          "Kuwait",
          "Latvia",
          "Gambia",
          "Djibouti",
          "New Zealand",
          "Switzerland",
          "Cuba",
          "Cote d'Ivoire",
          "Colombia",
          "Nauru",
          "Canada",
          "Bahrain",
          "Libya",
          "Turkmenistan",
          "Costa Rica",
          "Vanuatu",
          "Palau",
          "Solomon Islands",
          "Panama",
          "Chad",
          "Georgia",
          "Barbados",
          "Antigua and Barbuda",
          "United States",
          "Pakistan",
          "Haiti",
          "Kenya",
          "Senegal",
          "Grenada",
          "Marshall Islands",
          "Dominican Republic",
          "Bahamas",
          "Suriname",
          "St. Vincent and the Grenadines",
          "Jamaica",
          "Uganda",
          "Guyana",
          "St. Lucia",
          "Dominica",
          "Belize",
          "Venezuela",
          "Zimbabwe",
          "Congo, Dem. Rep.",
          "Sierra Leone",
          "Lesotho"
         ],
         "yaxis": "y"
        }
       ],
       "layout": {
        "barmode": "relative",
        "font": {
         "color": "Black",
         "family": "Avenir",
         "size": 14
        },
        "height": 3500,
        "legend": {
         "title": {
          "font": {
           "color": "Black"
          }
         },
         "tracegroupgap": 0
        },
        "template": {
         "data": {
          "bar": [
           {
            "error_x": {
             "color": "#2a3f5f"
            },
            "error_y": {
             "color": "#2a3f5f"
            },
            "marker": {
             "line": {
              "color": "#E5ECF6",
              "width": 0.5
             }
            },
            "type": "bar"
           }
          ],
          "barpolar": [
           {
            "marker": {
             "line": {
              "color": "#E5ECF6",
              "width": 0.5
             }
            },
            "type": "barpolar"
           }
          ],
          "carpet": [
           {
            "aaxis": {
             "endlinecolor": "#2a3f5f",
             "gridcolor": "white",
             "linecolor": "white",
             "minorgridcolor": "white",
             "startlinecolor": "#2a3f5f"
            },
            "baxis": {
             "endlinecolor": "#2a3f5f",
             "gridcolor": "white",
             "linecolor": "white",
             "minorgridcolor": "white",
             "startlinecolor": "#2a3f5f"
            },
            "type": "carpet"
           }
          ],
          "choropleth": [
           {
            "colorbar": {
             "outlinewidth": 0,
             "ticks": ""
            },
            "type": "choropleth"
           }
          ],
          "contour": [
           {
            "colorbar": {
             "outlinewidth": 0,
             "ticks": ""
            },
            "colorscale": [
             [
              0,
              "#0d0887"
             ],
             [
              0.1111111111111111,
              "#46039f"
             ],
             [
              0.2222222222222222,
              "#7201a8"
             ],
             [
              0.3333333333333333,
              "#9c179e"
             ],
             [
              0.4444444444444444,
              "#bd3786"
             ],
             [
              0.5555555555555556,
              "#d8576b"
             ],
             [
              0.6666666666666666,
              "#ed7953"
             ],
             [
              0.7777777777777778,
              "#fb9f3a"
             ],
             [
              0.8888888888888888,
              "#fdca26"
             ],
             [
              1,
              "#f0f921"
             ]
            ],
            "type": "contour"
           }
          ],
          "contourcarpet": [
           {
            "colorbar": {
             "outlinewidth": 0,
             "ticks": ""
            },
            "type": "contourcarpet"
           }
          ],
          "heatmap": [
           {
            "colorbar": {
             "outlinewidth": 0,
             "ticks": ""
            },
            "colorscale": [
             [
              0,
              "#0d0887"
             ],
             [
              0.1111111111111111,
              "#46039f"
             ],
             [
              0.2222222222222222,
              "#7201a8"
             ],
             [
              0.3333333333333333,
              "#9c179e"
             ],
             [
              0.4444444444444444,
              "#bd3786"
             ],
             [
              0.5555555555555556,
              "#d8576b"
             ],
             [
              0.6666666666666666,
              "#ed7953"
             ],
             [
              0.7777777777777778,
              "#fb9f3a"
             ],
             [
              0.8888888888888888,
              "#fdca26"
             ],
             [
              1,
              "#f0f921"
             ]
            ],
            "type": "heatmap"
           }
          ],
          "heatmapgl": [
           {
            "colorbar": {
             "outlinewidth": 0,
             "ticks": ""
            },
            "colorscale": [
             [
              0,
              "#0d0887"
             ],
             [
              0.1111111111111111,
              "#46039f"
             ],
             [
              0.2222222222222222,
              "#7201a8"
             ],
             [
              0.3333333333333333,
              "#9c179e"
             ],
             [
              0.4444444444444444,
              "#bd3786"
             ],
             [
              0.5555555555555556,
              "#d8576b"
             ],
             [
              0.6666666666666666,
              "#ed7953"
             ],
             [
              0.7777777777777778,
              "#fb9f3a"
             ],
             [
              0.8888888888888888,
              "#fdca26"
             ],
             [
              1,
              "#f0f921"
             ]
            ],
            "type": "heatmapgl"
           }
          ],
          "histogram": [
           {
            "marker": {
             "colorbar": {
              "outlinewidth": 0,
              "ticks": ""
             }
            },
            "type": "histogram"
           }
          ],
          "histogram2d": [
           {
            "colorbar": {
             "outlinewidth": 0,
             "ticks": ""
            },
            "colorscale": [
             [
              0,
              "#0d0887"
             ],
             [
              0.1111111111111111,
              "#46039f"
             ],
             [
              0.2222222222222222,
              "#7201a8"
             ],
             [
              0.3333333333333333,
              "#9c179e"
             ],
             [
              0.4444444444444444,
              "#bd3786"
             ],
             [
              0.5555555555555556,
              "#d8576b"
             ],
             [
              0.6666666666666666,
              "#ed7953"
             ],
             [
              0.7777777777777778,
              "#fb9f3a"
             ],
             [
              0.8888888888888888,
              "#fdca26"
             ],
             [
              1,
              "#f0f921"
             ]
            ],
            "type": "histogram2d"
           }
          ],
          "histogram2dcontour": [
           {
            "colorbar": {
             "outlinewidth": 0,
             "ticks": ""
            },
            "colorscale": [
             [
              0,
              "#0d0887"
             ],
             [
              0.1111111111111111,
              "#46039f"
             ],
             [
              0.2222222222222222,
              "#7201a8"
             ],
             [
              0.3333333333333333,
              "#9c179e"
             ],
             [
              0.4444444444444444,
              "#bd3786"
             ],
             [
              0.5555555555555556,
              "#d8576b"
             ],
             [
              0.6666666666666666,
              "#ed7953"
             ],
             [
              0.7777777777777778,
              "#fb9f3a"
             ],
             [
              0.8888888888888888,
              "#fdca26"
             ],
             [
              1,
              "#f0f921"
             ]
            ],
            "type": "histogram2dcontour"
           }
          ],
          "mesh3d": [
           {
            "colorbar": {
             "outlinewidth": 0,
             "ticks": ""
            },
            "type": "mesh3d"
           }
          ],
          "parcoords": [
           {
            "line": {
             "colorbar": {
              "outlinewidth": 0,
              "ticks": ""
             }
            },
            "type": "parcoords"
           }
          ],
          "pie": [
           {
            "automargin": true,
            "type": "pie"
           }
          ],
          "scatter": [
           {
            "marker": {
             "colorbar": {
              "outlinewidth": 0,
              "ticks": ""
             }
            },
            "type": "scatter"
           }
          ],
          "scatter3d": [
           {
            "line": {
             "colorbar": {
              "outlinewidth": 0,
              "ticks": ""
             }
            },
            "marker": {
             "colorbar": {
              "outlinewidth": 0,
              "ticks": ""
             }
            },
            "type": "scatter3d"
           }
          ],
          "scattercarpet": [
           {
            "marker": {
             "colorbar": {
              "outlinewidth": 0,
              "ticks": ""
             }
            },
            "type": "scattercarpet"
           }
          ],
          "scattergeo": [
           {
            "marker": {
             "colorbar": {
              "outlinewidth": 0,
              "ticks": ""
             }
            },
            "type": "scattergeo"
           }
          ],
          "scattergl": [
           {
            "marker": {
             "colorbar": {
              "outlinewidth": 0,
              "ticks": ""
             }
            },
            "type": "scattergl"
           }
          ],
          "scattermapbox": [
           {
            "marker": {
             "colorbar": {
              "outlinewidth": 0,
              "ticks": ""
             }
            },
            "type": "scattermapbox"
           }
          ],
          "scatterpolar": [
           {
            "marker": {
             "colorbar": {
              "outlinewidth": 0,
              "ticks": ""
             }
            },
            "type": "scatterpolar"
           }
          ],
          "scatterpolargl": [
           {
            "marker": {
             "colorbar": {
              "outlinewidth": 0,
              "ticks": ""
             }
            },
            "type": "scatterpolargl"
           }
          ],
          "scatterternary": [
           {
            "marker": {
             "colorbar": {
              "outlinewidth": 0,
              "ticks": ""
             }
            },
            "type": "scatterternary"
           }
          ],
          "surface": [
           {
            "colorbar": {
             "outlinewidth": 0,
             "ticks": ""
            },
            "colorscale": [
             [
              0,
              "#0d0887"
             ],
             [
              0.1111111111111111,
              "#46039f"
             ],
             [
              0.2222222222222222,
              "#7201a8"
             ],
             [
              0.3333333333333333,
              "#9c179e"
             ],
             [
              0.4444444444444444,
              "#bd3786"
             ],
             [
              0.5555555555555556,
              "#d8576b"
             ],
             [
              0.6666666666666666,
              "#ed7953"
             ],
             [
              0.7777777777777778,
              "#fb9f3a"
             ],
             [
              0.8888888888888888,
              "#fdca26"
             ],
             [
              1,
              "#f0f921"
             ]
            ],
            "type": "surface"
           }
          ],
          "table": [
           {
            "cells": {
             "fill": {
              "color": "#EBF0F8"
             },
             "line": {
              "color": "white"
             }
            },
            "header": {
             "fill": {
              "color": "#C8D4E3"
             },
             "line": {
              "color": "white"
             }
            },
            "type": "table"
           }
          ]
         },
         "layout": {
          "annotationdefaults": {
           "arrowcolor": "#2a3f5f",
           "arrowhead": 0,
           "arrowwidth": 1
          },
          "coloraxis": {
           "colorbar": {
            "outlinewidth": 0,
            "ticks": ""
           }
          },
          "colorscale": {
           "diverging": [
            [
             0,
             "#8e0152"
            ],
            [
             0.1,
             "#c51b7d"
            ],
            [
             0.2,
             "#de77ae"
            ],
            [
             0.3,
             "#f1b6da"
            ],
            [
             0.4,
             "#fde0ef"
            ],
            [
             0.5,
             "#f7f7f7"
            ],
            [
             0.6,
             "#e6f5d0"
            ],
            [
             0.7,
             "#b8e186"
            ],
            [
             0.8,
             "#7fbc41"
            ],
            [
             0.9,
             "#4d9221"
            ],
            [
             1,
             "#276419"
            ]
           ],
           "sequential": [
            [
             0,
             "#0d0887"
            ],
            [
             0.1111111111111111,
             "#46039f"
            ],
            [
             0.2222222222222222,
             "#7201a8"
            ],
            [
             0.3333333333333333,
             "#9c179e"
            ],
            [
             0.4444444444444444,
             "#bd3786"
            ],
            [
             0.5555555555555556,
             "#d8576b"
            ],
            [
             0.6666666666666666,
             "#ed7953"
            ],
            [
             0.7777777777777778,
             "#fb9f3a"
            ],
            [
             0.8888888888888888,
             "#fdca26"
            ],
            [
             1,
             "#f0f921"
            ]
           ],
           "sequentialminus": [
            [
             0,
             "#0d0887"
            ],
            [
             0.1111111111111111,
             "#46039f"
            ],
            [
             0.2222222222222222,
             "#7201a8"
            ],
            [
             0.3333333333333333,
             "#9c179e"
            ],
            [
             0.4444444444444444,
             "#bd3786"
            ],
            [
             0.5555555555555556,
             "#d8576b"
            ],
            [
             0.6666666666666666,
             "#ed7953"
            ],
            [
             0.7777777777777778,
             "#fb9f3a"
            ],
            [
             0.8888888888888888,
             "#fdca26"
            ],
            [
             1,
             "#f0f921"
            ]
           ]
          },
          "colorway": [
           "#636efa",
           "#EF553B",
           "#00cc96",
           "#ab63fa",
           "#FFA15A",
           "#19d3f3",
           "#FF6692",
           "#B6E880",
           "#FF97FF",
           "#FECB52"
          ],
          "font": {
           "color": "#2a3f5f"
          },
          "geo": {
           "bgcolor": "white",
           "lakecolor": "white",
           "landcolor": "#E5ECF6",
           "showlakes": true,
           "showland": true,
           "subunitcolor": "white"
          },
          "hoverlabel": {
           "align": "left"
          },
          "hovermode": "closest",
          "mapbox": {
           "style": "light"
          },
          "paper_bgcolor": "white",
          "plot_bgcolor": "#E5ECF6",
          "polar": {
           "angularaxis": {
            "gridcolor": "white",
            "linecolor": "white",
            "ticks": ""
           },
           "bgcolor": "#E5ECF6",
           "radialaxis": {
            "gridcolor": "white",
            "linecolor": "white",
            "ticks": ""
           }
          },
          "scene": {
           "xaxis": {
            "backgroundcolor": "#E5ECF6",
            "gridcolor": "white",
            "gridwidth": 2,
            "linecolor": "white",
            "showbackground": true,
            "ticks": "",
            "zerolinecolor": "white"
           },
           "yaxis": {
            "backgroundcolor": "#E5ECF6",
            "gridcolor": "white",
            "gridwidth": 2,
            "linecolor": "white",
            "showbackground": true,
            "ticks": "",
            "zerolinecolor": "white"
           },
           "zaxis": {
            "backgroundcolor": "#E5ECF6",
            "gridcolor": "white",
            "gridwidth": 2,
            "linecolor": "white",
            "showbackground": true,
            "ticks": "",
            "zerolinecolor": "white"
           }
          },
          "shapedefaults": {
           "line": {
            "color": "#2a3f5f"
           }
          },
          "ternary": {
           "aaxis": {
            "gridcolor": "white",
            "linecolor": "white",
            "ticks": ""
           },
           "baxis": {
            "gridcolor": "white",
            "linecolor": "white",
            "ticks": ""
           },
           "bgcolor": "#E5ECF6",
           "caxis": {
            "gridcolor": "white",
            "linecolor": "white",
            "ticks": ""
           }
          },
          "title": {
           "x": 0.05
          },
          "xaxis": {
           "automargin": true,
           "gridcolor": "white",
           "linecolor": "white",
           "ticks": "",
           "title": {
            "standoff": 15
           },
           "zerolinecolor": "white",
           "zerolinewidth": 2
          },
          "yaxis": {
           "automargin": true,
           "gridcolor": "white",
           "linecolor": "white",
           "ticks": "",
           "title": {
            "standoff": 15
           },
           "zerolinecolor": "white",
           "zerolinewidth": 2
          }
         }
        },
        "title": {
         "font": {
          "color": "Dark Gray",
          "family": "Avenir"
         },
         "text": "Changes in Maternal Deaths per 100,000 Births from 1990 to 2015 per Country"
        },
        "xaxis": {
         "anchor": "y",
         "domain": [
          0,
          1
         ],
         "title": {
          "font": {
           "family": "Avenir"
          },
          "text": "Change in Number of Deaths"
         }
        },
        "yaxis": {
         "anchor": "x",
         "domain": [
          0,
          1
         ],
         "title": {
          "font": {
           "family": "Avenir"
          },
          "text": "Country"
         }
        }
       }
      },
      "text/html": [
       "<div>                            <div id=\"9367c94a-034f-448b-9429-a83574e35ef7\" class=\"plotly-graph-div\" style=\"height:3500px; width:100%;\"></div>            <script type=\"text/javascript\">                require([\"plotly\"], function(Plotly) {                    window.PLOTLYENV=window.PLOTLYENV || {};                                    if (document.getElementById(\"9367c94a-034f-448b-9429-a83574e35ef7\")) {                    Plotly.newPlot(                        \"9367c94a-034f-448b-9429-a83574e35ef7\",                        [{\"alignmentgroup\": \"True\", \"customdata\": [[-402.0], [-370.0], [-298.0], [-277.0], [-254.0], [-246.0], [-241.0], [-234.0], [-231.0], [-230.0], [-223.0], [-212.0], [-178.0], [-178.0], [-173.0], [-157.0], [-155.0], [-153.0], [-152.0], [-151.0], [-149.1], [-143.0], [-140.8], [-134.7], [-119.4], [-117.0], [-113.0], [-111.0], [-109.0], [-108.0], [-106.0], [-101.0], [-94.0], [-80.0], [-79.0], [-76.0], [-75.0], [-74.0], [-73.0], [-72.0], [-70.0], [-67.7], [-66.0], [-65.7], [-65.2], [-65.0], [-63.0], [-62.49999999999999], [-62.4], [-59.00000000000001], [-57.10000000000001], [-53.99999999999999], [-53.199999999999996], [-52.0], [-50.0], [-49.4], [-49.0], [-49.0], [-48.2], [-48.0], [-46.699999999999996], [-46.0], [-45.7], [-45.599999999999994], [-45.5], [-44.0], [-42.0], [-39.00000000000001], [-39.0], [-38.599999999999994], [-38.2], [-37.9], [-37.7], [-37.099999999999994], [-37.0], [-33.9], [-33.0], [-33.0], [-32.099999999999994], [-31.400000000000002], [-30.599999999999994], [-28.4], [-27.0], [-26.1], [-26.0], [-24.5], [-24.5], [-23.7], [-23.699999999999996], [-23.300000000000004], [-21.6], [-21.599999999999994], [-20.75], [-20.0], [-19.94], [-19.699999999999996], [-19.5], [-18.199999999999996], [-18.099999999999994], [-16.800000000000004], [-16.799999999999997], [-16.6], [-15.779999999999998], [-15.479999999999999], [-14.0], [-13.200000000000001], [-12.300000000000004], [-11.91], [-10.2], [-10.0], [-9.7], [-9.69], [-9.5], [-9.2], [-8.489999999999998], [-8.04], [-7.619999999999999], [-7.5], [-7.419999999999999], [-7.100000000000001], [-6.670000000000001], [-6.630000000000001], [-6.470000000000001], [-5.96], [-5.800000000000001], [-5.100000000000001], [-5.0], [-4.86], [-4.790000000000001], [-4.0], [-4.0], [-3.79], [-3.4199999999999995], [-3.3899999999999997], [-3.1800000000000006], [-2.8100000000000005], [-2.799999999999999], [-2.7899999999999996], [-2.65], [-2.2899999999999996], [-2.1899999999999995], [-1.7099999999999995], [-0.3699999999999992], [-0.3100000000000005], [-0.3000000000000007], [0.0], [0.0], [0.09999999999999964], [0.7600000000000007], [0.7999999999999972], [1.0], [1.7999999999999972], [2.0], [3.12], [3.3999999999999986], [3.6999999999999993], [4.800000000000004], [5.899999999999999], [7.700000000000003], [8.0], [9.0], [9.299999999999997], [10.0], [11.200000000000003], [12.199999999999996], [14.999999999999996], [15.2], [16.0], [16.0], [26.0], [27.0], [27.10000000000001], [29.0], [33.2], [34.7], [37.400000000000006], [39.60000000000001], [42.4], [43.0], [43.0], [51.3], [51.8], [53.5], [55.7], [75.0], [94.0], [101.0], [150.0]], \"hovertemplate\": \"difference=%{customdata[0]:.2f}<br>country=%{y}<extra></extra>\", \"legendgroup\": \"\", \"marker\": {\"color\": \"#636efa\"}, \"name\": \"\", \"offsetgroup\": \"\", \"orientation\": \"h\", \"showlegend\": false, \"textposition\": \"auto\", \"type\": \"bar\", \"x\": [-402.0, -370.0, -298.0, -277.0, -254.0, -246.0, -241.0, -234.0, -231.0, -230.0, -223.0, -212.0, -178.0, -178.0, -173.0, -157.0, -155.0, -153.0, -152.0, -151.0, -149.1, -143.0, -140.8, -134.7, -119.4, -117.0, -113.0, -111.0, -109.0, -108.0, -106.0, -101.0, -94.0, -80.0, -79.0, -76.0, -75.0, -74.0, -73.0, -72.0, -70.0, -67.7, -66.0, -65.7, -65.2, -65.0, -63.0, -62.49999999999999, -62.4, -59.00000000000001, -57.10000000000001, -53.99999999999999, -53.199999999999996, -52.0, -50.0, -49.4, -49.0, -49.0, -48.2, -48.0, -46.699999999999996, -46.0, -45.7, -45.599999999999994, -45.5, -44.0, -42.0, -39.00000000000001, -39.0, -38.599999999999994, -38.2, -37.9, -37.7, -37.099999999999994, -37.0, -33.9, -33.0, -33.0, -32.099999999999994, -31.400000000000002, -30.599999999999994, -28.4, -27.0, -26.1, -26.0, -24.5, -24.5, -23.7, -23.699999999999996, -23.300000000000004, -21.6, -21.599999999999994, -20.75, -20.0, -19.94, -19.699999999999996, -19.5, -18.199999999999996, -18.099999999999994, -16.800000000000004, -16.799999999999997, -16.6, -15.779999999999998, -15.479999999999999, -14.0, -13.200000000000001, -12.300000000000004, -11.91, -10.2, -10.0, -9.7, -9.69, -9.5, -9.2, -8.489999999999998, -8.04, -7.619999999999999, -7.5, -7.419999999999999, -7.100000000000001, -6.670000000000001, -6.630000000000001, -6.470000000000001, -5.96, -5.800000000000001, -5.100000000000001, -5.0, -4.86, -4.790000000000001, -4.0, -4.0, -3.79, -3.4199999999999995, -3.3899999999999997, -3.1800000000000006, -2.8100000000000005, -2.799999999999999, -2.7899999999999996, -2.65, -2.2899999999999996, -2.1899999999999995, -1.7099999999999995, -0.3699999999999992, -0.3100000000000005, -0.3000000000000007, 0.0, 0.0, 0.09999999999999964, 0.7600000000000007, 0.7999999999999972, 1.0, 1.7999999999999972, 2.0, 3.12, 3.3999999999999986, 3.6999999999999993, 4.800000000000004, 5.899999999999999, 7.700000000000003, 8.0, 9.0, 9.299999999999997, 10.0, 11.200000000000003, 12.199999999999996, 14.999999999999996, 15.2, 16.0, 16.0, 26.0, 27.0, 27.10000000000001, 29.0, 33.2, 34.7, 37.400000000000006, 39.60000000000001, 42.4, 43.0, 43.0, 51.3, 51.8, 53.5, 55.7, 75.0, 94.0, 101.0, 150.0], \"xaxis\": \"x\", \"y\": [\"Ethiopia\", \"Lao\", \"Mauritania\", \"Maldives\", \"Timor-Leste\", \"Equatorial Guinea\", \"Bangladesh\", \"Indonesia\", \"Rwanda\", \"Cambodia\", \"India\", \"Morocco\", \"Nepal\", \"Afghanistan\", \"Burundi\", \"Benin\", \"Guinea-Bissau\", \"Bhutan\", \"Mali\", \"Honduras\", \"Peru\", \"South Africa\", \"El Salvador\", \"Algeria\", \"Mongolia\", \"Angola\", \"Bolivia\", \"Somalia\", \"Togo\", \"Zambia\", \"St. Kitts and Nevis\", \"Tuvalu\", \"Kiribati\", \"Guatemala\", \"Eritrea\", \"Sudan\", \"Malawi\", \"Madagascar\", \"Namibia\", \"Mozambique\", \"Guinea\", \"North Korea\", \"Papua New Guinea\", \"Cape Verde\", \"Egypt\", \"South Sudan\", \"Yemen\", \"Jordan\", \"Syria\", \"Turkey\", \"China\", \"Romania\", \"Sri Lanka\", \"Gabon\", \"Niger\", \"Samoa\", \"Tanzania\", \"Micronesia, Fed. Sts.\", \"Paraguay\", \"Central African Republic\", \"Qatar\", \"Kazakhstan\", \"Tajikistan\", \"Brazil\", \"Malaysia\", \"Cameroon\", \"Comoros\", \"Seychelles\", \"Botswana\", \"Tunisia\", \"Ecuador\", \"Nicaragua\", \"Russia\", \"Oman\", \"Ghana\", \"Estonia\", \"Liberia\", \"Burkina Faso\", \"Iraq\", \"Vietnam\", \"Philippines\", \"Thailand\", \"Eswatini\", \"Iran\", \"Sao Tome and Principe\", \"Fiji\", \"Chile\", \"Bulgaria\", \"Lebanon\", \"Mexico\", \"Trinidad and Tobago\", \"Kyrgyz Republic\", \"Albania\", \"Nigeria\", \"Bosnia and Herzegovina\", \"Mauritius\", \"Armenia\", \"Palestine\", \"Tonga\", \"Azerbaijan\", \"Ukraine\", \"Moldova\", \"Poland\", \"Lithuania\", \"Brunei\", \"Belarus\", \"Argentina\", \"Czech Republic\", \"South Korea\", \"Congo, Rep.\", \"Serbia\", \"Cyprus\", \"Japan\", \"North Macedonia\", \"Slovak Republic\", \"France\", \"Germany\", \"United Arab Emirates\", \"Croatia\", \"Hungary\", \"Portugal\", \"Netherlands\", \"Luxembourg\", \"Israel\", \"Uzbekistan\", \"Uruguay\", \"Saudi Arabia\", \"United Kingdom\", \"Italy\", \"Myanmar\", \"Norway\", \"Australia\", \"Singapore\", \"Denmark\", \"Austria\", \"Belgium\", \"Malta\", \"Finland\", \"Sweden\", \"Iceland\", \"Montenegro\", \"Ireland\", \"Slovenia\", \"Kuwait\", \"Latvia\", \"Gambia\", \"Djibouti\", \"New Zealand\", \"Switzerland\", \"Cuba\", \"Cote d'Ivoire\", \"Colombia\", \"Nauru\", \"Canada\", \"Bahrain\", \"Libya\", \"Turkmenistan\", \"Costa Rica\", \"Vanuatu\", \"Palau\", \"Solomon Islands\", \"Panama\", \"Chad\", \"Georgia\", \"Barbados\", \"Antigua and Barbuda\", \"United States\", \"Pakistan\", \"Haiti\", \"Kenya\", \"Senegal\", \"Grenada\", \"Marshall Islands\", \"Dominican Republic\", \"Bahamas\", \"Suriname\", \"St. Vincent and the Grenadines\", \"Jamaica\", \"Uganda\", \"Guyana\", \"St. Lucia\", \"Dominica\", \"Belize\", \"Venezuela\", \"Zimbabwe\", \"Congo, Dem. Rep.\", \"Sierra Leone\", \"Lesotho\"], \"yaxis\": \"y\"}],                        {\"barmode\": \"relative\", \"font\": {\"color\": \"Black\", \"family\": \"Avenir\", \"size\": 14}, \"height\": 3500, \"legend\": {\"title\": {\"font\": {\"color\": \"Black\"}}, \"tracegroupgap\": 0}, \"template\": {\"data\": {\"bar\": [{\"error_x\": {\"color\": \"#2a3f5f\"}, \"error_y\": {\"color\": \"#2a3f5f\"}, \"marker\": {\"line\": {\"color\": \"#E5ECF6\", \"width\": 0.5}}, \"type\": \"bar\"}], \"barpolar\": [{\"marker\": {\"line\": {\"color\": \"#E5ECF6\", \"width\": 0.5}}, \"type\": \"barpolar\"}], \"carpet\": [{\"aaxis\": {\"endlinecolor\": \"#2a3f5f\", \"gridcolor\": \"white\", \"linecolor\": \"white\", \"minorgridcolor\": \"white\", \"startlinecolor\": \"#2a3f5f\"}, \"baxis\": {\"endlinecolor\": \"#2a3f5f\", \"gridcolor\": \"white\", \"linecolor\": \"white\", \"minorgridcolor\": \"white\", \"startlinecolor\": \"#2a3f5f\"}, \"type\": \"carpet\"}], \"choropleth\": [{\"colorbar\": {\"outlinewidth\": 0, \"ticks\": \"\"}, \"type\": \"choropleth\"}], \"contour\": [{\"colorbar\": {\"outlinewidth\": 0, \"ticks\": \"\"}, \"colorscale\": [[0.0, \"#0d0887\"], [0.1111111111111111, \"#46039f\"], [0.2222222222222222, \"#7201a8\"], [0.3333333333333333, \"#9c179e\"], [0.4444444444444444, \"#bd3786\"], [0.5555555555555556, \"#d8576b\"], [0.6666666666666666, \"#ed7953\"], [0.7777777777777778, \"#fb9f3a\"], [0.8888888888888888, \"#fdca26\"], [1.0, \"#f0f921\"]], \"type\": \"contour\"}], \"contourcarpet\": [{\"colorbar\": {\"outlinewidth\": 0, \"ticks\": \"\"}, \"type\": \"contourcarpet\"}], \"heatmap\": [{\"colorbar\": {\"outlinewidth\": 0, \"ticks\": \"\"}, \"colorscale\": [[0.0, \"#0d0887\"], [0.1111111111111111, \"#46039f\"], [0.2222222222222222, \"#7201a8\"], [0.3333333333333333, \"#9c179e\"], [0.4444444444444444, \"#bd3786\"], [0.5555555555555556, \"#d8576b\"], [0.6666666666666666, \"#ed7953\"], [0.7777777777777778, \"#fb9f3a\"], [0.8888888888888888, \"#fdca26\"], [1.0, \"#f0f921\"]], \"type\": \"heatmap\"}], \"heatmapgl\": [{\"colorbar\": {\"outlinewidth\": 0, \"ticks\": \"\"}, \"colorscale\": [[0.0, \"#0d0887\"], [0.1111111111111111, \"#46039f\"], [0.2222222222222222, \"#7201a8\"], [0.3333333333333333, \"#9c179e\"], [0.4444444444444444, \"#bd3786\"], [0.5555555555555556, \"#d8576b\"], [0.6666666666666666, \"#ed7953\"], [0.7777777777777778, \"#fb9f3a\"], [0.8888888888888888, \"#fdca26\"], [1.0, \"#f0f921\"]], \"type\": \"heatmapgl\"}], \"histogram\": [{\"marker\": {\"colorbar\": {\"outlinewidth\": 0, \"ticks\": \"\"}}, \"type\": \"histogram\"}], \"histogram2d\": [{\"colorbar\": {\"outlinewidth\": 0, \"ticks\": \"\"}, \"colorscale\": [[0.0, \"#0d0887\"], [0.1111111111111111, \"#46039f\"], [0.2222222222222222, \"#7201a8\"], [0.3333333333333333, \"#9c179e\"], [0.4444444444444444, \"#bd3786\"], [0.5555555555555556, \"#d8576b\"], [0.6666666666666666, \"#ed7953\"], [0.7777777777777778, \"#fb9f3a\"], [0.8888888888888888, \"#fdca26\"], [1.0, \"#f0f921\"]], \"type\": \"histogram2d\"}], \"histogram2dcontour\": [{\"colorbar\": {\"outlinewidth\": 0, \"ticks\": \"\"}, \"colorscale\": [[0.0, \"#0d0887\"], [0.1111111111111111, \"#46039f\"], [0.2222222222222222, \"#7201a8\"], [0.3333333333333333, \"#9c179e\"], [0.4444444444444444, \"#bd3786\"], [0.5555555555555556, \"#d8576b\"], [0.6666666666666666, \"#ed7953\"], [0.7777777777777778, \"#fb9f3a\"], [0.8888888888888888, \"#fdca26\"], [1.0, \"#f0f921\"]], \"type\": \"histogram2dcontour\"}], \"mesh3d\": [{\"colorbar\": {\"outlinewidth\": 0, \"ticks\": \"\"}, \"type\": \"mesh3d\"}], \"parcoords\": [{\"line\": {\"colorbar\": {\"outlinewidth\": 0, \"ticks\": \"\"}}, \"type\": \"parcoords\"}], \"pie\": [{\"automargin\": true, \"type\": \"pie\"}], \"scatter\": [{\"marker\": {\"colorbar\": {\"outlinewidth\": 0, \"ticks\": \"\"}}, \"type\": \"scatter\"}], \"scatter3d\": [{\"line\": {\"colorbar\": {\"outlinewidth\": 0, \"ticks\": \"\"}}, \"marker\": {\"colorbar\": {\"outlinewidth\": 0, \"ticks\": \"\"}}, \"type\": \"scatter3d\"}], \"scattercarpet\": [{\"marker\": {\"colorbar\": {\"outlinewidth\": 0, \"ticks\": \"\"}}, \"type\": \"scattercarpet\"}], \"scattergeo\": [{\"marker\": {\"colorbar\": {\"outlinewidth\": 0, \"ticks\": \"\"}}, \"type\": \"scattergeo\"}], \"scattergl\": [{\"marker\": {\"colorbar\": {\"outlinewidth\": 0, \"ticks\": \"\"}}, \"type\": \"scattergl\"}], \"scattermapbox\": [{\"marker\": {\"colorbar\": {\"outlinewidth\": 0, \"ticks\": \"\"}}, \"type\": \"scattermapbox\"}], \"scatterpolar\": [{\"marker\": {\"colorbar\": {\"outlinewidth\": 0, \"ticks\": \"\"}}, \"type\": \"scatterpolar\"}], \"scatterpolargl\": [{\"marker\": {\"colorbar\": {\"outlinewidth\": 0, \"ticks\": \"\"}}, \"type\": \"scatterpolargl\"}], \"scatterternary\": [{\"marker\": {\"colorbar\": {\"outlinewidth\": 0, \"ticks\": \"\"}}, \"type\": \"scatterternary\"}], \"surface\": [{\"colorbar\": {\"outlinewidth\": 0, \"ticks\": \"\"}, \"colorscale\": [[0.0, \"#0d0887\"], [0.1111111111111111, \"#46039f\"], [0.2222222222222222, \"#7201a8\"], [0.3333333333333333, \"#9c179e\"], [0.4444444444444444, \"#bd3786\"], [0.5555555555555556, \"#d8576b\"], [0.6666666666666666, \"#ed7953\"], [0.7777777777777778, \"#fb9f3a\"], [0.8888888888888888, \"#fdca26\"], [1.0, \"#f0f921\"]], \"type\": \"surface\"}], \"table\": [{\"cells\": {\"fill\": {\"color\": \"#EBF0F8\"}, \"line\": {\"color\": \"white\"}}, \"header\": {\"fill\": {\"color\": \"#C8D4E3\"}, \"line\": {\"color\": \"white\"}}, \"type\": \"table\"}]}, \"layout\": {\"annotationdefaults\": {\"arrowcolor\": \"#2a3f5f\", \"arrowhead\": 0, \"arrowwidth\": 1}, \"coloraxis\": {\"colorbar\": {\"outlinewidth\": 0, \"ticks\": \"\"}}, \"colorscale\": {\"diverging\": [[0, \"#8e0152\"], [0.1, \"#c51b7d\"], [0.2, \"#de77ae\"], [0.3, \"#f1b6da\"], [0.4, \"#fde0ef\"], [0.5, \"#f7f7f7\"], [0.6, \"#e6f5d0\"], [0.7, \"#b8e186\"], [0.8, \"#7fbc41\"], [0.9, \"#4d9221\"], [1, \"#276419\"]], \"sequential\": [[0.0, \"#0d0887\"], [0.1111111111111111, \"#46039f\"], [0.2222222222222222, \"#7201a8\"], [0.3333333333333333, \"#9c179e\"], [0.4444444444444444, \"#bd3786\"], [0.5555555555555556, \"#d8576b\"], [0.6666666666666666, \"#ed7953\"], [0.7777777777777778, \"#fb9f3a\"], [0.8888888888888888, \"#fdca26\"], [1.0, \"#f0f921\"]], \"sequentialminus\": [[0.0, \"#0d0887\"], [0.1111111111111111, \"#46039f\"], [0.2222222222222222, \"#7201a8\"], [0.3333333333333333, \"#9c179e\"], [0.4444444444444444, \"#bd3786\"], [0.5555555555555556, \"#d8576b\"], [0.6666666666666666, \"#ed7953\"], [0.7777777777777778, \"#fb9f3a\"], [0.8888888888888888, \"#fdca26\"], [1.0, \"#f0f921\"]]}, \"colorway\": [\"#636efa\", \"#EF553B\", \"#00cc96\", \"#ab63fa\", \"#FFA15A\", \"#19d3f3\", \"#FF6692\", \"#B6E880\", \"#FF97FF\", \"#FECB52\"], \"font\": {\"color\": \"#2a3f5f\"}, \"geo\": {\"bgcolor\": \"white\", \"lakecolor\": \"white\", \"landcolor\": \"#E5ECF6\", \"showlakes\": true, \"showland\": true, \"subunitcolor\": \"white\"}, \"hoverlabel\": {\"align\": \"left\"}, \"hovermode\": \"closest\", \"mapbox\": {\"style\": \"light\"}, \"paper_bgcolor\": \"white\", \"plot_bgcolor\": \"#E5ECF6\", \"polar\": {\"angularaxis\": {\"gridcolor\": \"white\", \"linecolor\": \"white\", \"ticks\": \"\"}, \"bgcolor\": \"#E5ECF6\", \"radialaxis\": {\"gridcolor\": \"white\", \"linecolor\": \"white\", \"ticks\": \"\"}}, \"scene\": {\"xaxis\": {\"backgroundcolor\": \"#E5ECF6\", \"gridcolor\": \"white\", \"gridwidth\": 2, \"linecolor\": \"white\", \"showbackground\": true, \"ticks\": \"\", \"zerolinecolor\": \"white\"}, \"yaxis\": {\"backgroundcolor\": \"#E5ECF6\", \"gridcolor\": \"white\", \"gridwidth\": 2, \"linecolor\": \"white\", \"showbackground\": true, \"ticks\": \"\", \"zerolinecolor\": \"white\"}, \"zaxis\": {\"backgroundcolor\": \"#E5ECF6\", \"gridcolor\": \"white\", \"gridwidth\": 2, \"linecolor\": \"white\", \"showbackground\": true, \"ticks\": \"\", \"zerolinecolor\": \"white\"}}, \"shapedefaults\": {\"line\": {\"color\": \"#2a3f5f\"}}, \"ternary\": {\"aaxis\": {\"gridcolor\": \"white\", \"linecolor\": \"white\", \"ticks\": \"\"}, \"baxis\": {\"gridcolor\": \"white\", \"linecolor\": \"white\", \"ticks\": \"\"}, \"bgcolor\": \"#E5ECF6\", \"caxis\": {\"gridcolor\": \"white\", \"linecolor\": \"white\", \"ticks\": \"\"}}, \"title\": {\"x\": 0.05}, \"xaxis\": {\"automargin\": true, \"gridcolor\": \"white\", \"linecolor\": \"white\", \"ticks\": \"\", \"title\": {\"standoff\": 15}, \"zerolinecolor\": \"white\", \"zerolinewidth\": 2}, \"yaxis\": {\"automargin\": true, \"gridcolor\": \"white\", \"linecolor\": \"white\", \"ticks\": \"\", \"title\": {\"standoff\": 15}, \"zerolinecolor\": \"white\", \"zerolinewidth\": 2}}}, \"title\": {\"font\": {\"color\": \"Dark Gray\", \"family\": \"Avenir\"}, \"text\": \"Changes in Maternal Deaths per 100,000 Births from 1990 to 2015 per Country\"}, \"xaxis\": {\"anchor\": \"y\", \"domain\": [0.0, 1.0], \"title\": {\"font\": {\"family\": \"Avenir\"}, \"text\": \"Change in Number of Deaths\"}}, \"yaxis\": {\"anchor\": \"x\", \"domain\": [0.0, 1.0], \"title\": {\"font\": {\"family\": \"Avenir\"}, \"text\": \"Country\"}}},                        {\"responsive\": true}                    ).then(function(){\n",
       "                            \n",
       "var gd = document.getElementById('9367c94a-034f-448b-9429-a83574e35ef7');\n",
       "var x = new MutationObserver(function (mutations, observer) {{\n",
       "        var display = window.getComputedStyle(gd).display;\n",
       "        if (!display || display === 'none') {{\n",
       "            console.log([gd, 'removed!']);\n",
       "            Plotly.purge(gd);\n",
       "            observer.disconnect();\n",
       "        }}\n",
       "}});\n",
       "\n",
       "// Listen for the removal of the full notebook cells\n",
       "var notebookContainer = gd.closest('#notebook-container');\n",
       "if (notebookContainer) {{\n",
       "    x.observe(notebookContainer, {childList: true});\n",
       "}}\n",
       "\n",
       "// Listen for the clearing of the current output cell\n",
       "var outputEl = gd.closest('.output');\n",
       "if (outputEl) {{\n",
       "    x.observe(outputEl, {childList: true});\n",
       "}}\n",
       "\n",
       "                        })                };                });            </script>        </div>"
      ]
     },
     "metadata": {},
     "output_type": "display_data"
    }
   ],
   "source": [
    "# Apply diff_per_country_bar_plot() function to df_maternal\n",
    "diff_per_country_bar_plot(df_maternal, \"Changes in Maternal Deaths per 100,000 Births from 1990 to 2015 per Country\");"
   ]
  },
  {
   "cell_type": "markdown",
   "metadata": {},
   "source": [
    "__Observations:__ As the chart shows, the countries with highest improvement in maternal mortality rates include African countries such as Ethiopia and Mauritania, as well as countries from South East Asia such as Lao and Timor-Leste, and from South Asia, such as Maldives. On the other hand, those with the lowest improvement rates include Latvia, Kuwait, Slovenia, Ireland, and Motenegro.\n",
    "\n",
    "In addition, countries that not only did not improve in mortality rates but worsened considerably include Lesotho, Sierra Leone, Democratic Republic of Congo, Zimbabwe, and Venezuela."
   ]
  },
  {
   "cell_type": "markdown",
   "metadata": {},
   "source": [
    "### What countries have the highest and lowest newborn mortality rates in 2015?"
   ]
  },
  {
   "cell_type": "code",
   "execution_count": 157,
   "metadata": {},
   "outputs": [
    {
     "data": {
      "application/vnd.plotly.v1+json": {
       "config": {
        "plotlyServerURL": "https://plot.ly"
       },
       "data": [
        {
         "alignmentgroup": "True",
         "customdata": [
          [
           0.9
          ],
          [
           0.9
          ],
          [
           0.9
          ],
          [
           1
          ],
          [
           1.1
          ],
          [
           1.3
          ],
          [
           1.4
          ],
          [
           1.5
          ],
          [
           1.5
          ],
          [
           1.5
          ],
          [
           1.6
          ],
          [
           1.6
          ],
          [
           1.8
          ],
          [
           1.9
          ],
          [
           2
          ],
          [
           2.1
          ],
          [
           2.1
          ],
          [
           2.1
          ],
          [
           2.1
          ],
          [
           2.2
          ],
          [
           2.2
          ],
          [
           2.2
          ],
          [
           2.3
          ],
          [
           2.3
          ],
          [
           2.4
          ],
          [
           2.4
          ],
          [
           2.5
          ],
          [
           2.5
          ],
          [
           2.6
          ],
          [
           2.7
          ],
          [
           3.1
          ],
          [
           3.1
          ],
          [
           3.1
          ],
          [
           3.2
          ],
          [
           3.2
          ],
          [
           3.5
          ],
          [
           3.5
          ],
          [
           3.5
          ],
          [
           3.6
          ],
          [
           3.8
          ],
          [
           3.9
          ],
          [
           4
          ],
          [
           4.2
          ],
          [
           4.2
          ],
          [
           4.3
          ],
          [
           4.4
          ],
          [
           4.8
          ],
          [
           4.9
          ],
          [
           4.9
          ],
          [
           4.9
          ],
          [
           5
          ],
          [
           5.1
          ],
          [
           5.2
          ],
          [
           5.2
          ],
          [
           5.4
          ],
          [
           5.5
          ],
          [
           5.5
          ],
          [
           5.6
          ],
          [
           6
          ],
          [
           6.2
          ],
          [
           6.2
          ],
          [
           6.3
          ],
          [
           6.3
          ],
          [
           6.5
          ],
          [
           6.7
          ],
          [
           6.9
          ],
          [
           6.9
          ],
          [
           7
          ],
          [
           7
          ],
          [
           7
          ],
          [
           7.1
          ],
          [
           7.2
          ],
          [
           7.2
          ],
          [
           7.4
          ],
          [
           7.9
          ],
          [
           8
          ],
          [
           8.2
          ],
          [
           8.2
          ],
          [
           8.3
          ],
          [
           8.3
          ],
          [
           8.4
          ],
          [
           8.5
          ],
          [
           8.6
          ],
          [
           8.9
          ],
          [
           8.9
          ],
          [
           9
          ],
          [
           9.3
          ],
          [
           9.5
          ],
          [
           9.5
          ],
          [
           9.6
          ],
          [
           9.6
          ],
          [
           9.8
          ],
          [
           10.6
          ],
          [
           10.8
          ],
          [
           10.9
          ],
          [
           11
          ],
          [
           11
          ],
          [
           11.1
          ],
          [
           11.4
          ],
          [
           11.5
          ],
          [
           11.5
          ],
          [
           11.5
          ],
          [
           11.6
          ],
          [
           11.6
          ],
          [
           11.8
          ],
          [
           11.9
          ],
          [
           12.2
          ],
          [
           12.2
          ],
          [
           12.6
          ],
          [
           12.8
          ],
          [
           13.2
          ],
          [
           13.4
          ],
          [
           13.5
          ],
          [
           13.5
          ],
          [
           14.2
          ],
          [
           14.8
          ],
          [
           15.5
          ],
          [
           15.6
          ],
          [
           15.9
          ],
          [
           16.7
          ],
          [
           17.1
          ],
          [
           17.6
          ],
          [
           17.6
          ],
          [
           18
          ],
          [
           18.2
          ],
          [
           18.3
          ],
          [
           18.4
          ],
          [
           18.4
          ],
          [
           18.7
          ],
          [
           18.7
          ],
          [
           18.8
          ],
          [
           18.8
          ],
          [
           19.6
          ],
          [
           19.7
          ],
          [
           20.4
          ],
          [
           20.5
          ],
          [
           20.8
          ],
          [
           21.4
          ],
          [
           21.7
          ],
          [
           21.8
          ],
          [
           21.9
          ],
          [
           22.1
          ],
          [
           22.2
          ],
          [
           22.2
          ],
          [
           22.3
          ],
          [
           22.6
          ],
          [
           22.7
          ],
          [
           22.8
          ],
          [
           23.2
          ],
          [
           23.3
          ],
          [
           23.5
          ],
          [
           23.7
          ],
          [
           24.1
          ],
          [
           24.5
          ],
          [
           25.4
          ],
          [
           25.7
          ],
          [
           26.4
          ],
          [
           26.7
          ],
          [
           26.7
          ],
          [
           26.8
          ],
          [
           27.1
          ],
          [
           27.7
          ],
          [
           27.7
          ],
          [
           28.3
          ],
          [
           28.6
          ],
          [
           29.8
          ],
          [
           29.9
          ],
          [
           30.1
          ],
          [
           30.1
          ],
          [
           31.3
          ],
          [
           31.8
          ],
          [
           32.7
          ],
          [
           33.1
          ],
          [
           33.4
          ],
          [
           34
          ],
          [
           34.3
          ],
          [
           34.9
          ],
          [
           35.5
          ],
          [
           35.7
          ],
          [
           37.8
          ],
          [
           37.9
          ],
          [
           39.3
          ],
          [
           39.3
          ],
          [
           39.7
          ],
          [
           39.7
          ],
          [
           42.6
          ],
          [
           45.5
          ],
          [
           48.7
          ]
         ],
         "hovertemplate": "2015=%{customdata[0]:.2f}<br>country=%{y}<extra></extra>",
         "legendgroup": "",
         "marker": {
          "color": "#636efa"
         },
         "name": "",
         "offsetgroup": "",
         "orientation": "h",
         "showlegend": false,
         "textposition": "auto",
         "type": "bar",
         "x": [
          0.9,
          0.9,
          0.9,
          1,
          1.1,
          1.3,
          1.4,
          1.5,
          1.5,
          1.5,
          1.6,
          1.6,
          1.8,
          1.9,
          2,
          2.1,
          2.1,
          2.1,
          2.1,
          2.2,
          2.2,
          2.2,
          2.3,
          2.3,
          2.4,
          2.4,
          2.5,
          2.5,
          2.6,
          2.7,
          3.1,
          3.1,
          3.1,
          3.2,
          3.2,
          3.5,
          3.5,
          3.5,
          3.6,
          3.8,
          3.9,
          4,
          4.2,
          4.2,
          4.3,
          4.4,
          4.8,
          4.9,
          4.9,
          4.9,
          5,
          5.1,
          5.2,
          5.2,
          5.4,
          5.5,
          5.5,
          5.6,
          6,
          6.2,
          6.2,
          6.3,
          6.3,
          6.5,
          6.7,
          6.9,
          6.9,
          7,
          7,
          7,
          7.1,
          7.2,
          7.2,
          7.4,
          7.9,
          8,
          8.2,
          8.2,
          8.3,
          8.3,
          8.4,
          8.5,
          8.6,
          8.9,
          8.9,
          9,
          9.3,
          9.5,
          9.5,
          9.6,
          9.6,
          9.8,
          10.6,
          10.8,
          10.9,
          11,
          11,
          11.1,
          11.4,
          11.5,
          11.5,
          11.5,
          11.6,
          11.6,
          11.8,
          11.9,
          12.2,
          12.2,
          12.6,
          12.8,
          13.2,
          13.4,
          13.5,
          13.5,
          14.2,
          14.8,
          15.5,
          15.6,
          15.9,
          16.7,
          17.1,
          17.6,
          17.6,
          18,
          18.2,
          18.3,
          18.4,
          18.4,
          18.7,
          18.7,
          18.8,
          18.8,
          19.6,
          19.7,
          20.4,
          20.5,
          20.8,
          21.4,
          21.7,
          21.8,
          21.9,
          22.1,
          22.2,
          22.2,
          22.3,
          22.6,
          22.7,
          22.8,
          23.2,
          23.3,
          23.5,
          23.7,
          24.1,
          24.5,
          25.4,
          25.7,
          26.4,
          26.7,
          26.7,
          26.8,
          27.1,
          27.7,
          27.7,
          28.3,
          28.6,
          29.8,
          29.9,
          30.1,
          30.1,
          31.3,
          31.8,
          32.7,
          33.1,
          33.4,
          34,
          34.3,
          34.9,
          35.5,
          35.7,
          37.8,
          37.9,
          39.3,
          39.3,
          39.7,
          39.7,
          42.6,
          45.5,
          48.7
         ],
         "xaxis": "x",
         "y": [
          "Iceland",
          "Japan",
          "Luxembourg",
          "Singapore",
          "Bahrain",
          "Finland",
          "Slovenia",
          "Estonia",
          "Cyprus",
          "Norway",
          "South Korea",
          "Sweden",
          "Czech Republic",
          "Belarus",
          "Portugal",
          "Israel",
          "Italy",
          "Austria",
          "Germany",
          "Australia",
          "Belgium",
          "France",
          "Cuba",
          "Ireland",
          "Netherlands",
          "United Kingdom",
          "Denmark",
          "Lithuania",
          "Croatia",
          "Switzerland",
          "Montenegro",
          "Poland",
          "New Zealand",
          "Kuwait",
          "Canada",
          "Hungary",
          "United Arab Emirates",
          "North Macedonia",
          "United States",
          "Qatar",
          "Malaysia",
          "Bosnia and Herzegovina",
          "Serbia",
          "Slovak Republic",
          "Brunei",
          "Malta",
          "Lebanon",
          "Chile",
          "Maldives",
          "Antigua and Barbuda",
          "Russia",
          "Uruguay",
          "Latvia",
          "Oman",
          "Sri Lanka",
          "Ukraine",
          "China",
          "Bulgaria",
          "Grenada",
          "Albania",
          "Costa Rica",
          "Romania",
          "Argentina",
          "St. Kitts and Nevis",
          "Thailand",
          "Bahamas",
          "Tonga",
          "Kazakhstan",
          "Mexico",
          "Syria",
          "Turkey",
          "Georgia",
          "Libya",
          "Armenia",
          "Saudi Arabia",
          "Barbados",
          "Tunisia",
          "Peru",
          "El Salvador",
          "Belize",
          "Mauritius",
          "Colombia",
          "Seychelles",
          "Brazil",
          "Venezuela",
          "Palau",
          "St. Lucia",
          "Iran",
          "Samoa",
          "Panama",
          "Fiji",
          "Nicaragua",
          "Jordan",
          "Ecuador",
          "Paraguay",
          "South Africa",
          "Honduras",
          "Mongolia",
          "Vietnam",
          "Suriname",
          "Kyrgyz Republic",
          "St. Vincent and the Grenadines",
          "Vanuatu",
          "Jamaica",
          "Palestine",
          "Moldova",
          "Solomon Islands",
          "Cape Verde",
          "Philippines",
          "Egypt",
          "Trinidad and Tobago",
          "Guatemala",
          "North Korea",
          "Indonesia",
          "Eswatini",
          "Cambodia",
          "Algeria",
          "Dominica",
          "Namibia",
          "Marshall Islands",
          "Sao Tome and Principe",
          "Tuvalu",
          "Morocco",
          "Congo, Rep.",
          "Azerbaijan",
          "Bhutan",
          "Eritrea",
          "Iraq",
          "Rwanda",
          "Uganda",
          "Micronesia, Fed. Sts.",
          "Tanzania",
          "Bolivia",
          "Madagascar",
          "Uzbekistan",
          "Tajikistan",
          "Senegal",
          "Zambia",
          "Dominican Republic",
          "Malawi",
          "Botswana",
          "Yemen",
          "Kenya",
          "Nepal",
          "Timor-Leste",
          "Turkmenistan",
          "Nauru",
          "Guyana",
          "Gabon",
          "Bangladesh",
          "Zimbabwe",
          "Kiribati",
          "Liberia",
          "Papua New Guinea",
          "Haiti",
          "Cameroon",
          "Myanmar",
          "Togo",
          "Burkina Faso",
          "Niger",
          "Mozambique",
          "Ethiopia",
          "India",
          "Ghana",
          "Burundi",
          "Sudan",
          "Gambia",
          "Congo, Dem. Rep.",
          "Lao",
          "Guinea",
          "Benin",
          "Lesotho",
          "Equatorial Guinea",
          "Djibouti",
          "Comoros",
          "Nigeria",
          "Sierra Leone",
          "Afghanistan",
          "Mauritania",
          "Mali",
          "Cote d'Ivoire",
          "Chad",
          "South Sudan",
          "Somalia",
          "Guinea-Bissau",
          "Central African Republic",
          "Pakistan",
          "Angola"
         ],
         "yaxis": "y"
        }
       ],
       "layout": {
        "barmode": "relative",
        "font": {
         "color": "Black",
         "family": "Avenir",
         "size": 14
        },
        "height": 3500,
        "legend": {
         "title": {
          "font": {
           "color": "Black"
          }
         },
         "tracegroupgap": 0
        },
        "template": {
         "data": {
          "bar": [
           {
            "error_x": {
             "color": "#2a3f5f"
            },
            "error_y": {
             "color": "#2a3f5f"
            },
            "marker": {
             "line": {
              "color": "#E5ECF6",
              "width": 0.5
             }
            },
            "type": "bar"
           }
          ],
          "barpolar": [
           {
            "marker": {
             "line": {
              "color": "#E5ECF6",
              "width": 0.5
             }
            },
            "type": "barpolar"
           }
          ],
          "carpet": [
           {
            "aaxis": {
             "endlinecolor": "#2a3f5f",
             "gridcolor": "white",
             "linecolor": "white",
             "minorgridcolor": "white",
             "startlinecolor": "#2a3f5f"
            },
            "baxis": {
             "endlinecolor": "#2a3f5f",
             "gridcolor": "white",
             "linecolor": "white",
             "minorgridcolor": "white",
             "startlinecolor": "#2a3f5f"
            },
            "type": "carpet"
           }
          ],
          "choropleth": [
           {
            "colorbar": {
             "outlinewidth": 0,
             "ticks": ""
            },
            "type": "choropleth"
           }
          ],
          "contour": [
           {
            "colorbar": {
             "outlinewidth": 0,
             "ticks": ""
            },
            "colorscale": [
             [
              0,
              "#0d0887"
             ],
             [
              0.1111111111111111,
              "#46039f"
             ],
             [
              0.2222222222222222,
              "#7201a8"
             ],
             [
              0.3333333333333333,
              "#9c179e"
             ],
             [
              0.4444444444444444,
              "#bd3786"
             ],
             [
              0.5555555555555556,
              "#d8576b"
             ],
             [
              0.6666666666666666,
              "#ed7953"
             ],
             [
              0.7777777777777778,
              "#fb9f3a"
             ],
             [
              0.8888888888888888,
              "#fdca26"
             ],
             [
              1,
              "#f0f921"
             ]
            ],
            "type": "contour"
           }
          ],
          "contourcarpet": [
           {
            "colorbar": {
             "outlinewidth": 0,
             "ticks": ""
            },
            "type": "contourcarpet"
           }
          ],
          "heatmap": [
           {
            "colorbar": {
             "outlinewidth": 0,
             "ticks": ""
            },
            "colorscale": [
             [
              0,
              "#0d0887"
             ],
             [
              0.1111111111111111,
              "#46039f"
             ],
             [
              0.2222222222222222,
              "#7201a8"
             ],
             [
              0.3333333333333333,
              "#9c179e"
             ],
             [
              0.4444444444444444,
              "#bd3786"
             ],
             [
              0.5555555555555556,
              "#d8576b"
             ],
             [
              0.6666666666666666,
              "#ed7953"
             ],
             [
              0.7777777777777778,
              "#fb9f3a"
             ],
             [
              0.8888888888888888,
              "#fdca26"
             ],
             [
              1,
              "#f0f921"
             ]
            ],
            "type": "heatmap"
           }
          ],
          "heatmapgl": [
           {
            "colorbar": {
             "outlinewidth": 0,
             "ticks": ""
            },
            "colorscale": [
             [
              0,
              "#0d0887"
             ],
             [
              0.1111111111111111,
              "#46039f"
             ],
             [
              0.2222222222222222,
              "#7201a8"
             ],
             [
              0.3333333333333333,
              "#9c179e"
             ],
             [
              0.4444444444444444,
              "#bd3786"
             ],
             [
              0.5555555555555556,
              "#d8576b"
             ],
             [
              0.6666666666666666,
              "#ed7953"
             ],
             [
              0.7777777777777778,
              "#fb9f3a"
             ],
             [
              0.8888888888888888,
              "#fdca26"
             ],
             [
              1,
              "#f0f921"
             ]
            ],
            "type": "heatmapgl"
           }
          ],
          "histogram": [
           {
            "marker": {
             "colorbar": {
              "outlinewidth": 0,
              "ticks": ""
             }
            },
            "type": "histogram"
           }
          ],
          "histogram2d": [
           {
            "colorbar": {
             "outlinewidth": 0,
             "ticks": ""
            },
            "colorscale": [
             [
              0,
              "#0d0887"
             ],
             [
              0.1111111111111111,
              "#46039f"
             ],
             [
              0.2222222222222222,
              "#7201a8"
             ],
             [
              0.3333333333333333,
              "#9c179e"
             ],
             [
              0.4444444444444444,
              "#bd3786"
             ],
             [
              0.5555555555555556,
              "#d8576b"
             ],
             [
              0.6666666666666666,
              "#ed7953"
             ],
             [
              0.7777777777777778,
              "#fb9f3a"
             ],
             [
              0.8888888888888888,
              "#fdca26"
             ],
             [
              1,
              "#f0f921"
             ]
            ],
            "type": "histogram2d"
           }
          ],
          "histogram2dcontour": [
           {
            "colorbar": {
             "outlinewidth": 0,
             "ticks": ""
            },
            "colorscale": [
             [
              0,
              "#0d0887"
             ],
             [
              0.1111111111111111,
              "#46039f"
             ],
             [
              0.2222222222222222,
              "#7201a8"
             ],
             [
              0.3333333333333333,
              "#9c179e"
             ],
             [
              0.4444444444444444,
              "#bd3786"
             ],
             [
              0.5555555555555556,
              "#d8576b"
             ],
             [
              0.6666666666666666,
              "#ed7953"
             ],
             [
              0.7777777777777778,
              "#fb9f3a"
             ],
             [
              0.8888888888888888,
              "#fdca26"
             ],
             [
              1,
              "#f0f921"
             ]
            ],
            "type": "histogram2dcontour"
           }
          ],
          "mesh3d": [
           {
            "colorbar": {
             "outlinewidth": 0,
             "ticks": ""
            },
            "type": "mesh3d"
           }
          ],
          "parcoords": [
           {
            "line": {
             "colorbar": {
              "outlinewidth": 0,
              "ticks": ""
             }
            },
            "type": "parcoords"
           }
          ],
          "pie": [
           {
            "automargin": true,
            "type": "pie"
           }
          ],
          "scatter": [
           {
            "marker": {
             "colorbar": {
              "outlinewidth": 0,
              "ticks": ""
             }
            },
            "type": "scatter"
           }
          ],
          "scatter3d": [
           {
            "line": {
             "colorbar": {
              "outlinewidth": 0,
              "ticks": ""
             }
            },
            "marker": {
             "colorbar": {
              "outlinewidth": 0,
              "ticks": ""
             }
            },
            "type": "scatter3d"
           }
          ],
          "scattercarpet": [
           {
            "marker": {
             "colorbar": {
              "outlinewidth": 0,
              "ticks": ""
             }
            },
            "type": "scattercarpet"
           }
          ],
          "scattergeo": [
           {
            "marker": {
             "colorbar": {
              "outlinewidth": 0,
              "ticks": ""
             }
            },
            "type": "scattergeo"
           }
          ],
          "scattergl": [
           {
            "marker": {
             "colorbar": {
              "outlinewidth": 0,
              "ticks": ""
             }
            },
            "type": "scattergl"
           }
          ],
          "scattermapbox": [
           {
            "marker": {
             "colorbar": {
              "outlinewidth": 0,
              "ticks": ""
             }
            },
            "type": "scattermapbox"
           }
          ],
          "scatterpolar": [
           {
            "marker": {
             "colorbar": {
              "outlinewidth": 0,
              "ticks": ""
             }
            },
            "type": "scatterpolar"
           }
          ],
          "scatterpolargl": [
           {
            "marker": {
             "colorbar": {
              "outlinewidth": 0,
              "ticks": ""
             }
            },
            "type": "scatterpolargl"
           }
          ],
          "scatterternary": [
           {
            "marker": {
             "colorbar": {
              "outlinewidth": 0,
              "ticks": ""
             }
            },
            "type": "scatterternary"
           }
          ],
          "surface": [
           {
            "colorbar": {
             "outlinewidth": 0,
             "ticks": ""
            },
            "colorscale": [
             [
              0,
              "#0d0887"
             ],
             [
              0.1111111111111111,
              "#46039f"
             ],
             [
              0.2222222222222222,
              "#7201a8"
             ],
             [
              0.3333333333333333,
              "#9c179e"
             ],
             [
              0.4444444444444444,
              "#bd3786"
             ],
             [
              0.5555555555555556,
              "#d8576b"
             ],
             [
              0.6666666666666666,
              "#ed7953"
             ],
             [
              0.7777777777777778,
              "#fb9f3a"
             ],
             [
              0.8888888888888888,
              "#fdca26"
             ],
             [
              1,
              "#f0f921"
             ]
            ],
            "type": "surface"
           }
          ],
          "table": [
           {
            "cells": {
             "fill": {
              "color": "#EBF0F8"
             },
             "line": {
              "color": "white"
             }
            },
            "header": {
             "fill": {
              "color": "#C8D4E3"
             },
             "line": {
              "color": "white"
             }
            },
            "type": "table"
           }
          ]
         },
         "layout": {
          "annotationdefaults": {
           "arrowcolor": "#2a3f5f",
           "arrowhead": 0,
           "arrowwidth": 1
          },
          "coloraxis": {
           "colorbar": {
            "outlinewidth": 0,
            "ticks": ""
           }
          },
          "colorscale": {
           "diverging": [
            [
             0,
             "#8e0152"
            ],
            [
             0.1,
             "#c51b7d"
            ],
            [
             0.2,
             "#de77ae"
            ],
            [
             0.3,
             "#f1b6da"
            ],
            [
             0.4,
             "#fde0ef"
            ],
            [
             0.5,
             "#f7f7f7"
            ],
            [
             0.6,
             "#e6f5d0"
            ],
            [
             0.7,
             "#b8e186"
            ],
            [
             0.8,
             "#7fbc41"
            ],
            [
             0.9,
             "#4d9221"
            ],
            [
             1,
             "#276419"
            ]
           ],
           "sequential": [
            [
             0,
             "#0d0887"
            ],
            [
             0.1111111111111111,
             "#46039f"
            ],
            [
             0.2222222222222222,
             "#7201a8"
            ],
            [
             0.3333333333333333,
             "#9c179e"
            ],
            [
             0.4444444444444444,
             "#bd3786"
            ],
            [
             0.5555555555555556,
             "#d8576b"
            ],
            [
             0.6666666666666666,
             "#ed7953"
            ],
            [
             0.7777777777777778,
             "#fb9f3a"
            ],
            [
             0.8888888888888888,
             "#fdca26"
            ],
            [
             1,
             "#f0f921"
            ]
           ],
           "sequentialminus": [
            [
             0,
             "#0d0887"
            ],
            [
             0.1111111111111111,
             "#46039f"
            ],
            [
             0.2222222222222222,
             "#7201a8"
            ],
            [
             0.3333333333333333,
             "#9c179e"
            ],
            [
             0.4444444444444444,
             "#bd3786"
            ],
            [
             0.5555555555555556,
             "#d8576b"
            ],
            [
             0.6666666666666666,
             "#ed7953"
            ],
            [
             0.7777777777777778,
             "#fb9f3a"
            ],
            [
             0.8888888888888888,
             "#fdca26"
            ],
            [
             1,
             "#f0f921"
            ]
           ]
          },
          "colorway": [
           "#636efa",
           "#EF553B",
           "#00cc96",
           "#ab63fa",
           "#FFA15A",
           "#19d3f3",
           "#FF6692",
           "#B6E880",
           "#FF97FF",
           "#FECB52"
          ],
          "font": {
           "color": "#2a3f5f"
          },
          "geo": {
           "bgcolor": "white",
           "lakecolor": "white",
           "landcolor": "#E5ECF6",
           "showlakes": true,
           "showland": true,
           "subunitcolor": "white"
          },
          "hoverlabel": {
           "align": "left"
          },
          "hovermode": "closest",
          "mapbox": {
           "style": "light"
          },
          "paper_bgcolor": "white",
          "plot_bgcolor": "#E5ECF6",
          "polar": {
           "angularaxis": {
            "gridcolor": "white",
            "linecolor": "white",
            "ticks": ""
           },
           "bgcolor": "#E5ECF6",
           "radialaxis": {
            "gridcolor": "white",
            "linecolor": "white",
            "ticks": ""
           }
          },
          "scene": {
           "xaxis": {
            "backgroundcolor": "#E5ECF6",
            "gridcolor": "white",
            "gridwidth": 2,
            "linecolor": "white",
            "showbackground": true,
            "ticks": "",
            "zerolinecolor": "white"
           },
           "yaxis": {
            "backgroundcolor": "#E5ECF6",
            "gridcolor": "white",
            "gridwidth": 2,
            "linecolor": "white",
            "showbackground": true,
            "ticks": "",
            "zerolinecolor": "white"
           },
           "zaxis": {
            "backgroundcolor": "#E5ECF6",
            "gridcolor": "white",
            "gridwidth": 2,
            "linecolor": "white",
            "showbackground": true,
            "ticks": "",
            "zerolinecolor": "white"
           }
          },
          "shapedefaults": {
           "line": {
            "color": "#2a3f5f"
           }
          },
          "ternary": {
           "aaxis": {
            "gridcolor": "white",
            "linecolor": "white",
            "ticks": ""
           },
           "baxis": {
            "gridcolor": "white",
            "linecolor": "white",
            "ticks": ""
           },
           "bgcolor": "#E5ECF6",
           "caxis": {
            "gridcolor": "white",
            "linecolor": "white",
            "ticks": ""
           }
          },
          "title": {
           "x": 0.05
          },
          "xaxis": {
           "automargin": true,
           "gridcolor": "white",
           "linecolor": "white",
           "ticks": "",
           "title": {
            "standoff": 15
           },
           "zerolinecolor": "white",
           "zerolinewidth": 2
          },
          "yaxis": {
           "automargin": true,
           "gridcolor": "white",
           "linecolor": "white",
           "ticks": "",
           "title": {
            "standoff": 15
           },
           "zerolinecolor": "white",
           "zerolinewidth": 2
          }
         }
        },
        "title": {
         "font": {
          "color": "Dark Gray",
          "family": "Avenir"
         },
         "text": "Newborn Deaths per 1,000 Births in 2015 per Country"
        },
        "xaxis": {
         "anchor": "y",
         "domain": [
          0,
          1
         ],
         "title": {
          "font": {
           "family": "Avenir"
          },
          "text": "Number of Deaths"
         }
        },
        "yaxis": {
         "anchor": "x",
         "domain": [
          0,
          1
         ],
         "title": {
          "font": {
           "family": "Avenir"
          },
          "text": "Country"
         }
        }
       }
      },
      "text/html": [
       "<div>                            <div id=\"f847ec95-31b6-4c0a-9648-dab15df4f0c0\" class=\"plotly-graph-div\" style=\"height:3500px; width:100%;\"></div>            <script type=\"text/javascript\">                require([\"plotly\"], function(Plotly) {                    window.PLOTLYENV=window.PLOTLYENV || {};                                    if (document.getElementById(\"f847ec95-31b6-4c0a-9648-dab15df4f0c0\")) {                    Plotly.newPlot(                        \"f847ec95-31b6-4c0a-9648-dab15df4f0c0\",                        [{\"alignmentgroup\": \"True\", \"customdata\": [[0.9], [0.9], [0.9], [1.0], [1.1], [1.3], [1.4], [1.5], [1.5], [1.5], [1.6], [1.6], [1.8], [1.9], [2.0], [2.1], [2.1], [2.1], [2.1], [2.2], [2.2], [2.2], [2.3], [2.3], [2.4], [2.4], [2.5], [2.5], [2.6], [2.7], [3.1], [3.1], [3.1], [3.2], [3.2], [3.5], [3.5], [3.5], [3.6], [3.8], [3.9], [4.0], [4.2], [4.2], [4.3], [4.4], [4.8], [4.9], [4.9], [4.9], [5.0], [5.1], [5.2], [5.2], [5.4], [5.5], [5.5], [5.6], [6.0], [6.2], [6.2], [6.3], [6.3], [6.5], [6.7], [6.9], [6.9], [7.0], [7.0], [7.0], [7.1], [7.2], [7.2], [7.4], [7.9], [8.0], [8.2], [8.2], [8.3], [8.3], [8.4], [8.5], [8.6], [8.9], [8.9], [9.0], [9.3], [9.5], [9.5], [9.6], [9.6], [9.8], [10.6], [10.8], [10.9], [11.0], [11.0], [11.1], [11.4], [11.5], [11.5], [11.5], [11.6], [11.6], [11.8], [11.9], [12.2], [12.2], [12.6], [12.8], [13.2], [13.4], [13.5], [13.5], [14.2], [14.8], [15.5], [15.6], [15.9], [16.7], [17.1], [17.6], [17.6], [18.0], [18.2], [18.3], [18.4], [18.4], [18.7], [18.7], [18.8], [18.8], [19.6], [19.7], [20.4], [20.5], [20.8], [21.4], [21.7], [21.8], [21.9], [22.1], [22.2], [22.2], [22.3], [22.6], [22.7], [22.8], [23.2], [23.3], [23.5], [23.7], [24.1], [24.5], [25.4], [25.7], [26.4], [26.7], [26.7], [26.8], [27.1], [27.7], [27.7], [28.3], [28.6], [29.8], [29.9], [30.1], [30.1], [31.3], [31.8], [32.7], [33.1], [33.4], [34.0], [34.3], [34.9], [35.5], [35.7], [37.8], [37.9], [39.3], [39.3], [39.7], [39.7], [42.6], [45.5], [48.7]], \"hovertemplate\": \"2015=%{customdata[0]:.2f}<br>country=%{y}<extra></extra>\", \"legendgroup\": \"\", \"marker\": {\"color\": \"#636efa\"}, \"name\": \"\", \"offsetgroup\": \"\", \"orientation\": \"h\", \"showlegend\": false, \"textposition\": \"auto\", \"type\": \"bar\", \"x\": [0.9, 0.9, 0.9, 1.0, 1.1, 1.3, 1.4, 1.5, 1.5, 1.5, 1.6, 1.6, 1.8, 1.9, 2.0, 2.1, 2.1, 2.1, 2.1, 2.2, 2.2, 2.2, 2.3, 2.3, 2.4, 2.4, 2.5, 2.5, 2.6, 2.7, 3.1, 3.1, 3.1, 3.2, 3.2, 3.5, 3.5, 3.5, 3.6, 3.8, 3.9, 4.0, 4.2, 4.2, 4.3, 4.4, 4.8, 4.9, 4.9, 4.9, 5.0, 5.1, 5.2, 5.2, 5.4, 5.5, 5.5, 5.6, 6.0, 6.2, 6.2, 6.3, 6.3, 6.5, 6.7, 6.9, 6.9, 7.0, 7.0, 7.0, 7.1, 7.2, 7.2, 7.4, 7.9, 8.0, 8.2, 8.2, 8.3, 8.3, 8.4, 8.5, 8.6, 8.9, 8.9, 9.0, 9.3, 9.5, 9.5, 9.6, 9.6, 9.8, 10.6, 10.8, 10.9, 11.0, 11.0, 11.1, 11.4, 11.5, 11.5, 11.5, 11.6, 11.6, 11.8, 11.9, 12.2, 12.2, 12.6, 12.8, 13.2, 13.4, 13.5, 13.5, 14.2, 14.8, 15.5, 15.6, 15.9, 16.7, 17.1, 17.6, 17.6, 18.0, 18.2, 18.3, 18.4, 18.4, 18.7, 18.7, 18.8, 18.8, 19.6, 19.7, 20.4, 20.5, 20.8, 21.4, 21.7, 21.8, 21.9, 22.1, 22.2, 22.2, 22.3, 22.6, 22.7, 22.8, 23.2, 23.3, 23.5, 23.7, 24.1, 24.5, 25.4, 25.7, 26.4, 26.7, 26.7, 26.8, 27.1, 27.7, 27.7, 28.3, 28.6, 29.8, 29.9, 30.1, 30.1, 31.3, 31.8, 32.7, 33.1, 33.4, 34.0, 34.3, 34.9, 35.5, 35.7, 37.8, 37.9, 39.3, 39.3, 39.7, 39.7, 42.6, 45.5, 48.7], \"xaxis\": \"x\", \"y\": [\"Iceland\", \"Japan\", \"Luxembourg\", \"Singapore\", \"Bahrain\", \"Finland\", \"Slovenia\", \"Estonia\", \"Cyprus\", \"Norway\", \"South Korea\", \"Sweden\", \"Czech Republic\", \"Belarus\", \"Portugal\", \"Israel\", \"Italy\", \"Austria\", \"Germany\", \"Australia\", \"Belgium\", \"France\", \"Cuba\", \"Ireland\", \"Netherlands\", \"United Kingdom\", \"Denmark\", \"Lithuania\", \"Croatia\", \"Switzerland\", \"Montenegro\", \"Poland\", \"New Zealand\", \"Kuwait\", \"Canada\", \"Hungary\", \"United Arab Emirates\", \"North Macedonia\", \"United States\", \"Qatar\", \"Malaysia\", \"Bosnia and Herzegovina\", \"Serbia\", \"Slovak Republic\", \"Brunei\", \"Malta\", \"Lebanon\", \"Chile\", \"Maldives\", \"Antigua and Barbuda\", \"Russia\", \"Uruguay\", \"Latvia\", \"Oman\", \"Sri Lanka\", \"Ukraine\", \"China\", \"Bulgaria\", \"Grenada\", \"Albania\", \"Costa Rica\", \"Romania\", \"Argentina\", \"St. Kitts and Nevis\", \"Thailand\", \"Bahamas\", \"Tonga\", \"Kazakhstan\", \"Mexico\", \"Syria\", \"Turkey\", \"Georgia\", \"Libya\", \"Armenia\", \"Saudi Arabia\", \"Barbados\", \"Tunisia\", \"Peru\", \"El Salvador\", \"Belize\", \"Mauritius\", \"Colombia\", \"Seychelles\", \"Brazil\", \"Venezuela\", \"Palau\", \"St. Lucia\", \"Iran\", \"Samoa\", \"Panama\", \"Fiji\", \"Nicaragua\", \"Jordan\", \"Ecuador\", \"Paraguay\", \"South Africa\", \"Honduras\", \"Mongolia\", \"Vietnam\", \"Suriname\", \"Kyrgyz Republic\", \"St. Vincent and the Grenadines\", \"Vanuatu\", \"Jamaica\", \"Palestine\", \"Moldova\", \"Solomon Islands\", \"Cape Verde\", \"Philippines\", \"Egypt\", \"Trinidad and Tobago\", \"Guatemala\", \"North Korea\", \"Indonesia\", \"Eswatini\", \"Cambodia\", \"Algeria\", \"Dominica\", \"Namibia\", \"Marshall Islands\", \"Sao Tome and Principe\", \"Tuvalu\", \"Morocco\", \"Congo, Rep.\", \"Azerbaijan\", \"Bhutan\", \"Eritrea\", \"Iraq\", \"Rwanda\", \"Uganda\", \"Micronesia, Fed. Sts.\", \"Tanzania\", \"Bolivia\", \"Madagascar\", \"Uzbekistan\", \"Tajikistan\", \"Senegal\", \"Zambia\", \"Dominican Republic\", \"Malawi\", \"Botswana\", \"Yemen\", \"Kenya\", \"Nepal\", \"Timor-Leste\", \"Turkmenistan\", \"Nauru\", \"Guyana\", \"Gabon\", \"Bangladesh\", \"Zimbabwe\", \"Kiribati\", \"Liberia\", \"Papua New Guinea\", \"Haiti\", \"Cameroon\", \"Myanmar\", \"Togo\", \"Burkina Faso\", \"Niger\", \"Mozambique\", \"Ethiopia\", \"India\", \"Ghana\", \"Burundi\", \"Sudan\", \"Gambia\", \"Congo, Dem. Rep.\", \"Lao\", \"Guinea\", \"Benin\", \"Lesotho\", \"Equatorial Guinea\", \"Djibouti\", \"Comoros\", \"Nigeria\", \"Sierra Leone\", \"Afghanistan\", \"Mauritania\", \"Mali\", \"Cote d'Ivoire\", \"Chad\", \"South Sudan\", \"Somalia\", \"Guinea-Bissau\", \"Central African Republic\", \"Pakistan\", \"Angola\"], \"yaxis\": \"y\"}],                        {\"barmode\": \"relative\", \"font\": {\"color\": \"Black\", \"family\": \"Avenir\", \"size\": 14}, \"height\": 3500, \"legend\": {\"title\": {\"font\": {\"color\": \"Black\"}}, \"tracegroupgap\": 0}, \"template\": {\"data\": {\"bar\": [{\"error_x\": {\"color\": \"#2a3f5f\"}, \"error_y\": {\"color\": \"#2a3f5f\"}, \"marker\": {\"line\": {\"color\": \"#E5ECF6\", \"width\": 0.5}}, \"type\": \"bar\"}], \"barpolar\": [{\"marker\": {\"line\": {\"color\": \"#E5ECF6\", \"width\": 0.5}}, \"type\": \"barpolar\"}], \"carpet\": [{\"aaxis\": {\"endlinecolor\": \"#2a3f5f\", \"gridcolor\": \"white\", \"linecolor\": \"white\", \"minorgridcolor\": \"white\", \"startlinecolor\": \"#2a3f5f\"}, \"baxis\": {\"endlinecolor\": \"#2a3f5f\", \"gridcolor\": \"white\", \"linecolor\": \"white\", \"minorgridcolor\": \"white\", \"startlinecolor\": \"#2a3f5f\"}, \"type\": \"carpet\"}], \"choropleth\": [{\"colorbar\": {\"outlinewidth\": 0, \"ticks\": \"\"}, \"type\": \"choropleth\"}], \"contour\": [{\"colorbar\": {\"outlinewidth\": 0, \"ticks\": \"\"}, \"colorscale\": [[0.0, \"#0d0887\"], [0.1111111111111111, \"#46039f\"], [0.2222222222222222, \"#7201a8\"], [0.3333333333333333, \"#9c179e\"], [0.4444444444444444, \"#bd3786\"], [0.5555555555555556, \"#d8576b\"], [0.6666666666666666, \"#ed7953\"], [0.7777777777777778, \"#fb9f3a\"], [0.8888888888888888, \"#fdca26\"], [1.0, \"#f0f921\"]], \"type\": \"contour\"}], \"contourcarpet\": [{\"colorbar\": {\"outlinewidth\": 0, \"ticks\": \"\"}, \"type\": \"contourcarpet\"}], \"heatmap\": [{\"colorbar\": {\"outlinewidth\": 0, \"ticks\": \"\"}, \"colorscale\": [[0.0, \"#0d0887\"], [0.1111111111111111, \"#46039f\"], [0.2222222222222222, \"#7201a8\"], [0.3333333333333333, \"#9c179e\"], [0.4444444444444444, \"#bd3786\"], [0.5555555555555556, \"#d8576b\"], [0.6666666666666666, \"#ed7953\"], [0.7777777777777778, \"#fb9f3a\"], [0.8888888888888888, \"#fdca26\"], [1.0, \"#f0f921\"]], \"type\": \"heatmap\"}], \"heatmapgl\": [{\"colorbar\": {\"outlinewidth\": 0, \"ticks\": \"\"}, \"colorscale\": [[0.0, \"#0d0887\"], [0.1111111111111111, \"#46039f\"], [0.2222222222222222, \"#7201a8\"], [0.3333333333333333, \"#9c179e\"], [0.4444444444444444, \"#bd3786\"], [0.5555555555555556, \"#d8576b\"], [0.6666666666666666, \"#ed7953\"], [0.7777777777777778, \"#fb9f3a\"], [0.8888888888888888, \"#fdca26\"], [1.0, \"#f0f921\"]], \"type\": \"heatmapgl\"}], \"histogram\": [{\"marker\": {\"colorbar\": {\"outlinewidth\": 0, \"ticks\": \"\"}}, \"type\": \"histogram\"}], \"histogram2d\": [{\"colorbar\": {\"outlinewidth\": 0, \"ticks\": \"\"}, \"colorscale\": [[0.0, \"#0d0887\"], [0.1111111111111111, \"#46039f\"], [0.2222222222222222, \"#7201a8\"], [0.3333333333333333, \"#9c179e\"], [0.4444444444444444, \"#bd3786\"], [0.5555555555555556, \"#d8576b\"], [0.6666666666666666, \"#ed7953\"], [0.7777777777777778, \"#fb9f3a\"], [0.8888888888888888, \"#fdca26\"], [1.0, \"#f0f921\"]], \"type\": \"histogram2d\"}], \"histogram2dcontour\": [{\"colorbar\": {\"outlinewidth\": 0, \"ticks\": \"\"}, \"colorscale\": [[0.0, \"#0d0887\"], [0.1111111111111111, \"#46039f\"], [0.2222222222222222, \"#7201a8\"], [0.3333333333333333, \"#9c179e\"], [0.4444444444444444, \"#bd3786\"], [0.5555555555555556, \"#d8576b\"], [0.6666666666666666, \"#ed7953\"], [0.7777777777777778, \"#fb9f3a\"], [0.8888888888888888, \"#fdca26\"], [1.0, \"#f0f921\"]], \"type\": \"histogram2dcontour\"}], \"mesh3d\": [{\"colorbar\": {\"outlinewidth\": 0, \"ticks\": \"\"}, \"type\": \"mesh3d\"}], \"parcoords\": [{\"line\": {\"colorbar\": {\"outlinewidth\": 0, \"ticks\": \"\"}}, \"type\": \"parcoords\"}], \"pie\": [{\"automargin\": true, \"type\": \"pie\"}], \"scatter\": [{\"marker\": {\"colorbar\": {\"outlinewidth\": 0, \"ticks\": \"\"}}, \"type\": \"scatter\"}], \"scatter3d\": [{\"line\": {\"colorbar\": {\"outlinewidth\": 0, \"ticks\": \"\"}}, \"marker\": {\"colorbar\": {\"outlinewidth\": 0, \"ticks\": \"\"}}, \"type\": \"scatter3d\"}], \"scattercarpet\": [{\"marker\": {\"colorbar\": {\"outlinewidth\": 0, \"ticks\": \"\"}}, \"type\": \"scattercarpet\"}], \"scattergeo\": [{\"marker\": {\"colorbar\": {\"outlinewidth\": 0, \"ticks\": \"\"}}, \"type\": \"scattergeo\"}], \"scattergl\": [{\"marker\": {\"colorbar\": {\"outlinewidth\": 0, \"ticks\": \"\"}}, \"type\": \"scattergl\"}], \"scattermapbox\": [{\"marker\": {\"colorbar\": {\"outlinewidth\": 0, \"ticks\": \"\"}}, \"type\": \"scattermapbox\"}], \"scatterpolar\": [{\"marker\": {\"colorbar\": {\"outlinewidth\": 0, \"ticks\": \"\"}}, \"type\": \"scatterpolar\"}], \"scatterpolargl\": [{\"marker\": {\"colorbar\": {\"outlinewidth\": 0, \"ticks\": \"\"}}, \"type\": \"scatterpolargl\"}], \"scatterternary\": [{\"marker\": {\"colorbar\": {\"outlinewidth\": 0, \"ticks\": \"\"}}, \"type\": \"scatterternary\"}], \"surface\": [{\"colorbar\": {\"outlinewidth\": 0, \"ticks\": \"\"}, \"colorscale\": [[0.0, \"#0d0887\"], [0.1111111111111111, \"#46039f\"], [0.2222222222222222, \"#7201a8\"], [0.3333333333333333, \"#9c179e\"], [0.4444444444444444, \"#bd3786\"], [0.5555555555555556, \"#d8576b\"], [0.6666666666666666, \"#ed7953\"], [0.7777777777777778, \"#fb9f3a\"], [0.8888888888888888, \"#fdca26\"], [1.0, \"#f0f921\"]], \"type\": \"surface\"}], \"table\": [{\"cells\": {\"fill\": {\"color\": \"#EBF0F8\"}, \"line\": {\"color\": \"white\"}}, \"header\": {\"fill\": {\"color\": \"#C8D4E3\"}, \"line\": {\"color\": \"white\"}}, \"type\": \"table\"}]}, \"layout\": {\"annotationdefaults\": {\"arrowcolor\": \"#2a3f5f\", \"arrowhead\": 0, \"arrowwidth\": 1}, \"coloraxis\": {\"colorbar\": {\"outlinewidth\": 0, \"ticks\": \"\"}}, \"colorscale\": {\"diverging\": [[0, \"#8e0152\"], [0.1, \"#c51b7d\"], [0.2, \"#de77ae\"], [0.3, \"#f1b6da\"], [0.4, \"#fde0ef\"], [0.5, \"#f7f7f7\"], [0.6, \"#e6f5d0\"], [0.7, \"#b8e186\"], [0.8, \"#7fbc41\"], [0.9, \"#4d9221\"], [1, \"#276419\"]], \"sequential\": [[0.0, \"#0d0887\"], [0.1111111111111111, \"#46039f\"], [0.2222222222222222, \"#7201a8\"], [0.3333333333333333, \"#9c179e\"], [0.4444444444444444, \"#bd3786\"], [0.5555555555555556, \"#d8576b\"], [0.6666666666666666, \"#ed7953\"], [0.7777777777777778, \"#fb9f3a\"], [0.8888888888888888, \"#fdca26\"], [1.0, \"#f0f921\"]], \"sequentialminus\": [[0.0, \"#0d0887\"], [0.1111111111111111, \"#46039f\"], [0.2222222222222222, \"#7201a8\"], [0.3333333333333333, \"#9c179e\"], [0.4444444444444444, \"#bd3786\"], [0.5555555555555556, \"#d8576b\"], [0.6666666666666666, \"#ed7953\"], [0.7777777777777778, \"#fb9f3a\"], [0.8888888888888888, \"#fdca26\"], [1.0, \"#f0f921\"]]}, \"colorway\": [\"#636efa\", \"#EF553B\", \"#00cc96\", \"#ab63fa\", \"#FFA15A\", \"#19d3f3\", \"#FF6692\", \"#B6E880\", \"#FF97FF\", \"#FECB52\"], \"font\": {\"color\": \"#2a3f5f\"}, \"geo\": {\"bgcolor\": \"white\", \"lakecolor\": \"white\", \"landcolor\": \"#E5ECF6\", \"showlakes\": true, \"showland\": true, \"subunitcolor\": \"white\"}, \"hoverlabel\": {\"align\": \"left\"}, \"hovermode\": \"closest\", \"mapbox\": {\"style\": \"light\"}, \"paper_bgcolor\": \"white\", \"plot_bgcolor\": \"#E5ECF6\", \"polar\": {\"angularaxis\": {\"gridcolor\": \"white\", \"linecolor\": \"white\", \"ticks\": \"\"}, \"bgcolor\": \"#E5ECF6\", \"radialaxis\": {\"gridcolor\": \"white\", \"linecolor\": \"white\", \"ticks\": \"\"}}, \"scene\": {\"xaxis\": {\"backgroundcolor\": \"#E5ECF6\", \"gridcolor\": \"white\", \"gridwidth\": 2, \"linecolor\": \"white\", \"showbackground\": true, \"ticks\": \"\", \"zerolinecolor\": \"white\"}, \"yaxis\": {\"backgroundcolor\": \"#E5ECF6\", \"gridcolor\": \"white\", \"gridwidth\": 2, \"linecolor\": \"white\", \"showbackground\": true, \"ticks\": \"\", \"zerolinecolor\": \"white\"}, \"zaxis\": {\"backgroundcolor\": \"#E5ECF6\", \"gridcolor\": \"white\", \"gridwidth\": 2, \"linecolor\": \"white\", \"showbackground\": true, \"ticks\": \"\", \"zerolinecolor\": \"white\"}}, \"shapedefaults\": {\"line\": {\"color\": \"#2a3f5f\"}}, \"ternary\": {\"aaxis\": {\"gridcolor\": \"white\", \"linecolor\": \"white\", \"ticks\": \"\"}, \"baxis\": {\"gridcolor\": \"white\", \"linecolor\": \"white\", \"ticks\": \"\"}, \"bgcolor\": \"#E5ECF6\", \"caxis\": {\"gridcolor\": \"white\", \"linecolor\": \"white\", \"ticks\": \"\"}}, \"title\": {\"x\": 0.05}, \"xaxis\": {\"automargin\": true, \"gridcolor\": \"white\", \"linecolor\": \"white\", \"ticks\": \"\", \"title\": {\"standoff\": 15}, \"zerolinecolor\": \"white\", \"zerolinewidth\": 2}, \"yaxis\": {\"automargin\": true, \"gridcolor\": \"white\", \"linecolor\": \"white\", \"ticks\": \"\", \"title\": {\"standoff\": 15}, \"zerolinecolor\": \"white\", \"zerolinewidth\": 2}}}, \"title\": {\"font\": {\"color\": \"Dark Gray\", \"family\": \"Avenir\"}, \"text\": \"Newborn Deaths per 1,000 Births in 2015 per Country\"}, \"xaxis\": {\"anchor\": \"y\", \"domain\": [0.0, 1.0], \"title\": {\"font\": {\"family\": \"Avenir\"}, \"text\": \"Number of Deaths\"}}, \"yaxis\": {\"anchor\": \"x\", \"domain\": [0.0, 1.0], \"title\": {\"font\": {\"family\": \"Avenir\"}, \"text\": \"Country\"}}},                        {\"responsive\": true}                    ).then(function(){\n",
       "                            \n",
       "var gd = document.getElementById('f847ec95-31b6-4c0a-9648-dab15df4f0c0');\n",
       "var x = new MutationObserver(function (mutations, observer) {{\n",
       "        var display = window.getComputedStyle(gd).display;\n",
       "        if (!display || display === 'none') {{\n",
       "            console.log([gd, 'removed!']);\n",
       "            Plotly.purge(gd);\n",
       "            observer.disconnect();\n",
       "        }}\n",
       "}});\n",
       "\n",
       "// Listen for the removal of the full notebook cells\n",
       "var notebookContainer = gd.closest('#notebook-container');\n",
       "if (notebookContainer) {{\n",
       "    x.observe(notebookContainer, {childList: true});\n",
       "}}\n",
       "\n",
       "// Listen for the clearing of the current output cell\n",
       "var outputEl = gd.closest('.output');\n",
       "if (outputEl) {{\n",
       "    x.observe(outputEl, {childList: true});\n",
       "}}\n",
       "\n",
       "                        })                };                });            </script>        </div>"
      ]
     },
     "metadata": {},
     "output_type": "display_data"
    }
   ],
   "source": [
    "# Apply function to create horizontal bar plot with the values for all countries\n",
    "per_country_bar_plot(df_newborn, \"2015\", \"Newborn Deaths per 1,000 Births in 2015 per Country\", \"Number of Deaths\");"
   ]
  },
  {
   "cell_type": "markdown",
   "metadata": {},
   "source": [
    "__Observations:__ As the chart shows, the countries with the lowest newborn mortality rates include European countries such as Iceland and Luxembourg, and Asian countries such as Japan, Singapore, and Bahrain. The countries with the highest rates include some African and South Asian countries such as Angola, Pakistan, Central African Republic, Guinea-Bissau, and Somalia."
   ]
  },
  {
   "cell_type": "markdown",
   "metadata": {},
   "source": [
    "### How have newborn mortality rates changed over time worlwide?"
   ]
  },
  {
   "cell_type": "code",
   "execution_count": 158,
   "metadata": {},
   "outputs": [
    {
     "data": {
      "text/plain": [
       "1990    25.642553\n",
       "1991    25.182447\n",
       "1992    24.750000\n",
       "1993    24.330319\n",
       "1994    23.902128\n",
       "1995    23.439362\n",
       "1996    22.964362\n",
       "1997    22.465957\n",
       "1998    21.945213\n",
       "1999    21.396277\n",
       "2000    20.828191\n",
       "2001    20.261170\n",
       "2002    19.702128\n",
       "2003    19.165957\n",
       "2004    18.650532\n",
       "2005    18.153723\n",
       "2006    17.677128\n",
       "2007    17.222340\n",
       "2008    16.786170\n",
       "2009    16.359043\n",
       "2010    15.955851\n",
       "2011    15.532447\n",
       "2012    15.123404\n",
       "2013    14.728191\n",
       "2014    14.342021\n",
       "2015    13.971809\n",
       "dtype: float64"
      ]
     },
     "execution_count": 158,
     "metadata": {},
     "output_type": "execute_result"
    }
   ],
   "source": [
    "# Calculate means of newborn mortality rates for each year, accross countries\n",
    "newb_mean = df_newborn.mean()\n",
    "newb_mean"
   ]
  },
  {
   "cell_type": "code",
   "execution_count": 159,
   "metadata": {
    "scrolled": true
   },
   "outputs": [
    {
     "data": {
      "image/png": "[encoded data removed]",
      "text/plain": [
       "<Figure size 648x216 with 1 Axes>"
      ]
     },
     "metadata": {
      "needs_background": "light"
     },
     "output_type": "display_data"
    }
   ],
   "source": [
    "# Plot means over time\n",
    "plt.figure(figsize=(9, 3))\n",
    "plt.plot(newb_mean)\n",
    "plt.xticks(rotation=45)\n",
    "\n",
    "plt.xlabel(\"Year\")\n",
    "plt.ylabel(\"Deaths per 1,000 births\")\n",
    "plt.title(\"Worldwide newborn mortality rate from 1990 through 2015\");"
   ]
  },
  {
   "cell_type": "markdown",
   "metadata": {},
   "source": [
    "__Observations:__ According to this chart, similarly to maternal mortality rates, newborn mortality rates have also decreased consistently from 1990 to 2015."
   ]
  },
  {
   "cell_type": "markdown",
   "metadata": {},
   "source": [
    "### How have newborn mortality rates changed in 26 years for each country?"
   ]
  },
  {
   "cell_type": "code",
   "execution_count": 160,
   "metadata": {},
   "outputs": [
    {
     "data": {
      "text/html": [
       "<div>\n",
       "<style scoped>\n",
       "    .dataframe tbody tr th:only-of-type {\n",
       "        vertical-align: middle;\n",
       "    }\n",
       "\n",
       "    .dataframe tbody tr th {\n",
       "        vertical-align: top;\n",
       "    }\n",
       "\n",
       "    .dataframe thead th {\n",
       "        text-align: right;\n",
       "    }\n",
       "</style>\n",
       "<table border=\"1\" class=\"dataframe\">\n",
       "  <thead>\n",
       "    <tr style=\"text-align: right;\">\n",
       "      <th></th>\n",
       "      <th>country</th>\n",
       "      <th>1990</th>\n",
       "      <th>1991</th>\n",
       "      <th>1992</th>\n",
       "      <th>1993</th>\n",
       "      <th>1994</th>\n",
       "      <th>1995</th>\n",
       "      <th>1996</th>\n",
       "      <th>1997</th>\n",
       "      <th>1998</th>\n",
       "      <th>...</th>\n",
       "      <th>2007</th>\n",
       "      <th>2008</th>\n",
       "      <th>2009</th>\n",
       "      <th>2010</th>\n",
       "      <th>2011</th>\n",
       "      <th>2012</th>\n",
       "      <th>2013</th>\n",
       "      <th>2014</th>\n",
       "      <th>2015</th>\n",
       "      <th>difference</th>\n",
       "    </tr>\n",
       "  </thead>\n",
       "  <tbody>\n",
       "    <tr>\n",
       "      <th>0</th>\n",
       "      <td>Afghanistan</td>\n",
       "      <td>52.8</td>\n",
       "      <td>51.9</td>\n",
       "      <td>50.9</td>\n",
       "      <td>49.9</td>\n",
       "      <td>49.1</td>\n",
       "      <td>48.2</td>\n",
       "      <td>47.5</td>\n",
       "      <td>47.0</td>\n",
       "      <td>46.1</td>\n",
       "      <td>...</td>\n",
       "      <td>40.4</td>\n",
       "      <td>39.8</td>\n",
       "      <td>39.1</td>\n",
       "      <td>38.7</td>\n",
       "      <td>38.1</td>\n",
       "      <td>37.4</td>\n",
       "      <td>36.8</td>\n",
       "      <td>36.1</td>\n",
       "      <td>35.5</td>\n",
       "      <td>-17.3</td>\n",
       "    </tr>\n",
       "    <tr>\n",
       "      <th>1</th>\n",
       "      <td>Albania</td>\n",
       "      <td>13.4</td>\n",
       "      <td>13.2</td>\n",
       "      <td>13.0</td>\n",
       "      <td>12.9</td>\n",
       "      <td>12.9</td>\n",
       "      <td>12.7</td>\n",
       "      <td>12.5</td>\n",
       "      <td>12.3</td>\n",
       "      <td>11.9</td>\n",
       "      <td>...</td>\n",
       "      <td>8.5</td>\n",
       "      <td>8.2</td>\n",
       "      <td>7.9</td>\n",
       "      <td>7.5</td>\n",
       "      <td>7.2</td>\n",
       "      <td>7.0</td>\n",
       "      <td>6.8</td>\n",
       "      <td>6.5</td>\n",
       "      <td>6.2</td>\n",
       "      <td>-7.2</td>\n",
       "    </tr>\n",
       "    <tr>\n",
       "      <th>2</th>\n",
       "      <td>Algeria</td>\n",
       "      <td>22.4</td>\n",
       "      <td>22.1</td>\n",
       "      <td>22.0</td>\n",
       "      <td>21.8</td>\n",
       "      <td>21.7</td>\n",
       "      <td>21.5</td>\n",
       "      <td>21.3</td>\n",
       "      <td>21.1</td>\n",
       "      <td>21.0</td>\n",
       "      <td>...</td>\n",
       "      <td>18.2</td>\n",
       "      <td>17.5</td>\n",
       "      <td>17.0</td>\n",
       "      <td>16.5</td>\n",
       "      <td>16.2</td>\n",
       "      <td>15.9</td>\n",
       "      <td>15.7</td>\n",
       "      <td>15.6</td>\n",
       "      <td>15.5</td>\n",
       "      <td>-6.9</td>\n",
       "    </tr>\n",
       "    <tr>\n",
       "      <th>3</th>\n",
       "      <td>Angola</td>\n",
       "      <td>59.1</td>\n",
       "      <td>59.2</td>\n",
       "      <td>59.4</td>\n",
       "      <td>59.4</td>\n",
       "      <td>59.3</td>\n",
       "      <td>59.4</td>\n",
       "      <td>59.5</td>\n",
       "      <td>59.4</td>\n",
       "      <td>58.9</td>\n",
       "      <td>...</td>\n",
       "      <td>55.0</td>\n",
       "      <td>54.1</td>\n",
       "      <td>53.4</td>\n",
       "      <td>52.6</td>\n",
       "      <td>51.9</td>\n",
       "      <td>51.1</td>\n",
       "      <td>50.4</td>\n",
       "      <td>49.6</td>\n",
       "      <td>48.7</td>\n",
       "      <td>-10.4</td>\n",
       "    </tr>\n",
       "    <tr>\n",
       "      <th>4</th>\n",
       "      <td>Antigua and Barbuda</td>\n",
       "      <td>14.7</td>\n",
       "      <td>14.1</td>\n",
       "      <td>13.5</td>\n",
       "      <td>12.9</td>\n",
       "      <td>12.3</td>\n",
       "      <td>11.7</td>\n",
       "      <td>11.2</td>\n",
       "      <td>10.7</td>\n",
       "      <td>10.3</td>\n",
       "      <td>...</td>\n",
       "      <td>6.9</td>\n",
       "      <td>6.6</td>\n",
       "      <td>6.3</td>\n",
       "      <td>6.0</td>\n",
       "      <td>5.8</td>\n",
       "      <td>5.5</td>\n",
       "      <td>5.3</td>\n",
       "      <td>5.1</td>\n",
       "      <td>4.9</td>\n",
       "      <td>-9.8</td>\n",
       "    </tr>\n",
       "  </tbody>\n",
       "</table>\n",
       "<p>5 rows × 28 columns</p>\n",
       "</div>"
      ],
      "text/plain": [
       "               country  1990  1991  1992  1993  1994  1995  1996  1997  1998  \\\n",
       "0          Afghanistan  52.8  51.9  50.9  49.9  49.1  48.2  47.5  47.0  46.1   \n",
       "1              Albania  13.4  13.2  13.0  12.9  12.9  12.7  12.5  12.3  11.9   \n",
       "2              Algeria  22.4  22.1  22.0  21.8  21.7  21.5  21.3  21.1  21.0   \n",
       "3               Angola  59.1  59.2  59.4  59.4  59.3  59.4  59.5  59.4  58.9   \n",
       "4  Antigua and Barbuda  14.7  14.1  13.5  12.9  12.3  11.7  11.2  10.7  10.3   \n",
       "\n",
       "   ...  2007  2008  2009  2010  2011  2012  2013  2014  2015  difference  \n",
       "0  ...  40.4  39.8  39.1  38.7  38.1  37.4  36.8  36.1  35.5       -17.3  \n",
       "1  ...   8.5   8.2   7.9   7.5   7.2   7.0   6.8   6.5   6.2        -7.2  \n",
       "2  ...  18.2  17.5  17.0  16.5  16.2  15.9  15.7  15.6  15.5        -6.9  \n",
       "3  ...  55.0  54.1  53.4  52.6  51.9  51.1  50.4  49.6  48.7       -10.4  \n",
       "4  ...   6.9   6.6   6.3   6.0   5.8   5.5   5.3   5.1   4.9        -9.8  \n",
       "\n",
       "[5 rows x 28 columns]"
      ]
     },
     "execution_count": 160,
     "metadata": {},
     "output_type": "execute_result"
    }
   ],
   "source": [
    "# Create new column in the dataframe with the difference for each country between the rates in 1990 and in 2015\n",
    "df_newborn[\"difference\"] = df_newborn[\"2015\"] - df_newborn[\"1990\"]\n",
    "df_newborn.head()"
   ]
  },
  {
   "cell_type": "code",
   "execution_count": 161,
   "metadata": {},
   "outputs": [
    {
     "data": {
      "text/plain": [
       "-11.670744680851064"
      ]
     },
     "execution_count": 161,
     "metadata": {},
     "output_type": "execute_result"
    }
   ],
   "source": [
    "# Mean of the difference in newborn mortality rates between 1990 and 2015, and histogram\n",
    "df_newborn[\"difference\"].mean()"
   ]
  },
  {
   "cell_type": "code",
   "execution_count": 162,
   "metadata": {},
   "outputs": [
    {
     "data": {
      "image/png": "[encoded data removed]",
      "text/plain": [
       "<Figure size 432x288 with 1 Axes>"
      ]
     },
     "metadata": {
      "needs_background": "light"
     },
     "output_type": "display_data"
    }
   ],
   "source": [
    "df_newborn[\"difference\"].hist()\n",
    "plt.grid(False)\n",
    "plt.title(\"Distribution of the Difference between Newborn Deaths in 1990 and in 2015 per Country\")\n",
    "plt.xlabel(\"Difference between newborn deaths in 1990 and in 2015\")\n",
    "plt.ylabel(\"Number of countries\");"
   ]
  },
  {
   "cell_type": "markdown",
   "metadata": {},
   "source": [
    "__Observations:__ According to the analysis, the mean of the difference between rates in 1990 and 2015 is -11.67. This means that in average, worlwide, we have decrease newborn mortality rates by around 11 deaths a year. The histogram suggests that some countries have considerably decreased their rates (minus 30 or 40 deaths a year). Now, a limited number of countries seem to have increased the mortality rates. Let's see which countries are these in the following section."
   ]
  },
  {
   "cell_type": "markdown",
   "metadata": {},
   "source": [
    "### What countries have increased/decreased their newborn mortality rates?"
   ]
  },
  {
   "cell_type": "code",
   "execution_count": 163,
   "metadata": {},
   "outputs": [
    {
     "data": {
      "application/vnd.plotly.v1+json": {
       "config": {
        "plotlyServerURL": "https://plot.ly"
       },
       "data": [
        {
         "alignmentgroup": "True",
         "customdata": [
          [
           -40.099999999999994
          ],
          [
           -38
          ],
          [
           -36.3
          ],
          [
           -35.3
          ],
          [
           -34.4
          ],
          [
           -33.599999999999994
          ],
          [
           -33.2
          ],
          [
           -32.9
          ],
          [
           -31.599999999999998
          ],
          [
           -29.7
          ],
          [
           -27.7
          ],
          [
           -27.400000000000006
          ],
          [
           -26.8
          ],
          [
           -25.900000000000002
          ],
          [
           -25.700000000000003
          ],
          [
           -25.7
          ],
          [
           -25.6
          ],
          [
           -24.6
          ],
          [
           -24.2
          ],
          [
           -22.4
          ],
          [
           -22.099999999999998
          ],
          [
           -21.9
          ],
          [
           -20.800000000000004
          ],
          [
           -20.700000000000003
          ],
          [
           -20.7
          ],
          [
           -20.599999999999998
          ],
          [
           -20.500000000000004
          ],
          [
           -20.200000000000003
          ],
          [
           -19.8
          ],
          [
           -19.6
          ],
          [
           -19.599999999999998
          ],
          [
           -19.5
          ],
          [
           -19.400000000000002
          ],
          [
           -19
          ],
          [
           -18.9
          ],
          [
           -18.799999999999997
          ],
          [
           -17.7
          ],
          [
           -17.5
          ],
          [
           -17.5
          ],
          [
           -17.299999999999997
          ],
          [
           -17
          ],
          [
           -16.8
          ],
          [
           -16.7
          ],
          [
           -16.4
          ],
          [
           -16.1
          ],
          [
           -16.1
          ],
          [
           -16
          ],
          [
           -15.6
          ],
          [
           -15.6
          ],
          [
           -15.4
          ],
          [
           -15.3
          ],
          [
           -15.200000000000003
          ],
          [
           -15.000000000000004
          ],
          [
           -14.800000000000004
          ],
          [
           -14.600000000000001
          ],
          [
           -14.499999999999996
          ],
          [
           -14.4
          ],
          [
           -14.2
          ],
          [
           -14.1
          ],
          [
           -13.999999999999996
          ],
          [
           -13.800000000000004
          ],
          [
           -13.8
          ],
          [
           -13.7
          ],
          [
           -13.7
          ],
          [
           -13.7
          ],
          [
           -13.7
          ],
          [
           -13.600000000000001
          ],
          [
           -13.399999999999999
          ],
          [
           -13.399999999999999
          ],
          [
           -13.3
          ],
          [
           -12.600000000000001
          ],
          [
           -12.499999999999998
          ],
          [
           -12.400000000000002
          ],
          [
           -12.399999999999999
          ],
          [
           -12.3
          ],
          [
           -12.100000000000001
          ],
          [
           -11.8
          ],
          [
           -11.799999999999999
          ],
          [
           -11.799999999999999
          ],
          [
           -11.799999999999997
          ],
          [
           -11.5
          ],
          [
           -11.299999999999997
          ],
          [
           -11.100000000000001
          ],
          [
           -11
          ],
          [
           -10.900000000000002
          ],
          [
           -10.600000000000001
          ],
          [
           -10.599999999999998
          ],
          [
           -10.5
          ],
          [
           -10.399999999999999
          ],
          [
           -10.3
          ],
          [
           -10.3
          ],
          [
           -10.199999999999996
          ],
          [
           -10.1
          ],
          [
           -9.900000000000002
          ],
          [
           -9.799999999999999
          ],
          [
           -9.600000000000001
          ],
          [
           -9.6
          ],
          [
           -9.399999999999999
          ],
          [
           -9.399999999999999
          ],
          [
           -9.100000000000001
          ],
          [
           -9.000000000000002
          ],
          [
           -9
          ],
          [
           -8.9
          ],
          [
           -8.700000000000003
          ],
          [
           -8.699999999999996
          ],
          [
           -8.5
          ],
          [
           -8.5
          ],
          [
           -8.399999999999999
          ],
          [
           -8.3
          ],
          [
           -8
          ],
          [
           -7.900000000000002
          ],
          [
           -7.800000000000001
          ],
          [
           -7.799999999999999
          ],
          [
           -7.599999999999994
          ],
          [
           -7.500000000000001
          ],
          [
           -7.5
          ],
          [
           -7.4
          ],
          [
           -7.4
          ],
          [
           -7.399999999999999
          ],
          [
           -7.300000000000001
          ],
          [
           -7.300000000000001
          ],
          [
           -7.300000000000001
          ],
          [
           -7.2
          ],
          [
           -7.2
          ],
          [
           -7.2
          ],
          [
           -7.199999999999999
          ],
          [
           -7.199999999999999
          ],
          [
           -7.1
          ],
          [
           -7.1
          ],
          [
           -7.000000000000002
          ],
          [
           -7
          ],
          [
           -6.899999999999999
          ],
          [
           -6.8
          ],
          [
           -6.700000000000001
          ],
          [
           -6.699999999999999
          ],
          [
           -6.6
          ],
          [
           -6.199999999999999
          ],
          [
           -6.100000000000001
          ],
          [
           -6
          ],
          [
           -5.5
          ],
          [
           -5.399999999999999
          ],
          [
           -5.2
          ],
          [
           -5.199999999999999
          ],
          [
           -5.1
          ],
          [
           -4.700000000000001
          ],
          [
           -4.699999999999999
          ],
          [
           -4.4
          ],
          [
           -4.300000000000001
          ],
          [
           -4.300000000000001
          ],
          [
           -4.199999999999999
          ],
          [
           -4.1
          ],
          [
           -4.1
          ],
          [
           -4
          ],
          [
           -3.8000000000000007
          ],
          [
           -3.6999999999999993
          ],
          [
           -3.5999999999999996
          ],
          [
           -3.5
          ],
          [
           -3.4
          ],
          [
           -3.1999999999999993
          ],
          [
           -3.0999999999999996
          ],
          [
           -3
          ],
          [
           -3
          ],
          [
           -2.900000000000002
          ],
          [
           -2.700000000000001
          ],
          [
           -2.7
          ],
          [
           -2.6
          ],
          [
           -2.5999999999999996
          ],
          [
           -2.5
          ],
          [
           -2.4999999999999996
          ],
          [
           -2.4000000000000004
          ],
          [
           -2.3999999999999995
          ],
          [
           -2.3999999999999995
          ],
          [
           -2.1999999999999997
          ],
          [
           -2.1999999999999997
          ],
          [
           -2.1000000000000005
          ],
          [
           -2.1
          ],
          [
           -1.9000000000000004
          ],
          [
           -1.9
          ],
          [
           -1.6
          ],
          [
           -1.5
          ],
          [
           -1.4
          ],
          [
           -1.2999999999999998
          ],
          [
           -1.2000000000000002
          ],
          [
           -1.1999999999999997
          ],
          [
           -1.1999999999999997
          ],
          [
           -1.1
          ],
          [
           1.5
          ],
          [
           5.1
          ]
         ],
         "hovertemplate": "difference=%{customdata[0]:.2f}<br>country=%{y}<extra></extra>",
         "legendgroup": "",
         "marker": {
          "color": "#636efa"
         },
         "name": "",
         "offsetgroup": "",
         "orientation": "h",
         "showlegend": false,
         "textposition": "auto",
         "type": "bar",
         "x": [
          -40.099999999999994,
          -38,
          -36.3,
          -35.3,
          -34.4,
          -33.599999999999994,
          -33.2,
          -32.9,
          -31.599999999999998,
          -29.7,
          -27.7,
          -27.400000000000006,
          -26.8,
          -25.900000000000002,
          -25.700000000000003,
          -25.7,
          -25.6,
          -24.6,
          -24.2,
          -22.4,
          -22.099999999999998,
          -21.9,
          -20.800000000000004,
          -20.700000000000003,
          -20.7,
          -20.599999999999998,
          -20.500000000000004,
          -20.200000000000003,
          -19.8,
          -19.6,
          -19.599999999999998,
          -19.5,
          -19.400000000000002,
          -19,
          -18.9,
          -18.799999999999997,
          -17.7,
          -17.5,
          -17.5,
          -17.299999999999997,
          -17,
          -16.8,
          -16.7,
          -16.4,
          -16.1,
          -16.1,
          -16,
          -15.6,
          -15.6,
          -15.4,
          -15.3,
          -15.200000000000003,
          -15.000000000000004,
          -14.800000000000004,
          -14.600000000000001,
          -14.499999999999996,
          -14.4,
          -14.2,
          -14.1,
          -13.999999999999996,
          -13.800000000000004,
          -13.8,
          -13.7,
          -13.7,
          -13.7,
          -13.7,
          -13.600000000000001,
          -13.399999999999999,
          -13.399999999999999,
          -13.3,
          -12.600000000000001,
          -12.499999999999998,
          -12.400000000000002,
          -12.399999999999999,
          -12.3,
          -12.100000000000001,
          -11.8,
          -11.799999999999999,
          -11.799999999999999,
          -11.799999999999997,
          -11.5,
          -11.299999999999997,
          -11.100000000000001,
          -11,
          -10.900000000000002,
          -10.600000000000001,
          -10.599999999999998,
          -10.5,
          -10.399999999999999,
          -10.3,
          -10.3,
          -10.199999999999996,
          -10.1,
          -9.900000000000002,
          -9.799999999999999,
          -9.600000000000001,
          -9.6,
          -9.399999999999999,
          -9.399999999999999,
          -9.100000000000001,
          -9.000000000000002,
          -9,
          -8.9,
          -8.700000000000003,
          -8.699999999999996,
          -8.5,
          -8.5,
          -8.399999999999999,
          -8.3,
          -8,
          -7.900000000000002,
          -7.800000000000001,
          -7.799999999999999,
          -7.599999999999994,
          -7.500000000000001,
          -7.5,
          -7.4,
          -7.4,
          -7.399999999999999,
          -7.300000000000001,
          -7.300000000000001,
          -7.300000000000001,
          -7.2,
          -7.2,
          -7.2,
          -7.199999999999999,
          -7.199999999999999,
          -7.1,
          -7.1,
          -7.000000000000002,
          -7,
          -6.899999999999999,
          -6.8,
          -6.700000000000001,
          -6.699999999999999,
          -6.6,
          -6.199999999999999,
          -6.100000000000001,
          -6,
          -5.5,
          -5.399999999999999,
          -5.2,
          -5.199999999999999,
          -5.1,
          -4.700000000000001,
          -4.699999999999999,
          -4.4,
          -4.300000000000001,
          -4.300000000000001,
          -4.199999999999999,
          -4.1,
          -4.1,
          -4,
          -3.8000000000000007,
          -3.6999999999999993,
          -3.5999999999999996,
          -3.5,
          -3.4,
          -3.1999999999999993,
          -3.0999999999999996,
          -3,
          -3,
          -2.900000000000002,
          -2.700000000000001,
          -2.7,
          -2.6,
          -2.5999999999999996,
          -2.5,
          -2.4999999999999996,
          -2.4000000000000004,
          -2.3999999999999995,
          -2.3999999999999995,
          -2.1999999999999997,
          -2.1999999999999997,
          -2.1000000000000005,
          -2.1,
          -1.9000000000000004,
          -1.9,
          -1.6,
          -1.5,
          -1.4,
          -1.2999999999999998,
          -1.2000000000000002,
          -1.1999999999999997,
          -1.1999999999999997,
          -1.1,
          1.5,
          5.1
         ],
         "xaxis": "x",
         "y": [
          "Bangladesh",
          "Maldives",
          "Nepal",
          "Mali",
          "Mozambique",
          "Timor-Leste",
          "Ethiopia",
          "Liberia",
          "Guinea",
          "India",
          "Niger",
          "South Sudan",
          "Malawi",
          "Cambodia",
          "Guinea-Bissau",
          "Bhutan",
          "Turkey",
          "Lao",
          "China",
          "Bolivia",
          "Rwanda",
          "Yemen",
          "Gambia",
          "Mongolia",
          "Tanzania",
          "Egypt",
          "Madagascar",
          "Myanmar",
          "Uganda",
          "Peru",
          "Burkina Faso",
          "Tunisia",
          "Senegal",
          "Sierra Leone",
          "Morocco",
          "Pakistan",
          "Azerbaijan",
          "Equatorial Guinea",
          "Georgia",
          "Afghanistan",
          "Iran",
          "Indonesia",
          "Togo",
          "Djibouti",
          "Nigeria",
          "Comoros",
          "Lebanon",
          "Armenia",
          "Guatemala",
          "Brazil",
          "Kazakhstan",
          "Eritrea",
          "Cameroon",
          "Zambia",
          "Chad",
          "Benin",
          "Saudi Arabia",
          "El Salvador",
          "Bahrain",
          "Ghana",
          "Haiti",
          "North Macedonia",
          "Nicaragua",
          "Libya",
          "Kyrgyz Republic",
          "Thailand",
          "Mexico",
          "Burundi",
          "Ecuador",
          "Serbia",
          "Cote d'Ivoire",
          "Vietnam",
          "Kiribati",
          "Tuvalu",
          "Estonia",
          "Oman",
          "Suriname",
          "Namibia",
          "Paraguay",
          "Tajikistan",
          "Congo, Dem. Rep.",
          "Sao Tome and Principe",
          "Congo, Rep.",
          "St. Kitts and Nevis",
          "Sudan",
          "Honduras",
          "Belize",
          "Uzbekistan",
          "Angola",
          "Palau",
          "Palestine",
          "Mauritania",
          "Hungary",
          "Cape Verde",
          "Antigua and Barbuda",
          "Syria",
          "Jordan",
          "Colombia",
          "South Africa",
          "Argentina",
          "Jamaica",
          "Russia",
          "Sri Lanka",
          "Iraq",
          "Central African Republic",
          "Czech Republic",
          "Gabon",
          "North Korea",
          "Slovak Republic",
          "Poland",
          "Eswatini",
          "Montenegro",
          "Panama",
          "Lesotho",
          "Qatar",
          "Turkmenistan",
          "Fiji",
          "Belarus",
          "Micronesia, Fed. Sts.",
          "Bosnia and Herzegovina",
          "Papua New Guinea",
          "Guyana",
          "Romania",
          "Albania",
          "Kuwait",
          "Grenada",
          "Samoa",
          "Uruguay",
          "Bahamas",
          "Philippines",
          "Lithuania",
          "Algeria",
          "Latvia",
          "Moldova",
          "Trinidad and Tobago",
          "Ukraine",
          "Mauritius",
          "Nauru",
          "Bulgaria",
          "Croatia",
          "Somalia",
          "Portugal",
          "Kenya",
          "Malaysia",
          "Vanuatu",
          "United Arab Emirates",
          "Cuba",
          "Slovenia",
          "Italy",
          "Israel",
          "Cyprus",
          "Venezuela",
          "Botswana",
          "Solomon Islands",
          "Chile",
          "Barbados",
          "St. Lucia",
          "Luxembourg",
          "Tonga",
          "Malta",
          "Marshall Islands",
          "Singapore",
          "Dominican Republic",
          "Seychelles",
          "Costa Rica",
          "Iceland",
          "Finland",
          "Norway",
          "Austria",
          "Ireland",
          "Belgium",
          "Australia",
          "Netherlands",
          "United States",
          "Brunei",
          "United Kingdom",
          "Denmark",
          "Sweden",
          "Japan",
          "St. Vincent and the Grenadines",
          "France",
          "Germany",
          "Canada",
          "New Zealand",
          "Switzerland",
          "South Korea",
          "Zimbabwe",
          "Dominica"
         ],
         "yaxis": "y"
        }
       ],
       "layout": {
        "barmode": "relative",
        "font": {
         "color": "Black",
         "family": "Avenir",
         "size": 14
        },
        "height": 3500,
        "legend": {
         "title": {
          "font": {
           "color": "Black"
          }
         },
         "tracegroupgap": 0
        },
        "template": {
         "data": {
          "bar": [
           {
            "error_x": {
             "color": "#2a3f5f"
            },
            "error_y": {
             "color": "#2a3f5f"
            },
            "marker": {
             "line": {
              "color": "#E5ECF6",
              "width": 0.5
             }
            },
            "type": "bar"
           }
          ],
          "barpolar": [
           {
            "marker": {
             "line": {
              "color": "#E5ECF6",
              "width": 0.5
             }
            },
            "type": "barpolar"
           }
          ],
          "carpet": [
           {
            "aaxis": {
             "endlinecolor": "#2a3f5f",
             "gridcolor": "white",
             "linecolor": "white",
             "minorgridcolor": "white",
             "startlinecolor": "#2a3f5f"
            },
            "baxis": {
             "endlinecolor": "#2a3f5f",
             "gridcolor": "white",
             "linecolor": "white",
             "minorgridcolor": "white",
             "startlinecolor": "#2a3f5f"
            },
            "type": "carpet"
           }
          ],
          "choropleth": [
           {
            "colorbar": {
             "outlinewidth": 0,
             "ticks": ""
            },
            "type": "choropleth"
           }
          ],
          "contour": [
           {
            "colorbar": {
             "outlinewidth": 0,
             "ticks": ""
            },
            "colorscale": [
             [
              0,
              "#0d0887"
             ],
             [
              0.1111111111111111,
              "#46039f"
             ],
             [
              0.2222222222222222,
              "#7201a8"
             ],
             [
              0.3333333333333333,
              "#9c179e"
             ],
             [
              0.4444444444444444,
              "#bd3786"
             ],
             [
              0.5555555555555556,
              "#d8576b"
             ],
             [
              0.6666666666666666,
              "#ed7953"
             ],
             [
              0.7777777777777778,
              "#fb9f3a"
             ],
             [
              0.8888888888888888,
              "#fdca26"
             ],
             [
              1,
              "#f0f921"
             ]
            ],
            "type": "contour"
           }
          ],
          "contourcarpet": [
           {
            "colorbar": {
             "outlinewidth": 0,
             "ticks": ""
            },
            "type": "contourcarpet"
           }
          ],
          "heatmap": [
           {
            "colorbar": {
             "outlinewidth": 0,
             "ticks": ""
            },
            "colorscale": [
             [
              0,
              "#0d0887"
             ],
             [
              0.1111111111111111,
              "#46039f"
             ],
             [
              0.2222222222222222,
              "#7201a8"
             ],
             [
              0.3333333333333333,
              "#9c179e"
             ],
             [
              0.4444444444444444,
              "#bd3786"
             ],
             [
              0.5555555555555556,
              "#d8576b"
             ],
             [
              0.6666666666666666,
              "#ed7953"
             ],
             [
              0.7777777777777778,
              "#fb9f3a"
             ],
             [
              0.8888888888888888,
              "#fdca26"
             ],
             [
              1,
              "#f0f921"
             ]
            ],
            "type": "heatmap"
           }
          ],
          "heatmapgl": [
           {
            "colorbar": {
             "outlinewidth": 0,
             "ticks": ""
            },
            "colorscale": [
             [
              0,
              "#0d0887"
             ],
             [
              0.1111111111111111,
              "#46039f"
             ],
             [
              0.2222222222222222,
              "#7201a8"
             ],
             [
              0.3333333333333333,
              "#9c179e"
             ],
             [
              0.4444444444444444,
              "#bd3786"
             ],
             [
              0.5555555555555556,
              "#d8576b"
             ],
             [
              0.6666666666666666,
              "#ed7953"
             ],
             [
              0.7777777777777778,
              "#fb9f3a"
             ],
             [
              0.8888888888888888,
              "#fdca26"
             ],
             [
              1,
              "#f0f921"
             ]
            ],
            "type": "heatmapgl"
           }
          ],
          "histogram": [
           {
            "marker": {
             "colorbar": {
              "outlinewidth": 0,
              "ticks": ""
             }
            },
            "type": "histogram"
           }
          ],
          "histogram2d": [
           {
            "colorbar": {
             "outlinewidth": 0,
             "ticks": ""
            },
            "colorscale": [
             [
              0,
              "#0d0887"
             ],
             [
              0.1111111111111111,
              "#46039f"
             ],
             [
              0.2222222222222222,
              "#7201a8"
             ],
             [
              0.3333333333333333,
              "#9c179e"
             ],
             [
              0.4444444444444444,
              "#bd3786"
             ],
             [
              0.5555555555555556,
              "#d8576b"
             ],
             [
              0.6666666666666666,
              "#ed7953"
             ],
             [
              0.7777777777777778,
              "#fb9f3a"
             ],
             [
              0.8888888888888888,
              "#fdca26"
             ],
             [
              1,
              "#f0f921"
             ]
            ],
            "type": "histogram2d"
           }
          ],
          "histogram2dcontour": [
           {
            "colorbar": {
             "outlinewidth": 0,
             "ticks": ""
            },
            "colorscale": [
             [
              0,
              "#0d0887"
             ],
             [
              0.1111111111111111,
              "#46039f"
             ],
             [
              0.2222222222222222,
              "#7201a8"
             ],
             [
              0.3333333333333333,
              "#9c179e"
             ],
             [
              0.4444444444444444,
              "#bd3786"
             ],
             [
              0.5555555555555556,
              "#d8576b"
             ],
             [
              0.6666666666666666,
              "#ed7953"
             ],
             [
              0.7777777777777778,
              "#fb9f3a"
             ],
             [
              0.8888888888888888,
              "#fdca26"
             ],
             [
              1,
              "#f0f921"
             ]
            ],
            "type": "histogram2dcontour"
           }
          ],
          "mesh3d": [
           {
            "colorbar": {
             "outlinewidth": 0,
             "ticks": ""
            },
            "type": "mesh3d"
           }
          ],
          "parcoords": [
           {
            "line": {
             "colorbar": {
              "outlinewidth": 0,
              "ticks": ""
             }
            },
            "type": "parcoords"
           }
          ],
          "pie": [
           {
            "automargin": true,
            "type": "pie"
           }
          ],
          "scatter": [
           {
            "marker": {
             "colorbar": {
              "outlinewidth": 0,
              "ticks": ""
             }
            },
            "type": "scatter"
           }
          ],
          "scatter3d": [
           {
            "line": {
             "colorbar": {
              "outlinewidth": 0,
              "ticks": ""
             }
            },
            "marker": {
             "colorbar": {
              "outlinewidth": 0,
              "ticks": ""
             }
            },
            "type": "scatter3d"
           }
          ],
          "scattercarpet": [
           {
            "marker": {
             "colorbar": {
              "outlinewidth": 0,
              "ticks": ""
             }
            },
            "type": "scattercarpet"
           }
          ],
          "scattergeo": [
           {
            "marker": {
             "colorbar": {
              "outlinewidth": 0,
              "ticks": ""
             }
            },
            "type": "scattergeo"
           }
          ],
          "scattergl": [
           {
            "marker": {
             "colorbar": {
              "outlinewidth": 0,
              "ticks": ""
             }
            },
            "type": "scattergl"
           }
          ],
          "scattermapbox": [
           {
            "marker": {
             "colorbar": {
              "outlinewidth": 0,
              "ticks": ""
             }
            },
            "type": "scattermapbox"
           }
          ],
          "scatterpolar": [
           {
            "marker": {
             "colorbar": {
              "outlinewidth": 0,
              "ticks": ""
             }
            },
            "type": "scatterpolar"
           }
          ],
          "scatterpolargl": [
           {
            "marker": {
             "colorbar": {
              "outlinewidth": 0,
              "ticks": ""
             }
            },
            "type": "scatterpolargl"
           }
          ],
          "scatterternary": [
           {
            "marker": {
             "colorbar": {
              "outlinewidth": 0,
              "ticks": ""
             }
            },
            "type": "scatterternary"
           }
          ],
          "surface": [
           {
            "colorbar": {
             "outlinewidth": 0,
             "ticks": ""
            },
            "colorscale": [
             [
              0,
              "#0d0887"
             ],
             [
              0.1111111111111111,
              "#46039f"
             ],
             [
              0.2222222222222222,
              "#7201a8"
             ],
             [
              0.3333333333333333,
              "#9c179e"
             ],
             [
              0.4444444444444444,
              "#bd3786"
             ],
             [
              0.5555555555555556,
              "#d8576b"
             ],
             [
              0.6666666666666666,
              "#ed7953"
             ],
             [
              0.7777777777777778,
              "#fb9f3a"
             ],
             [
              0.8888888888888888,
              "#fdca26"
             ],
             [
              1,
              "#f0f921"
             ]
            ],
            "type": "surface"
           }
          ],
          "table": [
           {
            "cells": {
             "fill": {
              "color": "#EBF0F8"
             },
             "line": {
              "color": "white"
             }
            },
            "header": {
             "fill": {
              "color": "#C8D4E3"
             },
             "line": {
              "color": "white"
             }
            },
            "type": "table"
           }
          ]
         },
         "layout": {
          "annotationdefaults": {
           "arrowcolor": "#2a3f5f",
           "arrowhead": 0,
           "arrowwidth": 1
          },
          "coloraxis": {
           "colorbar": {
            "outlinewidth": 0,
            "ticks": ""
           }
          },
          "colorscale": {
           "diverging": [
            [
             0,
             "#8e0152"
            ],
            [
             0.1,
             "#c51b7d"
            ],
            [
             0.2,
             "#de77ae"
            ],
            [
             0.3,
             "#f1b6da"
            ],
            [
             0.4,
             "#fde0ef"
            ],
            [
             0.5,
             "#f7f7f7"
            ],
            [
             0.6,
             "#e6f5d0"
            ],
            [
             0.7,
             "#b8e186"
            ],
            [
             0.8,
             "#7fbc41"
            ],
            [
             0.9,
             "#4d9221"
            ],
            [
             1,
             "#276419"
            ]
           ],
           "sequential": [
            [
             0,
             "#0d0887"
            ],
            [
             0.1111111111111111,
             "#46039f"
            ],
            [
             0.2222222222222222,
             "#7201a8"
            ],
            [
             0.3333333333333333,
             "#9c179e"
            ],
            [
             0.4444444444444444,
             "#bd3786"
            ],
            [
             0.5555555555555556,
             "#d8576b"
            ],
            [
             0.6666666666666666,
             "#ed7953"
            ],
            [
             0.7777777777777778,
             "#fb9f3a"
            ],
            [
             0.8888888888888888,
             "#fdca26"
            ],
            [
             1,
             "#f0f921"
            ]
           ],
           "sequentialminus": [
            [
             0,
             "#0d0887"
            ],
            [
             0.1111111111111111,
             "#46039f"
            ],
            [
             0.2222222222222222,
             "#7201a8"
            ],
            [
             0.3333333333333333,
             "#9c179e"
            ],
            [
             0.4444444444444444,
             "#bd3786"
            ],
            [
             0.5555555555555556,
             "#d8576b"
            ],
            [
             0.6666666666666666,
             "#ed7953"
            ],
            [
             0.7777777777777778,
             "#fb9f3a"
            ],
            [
             0.8888888888888888,
             "#fdca26"
            ],
            [
             1,
             "#f0f921"
            ]
           ]
          },
          "colorway": [
           "#636efa",
           "#EF553B",
           "#00cc96",
           "#ab63fa",
           "#FFA15A",
           "#19d3f3",
           "#FF6692",
           "#B6E880",
           "#FF97FF",
           "#FECB52"
          ],
          "font": {
           "color": "#2a3f5f"
          },
          "geo": {
           "bgcolor": "white",
           "lakecolor": "white",
           "landcolor": "#E5ECF6",
           "showlakes": true,
           "showland": true,
           "subunitcolor": "white"
          },
          "hoverlabel": {
           "align": "left"
          },
          "hovermode": "closest",
          "mapbox": {
           "style": "light"
          },
          "paper_bgcolor": "white",
          "plot_bgcolor": "#E5ECF6",
          "polar": {
           "angularaxis": {
            "gridcolor": "white",
            "linecolor": "white",
            "ticks": ""
           },
           "bgcolor": "#E5ECF6",
           "radialaxis": {
            "gridcolor": "white",
            "linecolor": "white",
            "ticks": ""
           }
          },
          "scene": {
           "xaxis": {
            "backgroundcolor": "#E5ECF6",
            "gridcolor": "white",
            "gridwidth": 2,
            "linecolor": "white",
            "showbackground": true,
            "ticks": "",
            "zerolinecolor": "white"
           },
           "yaxis": {
            "backgroundcolor": "#E5ECF6",
            "gridcolor": "white",
            "gridwidth": 2,
            "linecolor": "white",
            "showbackground": true,
            "ticks": "",
            "zerolinecolor": "white"
           },
           "zaxis": {
            "backgroundcolor": "#E5ECF6",
            "gridcolor": "white",
            "gridwidth": 2,
            "linecolor": "white",
            "showbackground": true,
            "ticks": "",
            "zerolinecolor": "white"
           }
          },
          "shapedefaults": {
           "line": {
            "color": "#2a3f5f"
           }
          },
          "ternary": {
           "aaxis": {
            "gridcolor": "white",
            "linecolor": "white",
            "ticks": ""
           },
           "baxis": {
            "gridcolor": "white",
            "linecolor": "white",
            "ticks": ""
           },
           "bgcolor": "#E5ECF6",
           "caxis": {
            "gridcolor": "white",
            "linecolor": "white",
            "ticks": ""
           }
          },
          "title": {
           "x": 0.05
          },
          "xaxis": {
           "automargin": true,
           "gridcolor": "white",
           "linecolor": "white",
           "ticks": "",
           "title": {
            "standoff": 15
           },
           "zerolinecolor": "white",
           "zerolinewidth": 2
          },
          "yaxis": {
           "automargin": true,
           "gridcolor": "white",
           "linecolor": "white",
           "ticks": "",
           "title": {
            "standoff": 15
           },
           "zerolinecolor": "white",
           "zerolinewidth": 2
          }
         }
        },
        "title": {
         "font": {
          "color": "Dark Gray",
          "family": "Avenir"
         },
         "text": "Changes in Newborn Deaths per 1,000 Births from 1990 to 2015 per Country"
        },
        "xaxis": {
         "anchor": "y",
         "domain": [
          0,
          1
         ],
         "title": {
          "font": {
           "family": "Avenir"
          },
          "text": "Change in Number of Deaths"
         }
        },
        "yaxis": {
         "anchor": "x",
         "domain": [
          0,
          1
         ],
         "title": {
          "font": {
           "family": "Avenir"
          },
          "text": "Country"
         }
        }
       }
      },
      "text/html": [
       "<div>                            <div id=\"a50ad836-e25f-4376-8c4b-479e93645562\" class=\"plotly-graph-div\" style=\"height:3500px; width:100%;\"></div>            <script type=\"text/javascript\">                require([\"plotly\"], function(Plotly) {                    window.PLOTLYENV=window.PLOTLYENV || {};                                    if (document.getElementById(\"a50ad836-e25f-4376-8c4b-479e93645562\")) {                    Plotly.newPlot(                        \"a50ad836-e25f-4376-8c4b-479e93645562\",                        [{\"alignmentgroup\": \"True\", \"customdata\": [[-40.099999999999994], [-38.0], [-36.3], [-35.3], [-34.4], [-33.599999999999994], [-33.2], [-32.9], [-31.599999999999998], [-29.7], [-27.7], [-27.400000000000006], [-26.8], [-25.900000000000002], [-25.700000000000003], [-25.7], [-25.6], [-24.6], [-24.2], [-22.4], [-22.099999999999998], [-21.9], [-20.800000000000004], [-20.700000000000003], [-20.7], [-20.599999999999998], [-20.500000000000004], [-20.200000000000003], [-19.8], [-19.6], [-19.599999999999998], [-19.5], [-19.400000000000002], [-19.0], [-18.9], [-18.799999999999997], [-17.7], [-17.5], [-17.5], [-17.299999999999997], [-17.0], [-16.8], [-16.7], [-16.4], [-16.1], [-16.1], [-16.0], [-15.6], [-15.6], [-15.4], [-15.3], [-15.200000000000003], [-15.000000000000004], [-14.800000000000004], [-14.600000000000001], [-14.499999999999996], [-14.4], [-14.2], [-14.1], [-13.999999999999996], [-13.800000000000004], [-13.8], [-13.7], [-13.7], [-13.7], [-13.7], [-13.600000000000001], [-13.399999999999999], [-13.399999999999999], [-13.3], [-12.600000000000001], [-12.499999999999998], [-12.400000000000002], [-12.399999999999999], [-12.3], [-12.100000000000001], [-11.8], [-11.799999999999999], [-11.799999999999999], [-11.799999999999997], [-11.5], [-11.299999999999997], [-11.100000000000001], [-11.0], [-10.900000000000002], [-10.600000000000001], [-10.599999999999998], [-10.5], [-10.399999999999999], [-10.3], [-10.3], [-10.199999999999996], [-10.1], [-9.900000000000002], [-9.799999999999999], [-9.600000000000001], [-9.6], [-9.399999999999999], [-9.399999999999999], [-9.100000000000001], [-9.000000000000002], [-9.0], [-8.9], [-8.700000000000003], [-8.699999999999996], [-8.5], [-8.5], [-8.399999999999999], [-8.3], [-8.0], [-7.900000000000002], [-7.800000000000001], [-7.799999999999999], [-7.599999999999994], [-7.500000000000001], [-7.5], [-7.4], [-7.4], [-7.399999999999999], [-7.300000000000001], [-7.300000000000001], [-7.300000000000001], [-7.2], [-7.2], [-7.2], [-7.199999999999999], [-7.199999999999999], [-7.1], [-7.1], [-7.000000000000002], [-7.0], [-6.899999999999999], [-6.8], [-6.700000000000001], [-6.699999999999999], [-6.6], [-6.199999999999999], [-6.100000000000001], [-6.0], [-5.5], [-5.399999999999999], [-5.2], [-5.199999999999999], [-5.1], [-4.700000000000001], [-4.699999999999999], [-4.4], [-4.300000000000001], [-4.300000000000001], [-4.199999999999999], [-4.1], [-4.1], [-4.0], [-3.8000000000000007], [-3.6999999999999993], [-3.5999999999999996], [-3.5], [-3.4], [-3.1999999999999993], [-3.0999999999999996], [-3.0], [-3.0], [-2.900000000000002], [-2.700000000000001], [-2.7], [-2.6], [-2.5999999999999996], [-2.5], [-2.4999999999999996], [-2.4000000000000004], [-2.3999999999999995], [-2.3999999999999995], [-2.1999999999999997], [-2.1999999999999997], [-2.1000000000000005], [-2.1], [-1.9000000000000004], [-1.9], [-1.6], [-1.5], [-1.4], [-1.2999999999999998], [-1.2000000000000002], [-1.1999999999999997], [-1.1999999999999997], [-1.1], [1.5], [5.1]], \"hovertemplate\": \"difference=%{customdata[0]:.2f}<br>country=%{y}<extra></extra>\", \"legendgroup\": \"\", \"marker\": {\"color\": \"#636efa\"}, \"name\": \"\", \"offsetgroup\": \"\", \"orientation\": \"h\", \"showlegend\": false, \"textposition\": \"auto\", \"type\": \"bar\", \"x\": [-40.099999999999994, -38.0, -36.3, -35.3, -34.4, -33.599999999999994, -33.2, -32.9, -31.599999999999998, -29.7, -27.7, -27.400000000000006, -26.8, -25.900000000000002, -25.700000000000003, -25.7, -25.6, -24.6, -24.2, -22.4, -22.099999999999998, -21.9, -20.800000000000004, -20.700000000000003, -20.7, -20.599999999999998, -20.500000000000004, -20.200000000000003, -19.8, -19.6, -19.599999999999998, -19.5, -19.400000000000002, -19.0, -18.9, -18.799999999999997, -17.7, -17.5, -17.5, -17.299999999999997, -17.0, -16.8, -16.7, -16.4, -16.1, -16.1, -16.0, -15.6, -15.6, -15.4, -15.3, -15.200000000000003, -15.000000000000004, -14.800000000000004, -14.600000000000001, -14.499999999999996, -14.4, -14.2, -14.1, -13.999999999999996, -13.800000000000004, -13.8, -13.7, -13.7, -13.7, -13.7, -13.600000000000001, -13.399999999999999, -13.399999999999999, -13.3, -12.600000000000001, -12.499999999999998, -12.400000000000002, -12.399999999999999, -12.3, -12.100000000000001, -11.8, -11.799999999999999, -11.799999999999999, -11.799999999999997, -11.5, -11.299999999999997, -11.100000000000001, -11.0, -10.900000000000002, -10.600000000000001, -10.599999999999998, -10.5, -10.399999999999999, -10.3, -10.3, -10.199999999999996, -10.1, -9.900000000000002, -9.799999999999999, -9.600000000000001, -9.6, -9.399999999999999, -9.399999999999999, -9.100000000000001, -9.000000000000002, -9.0, -8.9, -8.700000000000003, -8.699999999999996, -8.5, -8.5, -8.399999999999999, -8.3, -8.0, -7.900000000000002, -7.800000000000001, -7.799999999999999, -7.599999999999994, -7.500000000000001, -7.5, -7.4, -7.4, -7.399999999999999, -7.300000000000001, -7.300000000000001, -7.300000000000001, -7.2, -7.2, -7.2, -7.199999999999999, -7.199999999999999, -7.1, -7.1, -7.000000000000002, -7.0, -6.899999999999999, -6.8, -6.700000000000001, -6.699999999999999, -6.6, -6.199999999999999, -6.100000000000001, -6.0, -5.5, -5.399999999999999, -5.2, -5.199999999999999, -5.1, -4.700000000000001, -4.699999999999999, -4.4, -4.300000000000001, -4.300000000000001, -4.199999999999999, -4.1, -4.1, -4.0, -3.8000000000000007, -3.6999999999999993, -3.5999999999999996, -3.5, -3.4, -3.1999999999999993, -3.0999999999999996, -3.0, -3.0, -2.900000000000002, -2.700000000000001, -2.7, -2.6, -2.5999999999999996, -2.5, -2.4999999999999996, -2.4000000000000004, -2.3999999999999995, -2.3999999999999995, -2.1999999999999997, -2.1999999999999997, -2.1000000000000005, -2.1, -1.9000000000000004, -1.9, -1.6, -1.5, -1.4, -1.2999999999999998, -1.2000000000000002, -1.1999999999999997, -1.1999999999999997, -1.1, 1.5, 5.1], \"xaxis\": \"x\", \"y\": [\"Bangladesh\", \"Maldives\", \"Nepal\", \"Mali\", \"Mozambique\", \"Timor-Leste\", \"Ethiopia\", \"Liberia\", \"Guinea\", \"India\", \"Niger\", \"South Sudan\", \"Malawi\", \"Cambodia\", \"Guinea-Bissau\", \"Bhutan\", \"Turkey\", \"Lao\", \"China\", \"Bolivia\", \"Rwanda\", \"Yemen\", \"Gambia\", \"Mongolia\", \"Tanzania\", \"Egypt\", \"Madagascar\", \"Myanmar\", \"Uganda\", \"Peru\", \"Burkina Faso\", \"Tunisia\", \"Senegal\", \"Sierra Leone\", \"Morocco\", \"Pakistan\", \"Azerbaijan\", \"Equatorial Guinea\", \"Georgia\", \"Afghanistan\", \"Iran\", \"Indonesia\", \"Togo\", \"Djibouti\", \"Nigeria\", \"Comoros\", \"Lebanon\", \"Armenia\", \"Guatemala\", \"Brazil\", \"Kazakhstan\", \"Eritrea\", \"Cameroon\", \"Zambia\", \"Chad\", \"Benin\", \"Saudi Arabia\", \"El Salvador\", \"Bahrain\", \"Ghana\", \"Haiti\", \"North Macedonia\", \"Nicaragua\", \"Libya\", \"Kyrgyz Republic\", \"Thailand\", \"Mexico\", \"Burundi\", \"Ecuador\", \"Serbia\", \"Cote d'Ivoire\", \"Vietnam\", \"Kiribati\", \"Tuvalu\", \"Estonia\", \"Oman\", \"Suriname\", \"Namibia\", \"Paraguay\", \"Tajikistan\", \"Congo, Dem. Rep.\", \"Sao Tome and Principe\", \"Congo, Rep.\", \"St. Kitts and Nevis\", \"Sudan\", \"Honduras\", \"Belize\", \"Uzbekistan\", \"Angola\", \"Palau\", \"Palestine\", \"Mauritania\", \"Hungary\", \"Cape Verde\", \"Antigua and Barbuda\", \"Syria\", \"Jordan\", \"Colombia\", \"South Africa\", \"Argentina\", \"Jamaica\", \"Russia\", \"Sri Lanka\", \"Iraq\", \"Central African Republic\", \"Czech Republic\", \"Gabon\", \"North Korea\", \"Slovak Republic\", \"Poland\", \"Eswatini\", \"Montenegro\", \"Panama\", \"Lesotho\", \"Qatar\", \"Turkmenistan\", \"Fiji\", \"Belarus\", \"Micronesia, Fed. Sts.\", \"Bosnia and Herzegovina\", \"Papua New Guinea\", \"Guyana\", \"Romania\", \"Albania\", \"Kuwait\", \"Grenada\", \"Samoa\", \"Uruguay\", \"Bahamas\", \"Philippines\", \"Lithuania\", \"Algeria\", \"Latvia\", \"Moldova\", \"Trinidad and Tobago\", \"Ukraine\", \"Mauritius\", \"Nauru\", \"Bulgaria\", \"Croatia\", \"Somalia\", \"Portugal\", \"Kenya\", \"Malaysia\", \"Vanuatu\", \"United Arab Emirates\", \"Cuba\", \"Slovenia\", \"Italy\", \"Israel\", \"Cyprus\", \"Venezuela\", \"Botswana\", \"Solomon Islands\", \"Chile\", \"Barbados\", \"St. Lucia\", \"Luxembourg\", \"Tonga\", \"Malta\", \"Marshall Islands\", \"Singapore\", \"Dominican Republic\", \"Seychelles\", \"Costa Rica\", \"Iceland\", \"Finland\", \"Norway\", \"Austria\", \"Ireland\", \"Belgium\", \"Australia\", \"Netherlands\", \"United States\", \"Brunei\", \"United Kingdom\", \"Denmark\", \"Sweden\", \"Japan\", \"St. Vincent and the Grenadines\", \"France\", \"Germany\", \"Canada\", \"New Zealand\", \"Switzerland\", \"South Korea\", \"Zimbabwe\", \"Dominica\"], \"yaxis\": \"y\"}],                        {\"barmode\": \"relative\", \"font\": {\"color\": \"Black\", \"family\": \"Avenir\", \"size\": 14}, \"height\": 3500, \"legend\": {\"title\": {\"font\": {\"color\": \"Black\"}}, \"tracegroupgap\": 0}, \"template\": {\"data\": {\"bar\": [{\"error_x\": {\"color\": \"#2a3f5f\"}, \"error_y\": {\"color\": \"#2a3f5f\"}, \"marker\": {\"line\": {\"color\": \"#E5ECF6\", \"width\": 0.5}}, \"type\": \"bar\"}], \"barpolar\": [{\"marker\": {\"line\": {\"color\": \"#E5ECF6\", \"width\": 0.5}}, \"type\": \"barpolar\"}], \"carpet\": [{\"aaxis\": {\"endlinecolor\": \"#2a3f5f\", \"gridcolor\": \"white\", \"linecolor\": \"white\", \"minorgridcolor\": \"white\", \"startlinecolor\": \"#2a3f5f\"}, \"baxis\": {\"endlinecolor\": \"#2a3f5f\", \"gridcolor\": \"white\", \"linecolor\": \"white\", \"minorgridcolor\": \"white\", \"startlinecolor\": \"#2a3f5f\"}, \"type\": \"carpet\"}], \"choropleth\": [{\"colorbar\": {\"outlinewidth\": 0, \"ticks\": \"\"}, \"type\": \"choropleth\"}], \"contour\": [{\"colorbar\": {\"outlinewidth\": 0, \"ticks\": \"\"}, \"colorscale\": [[0.0, \"#0d0887\"], [0.1111111111111111, \"#46039f\"], [0.2222222222222222, \"#7201a8\"], [0.3333333333333333, \"#9c179e\"], [0.4444444444444444, \"#bd3786\"], [0.5555555555555556, \"#d8576b\"], [0.6666666666666666, \"#ed7953\"], [0.7777777777777778, \"#fb9f3a\"], [0.8888888888888888, \"#fdca26\"], [1.0, \"#f0f921\"]], \"type\": \"contour\"}], \"contourcarpet\": [{\"colorbar\": {\"outlinewidth\": 0, \"ticks\": \"\"}, \"type\": \"contourcarpet\"}], \"heatmap\": [{\"colorbar\": {\"outlinewidth\": 0, \"ticks\": \"\"}, \"colorscale\": [[0.0, \"#0d0887\"], [0.1111111111111111, \"#46039f\"], [0.2222222222222222, \"#7201a8\"], [0.3333333333333333, \"#9c179e\"], [0.4444444444444444, \"#bd3786\"], [0.5555555555555556, \"#d8576b\"], [0.6666666666666666, \"#ed7953\"], [0.7777777777777778, \"#fb9f3a\"], [0.8888888888888888, \"#fdca26\"], [1.0, \"#f0f921\"]], \"type\": \"heatmap\"}], \"heatmapgl\": [{\"colorbar\": {\"outlinewidth\": 0, \"ticks\": \"\"}, \"colorscale\": [[0.0, \"#0d0887\"], [0.1111111111111111, \"#46039f\"], [0.2222222222222222, \"#7201a8\"], [0.3333333333333333, \"#9c179e\"], [0.4444444444444444, \"#bd3786\"], [0.5555555555555556, \"#d8576b\"], [0.6666666666666666, \"#ed7953\"], [0.7777777777777778, \"#fb9f3a\"], [0.8888888888888888, \"#fdca26\"], [1.0, \"#f0f921\"]], \"type\": \"heatmapgl\"}], \"histogram\": [{\"marker\": {\"colorbar\": {\"outlinewidth\": 0, \"ticks\": \"\"}}, \"type\": \"histogram\"}], \"histogram2d\": [{\"colorbar\": {\"outlinewidth\": 0, \"ticks\": \"\"}, \"colorscale\": [[0.0, \"#0d0887\"], [0.1111111111111111, \"#46039f\"], [0.2222222222222222, \"#7201a8\"], [0.3333333333333333, \"#9c179e\"], [0.4444444444444444, \"#bd3786\"], [0.5555555555555556, \"#d8576b\"], [0.6666666666666666, \"#ed7953\"], [0.7777777777777778, \"#fb9f3a\"], [0.8888888888888888, \"#fdca26\"], [1.0, \"#f0f921\"]], \"type\": \"histogram2d\"}], \"histogram2dcontour\": [{\"colorbar\": {\"outlinewidth\": 0, \"ticks\": \"\"}, \"colorscale\": [[0.0, \"#0d0887\"], [0.1111111111111111, \"#46039f\"], [0.2222222222222222, \"#7201a8\"], [0.3333333333333333, \"#9c179e\"], [0.4444444444444444, \"#bd3786\"], [0.5555555555555556, \"#d8576b\"], [0.6666666666666666, \"#ed7953\"], [0.7777777777777778, \"#fb9f3a\"], [0.8888888888888888, \"#fdca26\"], [1.0, \"#f0f921\"]], \"type\": \"histogram2dcontour\"}], \"mesh3d\": [{\"colorbar\": {\"outlinewidth\": 0, \"ticks\": \"\"}, \"type\": \"mesh3d\"}], \"parcoords\": [{\"line\": {\"colorbar\": {\"outlinewidth\": 0, \"ticks\": \"\"}}, \"type\": \"parcoords\"}], \"pie\": [{\"automargin\": true, \"type\": \"pie\"}], \"scatter\": [{\"marker\": {\"colorbar\": {\"outlinewidth\": 0, \"ticks\": \"\"}}, \"type\": \"scatter\"}], \"scatter3d\": [{\"line\": {\"colorbar\": {\"outlinewidth\": 0, \"ticks\": \"\"}}, \"marker\": {\"colorbar\": {\"outlinewidth\": 0, \"ticks\": \"\"}}, \"type\": \"scatter3d\"}], \"scattercarpet\": [{\"marker\": {\"colorbar\": {\"outlinewidth\": 0, \"ticks\": \"\"}}, \"type\": \"scattercarpet\"}], \"scattergeo\": [{\"marker\": {\"colorbar\": {\"outlinewidth\": 0, \"ticks\": \"\"}}, \"type\": \"scattergeo\"}], \"scattergl\": [{\"marker\": {\"colorbar\": {\"outlinewidth\": 0, \"ticks\": \"\"}}, \"type\": \"scattergl\"}], \"scattermapbox\": [{\"marker\": {\"colorbar\": {\"outlinewidth\": 0, \"ticks\": \"\"}}, \"type\": \"scattermapbox\"}], \"scatterpolar\": [{\"marker\": {\"colorbar\": {\"outlinewidth\": 0, \"ticks\": \"\"}}, \"type\": \"scatterpolar\"}], \"scatterpolargl\": [{\"marker\": {\"colorbar\": {\"outlinewidth\": 0, \"ticks\": \"\"}}, \"type\": \"scatterpolargl\"}], \"scatterternary\": [{\"marker\": {\"colorbar\": {\"outlinewidth\": 0, \"ticks\": \"\"}}, \"type\": \"scatterternary\"}], \"surface\": [{\"colorbar\": {\"outlinewidth\": 0, \"ticks\": \"\"}, \"colorscale\": [[0.0, \"#0d0887\"], [0.1111111111111111, \"#46039f\"], [0.2222222222222222, \"#7201a8\"], [0.3333333333333333, \"#9c179e\"], [0.4444444444444444, \"#bd3786\"], [0.5555555555555556, \"#d8576b\"], [0.6666666666666666, \"#ed7953\"], [0.7777777777777778, \"#fb9f3a\"], [0.8888888888888888, \"#fdca26\"], [1.0, \"#f0f921\"]], \"type\": \"surface\"}], \"table\": [{\"cells\": {\"fill\": {\"color\": \"#EBF0F8\"}, \"line\": {\"color\": \"white\"}}, \"header\": {\"fill\": {\"color\": \"#C8D4E3\"}, \"line\": {\"color\": \"white\"}}, \"type\": \"table\"}]}, \"layout\": {\"annotationdefaults\": {\"arrowcolor\": \"#2a3f5f\", \"arrowhead\": 0, \"arrowwidth\": 1}, \"coloraxis\": {\"colorbar\": {\"outlinewidth\": 0, \"ticks\": \"\"}}, \"colorscale\": {\"diverging\": [[0, \"#8e0152\"], [0.1, \"#c51b7d\"], [0.2, \"#de77ae\"], [0.3, \"#f1b6da\"], [0.4, \"#fde0ef\"], [0.5, \"#f7f7f7\"], [0.6, \"#e6f5d0\"], [0.7, \"#b8e186\"], [0.8, \"#7fbc41\"], [0.9, \"#4d9221\"], [1, \"#276419\"]], \"sequential\": [[0.0, \"#0d0887\"], [0.1111111111111111, \"#46039f\"], [0.2222222222222222, \"#7201a8\"], [0.3333333333333333, \"#9c179e\"], [0.4444444444444444, \"#bd3786\"], [0.5555555555555556, \"#d8576b\"], [0.6666666666666666, \"#ed7953\"], [0.7777777777777778, \"#fb9f3a\"], [0.8888888888888888, \"#fdca26\"], [1.0, \"#f0f921\"]], \"sequentialminus\": [[0.0, \"#0d0887\"], [0.1111111111111111, \"#46039f\"], [0.2222222222222222, \"#7201a8\"], [0.3333333333333333, \"#9c179e\"], [0.4444444444444444, \"#bd3786\"], [0.5555555555555556, \"#d8576b\"], [0.6666666666666666, \"#ed7953\"], [0.7777777777777778, \"#fb9f3a\"], [0.8888888888888888, \"#fdca26\"], [1.0, \"#f0f921\"]]}, \"colorway\": [\"#636efa\", \"#EF553B\", \"#00cc96\", \"#ab63fa\", \"#FFA15A\", \"#19d3f3\", \"#FF6692\", \"#B6E880\", \"#FF97FF\", \"#FECB52\"], \"font\": {\"color\": \"#2a3f5f\"}, \"geo\": {\"bgcolor\": \"white\", \"lakecolor\": \"white\", \"landcolor\": \"#E5ECF6\", \"showlakes\": true, \"showland\": true, \"subunitcolor\": \"white\"}, \"hoverlabel\": {\"align\": \"left\"}, \"hovermode\": \"closest\", \"mapbox\": {\"style\": \"light\"}, \"paper_bgcolor\": \"white\", \"plot_bgcolor\": \"#E5ECF6\", \"polar\": {\"angularaxis\": {\"gridcolor\": \"white\", \"linecolor\": \"white\", \"ticks\": \"\"}, \"bgcolor\": \"#E5ECF6\", \"radialaxis\": {\"gridcolor\": \"white\", \"linecolor\": \"white\", \"ticks\": \"\"}}, \"scene\": {\"xaxis\": {\"backgroundcolor\": \"#E5ECF6\", \"gridcolor\": \"white\", \"gridwidth\": 2, \"linecolor\": \"white\", \"showbackground\": true, \"ticks\": \"\", \"zerolinecolor\": \"white\"}, \"yaxis\": {\"backgroundcolor\": \"#E5ECF6\", \"gridcolor\": \"white\", \"gridwidth\": 2, \"linecolor\": \"white\", \"showbackground\": true, \"ticks\": \"\", \"zerolinecolor\": \"white\"}, \"zaxis\": {\"backgroundcolor\": \"#E5ECF6\", \"gridcolor\": \"white\", \"gridwidth\": 2, \"linecolor\": \"white\", \"showbackground\": true, \"ticks\": \"\", \"zerolinecolor\": \"white\"}}, \"shapedefaults\": {\"line\": {\"color\": \"#2a3f5f\"}}, \"ternary\": {\"aaxis\": {\"gridcolor\": \"white\", \"linecolor\": \"white\", \"ticks\": \"\"}, \"baxis\": {\"gridcolor\": \"white\", \"linecolor\": \"white\", \"ticks\": \"\"}, \"bgcolor\": \"#E5ECF6\", \"caxis\": {\"gridcolor\": \"white\", \"linecolor\": \"white\", \"ticks\": \"\"}}, \"title\": {\"x\": 0.05}, \"xaxis\": {\"automargin\": true, \"gridcolor\": \"white\", \"linecolor\": \"white\", \"ticks\": \"\", \"title\": {\"standoff\": 15}, \"zerolinecolor\": \"white\", \"zerolinewidth\": 2}, \"yaxis\": {\"automargin\": true, \"gridcolor\": \"white\", \"linecolor\": \"white\", \"ticks\": \"\", \"title\": {\"standoff\": 15}, \"zerolinecolor\": \"white\", \"zerolinewidth\": 2}}}, \"title\": {\"font\": {\"color\": \"Dark Gray\", \"family\": \"Avenir\"}, \"text\": \"Changes in Newborn Deaths per 1,000 Births from 1990 to 2015 per Country\"}, \"xaxis\": {\"anchor\": \"y\", \"domain\": [0.0, 1.0], \"title\": {\"font\": {\"family\": \"Avenir\"}, \"text\": \"Change in Number of Deaths\"}}, \"yaxis\": {\"anchor\": \"x\", \"domain\": [0.0, 1.0], \"title\": {\"font\": {\"family\": \"Avenir\"}, \"text\": \"Country\"}}},                        {\"responsive\": true}                    ).then(function(){\n",
       "                            \n",
       "var gd = document.getElementById('a50ad836-e25f-4376-8c4b-479e93645562');\n",
       "var x = new MutationObserver(function (mutations, observer) {{\n",
       "        var display = window.getComputedStyle(gd).display;\n",
       "        if (!display || display === 'none') {{\n",
       "            console.log([gd, 'removed!']);\n",
       "            Plotly.purge(gd);\n",
       "            observer.disconnect();\n",
       "        }}\n",
       "}});\n",
       "\n",
       "// Listen for the removal of the full notebook cells\n",
       "var notebookContainer = gd.closest('#notebook-container');\n",
       "if (notebookContainer) {{\n",
       "    x.observe(notebookContainer, {childList: true});\n",
       "}}\n",
       "\n",
       "// Listen for the clearing of the current output cell\n",
       "var outputEl = gd.closest('.output');\n",
       "if (outputEl) {{\n",
       "    x.observe(outputEl, {childList: true});\n",
       "}}\n",
       "\n",
       "                        })                };                });            </script>        </div>"
      ]
     },
     "metadata": {},
     "output_type": "display_data"
    }
   ],
   "source": [
    "# Apply diff_per_country_bar_plot() function to df_newborn\n",
    "diff_per_country_bar_plot(df_newborn, \"Changes in Newborn Deaths per 1,000 Births from 1990 to 2015 per Country\");"
   ]
  },
  {
   "cell_type": "markdown",
   "metadata": {},
   "source": [
    "__Observations:__ As the chart shows, the countries with highest improvement in newborn mortality rates include South Asian countries such as Bangladesh, Maldives, and Nepal, as well as African countries such as Mali and Mozambique. On the other hand, those with the lowest improvement rates include South Korea, Switzerland, New Zealand, Canada, and Germany.\n",
    "\n",
    "Finally, only two countries worsened in their newborn mortality rates: Dominica and Zimbabwe."
   ]
  },
  {
   "cell_type": "markdown",
   "metadata": {},
   "source": [
    "### Are maternal mortality rates and newborn mortality rates correlated? How?\n",
    "\n",
    "In this section, we will start exploring how maternal and newborn mortality rates correlate with each other and with other variables."
   ]
  },
  {
   "cell_type": "code",
   "execution_count": 164,
   "metadata": {},
   "outputs": [],
   "source": [
    "# Clean datasets from columns that will not be used anymore, as preparation for the analyses that follow.\n",
    "df_maternal.drop(columns=\"difference\", inplace=True)\n",
    "df_newborn.drop(columns=\"difference\", inplace=True)"
   ]
  },
  {
   "cell_type": "code",
   "execution_count": 165,
   "metadata": {},
   "outputs": [
    {
     "data": {
      "text/html": [
       "<div>\n",
       "<style scoped>\n",
       "    .dataframe tbody tr th:only-of-type {\n",
       "        vertical-align: middle;\n",
       "    }\n",
       "\n",
       "    .dataframe tbody tr th {\n",
       "        vertical-align: top;\n",
       "    }\n",
       "\n",
       "    .dataframe thead th {\n",
       "        text-align: right;\n",
       "    }\n",
       "</style>\n",
       "<table border=\"1\" class=\"dataframe\">\n",
       "  <thead>\n",
       "    <tr style=\"text-align: right;\">\n",
       "      <th></th>\n",
       "      <th>country</th>\n",
       "      <th>1990</th>\n",
       "      <th>1991</th>\n",
       "      <th>1992</th>\n",
       "      <th>1993</th>\n",
       "      <th>1994</th>\n",
       "      <th>1995</th>\n",
       "      <th>1996</th>\n",
       "      <th>1997</th>\n",
       "      <th>1998</th>\n",
       "      <th>...</th>\n",
       "      <th>2007</th>\n",
       "      <th>2008</th>\n",
       "      <th>2009</th>\n",
       "      <th>2010</th>\n",
       "      <th>2011</th>\n",
       "      <th>2012</th>\n",
       "      <th>2013</th>\n",
       "      <th>2014</th>\n",
       "      <th>2015</th>\n",
       "      <th>Maternal avg</th>\n",
       "    </tr>\n",
       "  </thead>\n",
       "  <tbody>\n",
       "    <tr>\n",
       "      <th>0</th>\n",
       "      <td>Afghanistan</td>\n",
       "      <td>496.0</td>\n",
       "      <td>468.0</td>\n",
       "      <td>442.0</td>\n",
       "      <td>434.0</td>\n",
       "      <td>435.0</td>\n",
       "      <td>437.0</td>\n",
       "      <td>441.0</td>\n",
       "      <td>448.0</td>\n",
       "      <td>456.0</td>\n",
       "      <td>...</td>\n",
       "      <td>458.0</td>\n",
       "      <td>450.0</td>\n",
       "      <td>438.0</td>\n",
       "      <td>417.0</td>\n",
       "      <td>396.0</td>\n",
       "      <td>373.0</td>\n",
       "      <td>353.0</td>\n",
       "      <td>335.0</td>\n",
       "      <td>318.0</td>\n",
       "      <td>433.192308</td>\n",
       "    </tr>\n",
       "  </tbody>\n",
       "</table>\n",
       "<p>1 rows × 28 columns</p>\n",
       "</div>"
      ],
      "text/plain": [
       "       country   1990   1991   1992   1993   1994   1995   1996   1997   1998  \\\n",
       "0  Afghanistan  496.0  468.0  442.0  434.0  435.0  437.0  441.0  448.0  456.0   \n",
       "\n",
       "   ...   2007   2008   2009   2010   2011   2012   2013   2014   2015  \\\n",
       "0  ...  458.0  450.0  438.0  417.0  396.0  373.0  353.0  335.0  318.0   \n",
       "\n",
       "   Maternal avg  \n",
       "0    433.192308  \n",
       "\n",
       "[1 rows x 28 columns]"
      ]
     },
     "execution_count": 165,
     "metadata": {},
     "output_type": "execute_result"
    }
   ],
   "source": [
    "# Create a new column in each data frame with the average rate for maternal mortality and newborn mortality, per country\n",
    "df_maternal[\"Maternal avg\"] = df_maternal.mean(axis=1)\n",
    "df_maternal.head(1)"
   ]
  },
  {
   "cell_type": "code",
   "execution_count": 166,
   "metadata": {
    "scrolled": true
   },
   "outputs": [
    {
     "data": {
      "text/html": [
       "<div>\n",
       "<style scoped>\n",
       "    .dataframe tbody tr th:only-of-type {\n",
       "        vertical-align: middle;\n",
       "    }\n",
       "\n",
       "    .dataframe tbody tr th {\n",
       "        vertical-align: top;\n",
       "    }\n",
       "\n",
       "    .dataframe thead th {\n",
       "        text-align: right;\n",
       "    }\n",
       "</style>\n",
       "<table border=\"1\" class=\"dataframe\">\n",
       "  <thead>\n",
       "    <tr style=\"text-align: right;\">\n",
       "      <th></th>\n",
       "      <th>country</th>\n",
       "      <th>1990</th>\n",
       "      <th>1991</th>\n",
       "      <th>1992</th>\n",
       "      <th>1993</th>\n",
       "      <th>1994</th>\n",
       "      <th>1995</th>\n",
       "      <th>1996</th>\n",
       "      <th>1997</th>\n",
       "      <th>1998</th>\n",
       "      <th>...</th>\n",
       "      <th>2007</th>\n",
       "      <th>2008</th>\n",
       "      <th>2009</th>\n",
       "      <th>2010</th>\n",
       "      <th>2011</th>\n",
       "      <th>2012</th>\n",
       "      <th>2013</th>\n",
       "      <th>2014</th>\n",
       "      <th>2015</th>\n",
       "      <th>Newborn avg</th>\n",
       "    </tr>\n",
       "  </thead>\n",
       "  <tbody>\n",
       "    <tr>\n",
       "      <th>0</th>\n",
       "      <td>Afghanistan</td>\n",
       "      <td>52.8</td>\n",
       "      <td>51.9</td>\n",
       "      <td>50.9</td>\n",
       "      <td>49.9</td>\n",
       "      <td>49.1</td>\n",
       "      <td>48.2</td>\n",
       "      <td>47.5</td>\n",
       "      <td>47.0</td>\n",
       "      <td>46.1</td>\n",
       "      <td>...</td>\n",
       "      <td>40.4</td>\n",
       "      <td>39.8</td>\n",
       "      <td>39.1</td>\n",
       "      <td>38.7</td>\n",
       "      <td>38.1</td>\n",
       "      <td>37.4</td>\n",
       "      <td>36.8</td>\n",
       "      <td>36.1</td>\n",
       "      <td>35.5</td>\n",
       "      <td>43.573077</td>\n",
       "    </tr>\n",
       "  </tbody>\n",
       "</table>\n",
       "<p>1 rows × 28 columns</p>\n",
       "</div>"
      ],
      "text/plain": [
       "       country  1990  1991  1992  1993  1994  1995  1996  1997  1998  ...  \\\n",
       "0  Afghanistan  52.8  51.9  50.9  49.9  49.1  48.2  47.5  47.0  46.1  ...   \n",
       "\n",
       "   2007  2008  2009  2010  2011  2012  2013  2014  2015  Newborn avg  \n",
       "0  40.4  39.8  39.1  38.7  38.1  37.4  36.8  36.1  35.5    43.573077  \n",
       "\n",
       "[1 rows x 28 columns]"
      ]
     },
     "execution_count": 166,
     "metadata": {},
     "output_type": "execute_result"
    }
   ],
   "source": [
    "df_newborn[\"Newborn avg\"] = df_newborn.mean(axis=1)\n",
    "df_newborn.head(1)"
   ]
  },
  {
   "cell_type": "code",
   "execution_count": 167,
   "metadata": {},
   "outputs": [
    {
     "data": {
      "text/html": [
       "<div>\n",
       "<style scoped>\n",
       "    .dataframe tbody tr th:only-of-type {\n",
       "        vertical-align: middle;\n",
       "    }\n",
       "\n",
       "    .dataframe tbody tr th {\n",
       "        vertical-align: top;\n",
       "    }\n",
       "\n",
       "    .dataframe thead th {\n",
       "        text-align: right;\n",
       "    }\n",
       "</style>\n",
       "<table border=\"1\" class=\"dataframe\">\n",
       "  <thead>\n",
       "    <tr style=\"text-align: right;\">\n",
       "      <th></th>\n",
       "      <th>Maternal avg</th>\n",
       "      <th>Newborn avg</th>\n",
       "    </tr>\n",
       "  </thead>\n",
       "  <tbody>\n",
       "    <tr>\n",
       "      <th>0</th>\n",
       "      <td>433.192308</td>\n",
       "      <td>43.573077</td>\n",
       "    </tr>\n",
       "    <tr>\n",
       "      <th>1</th>\n",
       "      <td>13.339231</td>\n",
       "      <td>10.142308</td>\n",
       "    </tr>\n",
       "    <tr>\n",
       "      <th>2</th>\n",
       "      <td>132.315385</td>\n",
       "      <td>19.434615</td>\n",
       "    </tr>\n",
       "    <tr>\n",
       "      <th>3</th>\n",
       "      <td>265.153846</td>\n",
       "      <td>56.103846</td>\n",
       "    </tr>\n",
       "    <tr>\n",
       "      <th>4</th>\n",
       "      <td>30.853846</td>\n",
       "      <td>8.903846</td>\n",
       "    </tr>\n",
       "  </tbody>\n",
       "</table>\n",
       "</div>"
      ],
      "text/plain": [
       "   Maternal avg  Newborn avg\n",
       "0    433.192308    43.573077\n",
       "1     13.339231    10.142308\n",
       "2    132.315385    19.434615\n",
       "3    265.153846    56.103846\n",
       "4     30.853846     8.903846"
      ]
     },
     "execution_count": 167,
     "metadata": {},
     "output_type": "execute_result"
    }
   ],
   "source": [
    "# Create a new data frame with both of the average columns created above\n",
    "mat_ave = df_maternal[\"Maternal avg\"]\n",
    "new_ave = df_newborn[\"Newborn avg\"]\n",
    "mat_new_corr = pd.concat([mat_ave, new_ave], axis=1)\n",
    "mat_new_corr.head()"
   ]
  },
  {
   "cell_type": "code",
   "execution_count": 168,
   "metadata": {},
   "outputs": [
    {
     "data": {
      "text/plain": [
       "Maternal avg    False\n",
       "Newborn avg     False\n",
       "dtype: bool"
      ]
     },
     "execution_count": 168,
     "metadata": {},
     "output_type": "execute_result"
    }
   ],
   "source": [
    "# Confirm there are no missing values\n",
    "mat_new_corr.isnull().any()"
   ]
  },
  {
   "cell_type": "code",
   "execution_count": 169,
   "metadata": {},
   "outputs": [
    {
     "data": {
      "text/plain": [
       "(0.847945536548088, 3.6757788772545945e-53)"
      ]
     },
     "execution_count": 169,
     "metadata": {},
     "output_type": "execute_result"
    }
   ],
   "source": [
    "# Calculate the correlation (Pearson) between maternal mortality and newborn mortality rate averages per country.\n",
    "x = mat_new_corr[\"Maternal avg\"]\n",
    "y = mat_new_corr[\"Newborn avg\"]\n",
    "\n",
    "stats.pearsonr(x,y) "
   ]
  },
  {
   "cell_type": "markdown",
   "metadata": {},
   "source": [
    "__Observations:__ As the charts above suggest, maternal and newborn mortality rates are strongly, positively, and significantly correlated. This means that the more maternal deaths, the more newborn deaths."
   ]
  },
  {
   "cell_type": "code",
   "execution_count": 170,
   "metadata": {},
   "outputs": [
    {
     "data": {
      "image/png": "[encoded data removed]",
      "text/plain": [
       "<Figure size 432x288 with 1 Axes>"
      ]
     },
     "metadata": {
      "needs_background": "light"
     },
     "output_type": "display_data"
    }
   ],
   "source": [
    "# Create a scatter plot depicting the correlation\n",
    "x = mat_new_corr[\"Maternal avg\"]\n",
    "y = mat_new_corr[\"Newborn avg\"]\n",
    "\n",
    "plt.scatter(x, y, c=\"green\", alpha=0.5)\n",
    "plt.title(\"Correlation of Maternal and Newborn Average Mortality Rates\")\n",
    "plt.xlabel(\"Maternal deaths average\")\n",
    "plt.ylabel(\"Newborn deaths average\");"
   ]
  },
  {
   "cell_type": "markdown",
   "metadata": {},
   "source": [
    "### Are maternal mortality and newborn mortality rates correlated with income inequality? How?"
   ]
  },
  {
   "cell_type": "code",
   "execution_count": 171,
   "metadata": {
    "scrolled": false
   },
   "outputs": [
    {
     "data": {
      "text/html": [
       "<div>\n",
       "<style scoped>\n",
       "    .dataframe tbody tr th:only-of-type {\n",
       "        vertical-align: middle;\n",
       "    }\n",
       "\n",
       "    .dataframe tbody tr th {\n",
       "        vertical-align: top;\n",
       "    }\n",
       "\n",
       "    .dataframe thead th {\n",
       "        text-align: right;\n",
       "    }\n",
       "</style>\n",
       "<table border=\"1\" class=\"dataframe\">\n",
       "  <thead>\n",
       "    <tr style=\"text-align: right;\">\n",
       "      <th></th>\n",
       "      <th>country</th>\n",
       "      <th>1990</th>\n",
       "      <th>1991</th>\n",
       "      <th>1992</th>\n",
       "      <th>1993</th>\n",
       "      <th>1994</th>\n",
       "      <th>1995</th>\n",
       "      <th>1996</th>\n",
       "      <th>1997</th>\n",
       "      <th>1998</th>\n",
       "      <th>...</th>\n",
       "      <th>2007</th>\n",
       "      <th>2008</th>\n",
       "      <th>2009</th>\n",
       "      <th>2010</th>\n",
       "      <th>2011</th>\n",
       "      <th>2012</th>\n",
       "      <th>2013</th>\n",
       "      <th>2014</th>\n",
       "      <th>2015</th>\n",
       "      <th>Inequality avg</th>\n",
       "    </tr>\n",
       "  </thead>\n",
       "  <tbody>\n",
       "    <tr>\n",
       "      <th>0</th>\n",
       "      <td>Afghanistan</td>\n",
       "      <td>36.4</td>\n",
       "      <td>36.7</td>\n",
       "      <td>36.7</td>\n",
       "      <td>36.8</td>\n",
       "      <td>36.8</td>\n",
       "      <td>36.8</td>\n",
       "      <td>36.8</td>\n",
       "      <td>36.8</td>\n",
       "      <td>36.8</td>\n",
       "      <td>...</td>\n",
       "      <td>36.8</td>\n",
       "      <td>36.8</td>\n",
       "      <td>36.8</td>\n",
       "      <td>36.8</td>\n",
       "      <td>36.8</td>\n",
       "      <td>36.8</td>\n",
       "      <td>36.8</td>\n",
       "      <td>36.8</td>\n",
       "      <td>36.8</td>\n",
       "      <td>36.776923</td>\n",
       "    </tr>\n",
       "    <tr>\n",
       "      <th>1</th>\n",
       "      <td>Albania</td>\n",
       "      <td>27.0</td>\n",
       "      <td>27.0</td>\n",
       "      <td>27.0</td>\n",
       "      <td>27.0</td>\n",
       "      <td>27.0</td>\n",
       "      <td>27.2</td>\n",
       "      <td>27.5</td>\n",
       "      <td>28.0</td>\n",
       "      <td>28.6</td>\n",
       "      <td>...</td>\n",
       "      <td>30.2</td>\n",
       "      <td>30.0</td>\n",
       "      <td>29.7</td>\n",
       "      <td>29.5</td>\n",
       "      <td>29.3</td>\n",
       "      <td>29.1</td>\n",
       "      <td>29.0</td>\n",
       "      <td>29.0</td>\n",
       "      <td>29.0</td>\n",
       "      <td>29.061538</td>\n",
       "    </tr>\n",
       "    <tr>\n",
       "      <th>2</th>\n",
       "      <td>Algeria</td>\n",
       "      <td>38.8</td>\n",
       "      <td>38.1</td>\n",
       "      <td>37.4</td>\n",
       "      <td>36.7</td>\n",
       "      <td>36.1</td>\n",
       "      <td>35.5</td>\n",
       "      <td>34.9</td>\n",
       "      <td>34.4</td>\n",
       "      <td>34.0</td>\n",
       "      <td>...</td>\n",
       "      <td>29.9</td>\n",
       "      <td>29.4</td>\n",
       "      <td>29.0</td>\n",
       "      <td>28.5</td>\n",
       "      <td>28.2</td>\n",
       "      <td>27.9</td>\n",
       "      <td>27.7</td>\n",
       "      <td>27.6</td>\n",
       "      <td>27.6</td>\n",
       "      <td>32.196154</td>\n",
       "    </tr>\n",
       "    <tr>\n",
       "      <th>3</th>\n",
       "      <td>Angola</td>\n",
       "      <td>52.9</td>\n",
       "      <td>52.8</td>\n",
       "      <td>52.8</td>\n",
       "      <td>52.7</td>\n",
       "      <td>52.6</td>\n",
       "      <td>52.5</td>\n",
       "      <td>52.4</td>\n",
       "      <td>52.3</td>\n",
       "      <td>52.2</td>\n",
       "      <td>...</td>\n",
       "      <td>45.0</td>\n",
       "      <td>44.1</td>\n",
       "      <td>43.4</td>\n",
       "      <td>42.9</td>\n",
       "      <td>42.7</td>\n",
       "      <td>42.6</td>\n",
       "      <td>42.6</td>\n",
       "      <td>42.6</td>\n",
       "      <td>42.6</td>\n",
       "      <td>48.430769</td>\n",
       "    </tr>\n",
       "    <tr>\n",
       "      <th>4</th>\n",
       "      <td>Antigua and Barbuda</td>\n",
       "      <td>40.0</td>\n",
       "      <td>40.0</td>\n",
       "      <td>40.0</td>\n",
       "      <td>40.0</td>\n",
       "      <td>40.0</td>\n",
       "      <td>40.0</td>\n",
       "      <td>40.0</td>\n",
       "      <td>40.0</td>\n",
       "      <td>40.0</td>\n",
       "      <td>...</td>\n",
       "      <td>40.0</td>\n",
       "      <td>40.0</td>\n",
       "      <td>40.0</td>\n",
       "      <td>40.0</td>\n",
       "      <td>40.0</td>\n",
       "      <td>40.0</td>\n",
       "      <td>40.0</td>\n",
       "      <td>40.0</td>\n",
       "      <td>40.0</td>\n",
       "      <td>40.000000</td>\n",
       "    </tr>\n",
       "  </tbody>\n",
       "</table>\n",
       "<p>5 rows × 28 columns</p>\n",
       "</div>"
      ],
      "text/plain": [
       "               country  1990  1991  1992  1993  1994  1995  1996  1997  1998  \\\n",
       "0          Afghanistan  36.4  36.7  36.7  36.8  36.8  36.8  36.8  36.8  36.8   \n",
       "1              Albania  27.0  27.0  27.0  27.0  27.0  27.2  27.5  28.0  28.6   \n",
       "2              Algeria  38.8  38.1  37.4  36.7  36.1  35.5  34.9  34.4  34.0   \n",
       "3               Angola  52.9  52.8  52.8  52.7  52.6  52.5  52.4  52.3  52.2   \n",
       "4  Antigua and Barbuda  40.0  40.0  40.0  40.0  40.0  40.0  40.0  40.0  40.0   \n",
       "\n",
       "   ...  2007  2008  2009  2010  2011  2012  2013  2014  2015  Inequality avg  \n",
       "0  ...  36.8  36.8  36.8  36.8  36.8  36.8  36.8  36.8  36.8       36.776923  \n",
       "1  ...  30.2  30.0  29.7  29.5  29.3  29.1  29.0  29.0  29.0       29.061538  \n",
       "2  ...  29.9  29.4  29.0  28.5  28.2  27.9  27.7  27.6  27.6       32.196154  \n",
       "3  ...  45.0  44.1  43.4  42.9  42.7  42.6  42.6  42.6  42.6       48.430769  \n",
       "4  ...  40.0  40.0  40.0  40.0  40.0  40.0  40.0  40.0  40.0       40.000000  \n",
       "\n",
       "[5 rows x 28 columns]"
      ]
     },
     "execution_count": 171,
     "metadata": {},
     "output_type": "execute_result"
    }
   ],
   "source": [
    "# Create a column in the income inequality data frame with the rate average per country\n",
    "df_ineq[\"Inequality avg\"] = df_ineq.mean(axis=1)\n",
    "df_ineq.head()"
   ]
  },
  {
   "cell_type": "code",
   "execution_count": 172,
   "metadata": {},
   "outputs": [],
   "source": [
    "# Add the new average column to the dataframe created above with averages from maternal and newborn mortality rates\n",
    "ineq_ave = df_ineq[\"Inequality avg\"]\n",
    "ineq_mat_new_corr = pd.concat([mat_new_corr, ineq_ave], axis=1)"
   ]
  },
  {
   "cell_type": "code",
   "execution_count": 173,
   "metadata": {},
   "outputs": [
    {
     "data": {
      "text/plain": [
       "Maternal avg      False\n",
       "Newborn avg       False\n",
       "Inequality avg    False\n",
       "dtype: bool"
      ]
     },
     "execution_count": 173,
     "metadata": {},
     "output_type": "execute_result"
    }
   ],
   "source": [
    "# Confirm ther are no missing values\n",
    "ineq_mat_new_corr.isnull().any()"
   ]
  },
  {
   "cell_type": "code",
   "execution_count": 174,
   "metadata": {},
   "outputs": [
    {
     "data": {
      "text/plain": [
       "(0.31389810638370175, 1.151173074038566e-05)"
      ]
     },
     "execution_count": 174,
     "metadata": {},
     "output_type": "execute_result"
    }
   ],
   "source": [
    "# Calculate correlation between maternal mortality rate and income inequality\n",
    "x1 = ineq_mat_new_corr[\"Maternal avg\"]\n",
    "y1 = ineq_mat_new_corr[\"Inequality avg\"]\n",
    "\n",
    "stats.pearsonr(x1,y1) "
   ]
  },
  {
   "cell_type": "code",
   "execution_count": 175,
   "metadata": {},
   "outputs": [
    {
     "data": {
      "text/plain": [
       "(0.30062787201702534, 2.766376854000773e-05)"
      ]
     },
     "execution_count": 175,
     "metadata": {},
     "output_type": "execute_result"
    }
   ],
   "source": [
    "# Calculate correlation between newborn mortality rate and income inequality\n",
    "x2 = ineq_mat_new_corr[\"Newborn avg\"]\n",
    "y1 = ineq_mat_new_corr[\"Inequality avg\"]\n",
    "stats.pearsonr(x2,y1) "
   ]
  },
  {
   "cell_type": "markdown",
   "metadata": {},
   "source": [
    "__Observations:__ These analyses showed a low positive correlation between income inequality and maternal mortality rate, and also with newborn mortality rate. This correlation is positive since the higher the mortality rates, the higher the inequality index, which - as we already stated - is lower for \"more equal\" countries. \n",
    "\n",
    "The following plot shows the relationship between maternal mortality rate, newborn mortality rate and income inequality. "
   ]
  },
  {
   "cell_type": "code",
   "execution_count": 176,
   "metadata": {},
   "outputs": [
    {
     "data": {
      "application/vnd.plotly.v1+json": {
       "config": {
        "plotlyServerURL": "https://plot.ly"
       },
       "data": [
        {
         "hovertemplate": "Avg Maternal Mortality Rate=%{x}<br>Avg Newborn Mortality Rate=%{y}<br>Avg Gini Inequality Index=%{marker.color}<extra></extra>",
         "legendgroup": "",
         "marker": {
          "color": [
           36.78,
           29.06,
           32.2,
           48.43,
           40,
           46.71,
           35.85,
           33.28,
           29.14,
           33.56,
           43.77,
           40,
           31.98,
           44.97,
           27.61,
           27.15,
           55.28,
           41.07,
           39.87,
           51.93,
           31.6,
           61.55,
           56.48,
           40,
           31.6,
           43.63,
           36.87,
           42,
           43.15,
           32.72,
           50.36,
           54.25,
           40.63,
           51.68,
           38.83,
           54.48,
           49.13,
           42.17,
           47.29,
           47.97,
           40.96,
           29.57,
           42.46,
           31.25,
           26.09,
           25.38,
           40.91,
           40,
           49.12,
           51.29,
           31.46,
           48.55,
           40,
           40,
           33.88,
           54.54,
           36.33,
           38.28,
           26.02,
           31.98,
           44.71,
           45.33,
           36.66,
           30.1,
           40.83,
           40,
           54.12,
           41.47,
           43.79,
           43.62,
           55.66,
           54.95,
           28.39,
           27.08,
           33.47,
           34,
           42.55,
           28.81,
           33.85,
           39.43,
           33.85,
           43.58,
           31.35,
           36.46,
           31.43,
           46.27,
           37,
           40,
           36.55,
           34.69,
           33.21,
           34.06,
           56.18,
           35.87,
           40,
           33.46,
           30.3,
           42.72,
           52.65,
           46.15,
           40.3,
           41.21,
           28.44,
           40,
           39.12,
           35.3,
           49.64,
           41.8,
           33.93,
           32.87,
           30.56,
           39.92,
           50.3,
           38.1,
           65.1,
           40,
           36.56,
           28.7,
           32.9,
           47.99,
           38.7,
           44.45,
           37,
           37.55,
           27.67,
           40,
           31.41,
           40,
           34.23,
           55.14,
           48.86,
           51.73,
           48.38,
           44.17,
           32.04,
           37.19,
           40,
           30.21,
           40.36,
           45.45,
           42.1,
           31.6,
           40,
           42.61,
           33.87,
           43.35,
           38.64,
           39.42,
           25.58,
           26.91,
           43.83,
           47.58,
           61.56,
           32.32,
           45.06,
           37.6,
           40,
           42.6,
           40,
           35.64,
           58.49,
           25.77,
           33.05,
           34.17,
           32.33,
           37.5,
           41.66,
           32.49,
           45.61,
           37.62,
           40.95,
           38.93,
           41,
           42.34,
           39.1,
           42.5,
           28.6,
           40,
           35.56,
           40.38,
           43.73,
           35.02,
           37.6,
           47.48,
           36.04,
           35.78,
           52.37,
           40.98
          ],
          "coloraxis": "coloraxis",
          "opacity": 0.7,
          "symbol": "circle"
         },
         "mode": "markers",
         "name": "",
         "orientation": "v",
         "showlegend": false,
         "type": "scatter",
         "x": [
          433.19,
          13.34,
          132.32,
          265.15,
          30.85,
          60.1,
          24.77,
          6.36,
          4.47,
          33.07,
          70.32,
          38.27,
          321.54,
          51.25,
          20.32,
          6.65,
          54.69,
          340.85,
          269.77,
          258.38,
          14.38,
          155.62,
          71.65,
          37.27,
          27.39,
          235.35,
          439.58,
          290.73,
          388.62,
          6.95,
          113.09,
          512.73,
          446.35,
          28.57,
          49.44,
          68.53,
          213.31,
          346.81,
          347.77,
          31.93,
          312.42,
          10.19,
          55.32,
          10.34,
          6.71,
          4.76,
          376.23,
          85.22,
          87.94,
          88.66,
          60.77,
          78.64,
          263.23,
          473.35,
          16.21,
          129.38,
          440.46,
          102.63,
          5.04,
          10.64,
          272.19,
          416.38,
          37.45,
          6.82,
          181.08,
          60.08,
          213.92,
          532.31,
          361.81,
          168.73,
          501.54,
          183.19,
          11.88,
          3.46,
          308.69,
          288.08,
          33.09,
          70.94,
          4.4,
          6.33,
          5.37,
          68.56,
          8.34,
          68.27,
          46.32,
          282.85,
          350.04,
          9.76,
          58.12,
          380.96,
          22.72,
          25.87,
          270.62,
          586,
          29.23,
          12.76,
          8.89,
          357.96,
          252.19,
          66.3,
          164.01,
          433.04,
          12.14,
          142.62,
          623.62,
          47.1,
          59.72,
          151.58,
          33.32,
          120.22,
          9.14,
          171.23,
          198.35,
          177.5,
          174.77,
          165.35,
          362.88,
          8.07,
          11.36,
          70.55,
          355.96,
          289.54,
          100.23,
          11.57,
          4.85,
          40.15,
          277.46,
          120.31,
          24.11,
          66.71,
          291.12,
          114.89,
          161.51,
          84.42,
          8.55,
          8.64,
          48.77,
          36.88,
          36.42,
          396.23,
          67.73,
          176.5,
          55.22,
          376.5,
          13.95,
          69.78,
          482.19,
          5.92,
          8.6,
          8.02,
          301.27,
          399.46,
          186.97,
          14.94,
          201.19,
          55.03,
          170.04,
          63.48,
          63.82,
          245.96,
          93.22,
          3.67,
          5.74,
          41.57,
          44.84,
          257.19,
          72.7,
          288.85,
          300.27,
          103.1,
          62.61,
          55.61,
          53.28,
          57.16,
          156.38,
          140.19,
          27.01,
          15.76,
          8.16,
          19.15,
          28.45,
          33.92,
          113.13,
          71.77,
          28.09,
          201.42,
          201,
          217.32
         ],
         "xaxis": "x",
         "y": [
          43.57,
          10.14,
          19.43,
          56.1,
          8.9,
          10.4,
          14.58,
          3.33,
          3.07,
          29.23,
          9.31,
          5.3,
          40.41,
          9.32,
          5.84,
          3.03,
          12.39,
          37.98,
          30.49,
          29.44,
          6.84,
          24.47,
          14.97,
          5.02,
          9.59,
          38.03,
          36.82,
          30.17,
          33.28,
          3.85,
          16.79,
          48.03,
          46.18,
          5.97,
          17.62,
          12.87,
          41.18,
          36.81,
          27.59,
          7.48,
          46.6,
          5.02,
          4.05,
          3.13,
          4.42,
          3.32,
          42.33,
          12.17,
          23.63,
          16.48,
          21.36,
          13.88,
          42.21,
          25.32,
          6.19,
          19.25,
          44.16,
          12.94,
          2.39,
          2.68,
          28.4,
          39.64,
          17.12,
          2.73,
          35.24,
          8.17,
          20.09,
          45.89,
          53.32,
          25.97,
          30.83,
          16.32,
          6.77,
          1.93,
          41.99,
          21.27,
          17.34,
          23.14,
          3.43,
          3.48,
          3.5,
          16.07,
          1.64,
          15.43,
          16.84,
          27.14,
          28.63,
          6.37,
          20.19,
          41.23,
          9.94,
          10.88,
          37.02,
          39.47,
          13.66,
          6.11,
          2.23,
          29.5,
          33.37,
          5.49,
          21.37,
          53.62,
          5.35,
          18.03,
          41.79,
          11.56,
          10.89,
          23.78,
          16.95,
          22.62,
          7.4,
          26.42,
          42.04,
          35.93,
          19.83,
          25.24,
          37.32,
          3.52,
          3.43,
          16.1,
          40.13,
          44.57,
          22.11,
          9.46,
          2.52,
          8.2,
          57.17,
          13.76,
          16.11,
          13.65,
          29.07,
          16.58,
          15.8,
          16.12,
          6.14,
          3.42,
          6.43,
          11.1,
          10.29,
          34.55,
          11.92,
          22.95,
          12.72,
          33.43,
          8.19,
          9.35,
          46.93,
          1.75,
          7.26,
          3.02,
          14.26,
          43.88,
          15.08,
          2.13,
          53.45,
          9.58,
          11.03,
          11.01,
          13.09,
          34.84,
          17.23,
          2.22,
          3.32,
          11.45,
          27.5,
          29,
          12.05,
          35.77,
          34.55,
          7.79,
          17.37,
          16.81,
          18.12,
          28.56,
          24.37,
          28.91,
          9.66,
          5.49,
          3.56,
          4.57,
          8.15,
          26.83,
          12.79,
          11.3,
          15.98,
          33.85,
          30.1,
          22.48
         ],
         "yaxis": "y"
        }
       ],
       "layout": {
        "coloraxis": {
         "colorbar": {
          "title": {
           "text": "Avg Gini Inequality Index"
          }
         },
         "colorscale": [
          [
           0,
           "#0d0887"
          ],
          [
           0.1111111111111111,
           "#46039f"
          ],
          [
           0.2222222222222222,
           "#7201a8"
          ],
          [
           0.3333333333333333,
           "#9c179e"
          ],
          [
           0.4444444444444444,
           "#bd3786"
          ],
          [
           0.5555555555555556,
           "#d8576b"
          ],
          [
           0.6666666666666666,
           "#ed7953"
          ],
          [
           0.7777777777777778,
           "#fb9f3a"
          ],
          [
           0.8888888888888888,
           "#fdca26"
          ],
          [
           1,
           "#f0f921"
          ]
         ]
        },
        "legend": {
         "tracegroupgap": 0
        },
        "plot_bgcolor": "white",
        "template": {
         "data": {
          "bar": [
           {
            "error_x": {
             "color": "#2a3f5f"
            },
            "error_y": {
             "color": "#2a3f5f"
            },
            "marker": {
             "line": {
              "color": "#E5ECF6",
              "width": 0.5
             }
            },
            "type": "bar"
           }
          ],
          "barpolar": [
           {
            "marker": {
             "line": {
              "color": "#E5ECF6",
              "width": 0.5
             }
            },
            "type": "barpolar"
           }
          ],
          "carpet": [
           {
            "aaxis": {
             "endlinecolor": "#2a3f5f",
             "gridcolor": "white",
             "linecolor": "white",
             "minorgridcolor": "white",
             "startlinecolor": "#2a3f5f"
            },
            "baxis": {
             "endlinecolor": "#2a3f5f",
             "gridcolor": "white",
             "linecolor": "white",
             "minorgridcolor": "white",
             "startlinecolor": "#2a3f5f"
            },
            "type": "carpet"
           }
          ],
          "choropleth": [
           {
            "colorbar": {
             "outlinewidth": 0,
             "ticks": ""
            },
            "type": "choropleth"
           }
          ],
          "contour": [
           {
            "colorbar": {
             "outlinewidth": 0,
             "ticks": ""
            },
            "colorscale": [
             [
              0,
              "#0d0887"
             ],
             [
              0.1111111111111111,
              "#46039f"
             ],
             [
              0.2222222222222222,
              "#7201a8"
             ],
             [
              0.3333333333333333,
              "#9c179e"
             ],
             [
              0.4444444444444444,
              "#bd3786"
             ],
             [
              0.5555555555555556,
              "#d8576b"
             ],
             [
              0.6666666666666666,
              "#ed7953"
             ],
             [
              0.7777777777777778,
              "#fb9f3a"
             ],
             [
              0.8888888888888888,
              "#fdca26"
             ],
             [
              1,
              "#f0f921"
             ]
            ],
            "type": "contour"
           }
          ],
          "contourcarpet": [
           {
            "colorbar": {
             "outlinewidth": 0,
             "ticks": ""
            },
            "type": "contourcarpet"
           }
          ],
          "heatmap": [
           {
            "colorbar": {
             "outlinewidth": 0,
             "ticks": ""
            },
            "colorscale": [
             [
              0,
              "#0d0887"
             ],
             [
              0.1111111111111111,
              "#46039f"
             ],
             [
              0.2222222222222222,
              "#7201a8"
             ],
             [
              0.3333333333333333,
              "#9c179e"
             ],
             [
              0.4444444444444444,
              "#bd3786"
             ],
             [
              0.5555555555555556,
              "#d8576b"
             ],
             [
              0.6666666666666666,
              "#ed7953"
             ],
             [
              0.7777777777777778,
              "#fb9f3a"
             ],
             [
              0.8888888888888888,
              "#fdca26"
             ],
             [
              1,
              "#f0f921"
             ]
            ],
            "type": "heatmap"
           }
          ],
          "heatmapgl": [
           {
            "colorbar": {
             "outlinewidth": 0,
             "ticks": ""
            },
            "colorscale": [
             [
              0,
              "#0d0887"
             ],
             [
              0.1111111111111111,
              "#46039f"
             ],
             [
              0.2222222222222222,
              "#7201a8"
             ],
             [
              0.3333333333333333,
              "#9c179e"
             ],
             [
              0.4444444444444444,
              "#bd3786"
             ],
             [
              0.5555555555555556,
              "#d8576b"
             ],
             [
              0.6666666666666666,
              "#ed7953"
             ],
             [
              0.7777777777777778,
              "#fb9f3a"
             ],
             [
              0.8888888888888888,
              "#fdca26"
             ],
             [
              1,
              "#f0f921"
             ]
            ],
            "type": "heatmapgl"
           }
          ],
          "histogram": [
           {
            "marker": {
             "colorbar": {
              "outlinewidth": 0,
              "ticks": ""
             }
            },
            "type": "histogram"
           }
          ],
          "histogram2d": [
           {
            "colorbar": {
             "outlinewidth": 0,
             "ticks": ""
            },
            "colorscale": [
             [
              0,
              "#0d0887"
             ],
             [
              0.1111111111111111,
              "#46039f"
             ],
             [
              0.2222222222222222,
              "#7201a8"
             ],
             [
              0.3333333333333333,
              "#9c179e"
             ],
             [
              0.4444444444444444,
              "#bd3786"
             ],
             [
              0.5555555555555556,
              "#d8576b"
             ],
             [
              0.6666666666666666,
              "#ed7953"
             ],
             [
              0.7777777777777778,
              "#fb9f3a"
             ],
             [
              0.8888888888888888,
              "#fdca26"
             ],
             [
              1,
              "#f0f921"
             ]
            ],
            "type": "histogram2d"
           }
          ],
          "histogram2dcontour": [
           {
            "colorbar": {
             "outlinewidth": 0,
             "ticks": ""
            },
            "colorscale": [
             [
              0,
              "#0d0887"
             ],
             [
              0.1111111111111111,
              "#46039f"
             ],
             [
              0.2222222222222222,
              "#7201a8"
             ],
             [
              0.3333333333333333,
              "#9c179e"
             ],
             [
              0.4444444444444444,
              "#bd3786"
             ],
             [
              0.5555555555555556,
              "#d8576b"
             ],
             [
              0.6666666666666666,
              "#ed7953"
             ],
             [
              0.7777777777777778,
              "#fb9f3a"
             ],
             [
              0.8888888888888888,
              "#fdca26"
             ],
             [
              1,
              "#f0f921"
             ]
            ],
            "type": "histogram2dcontour"
           }
          ],
          "mesh3d": [
           {
            "colorbar": {
             "outlinewidth": 0,
             "ticks": ""
            },
            "type": "mesh3d"
           }
          ],
          "parcoords": [
           {
            "line": {
             "colorbar": {
              "outlinewidth": 0,
              "ticks": ""
             }
            },
            "type": "parcoords"
           }
          ],
          "pie": [
           {
            "automargin": true,
            "type": "pie"
           }
          ],
          "scatter": [
           {
            "marker": {
             "colorbar": {
              "outlinewidth": 0,
              "ticks": ""
             }
            },
            "type": "scatter"
           }
          ],
          "scatter3d": [
           {
            "line": {
             "colorbar": {
              "outlinewidth": 0,
              "ticks": ""
             }
            },
            "marker": {
             "colorbar": {
              "outlinewidth": 0,
              "ticks": ""
             }
            },
            "type": "scatter3d"
           }
          ],
          "scattercarpet": [
           {
            "marker": {
             "colorbar": {
              "outlinewidth": 0,
              "ticks": ""
             }
            },
            "type": "scattercarpet"
           }
          ],
          "scattergeo": [
           {
            "marker": {
             "colorbar": {
              "outlinewidth": 0,
              "ticks": ""
             }
            },
            "type": "scattergeo"
           }
          ],
          "scattergl": [
           {
            "marker": {
             "colorbar": {
              "outlinewidth": 0,
              "ticks": ""
             }
            },
            "type": "scattergl"
           }
          ],
          "scattermapbox": [
           {
            "marker": {
             "colorbar": {
              "outlinewidth": 0,
              "ticks": ""
             }
            },
            "type": "scattermapbox"
           }
          ],
          "scatterpolar": [
           {
            "marker": {
             "colorbar": {
              "outlinewidth": 0,
              "ticks": ""
             }
            },
            "type": "scatterpolar"
           }
          ],
          "scatterpolargl": [
           {
            "marker": {
             "colorbar": {
              "outlinewidth": 0,
              "ticks": ""
             }
            },
            "type": "scatterpolargl"
           }
          ],
          "scatterternary": [
           {
            "marker": {
             "colorbar": {
              "outlinewidth": 0,
              "ticks": ""
             }
            },
            "type": "scatterternary"
           }
          ],
          "surface": [
           {
            "colorbar": {
             "outlinewidth": 0,
             "ticks": ""
            },
            "colorscale": [
             [
              0,
              "#0d0887"
             ],
             [
              0.1111111111111111,
              "#46039f"
             ],
             [
              0.2222222222222222,
              "#7201a8"
             ],
             [
              0.3333333333333333,
              "#9c179e"
             ],
             [
              0.4444444444444444,
              "#bd3786"
             ],
             [
              0.5555555555555556,
              "#d8576b"
             ],
             [
              0.6666666666666666,
              "#ed7953"
             ],
             [
              0.7777777777777778,
              "#fb9f3a"
             ],
             [
              0.8888888888888888,
              "#fdca26"
             ],
             [
              1,
              "#f0f921"
             ]
            ],
            "type": "surface"
           }
          ],
          "table": [
           {
            "cells": {
             "fill": {
              "color": "#EBF0F8"
             },
             "line": {
              "color": "white"
             }
            },
            "header": {
             "fill": {
              "color": "#C8D4E3"
             },
             "line": {
              "color": "white"
             }
            },
            "type": "table"
           }
          ]
         },
         "layout": {
          "annotationdefaults": {
           "arrowcolor": "#2a3f5f",
           "arrowhead": 0,
           "arrowwidth": 1
          },
          "coloraxis": {
           "colorbar": {
            "outlinewidth": 0,
            "ticks": ""
           }
          },
          "colorscale": {
           "diverging": [
            [
             0,
             "#8e0152"
            ],
            [
             0.1,
             "#c51b7d"
            ],
            [
             0.2,
             "#de77ae"
            ],
            [
             0.3,
             "#f1b6da"
            ],
            [
             0.4,
             "#fde0ef"
            ],
            [
             0.5,
             "#f7f7f7"
            ],
            [
             0.6,
             "#e6f5d0"
            ],
            [
             0.7,
             "#b8e186"
            ],
            [
             0.8,
             "#7fbc41"
            ],
            [
             0.9,
             "#4d9221"
            ],
            [
             1,
             "#276419"
            ]
           ],
           "sequential": [
            [
             0,
             "#0d0887"
            ],
            [
             0.1111111111111111,
             "#46039f"
            ],
            [
             0.2222222222222222,
             "#7201a8"
            ],
            [
             0.3333333333333333,
             "#9c179e"
            ],
            [
             0.4444444444444444,
             "#bd3786"
            ],
            [
             0.5555555555555556,
             "#d8576b"
            ],
            [
             0.6666666666666666,
             "#ed7953"
            ],
            [
             0.7777777777777778,
             "#fb9f3a"
            ],
            [
             0.8888888888888888,
             "#fdca26"
            ],
            [
             1,
             "#f0f921"
            ]
           ],
           "sequentialminus": [
            [
             0,
             "#0d0887"
            ],
            [
             0.1111111111111111,
             "#46039f"
            ],
            [
             0.2222222222222222,
             "#7201a8"
            ],
            [
             0.3333333333333333,
             "#9c179e"
            ],
            [
             0.4444444444444444,
             "#bd3786"
            ],
            [
             0.5555555555555556,
             "#d8576b"
            ],
            [
             0.6666666666666666,
             "#ed7953"
            ],
            [
             0.7777777777777778,
             "#fb9f3a"
            ],
            [
             0.8888888888888888,
             "#fdca26"
            ],
            [
             1,
             "#f0f921"
            ]
           ]
          },
          "colorway": [
           "#636efa",
           "#EF553B",
           "#00cc96",
           "#ab63fa",
           "#FFA15A",
           "#19d3f3",
           "#FF6692",
           "#B6E880",
           "#FF97FF",
           "#FECB52"
          ],
          "font": {
           "color": "#2a3f5f"
          },
          "geo": {
           "bgcolor": "white",
           "lakecolor": "white",
           "landcolor": "#E5ECF6",
           "showlakes": true,
           "showland": true,
           "subunitcolor": "white"
          },
          "hoverlabel": {
           "align": "left"
          },
          "hovermode": "closest",
          "mapbox": {
           "style": "light"
          },
          "paper_bgcolor": "white",
          "plot_bgcolor": "#E5ECF6",
          "polar": {
           "angularaxis": {
            "gridcolor": "white",
            "linecolor": "white",
            "ticks": ""
           },
           "bgcolor": "#E5ECF6",
           "radialaxis": {
            "gridcolor": "white",
            "linecolor": "white",
            "ticks": ""
           }
          },
          "scene": {
           "xaxis": {
            "backgroundcolor": "#E5ECF6",
            "gridcolor": "white",
            "gridwidth": 2,
            "linecolor": "white",
            "showbackground": true,
            "ticks": "",
            "zerolinecolor": "white"
           },
           "yaxis": {
            "backgroundcolor": "#E5ECF6",
            "gridcolor": "white",
            "gridwidth": 2,
            "linecolor": "white",
            "showbackground": true,
            "ticks": "",
            "zerolinecolor": "white"
           },
           "zaxis": {
            "backgroundcolor": "#E5ECF6",
            "gridcolor": "white",
            "gridwidth": 2,
            "linecolor": "white",
            "showbackground": true,
            "ticks": "",
            "zerolinecolor": "white"
           }
          },
          "shapedefaults": {
           "line": {
            "color": "#2a3f5f"
           }
          },
          "ternary": {
           "aaxis": {
            "gridcolor": "white",
            "linecolor": "white",
            "ticks": ""
           },
           "baxis": {
            "gridcolor": "white",
            "linecolor": "white",
            "ticks": ""
           },
           "bgcolor": "#E5ECF6",
           "caxis": {
            "gridcolor": "white",
            "linecolor": "white",
            "ticks": ""
           }
          },
          "title": {
           "x": 0.05
          },
          "xaxis": {
           "automargin": true,
           "gridcolor": "white",
           "linecolor": "white",
           "ticks": "",
           "title": {
            "standoff": 15
           },
           "zerolinecolor": "white",
           "zerolinewidth": 2
          },
          "yaxis": {
           "automargin": true,
           "gridcolor": "white",
           "linecolor": "white",
           "ticks": "",
           "title": {
            "standoff": 15
           },
           "zerolinecolor": "white",
           "zerolinewidth": 2
          }
         }
        },
        "title": {
         "text": "Relationship between Newborn and Maternal Mortality and Inequality per Country"
        },
        "xaxis": {
         "anchor": "y",
         "domain": [
          0,
          1
         ],
         "title": {
          "text": "Avg Maternal Mortality Rate"
         }
        },
        "yaxis": {
         "anchor": "x",
         "domain": [
          0,
          1
         ],
         "title": {
          "text": "Avg Newborn Mortality Rate"
         }
        }
       }
      },
      "text/html": [
       "<div>                            <div id=\"6a935ab9-8d27-4eb7-ac3e-0af22fe37f37\" class=\"plotly-graph-div\" style=\"height:525px; width:100%;\"></div>            <script type=\"text/javascript\">                require([\"plotly\"], function(Plotly) {                    window.PLOTLYENV=window.PLOTLYENV || {};                                    if (document.getElementById(\"6a935ab9-8d27-4eb7-ac3e-0af22fe37f37\")) {                    Plotly.newPlot(                        \"6a935ab9-8d27-4eb7-ac3e-0af22fe37f37\",                        [{\"hovertemplate\": \"Avg Maternal Mortality Rate=%{x}<br>Avg Newborn Mortality Rate=%{y}<br>Avg Gini Inequality Index=%{marker.color}<extra></extra>\", \"legendgroup\": \"\", \"marker\": {\"color\": [36.78, 29.06, 32.2, 48.43, 40.0, 46.71, 35.85, 33.28, 29.14, 33.56, 43.77, 40.0, 31.98, 44.97, 27.61, 27.15, 55.28, 41.07, 39.87, 51.93, 31.6, 61.55, 56.48, 40.0, 31.6, 43.63, 36.87, 42.0, 43.15, 32.72, 50.36, 54.25, 40.63, 51.68, 38.83, 54.48, 49.13, 42.17, 47.29, 47.97, 40.96, 29.57, 42.46, 31.25, 26.09, 25.38, 40.91, 40.0, 49.12, 51.29, 31.46, 48.55, 40.0, 40.0, 33.88, 54.54, 36.33, 38.28, 26.02, 31.98, 44.71, 45.33, 36.66, 30.1, 40.83, 40.0, 54.12, 41.47, 43.79, 43.62, 55.66, 54.95, 28.39, 27.08, 33.47, 34.0, 42.55, 28.81, 33.85, 39.43, 33.85, 43.58, 31.35, 36.46, 31.43, 46.27, 37.0, 40.0, 36.55, 34.69, 33.21, 34.06, 56.18, 35.87, 40.0, 33.46, 30.3, 42.72, 52.65, 46.15, 40.3, 41.21, 28.44, 40.0, 39.12, 35.3, 49.64, 41.8, 33.93, 32.87, 30.56, 39.92, 50.3, 38.1, 65.1, 40.0, 36.56, 28.7, 32.9, 47.99, 38.7, 44.45, 37.0, 37.55, 27.67, 40.0, 31.41, 40.0, 34.23, 55.14, 48.86, 51.73, 48.38, 44.17, 32.04, 37.19, 40.0, 30.21, 40.36, 45.45, 42.1, 31.6, 40.0, 42.61, 33.87, 43.35, 38.64, 39.42, 25.58, 26.91, 43.83, 47.58, 61.56, 32.32, 45.06, 37.6, 40.0, 42.6, 40.0, 35.64, 58.49, 25.77, 33.05, 34.17, 32.33, 37.5, 41.66, 32.49, 45.61, 37.62, 40.95, 38.93, 41.0, 42.34, 39.1, 42.5, 28.6, 40.0, 35.56, 40.38, 43.73, 35.02, 37.6, 47.48, 36.04, 35.78, 52.37, 40.98], \"coloraxis\": \"coloraxis\", \"opacity\": 0.7, \"symbol\": \"circle\"}, \"mode\": \"markers\", \"name\": \"\", \"orientation\": \"v\", \"showlegend\": false, \"type\": \"scatter\", \"x\": [433.19, 13.34, 132.32, 265.15, 30.85, 60.1, 24.77, 6.36, 4.47, 33.07, 70.32, 38.27, 321.54, 51.25, 20.32, 6.65, 54.69, 340.85, 269.77, 258.38, 14.38, 155.62, 71.65, 37.27, 27.39, 235.35, 439.58, 290.73, 388.62, 6.95, 113.09, 512.73, 446.35, 28.57, 49.44, 68.53, 213.31, 346.81, 347.77, 31.93, 312.42, 10.19, 55.32, 10.34, 6.71, 4.76, 376.23, 85.22, 87.94, 88.66, 60.77, 78.64, 263.23, 473.35, 16.21, 129.38, 440.46, 102.63, 5.04, 10.64, 272.19, 416.38, 37.45, 6.82, 181.08, 60.08, 213.92, 532.31, 361.81, 168.73, 501.54, 183.19, 11.88, 3.46, 308.69, 288.08, 33.09, 70.94, 4.4, 6.33, 5.37, 68.56, 8.34, 68.27, 46.32, 282.85, 350.04, 9.76, 58.12, 380.96, 22.72, 25.87, 270.62, 586.0, 29.23, 12.76, 8.89, 357.96, 252.19, 66.3, 164.01, 433.04, 12.14, 142.62, 623.62, 47.1, 59.72, 151.58, 33.32, 120.22, 9.14, 171.23, 198.35, 177.5, 174.77, 165.35, 362.88, 8.07, 11.36, 70.55, 355.96, 289.54, 100.23, 11.57, 4.85, 40.15, 277.46, 120.31, 24.11, 66.71, 291.12, 114.89, 161.51, 84.42, 8.55, 8.64, 48.77, 36.88, 36.42, 396.23, 67.73, 176.5, 55.22, 376.5, 13.95, 69.78, 482.19, 5.92, 8.6, 8.02, 301.27, 399.46, 186.97, 14.94, 201.19, 55.03, 170.04, 63.48, 63.82, 245.96, 93.22, 3.67, 5.74, 41.57, 44.84, 257.19, 72.7, 288.85, 300.27, 103.1, 62.61, 55.61, 53.28, 57.16, 156.38, 140.19, 27.01, 15.76, 8.16, 19.15, 28.45, 33.92, 113.13, 71.77, 28.09, 201.42, 201.0, 217.32], \"xaxis\": \"x\", \"y\": [43.57, 10.14, 19.43, 56.1, 8.9, 10.4, 14.58, 3.33, 3.07, 29.23, 9.31, 5.3, 40.41, 9.32, 5.84, 3.03, 12.39, 37.98, 30.49, 29.44, 6.84, 24.47, 14.97, 5.02, 9.59, 38.03, 36.82, 30.17, 33.28, 3.85, 16.79, 48.03, 46.18, 5.97, 17.62, 12.87, 41.18, 36.81, 27.59, 7.48, 46.6, 5.02, 4.05, 3.13, 4.42, 3.32, 42.33, 12.17, 23.63, 16.48, 21.36, 13.88, 42.21, 25.32, 6.19, 19.25, 44.16, 12.94, 2.39, 2.68, 28.4, 39.64, 17.12, 2.73, 35.24, 8.17, 20.09, 45.89, 53.32, 25.97, 30.83, 16.32, 6.77, 1.93, 41.99, 21.27, 17.34, 23.14, 3.43, 3.48, 3.5, 16.07, 1.64, 15.43, 16.84, 27.14, 28.63, 6.37, 20.19, 41.23, 9.94, 10.88, 37.02, 39.47, 13.66, 6.11, 2.23, 29.5, 33.37, 5.49, 21.37, 53.62, 5.35, 18.03, 41.79, 11.56, 10.89, 23.78, 16.95, 22.62, 7.4, 26.42, 42.04, 35.93, 19.83, 25.24, 37.32, 3.52, 3.43, 16.1, 40.13, 44.57, 22.11, 9.46, 2.52, 8.2, 57.17, 13.76, 16.11, 13.65, 29.07, 16.58, 15.8, 16.12, 6.14, 3.42, 6.43, 11.1, 10.29, 34.55, 11.92, 22.95, 12.72, 33.43, 8.19, 9.35, 46.93, 1.75, 7.26, 3.02, 14.26, 43.88, 15.08, 2.13, 53.45, 9.58, 11.03, 11.01, 13.09, 34.84, 17.23, 2.22, 3.32, 11.45, 27.5, 29.0, 12.05, 35.77, 34.55, 7.79, 17.37, 16.81, 18.12, 28.56, 24.37, 28.91, 9.66, 5.49, 3.56, 4.57, 8.15, 26.83, 12.79, 11.3, 15.98, 33.85, 30.1, 22.48], \"yaxis\": \"y\"}],                        {\"coloraxis\": {\"colorbar\": {\"title\": {\"text\": \"Avg Gini Inequality Index\"}}, \"colorscale\": [[0.0, \"#0d0887\"], [0.1111111111111111, \"#46039f\"], [0.2222222222222222, \"#7201a8\"], [0.3333333333333333, \"#9c179e\"], [0.4444444444444444, \"#bd3786\"], [0.5555555555555556, \"#d8576b\"], [0.6666666666666666, \"#ed7953\"], [0.7777777777777778, \"#fb9f3a\"], [0.8888888888888888, \"#fdca26\"], [1.0, \"#f0f921\"]]}, \"legend\": {\"tracegroupgap\": 0}, \"plot_bgcolor\": \"white\", \"template\": {\"data\": {\"bar\": [{\"error_x\": {\"color\": \"#2a3f5f\"}, \"error_y\": {\"color\": \"#2a3f5f\"}, \"marker\": {\"line\": {\"color\": \"#E5ECF6\", \"width\": 0.5}}, \"type\": \"bar\"}], \"barpolar\": [{\"marker\": {\"line\": {\"color\": \"#E5ECF6\", \"width\": 0.5}}, \"type\": \"barpolar\"}], \"carpet\": [{\"aaxis\": {\"endlinecolor\": \"#2a3f5f\", \"gridcolor\": \"white\", \"linecolor\": \"white\", \"minorgridcolor\": \"white\", \"startlinecolor\": \"#2a3f5f\"}, \"baxis\": {\"endlinecolor\": \"#2a3f5f\", \"gridcolor\": \"white\", \"linecolor\": \"white\", \"minorgridcolor\": \"white\", \"startlinecolor\": \"#2a3f5f\"}, \"type\": \"carpet\"}], \"choropleth\": [{\"colorbar\": {\"outlinewidth\": 0, \"ticks\": \"\"}, \"type\": \"choropleth\"}], \"contour\": [{\"colorbar\": {\"outlinewidth\": 0, \"ticks\": \"\"}, \"colorscale\": [[0.0, \"#0d0887\"], [0.1111111111111111, \"#46039f\"], [0.2222222222222222, \"#7201a8\"], [0.3333333333333333, \"#9c179e\"], [0.4444444444444444, \"#bd3786\"], [0.5555555555555556, \"#d8576b\"], [0.6666666666666666, \"#ed7953\"], [0.7777777777777778, \"#fb9f3a\"], [0.8888888888888888, \"#fdca26\"], [1.0, \"#f0f921\"]], \"type\": \"contour\"}], \"contourcarpet\": [{\"colorbar\": {\"outlinewidth\": 0, \"ticks\": \"\"}, \"type\": \"contourcarpet\"}], \"heatmap\": [{\"colorbar\": {\"outlinewidth\": 0, \"ticks\": \"\"}, \"colorscale\": [[0.0, \"#0d0887\"], [0.1111111111111111, \"#46039f\"], [0.2222222222222222, \"#7201a8\"], [0.3333333333333333, \"#9c179e\"], [0.4444444444444444, \"#bd3786\"], [0.5555555555555556, \"#d8576b\"], [0.6666666666666666, \"#ed7953\"], [0.7777777777777778, \"#fb9f3a\"], [0.8888888888888888, \"#fdca26\"], [1.0, \"#f0f921\"]], \"type\": \"heatmap\"}], \"heatmapgl\": [{\"colorbar\": {\"outlinewidth\": 0, \"ticks\": \"\"}, \"colorscale\": [[0.0, \"#0d0887\"], [0.1111111111111111, \"#46039f\"], [0.2222222222222222, \"#7201a8\"], [0.3333333333333333, \"#9c179e\"], [0.4444444444444444, \"#bd3786\"], [0.5555555555555556, \"#d8576b\"], [0.6666666666666666, \"#ed7953\"], [0.7777777777777778, \"#fb9f3a\"], [0.8888888888888888, \"#fdca26\"], [1.0, \"#f0f921\"]], \"type\": \"heatmapgl\"}], \"histogram\": [{\"marker\": {\"colorbar\": {\"outlinewidth\": 0, \"ticks\": \"\"}}, \"type\": \"histogram\"}], \"histogram2d\": [{\"colorbar\": {\"outlinewidth\": 0, \"ticks\": \"\"}, \"colorscale\": [[0.0, \"#0d0887\"], [0.1111111111111111, \"#46039f\"], [0.2222222222222222, \"#7201a8\"], [0.3333333333333333, \"#9c179e\"], [0.4444444444444444, \"#bd3786\"], [0.5555555555555556, \"#d8576b\"], [0.6666666666666666, \"#ed7953\"], [0.7777777777777778, \"#fb9f3a\"], [0.8888888888888888, \"#fdca26\"], [1.0, \"#f0f921\"]], \"type\": \"histogram2d\"}], \"histogram2dcontour\": [{\"colorbar\": {\"outlinewidth\": 0, \"ticks\": \"\"}, \"colorscale\": [[0.0, \"#0d0887\"], [0.1111111111111111, \"#46039f\"], [0.2222222222222222, \"#7201a8\"], [0.3333333333333333, \"#9c179e\"], [0.4444444444444444, \"#bd3786\"], [0.5555555555555556, \"#d8576b\"], [0.6666666666666666, \"#ed7953\"], [0.7777777777777778, \"#fb9f3a\"], [0.8888888888888888, \"#fdca26\"], [1.0, \"#f0f921\"]], \"type\": \"histogram2dcontour\"}], \"mesh3d\": [{\"colorbar\": {\"outlinewidth\": 0, \"ticks\": \"\"}, \"type\": \"mesh3d\"}], \"parcoords\": [{\"line\": {\"colorbar\": {\"outlinewidth\": 0, \"ticks\": \"\"}}, \"type\": \"parcoords\"}], \"pie\": [{\"automargin\": true, \"type\": \"pie\"}], \"scatter\": [{\"marker\": {\"colorbar\": {\"outlinewidth\": 0, \"ticks\": \"\"}}, \"type\": \"scatter\"}], \"scatter3d\": [{\"line\": {\"colorbar\": {\"outlinewidth\": 0, \"ticks\": \"\"}}, \"marker\": {\"colorbar\": {\"outlinewidth\": 0, \"ticks\": \"\"}}, \"type\": \"scatter3d\"}], \"scattercarpet\": [{\"marker\": {\"colorbar\": {\"outlinewidth\": 0, \"ticks\": \"\"}}, \"type\": \"scattercarpet\"}], \"scattergeo\": [{\"marker\": {\"colorbar\": {\"outlinewidth\": 0, \"ticks\": \"\"}}, \"type\": \"scattergeo\"}], \"scattergl\": [{\"marker\": {\"colorbar\": {\"outlinewidth\": 0, \"ticks\": \"\"}}, \"type\": \"scattergl\"}], \"scattermapbox\": [{\"marker\": {\"colorbar\": {\"outlinewidth\": 0, \"ticks\": \"\"}}, \"type\": \"scattermapbox\"}], \"scatterpolar\": [{\"marker\": {\"colorbar\": {\"outlinewidth\": 0, \"ticks\": \"\"}}, \"type\": \"scatterpolar\"}], \"scatterpolargl\": [{\"marker\": {\"colorbar\": {\"outlinewidth\": 0, \"ticks\": \"\"}}, \"type\": \"scatterpolargl\"}], \"scatterternary\": [{\"marker\": {\"colorbar\": {\"outlinewidth\": 0, \"ticks\": \"\"}}, \"type\": \"scatterternary\"}], \"surface\": [{\"colorbar\": {\"outlinewidth\": 0, \"ticks\": \"\"}, \"colorscale\": [[0.0, \"#0d0887\"], [0.1111111111111111, \"#46039f\"], [0.2222222222222222, \"#7201a8\"], [0.3333333333333333, \"#9c179e\"], [0.4444444444444444, \"#bd3786\"], [0.5555555555555556, \"#d8576b\"], [0.6666666666666666, \"#ed7953\"], [0.7777777777777778, \"#fb9f3a\"], [0.8888888888888888, \"#fdca26\"], [1.0, \"#f0f921\"]], \"type\": \"surface\"}], \"table\": [{\"cells\": {\"fill\": {\"color\": \"#EBF0F8\"}, \"line\": {\"color\": \"white\"}}, \"header\": {\"fill\": {\"color\": \"#C8D4E3\"}, \"line\": {\"color\": \"white\"}}, \"type\": \"table\"}]}, \"layout\": {\"annotationdefaults\": {\"arrowcolor\": \"#2a3f5f\", \"arrowhead\": 0, \"arrowwidth\": 1}, \"coloraxis\": {\"colorbar\": {\"outlinewidth\": 0, \"ticks\": \"\"}}, \"colorscale\": {\"diverging\": [[0, \"#8e0152\"], [0.1, \"#c51b7d\"], [0.2, \"#de77ae\"], [0.3, \"#f1b6da\"], [0.4, \"#fde0ef\"], [0.5, \"#f7f7f7\"], [0.6, \"#e6f5d0\"], [0.7, \"#b8e186\"], [0.8, \"#7fbc41\"], [0.9, \"#4d9221\"], [1, \"#276419\"]], \"sequential\": [[0.0, \"#0d0887\"], [0.1111111111111111, \"#46039f\"], [0.2222222222222222, \"#7201a8\"], [0.3333333333333333, \"#9c179e\"], [0.4444444444444444, \"#bd3786\"], [0.5555555555555556, \"#d8576b\"], [0.6666666666666666, \"#ed7953\"], [0.7777777777777778, \"#fb9f3a\"], [0.8888888888888888, \"#fdca26\"], [1.0, \"#f0f921\"]], \"sequentialminus\": [[0.0, \"#0d0887\"], [0.1111111111111111, \"#46039f\"], [0.2222222222222222, \"#7201a8\"], [0.3333333333333333, \"#9c179e\"], [0.4444444444444444, \"#bd3786\"], [0.5555555555555556, \"#d8576b\"], [0.6666666666666666, \"#ed7953\"], [0.7777777777777778, \"#fb9f3a\"], [0.8888888888888888, \"#fdca26\"], [1.0, \"#f0f921\"]]}, \"colorway\": [\"#636efa\", \"#EF553B\", \"#00cc96\", \"#ab63fa\", \"#FFA15A\", \"#19d3f3\", \"#FF6692\", \"#B6E880\", \"#FF97FF\", \"#FECB52\"], \"font\": {\"color\": \"#2a3f5f\"}, \"geo\": {\"bgcolor\": \"white\", \"lakecolor\": \"white\", \"landcolor\": \"#E5ECF6\", \"showlakes\": true, \"showland\": true, \"subunitcolor\": \"white\"}, \"hoverlabel\": {\"align\": \"left\"}, \"hovermode\": \"closest\", \"mapbox\": {\"style\": \"light\"}, \"paper_bgcolor\": \"white\", \"plot_bgcolor\": \"#E5ECF6\", \"polar\": {\"angularaxis\": {\"gridcolor\": \"white\", \"linecolor\": \"white\", \"ticks\": \"\"}, \"bgcolor\": \"#E5ECF6\", \"radialaxis\": {\"gridcolor\": \"white\", \"linecolor\": \"white\", \"ticks\": \"\"}}, \"scene\": {\"xaxis\": {\"backgroundcolor\": \"#E5ECF6\", \"gridcolor\": \"white\", \"gridwidth\": 2, \"linecolor\": \"white\", \"showbackground\": true, \"ticks\": \"\", \"zerolinecolor\": \"white\"}, \"yaxis\": {\"backgroundcolor\": \"#E5ECF6\", \"gridcolor\": \"white\", \"gridwidth\": 2, \"linecolor\": \"white\", \"showbackground\": true, \"ticks\": \"\", \"zerolinecolor\": \"white\"}, \"zaxis\": {\"backgroundcolor\": \"#E5ECF6\", \"gridcolor\": \"white\", \"gridwidth\": 2, \"linecolor\": \"white\", \"showbackground\": true, \"ticks\": \"\", \"zerolinecolor\": \"white\"}}, \"shapedefaults\": {\"line\": {\"color\": \"#2a3f5f\"}}, \"ternary\": {\"aaxis\": {\"gridcolor\": \"white\", \"linecolor\": \"white\", \"ticks\": \"\"}, \"baxis\": {\"gridcolor\": \"white\", \"linecolor\": \"white\", \"ticks\": \"\"}, \"bgcolor\": \"#E5ECF6\", \"caxis\": {\"gridcolor\": \"white\", \"linecolor\": \"white\", \"ticks\": \"\"}}, \"title\": {\"x\": 0.05}, \"xaxis\": {\"automargin\": true, \"gridcolor\": \"white\", \"linecolor\": \"white\", \"ticks\": \"\", \"title\": {\"standoff\": 15}, \"zerolinecolor\": \"white\", \"zerolinewidth\": 2}, \"yaxis\": {\"automargin\": true, \"gridcolor\": \"white\", \"linecolor\": \"white\", \"ticks\": \"\", \"title\": {\"standoff\": 15}, \"zerolinecolor\": \"white\", \"zerolinewidth\": 2}}}, \"title\": {\"text\": \"Relationship between Newborn and Maternal Mortality and Inequality per Country\"}, \"xaxis\": {\"anchor\": \"y\", \"domain\": [0.0, 1.0], \"title\": {\"text\": \"Avg Maternal Mortality Rate\"}}, \"yaxis\": {\"anchor\": \"x\", \"domain\": [0.0, 1.0], \"title\": {\"text\": \"Avg Newborn Mortality Rate\"}}},                        {\"responsive\": true}                    ).then(function(){\n",
       "                            \n",
       "var gd = document.getElementById('6a935ab9-8d27-4eb7-ac3e-0af22fe37f37');\n",
       "var x = new MutationObserver(function (mutations, observer) {{\n",
       "        var display = window.getComputedStyle(gd).display;\n",
       "        if (!display || display === 'none') {{\n",
       "            console.log([gd, 'removed!']);\n",
       "            Plotly.purge(gd);\n",
       "            observer.disconnect();\n",
       "        }}\n",
       "}});\n",
       "\n",
       "// Listen for the removal of the full notebook cells\n",
       "var notebookContainer = gd.closest('#notebook-container');\n",
       "if (notebookContainer) {{\n",
       "    x.observe(notebookContainer, {childList: true});\n",
       "}}\n",
       "\n",
       "// Listen for the clearing of the current output cell\n",
       "var outputEl = gd.closest('.output');\n",
       "if (outputEl) {{\n",
       "    x.observe(outputEl, {childList: true});\n",
       "}}\n",
       "\n",
       "                        })                };                });            </script>        </div>"
      ]
     },
     "metadata": {},
     "output_type": "display_data"
    }
   ],
   "source": [
    "# Plot relationship between newborn and mother mortality rates and inequality\n",
    "ineq_rounded = ineq_mat_new_corr.round(decimals=2)\n",
    "graph = px.scatter(ineq_rounded, x = \"Maternal avg\", y = \"Newborn avg\",opacity=0.7,color=\"Inequality avg\", title=\"Relationship between Newborn and Maternal Mortality and Inequality per Country\", labels={\n",
    "                     \"Maternal avg\": \"Avg Maternal Mortality Rate\",\n",
    "                     \"Newborn avg\": \"Avg Newborn Mortality Rate\",\n",
    "                     \"Inequality avg\": \"Avg Gini Inequality Index\"\n",
    "                 }) \n",
    "graph.update_layout(plot_bgcolor='white')\n",
    "graph.show()"
   ]
  },
  {
   "cell_type": "markdown",
   "metadata": {},
   "source": [
    "### Are maternal mortality and newborn mortality rates correlated with skilled health assistance? How?\n",
    "__Observations:__ In this section, we will explore the relationship between mortality rates and the assistance of skilled health professionals. Since the dataset on the later has many missing values, the data frame will be unpivoted and joined with the corresponding data from the all other datasets. Then, correlations will be calculated with the available data. "
   ]
  },
  {
   "cell_type": "code",
   "execution_count": 177,
   "metadata": {
    "scrolled": false
   },
   "outputs": [
    {
     "data": {
      "text/html": [
       "<div>\n",
       "<style scoped>\n",
       "    .dataframe tbody tr th:only-of-type {\n",
       "        vertical-align: middle;\n",
       "    }\n",
       "\n",
       "    .dataframe tbody tr th {\n",
       "        vertical-align: top;\n",
       "    }\n",
       "\n",
       "    .dataframe thead th {\n",
       "        text-align: right;\n",
       "    }\n",
       "</style>\n",
       "<table border=\"1\" class=\"dataframe\">\n",
       "  <thead>\n",
       "    <tr style=\"text-align: right;\">\n",
       "      <th></th>\n",
       "      <th>country</th>\n",
       "      <th>1990</th>\n",
       "      <th>1991</th>\n",
       "      <th>1992</th>\n",
       "      <th>1993</th>\n",
       "      <th>1994</th>\n",
       "      <th>1995</th>\n",
       "      <th>1996</th>\n",
       "      <th>1997</th>\n",
       "      <th>1998</th>\n",
       "      <th>...</th>\n",
       "      <th>2006</th>\n",
       "      <th>2007</th>\n",
       "      <th>2008</th>\n",
       "      <th>2009</th>\n",
       "      <th>2010</th>\n",
       "      <th>2011</th>\n",
       "      <th>2012</th>\n",
       "      <th>2013</th>\n",
       "      <th>2014</th>\n",
       "      <th>2015</th>\n",
       "    </tr>\n",
       "  </thead>\n",
       "  <tbody>\n",
       "    <tr>\n",
       "      <th>0</th>\n",
       "      <td>Afghanistan</td>\n",
       "      <td>NaN</td>\n",
       "      <td>NaN</td>\n",
       "      <td>NaN</td>\n",
       "      <td>NaN</td>\n",
       "      <td>NaN</td>\n",
       "      <td>NaN</td>\n",
       "      <td>NaN</td>\n",
       "      <td>NaN</td>\n",
       "      <td>NaN</td>\n",
       "      <td>...</td>\n",
       "      <td>0.189</td>\n",
       "      <td>NaN</td>\n",
       "      <td>0.24</td>\n",
       "      <td>NaN</td>\n",
       "      <td>0.343</td>\n",
       "      <td>0.386</td>\n",
       "      <td>0.399</td>\n",
       "      <td>NaN</td>\n",
       "      <td>0.452</td>\n",
       "      <td>0.505</td>\n",
       "    </tr>\n",
       "    <tr>\n",
       "      <th>1</th>\n",
       "      <td>Albania</td>\n",
       "      <td>0.93</td>\n",
       "      <td>0.926</td>\n",
       "      <td>0.864</td>\n",
       "      <td>0.872</td>\n",
       "      <td>0.891</td>\n",
       "      <td>0.891</td>\n",
       "      <td>0.912</td>\n",
       "      <td>0.988</td>\n",
       "      <td>0.991</td>\n",
       "      <td>...</td>\n",
       "      <td>0.990</td>\n",
       "      <td>NaN</td>\n",
       "      <td>NaN</td>\n",
       "      <td>0.993</td>\n",
       "      <td>NaN</td>\n",
       "      <td>NaN</td>\n",
       "      <td>NaN</td>\n",
       "      <td>NaN</td>\n",
       "      <td>NaN</td>\n",
       "      <td>NaN</td>\n",
       "    </tr>\n",
       "    <tr>\n",
       "      <th>2</th>\n",
       "      <td>Algeria</td>\n",
       "      <td>NaN</td>\n",
       "      <td>NaN</td>\n",
       "      <td>0.765</td>\n",
       "      <td>NaN</td>\n",
       "      <td>NaN</td>\n",
       "      <td>NaN</td>\n",
       "      <td>NaN</td>\n",
       "      <td>NaN</td>\n",
       "      <td>NaN</td>\n",
       "      <td>...</td>\n",
       "      <td>0.952</td>\n",
       "      <td>NaN</td>\n",
       "      <td>NaN</td>\n",
       "      <td>NaN</td>\n",
       "      <td>NaN</td>\n",
       "      <td>NaN</td>\n",
       "      <td>NaN</td>\n",
       "      <td>0.966</td>\n",
       "      <td>NaN</td>\n",
       "      <td>NaN</td>\n",
       "    </tr>\n",
       "    <tr>\n",
       "      <th>3</th>\n",
       "      <td>Angola</td>\n",
       "      <td>NaN</td>\n",
       "      <td>NaN</td>\n",
       "      <td>NaN</td>\n",
       "      <td>NaN</td>\n",
       "      <td>NaN</td>\n",
       "      <td>NaN</td>\n",
       "      <td>0.225</td>\n",
       "      <td>NaN</td>\n",
       "      <td>NaN</td>\n",
       "      <td>...</td>\n",
       "      <td>NaN</td>\n",
       "      <td>0.467</td>\n",
       "      <td>NaN</td>\n",
       "      <td>NaN</td>\n",
       "      <td>NaN</td>\n",
       "      <td>NaN</td>\n",
       "      <td>NaN</td>\n",
       "      <td>NaN</td>\n",
       "      <td>NaN</td>\n",
       "      <td>NaN</td>\n",
       "    </tr>\n",
       "    <tr>\n",
       "      <th>4</th>\n",
       "      <td>Antigua and Barbuda</td>\n",
       "      <td>NaN</td>\n",
       "      <td>NaN</td>\n",
       "      <td>NaN</td>\n",
       "      <td>NaN</td>\n",
       "      <td>NaN</td>\n",
       "      <td>1.000</td>\n",
       "      <td>1.000</td>\n",
       "      <td>NaN</td>\n",
       "      <td>1.000</td>\n",
       "      <td>...</td>\n",
       "      <td>0.999</td>\n",
       "      <td>1.000</td>\n",
       "      <td>1.00</td>\n",
       "      <td>1.000</td>\n",
       "      <td>1.000</td>\n",
       "      <td>NaN</td>\n",
       "      <td>1.000</td>\n",
       "      <td>1.000</td>\n",
       "      <td>1.000</td>\n",
       "      <td>NaN</td>\n",
       "    </tr>\n",
       "  </tbody>\n",
       "</table>\n",
       "<p>5 rows × 27 columns</p>\n",
       "</div>"
      ],
      "text/plain": [
       "               country  1990   1991   1992   1993   1994   1995   1996   1997  \\\n",
       "0          Afghanistan   NaN    NaN    NaN    NaN    NaN    NaN    NaN    NaN   \n",
       "1              Albania  0.93  0.926  0.864  0.872  0.891  0.891  0.912  0.988   \n",
       "2              Algeria   NaN    NaN  0.765    NaN    NaN    NaN    NaN    NaN   \n",
       "3               Angola   NaN    NaN    NaN    NaN    NaN    NaN  0.225    NaN   \n",
       "4  Antigua and Barbuda   NaN    NaN    NaN    NaN    NaN  1.000  1.000    NaN   \n",
       "\n",
       "    1998  ...   2006   2007  2008   2009   2010   2011   2012   2013   2014  \\\n",
       "0    NaN  ...  0.189    NaN  0.24    NaN  0.343  0.386  0.399    NaN  0.452   \n",
       "1  0.991  ...  0.990    NaN   NaN  0.993    NaN    NaN    NaN    NaN    NaN   \n",
       "2    NaN  ...  0.952    NaN   NaN    NaN    NaN    NaN    NaN  0.966    NaN   \n",
       "3    NaN  ...    NaN  0.467   NaN    NaN    NaN    NaN    NaN    NaN    NaN   \n",
       "4  1.000  ...  0.999  1.000  1.00  1.000  1.000    NaN  1.000  1.000  1.000   \n",
       "\n",
       "    2015  \n",
       "0  0.505  \n",
       "1    NaN  \n",
       "2    NaN  \n",
       "3    NaN  \n",
       "4    NaN  \n",
       "\n",
       "[5 rows x 27 columns]"
      ]
     },
     "execution_count": 177,
     "metadata": {},
     "output_type": "execute_result"
    }
   ],
   "source": [
    "# Display dataset to unpivot\n",
    "df_assistance.head()"
   ]
  },
  {
   "cell_type": "code",
   "execution_count": 178,
   "metadata": {
    "scrolled": true
   },
   "outputs": [
    {
     "data": {
      "text/html": [
       "<div>\n",
       "<style scoped>\n",
       "    .dataframe tbody tr th:only-of-type {\n",
       "        vertical-align: middle;\n",
       "    }\n",
       "\n",
       "    .dataframe tbody tr th {\n",
       "        vertical-align: top;\n",
       "    }\n",
       "\n",
       "    .dataframe thead th {\n",
       "        text-align: right;\n",
       "    }\n",
       "</style>\n",
       "<table border=\"1\" class=\"dataframe\">\n",
       "  <thead>\n",
       "    <tr style=\"text-align: right;\">\n",
       "      <th></th>\n",
       "      <th>country</th>\n",
       "      <th>variable</th>\n",
       "      <th>Skilled assistance</th>\n",
       "    </tr>\n",
       "  </thead>\n",
       "  <tbody>\n",
       "    <tr>\n",
       "      <th>0</th>\n",
       "      <td>Afghanistan</td>\n",
       "      <td>1990</td>\n",
       "      <td>NaN</td>\n",
       "    </tr>\n",
       "    <tr>\n",
       "      <th>1</th>\n",
       "      <td>Albania</td>\n",
       "      <td>1990</td>\n",
       "      <td>0.93</td>\n",
       "    </tr>\n",
       "    <tr>\n",
       "      <th>2</th>\n",
       "      <td>Algeria</td>\n",
       "      <td>1990</td>\n",
       "      <td>NaN</td>\n",
       "    </tr>\n",
       "    <tr>\n",
       "      <th>3</th>\n",
       "      <td>Angola</td>\n",
       "      <td>1990</td>\n",
       "      <td>NaN</td>\n",
       "    </tr>\n",
       "    <tr>\n",
       "      <th>4</th>\n",
       "      <td>Antigua and Barbuda</td>\n",
       "      <td>1990</td>\n",
       "      <td>NaN</td>\n",
       "    </tr>\n",
       "  </tbody>\n",
       "</table>\n",
       "</div>"
      ],
      "text/plain": [
       "               country variable  Skilled assistance\n",
       "0          Afghanistan     1990                 NaN\n",
       "1              Albania     1990                0.93\n",
       "2              Algeria     1990                 NaN\n",
       "3               Angola     1990                 NaN\n",
       "4  Antigua and Barbuda     1990                 NaN"
      ]
     },
     "execution_count": 178,
     "metadata": {},
     "output_type": "execute_result"
    }
   ],
   "source": [
    "# Unpivot the dataset\n",
    "assis_unpiv = pd.melt(df_assistance, id_vars =['country'])\n",
    "assis_unpiv.rename(columns={\"value\":\"Skilled assistance\"}, inplace=True)\n",
    "assis_unpiv.head()"
   ]
  },
  {
   "cell_type": "code",
   "execution_count": 179,
   "metadata": {},
   "outputs": [
    {
     "data": {
      "text/plain": [
       "(4888, 3)"
      ]
     },
     "execution_count": 179,
     "metadata": {},
     "output_type": "execute_result"
    }
   ],
   "source": [
    "assis_unpiv.shape"
   ]
  },
  {
   "cell_type": "code",
   "execution_count": 180,
   "metadata": {},
   "outputs": [],
   "source": [
    "# Drop rows with emmpty values\n",
    "assis_unpiv.dropna(axis=0, inplace=True)"
   ]
  },
  {
   "cell_type": "code",
   "execution_count": 181,
   "metadata": {},
   "outputs": [
    {
     "data": {
      "text/plain": [
       "(2304, 3)"
      ]
     },
     "execution_count": 181,
     "metadata": {},
     "output_type": "execute_result"
    }
   ],
   "source": [
    "assis_unpiv.shape"
   ]
  },
  {
   "cell_type": "code",
   "execution_count": 182,
   "metadata": {},
   "outputs": [
    {
     "data": {
      "text/plain": [
       "country               186\n",
       "variable               26\n",
       "Skilled assistance    454\n",
       "dtype: int64"
      ]
     },
     "execution_count": 182,
     "metadata": {},
     "output_type": "execute_result"
    }
   ],
   "source": [
    "# Confirm final number of countries included in the dataset\n",
    "assis_unpiv.nunique()"
   ]
  },
  {
   "cell_type": "code",
   "execution_count": 183,
   "metadata": {},
   "outputs": [],
   "source": [
    "# Unpivot all remaining datasets\n",
    "maternal_unpiv = pd.melt(df_maternal, id_vars =['country'])\n",
    "newborn_unpiv = pd.melt(df_newborn, id_vars =['country'])\n",
    "ineq_unpiv = pd.melt(df_ineq, id_vars =['country'])"
   ]
  },
  {
   "cell_type": "code",
   "execution_count": 184,
   "metadata": {},
   "outputs": [],
   "source": [
    "# Rename column header for columns that will be merged below\n",
    "maternal_unpiv.rename(columns={\"value\":\"Maternal Mortality\"}, inplace=True)\n",
    "newborn_unpiv.rename(columns={\"value\":\"Newborn Mortality\"}, inplace=True)\n",
    "ineq_unpiv.rename(columns={\"value\":\"Inequality\"}, inplace=True)"
   ]
  },
  {
   "cell_type": "code",
   "execution_count": 185,
   "metadata": {},
   "outputs": [],
   "source": [
    "# Merge skilled health assistance data frame with three other data frames\n",
    "combined1 = assis_unpiv.merge(maternal_unpiv, how=\"left\", on=['country','variable'])\n",
    "combined2 = combined1.merge(newborn_unpiv, how=\"left\", on=['country','variable'])\n",
    "final_combined = combined2.merge(ineq_unpiv, how=\"left\", on=['country','variable'])"
   ]
  },
  {
   "cell_type": "code",
   "execution_count": 186,
   "metadata": {},
   "outputs": [
    {
     "data": {
      "text/plain": [
       "(2304, 6)"
      ]
     },
     "execution_count": 186,
     "metadata": {},
     "output_type": "execute_result"
    }
   ],
   "source": [
    "final_combined.shape"
   ]
  },
  {
   "cell_type": "code",
   "execution_count": 187,
   "metadata": {},
   "outputs": [
    {
     "data": {
      "text/plain": [
       "country                186\n",
       "variable                26\n",
       "Skilled assistance     454\n",
       "Maternal Mortality    1253\n",
       "Newborn Mortality      446\n",
       "Inequality             379\n",
       "dtype: int64"
      ]
     },
     "execution_count": 187,
     "metadata": {},
     "output_type": "execute_result"
    }
   ],
   "source": [
    "# Confirm the number of countries has been maintained\n",
    "final_combined.nunique()"
   ]
  },
  {
   "cell_type": "code",
   "execution_count": 188,
   "metadata": {},
   "outputs": [
    {
     "data": {
      "text/html": [
       "<div>\n",
       "<style scoped>\n",
       "    .dataframe tbody tr th:only-of-type {\n",
       "        vertical-align: middle;\n",
       "    }\n",
       "\n",
       "    .dataframe tbody tr th {\n",
       "        vertical-align: top;\n",
       "    }\n",
       "\n",
       "    .dataframe thead th {\n",
       "        text-align: right;\n",
       "    }\n",
       "</style>\n",
       "<table border=\"1\" class=\"dataframe\">\n",
       "  <thead>\n",
       "    <tr style=\"text-align: right;\">\n",
       "      <th></th>\n",
       "      <th>country</th>\n",
       "      <th>variable</th>\n",
       "      <th>Skilled assistance</th>\n",
       "      <th>Maternal Mortality</th>\n",
       "      <th>Newborn Mortality</th>\n",
       "      <th>Inequality</th>\n",
       "    </tr>\n",
       "  </thead>\n",
       "  <tbody>\n",
       "    <tr>\n",
       "      <th>0</th>\n",
       "      <td>Albania</td>\n",
       "      <td>1990</td>\n",
       "      <td>0.930</td>\n",
       "      <td>28.5</td>\n",
       "      <td>13.4</td>\n",
       "      <td>27.0</td>\n",
       "    </tr>\n",
       "    <tr>\n",
       "      <th>1</th>\n",
       "      <td>Argentina</td>\n",
       "      <td>1990</td>\n",
       "      <td>0.969</td>\n",
       "      <td>65.7</td>\n",
       "      <td>15.4</td>\n",
       "      <td>46.1</td>\n",
       "    </tr>\n",
       "    <tr>\n",
       "      <th>2</th>\n",
       "      <td>Armenia</td>\n",
       "      <td>1990</td>\n",
       "      <td>0.997</td>\n",
       "      <td>38.5</td>\n",
       "      <td>23.0</td>\n",
       "      <td>41.9</td>\n",
       "    </tr>\n",
       "    <tr>\n",
       "      <th>3</th>\n",
       "      <td>Azerbaijan</td>\n",
       "      <td>1990</td>\n",
       "      <td>0.973</td>\n",
       "      <td>36.7</td>\n",
       "      <td>35.9</td>\n",
       "      <td>33.4</td>\n",
       "    </tr>\n",
       "    <tr>\n",
       "      <th>4</th>\n",
       "      <td>Bahamas</td>\n",
       "      <td>1990</td>\n",
       "      <td>0.990</td>\n",
       "      <td>57.8</td>\n",
       "      <td>14.0</td>\n",
       "      <td>44.2</td>\n",
       "    </tr>\n",
       "  </tbody>\n",
       "</table>\n",
       "</div>"
      ],
      "text/plain": [
       "      country variable  Skilled assistance  Maternal Mortality  \\\n",
       "0     Albania     1990               0.930                28.5   \n",
       "1   Argentina     1990               0.969                65.7   \n",
       "2     Armenia     1990               0.997                38.5   \n",
       "3  Azerbaijan     1990               0.973                36.7   \n",
       "4     Bahamas     1990               0.990                57.8   \n",
       "\n",
       "   Newborn Mortality  Inequality  \n",
       "0               13.4        27.0  \n",
       "1               15.4        46.1  \n",
       "2               23.0        41.9  \n",
       "3               35.9        33.4  \n",
       "4               14.0        44.2  "
      ]
     },
     "execution_count": 188,
     "metadata": {},
     "output_type": "execute_result"
    }
   ],
   "source": [
    "# Confirm the result of the merge\n",
    "final_combined.head()"
   ]
  },
  {
   "cell_type": "code",
   "execution_count": 189,
   "metadata": {},
   "outputs": [
    {
     "data": {
      "image/png": "[encoded data removed]",
      "text/plain": [
       "<Figure size 720x576 with 2 Axes>"
      ]
     },
     "metadata": {
      "needs_background": "light"
     },
     "output_type": "display_data"
    }
   ],
   "source": [
    "fig = plt.figure(figsize = [10,8])\n",
    "matrix = np.triu(final_combined.corr())\n",
    "sb.heatmap(final_combined.corr(), annot = True, cmap = 'coolwarm', mask=matrix, )\n",
    "plt.yticks(rotation = 0)\n",
    "plt.xticks(rotation = 45)\n",
    "plt.title(\"Correlations between relevant variables\");"
   ]
  },
  {
   "cell_type": "code",
   "execution_count": 190,
   "metadata": {},
   "outputs": [
    {
     "data": {
      "application/vnd.plotly.v1+json": {
       "config": {
        "plotlyServerURL": "https://plot.ly"
       },
       "data": [
        {
         "hovertemplate": "Avg Maternal Mortality Rate=%{x}<br>% births with professional health assistance (0 to 1)=%{y}<extra></extra>",
         "legendgroup": "",
         "marker": {
          "color": "#636efa",
          "opacity": 0.4,
          "symbol": "circle"
         },
         "mode": "markers",
         "name": "",
         "showlegend": false,
         "type": "scattergl",
         "x": [
          28.5,
          65.7,
          38.5,
          36.7,
          57.8,
          25.1,
          23.5,
          33.9,
          70.9,
          82,
          11.7,
          53.2,
          12,
          14.4,
          107,
          6.68,
          381,
          32,
          20.6,
          4.89,
          390,
          14.4,
          94.1,
          60,
          374,
          68.8,
          30.1,
          24.4,
          97.2,
          68.3,
          72.2,
          44.6,
          275,
          16.2,
          6.11,
          115,
          127,
          18.9,
          76.8,
          70.6,
          50.2,
          82.8,
          62.4,
          99.4,
          14.2,
          9.85,
          291,
          20.5,
          290,
          108,
          207,
          37.9,
          24,
          12.8,
          29.3,
          97.3,
          27,
          29.5,
          5.25,
          40.5,
          29.7,
          31.4,
          26.9,
          101,
          50.1,
          31.5,
          394,
          4.71,
          64.4,
          11,
          56.8,
          13.4,
          16.9,
          83.8,
          95.6,
          110,
          18.5,
          14.9,
          4.8,
          383,
          60.2,
          66.8,
          29.2,
          22,
          778,
          68.7,
          52.3,
          178,
          482,
          15.8,
          8.79,
          252,
          18.6,
          80.3,
          69.1,
          53.8,
          13.9,
          6.55,
          19.7,
          69.2,
          110,
          37.1,
          12.7,
          46.9,
          23.4,
          194,
          62.7,
          24.6,
          5.7,
          46.9,
          24.9,
          47.3,
          35.3,
          6.67,
          59.1,
          30.6,
          9.77,
          57.1,
          14.5,
          14.8,
          88.3,
          28.9,
          5.79,
          10.8,
          566,
          251,
          14,
          4.62,
          376,
          67.3,
          62,
          32.8,
          21.9,
          392,
          266,
          55.6,
          53.9,
          302,
          187,
          373,
          15.5,
          7.93,
          59.6,
          233,
          16.8,
          76.9,
          68,
          55.5,
          449,
          12.3,
          6.35,
          288,
          37.4,
          12.5,
          35.5,
          224,
          247,
          20.4,
          32.8,
          7.67,
          5.99,
          49.2,
          24.1,
          44.4,
          35.1,
          248,
          6.25,
          41.8,
          56.5,
          27.2,
          16.8,
          52.3,
          14.5,
          13.6,
          87.6,
          144,
          36.5,
          113,
          5.27,
          14.2,
          19.3,
          200,
          20.2,
          4.11,
          388,
          51.9,
          66.3,
          258,
          57.5,
          35.6,
          190,
          19,
          11,
          42.3,
          55,
          98.1,
          14.8,
          4.68,
          56,
          95.6,
          17.6,
          66.1,
          61.4,
          59.5,
          382,
          12.2,
          7.05,
          72.8,
          74.9,
          84.9,
          84,
          39.4,
          12.7,
          33.8,
          17.3,
          31.1,
          9.19,
          50.7,
          434,
          24.1,
          333,
          330,
          41.4,
          35.1,
          6.5,
          35.9,
          64.4,
          302,
          13.8,
          63.1,
          14.1,
          9.45,
          99.9,
          371,
          42.4,
          115,
          113,
          8.63,
          192,
          13.6,
          4.41,
          375,
          69.3,
          382,
          56.6,
          45.7,
          180,
          19.5,
          264,
          67.9,
          41.4,
          12.2,
          15.8,
          2.1,
          54.4,
          17.8,
          64.9,
          62.4,
          11.2,
          2.81,
          286,
          158,
          17.3,
          86,
          89.2,
          38.9,
          13.2,
          31.5,
          125,
          163,
          16.4,
          26.1,
          59.5,
          36,
          9.12,
          48.9,
          57,
          31.5,
          53.7,
          20.7,
          39.3,
          38.4,
          43.7,
          384,
          6.65,
          132,
          504,
          38.1,
          70.5,
          77.7,
          14.8,
          60.2,
          14.8,
          5.13,
          60.3,
          78.3,
          486,
          40.3,
          112,
          4.36,
          54.5,
          282,
          407,
          160,
          447,
          16.3,
          4.17,
          374,
          10.7,
          75.3,
          61,
          32.5,
          26.9,
          19.7,
          81.7,
          62.6,
          50.9,
          249,
          12.2,
          16.3,
          5.38,
          57.2,
          119,
          57.9,
          296,
          14.9,
          85.8,
          58.1,
          60,
          54.3,
          17.8,
          74.4,
          10.7,
          5.9,
          117,
          201,
          46.4,
          66.1,
          94.7,
          80.8,
          89.5,
          70.9,
          122,
          41.5,
          18.6,
          12.5,
          33.3,
          122,
          15.3,
          278,
          22.4,
          28.6,
          7.29,
          5.74,
          46,
          23.9,
          375,
          29.5,
          142,
          74.7,
          35.8,
          42.9,
          7.26,
          32.1,
          71.1,
          272,
          8.15,
          52.1,
          15.1,
          7.28,
          80.1,
          78.6,
          470,
          8.96,
          114,
          4.59,
          202,
          11.5,
          4.49,
          67.5,
          10.1,
          74.2,
          14.1,
          46.4,
          23.8,
          32.8,
          16.5,
          505,
          45.6,
          46.5,
          415,
          14.9,
          2.69,
          24.3,
          60.2,
          298,
          119,
          222,
          10.2,
          72.8,
          53.5,
          53.9,
          53,
          17.4,
          4.57,
          9.43,
          12.1,
          72.7,
          249,
          63,
          64.6,
          38.5,
          12.9,
          30.9,
          24.9,
          249,
          13.8,
          59.2,
          34.8,
          8.7,
          4.2,
          42.5,
          56.8,
          385,
          26.5,
          26.1,
          71.4,
          32.9,
          47.2,
          8.32,
          454,
          31.4,
          71.5,
          12.7,
          52.6,
          15.8,
          4.43,
          6.98,
          77.8,
          18.7,
          114,
          5.72,
          174,
          16.8,
          4.26,
          363,
          41.4,
          67.5,
          105,
          74.7,
          64.2,
          34.7,
          17.9,
          377,
          50.4,
          62.7,
          48.1,
          228,
          200,
          196,
          14.3,
          3.08,
          292,
          56.2,
          10.8,
          60,
          50.9,
          50.8,
          351,
          4.94,
          9.82,
          9.67,
          16.4,
          49.4,
          65.9,
          349,
          82,
          184,
          33.2,
          13.5,
          35.8,
          22.6,
          66.5,
          31.4,
          212,
          242,
          12.3,
          25.3,
          58.6,
          26.3,
          5.97,
          4.95,
          40.6,
          58.8,
          27.6,
          46.9,
          297,
          20.7,
          71.8,
          31.9,
          42.3,
          384,
          401,
          6.34,
          124,
          28.9,
          73.2,
          28.6,
          9.94,
          53.3,
          15.3,
          6.59,
          4.22,
          63,
          72.5,
          79.7,
          18.1,
          539,
          109,
          5.61,
          38.2,
          160,
          47.2,
          189,
          8.04,
          4.16,
          359,
          70,
          264,
          375,
          47.3,
          40.3,
          18.4,
          72.3,
          148,
          34.5,
          166,
          36.9,
          174,
          13,
          82.3,
          365,
          14.3,
          6.22,
          121,
          62.9,
          116,
          84.8,
          9.62,
          12.4,
          52,
          48.4,
          47,
          92.9,
          9.74,
          9.98,
          3.01,
          104,
          169,
          59.5,
          59.2,
          314,
          71.9,
          73.5,
          31.1,
          9.25,
          12.8,
          29,
          21.4,
          11.8,
          60.3,
          31.4,
          10.5,
          3.57,
          38.5,
          65.1,
          45.9,
          22.8,
          6.5,
          50.7,
          18.3,
          70.4,
          32.2,
          45.5,
          247,
          4.72,
          29.4,
          75.9,
          71.5,
          28.5,
          317,
          12.3,
          58.6,
          14.6,
          6.75,
          5.41,
          76.7,
          67.3,
          77.1,
          17.8,
          113,
          4.62,
          28.5,
          6.37,
          159,
          46.8,
          224,
          540,
          6.16,
          3.58,
          369,
          3.54,
          62.3,
          53.8,
          33.5,
          23,
          14.6,
          39.3,
          163,
          30.6,
          9.86,
          299,
          14.3,
          7.31,
          287,
          62,
          119,
          82.2,
          8.27,
          44.8,
          44.3,
          48.8,
          340,
          7.81,
          9.63,
          16.7,
          289,
          410,
          65,
          52.3,
          231,
          113,
          54.8,
          30,
          14.2,
          22.2,
          27.3,
          123,
          229,
          123,
          460,
          12.4,
          142,
          24.7,
          58,
          36.4,
          7.06,
          4.29,
          35.6,
          65.8,
          48.3,
          316,
          38.6,
          22.6,
          46.7,
          277,
          269,
          15.6,
          178,
          64.7,
          32.1,
          40.8,
          534,
          374,
          395,
          5.47,
          536,
          475,
          26.5,
          74,
          72.2,
          256,
          39.1,
          321,
          9.28,
          53.9,
          13.1,
          6.45,
          1.96,
          90.6,
          68.2,
          60.7,
          271,
          28.5,
          130,
          508,
          115,
          6.54,
          291,
          415,
          22.3,
          6.61,
          47.4,
          386,
          147,
          475,
          9.5,
          3.3,
          367,
          337,
          37.6,
          78.8,
          2.72,
          4.96,
          83.5,
          8.77,
          57.7,
          269,
          376,
          53.6,
          422,
          23.8,
          27,
          207,
          562,
          11.3,
          383,
          259,
          66.9,
          26.5,
          61.2,
          161,
          28.3,
          151,
          12.9,
          204,
          339,
          11,
          363,
          118,
          14.9,
          4.27,
          44,
          120,
          20.9,
          60.6,
          301,
          180,
          84.2,
          9.69,
          6.02,
          42.9,
          36.6,
          43.7,
          477,
          92.1,
          244,
          47.8,
          321,
          13.4,
          65.2,
          466,
          11.2,
          8.63,
          11.3,
          402,
          14.8,
          60.8,
          146,
          43.8,
          56,
          76.2,
          47,
          102,
          306,
          113,
          68.8,
          58.4,
          52.9,
          174,
          149,
          28.4,
          15.1,
          25.6,
          42.4,
          119,
          65.5,
          25.5,
          11,
          264,
          25.2,
          63.8,
          20.1,
          6.82,
          5.74,
          31.8,
          50.1,
          298,
          17.9,
          332,
          12.6,
          190,
          63.5,
          32.3,
          39.5,
          8.26,
          23.4,
          69.3,
          66.3,
          307,
          39.2,
          6.34,
          55,
          5.11,
          3.71,
          91.1,
          11.3,
          108,
          5.59,
          9.42,
          299,
          20.4,
          5.67,
          173,
          188,
          7.56,
          3.4,
          5.99,
          81.7,
          8.23,
          53.8,
          53.2,
          412,
          22.7,
          14,
          63.5,
          156,
          452,
          12.1,
          643,
          158,
          37.7,
          11.7,
          191,
          329,
          7.65,
          74.9,
          13.9,
          5.64,
          293,
          68.5,
          299,
          6.47,
          7.5,
          44.5,
          36,
          40.3,
          13.1,
          7.53,
          9.26,
          13.8,
          56.1,
          43.1,
          109,
          58.3,
          56.4,
          155,
          27.2,
          15.9,
          35.7,
          42.9,
          11,
          132,
          26.4,
          68.3,
          12.6,
          6.68,
          3.09,
          29,
          58.8,
          45.4,
          42.3,
          20.3,
          55.7,
          249,
          9.94,
          201,
          63.8,
          33.1,
          31.7,
          6.51,
          23.4,
          59.7,
          63.5,
          40.8,
          11.4,
          56.4,
          4.81,
          5,
          89.1,
          77.5,
          475,
          10.8,
          159,
          110,
          5.87,
          33.1,
          4.76,
          52.2,
          340,
          8.41,
          3.19,
          306,
          6.59,
          4.94,
          88.3,
          8.96,
          67.4,
          49.3,
          369,
          10.7,
          56.8,
          8.9,
          15.6,
          7.89,
          250,
          61.4,
          12,
          154,
          155,
          28.8,
          10.4,
          13.1,
          12.5,
          6.01,
          295,
          120,
          68.8,
          134,
          7,
          42,
          27.5,
          37,
          380,
          13,
          8.15,
          8.69,
          2.82,
          391,
          138,
          47.1,
          57.2,
          73.4,
          37.2,
          314,
          106,
          47.2,
          55.5,
          157,
          26.7,
          15.6,
          38.3,
          40.1,
          24.2,
          202,
          459,
          10.6,
          27.3,
          64.5,
          22.1,
          5.1,
          3.03,
          28.2,
          62.4,
          38.6,
          282,
          46.3,
          20.7,
          269,
          243,
          7.72,
          204,
          62.8,
          34.4,
          26.5,
          240,
          8,
          20.6,
          52.1,
          62.1,
          38.7,
          10.6,
          62,
          10.8,
          5.6,
          2.86,
          356,
          89.8,
          52.7,
          47,
          21.9,
          111,
          4.75,
          39.6,
          5.51,
          171,
          52.9,
          534,
          180,
          8.32,
          2.98,
          293,
          1.58,
          5.68,
          76.1,
          7.59,
          43.3,
          306,
          59.6,
          14.9,
          6.08,
          7.47,
          60.9,
          11.8,
          31.7,
          60.9,
          153,
          22.3,
          105,
          11.1,
          155,
          186,
          6.21,
          9.74,
          310,
          11.7,
          8.7,
          68.9,
          139,
          83.1,
          5.65,
          35.5,
          32.3,
          35.1,
          174,
          13,
          7.34,
          8.38,
          2.72,
          252,
          13.9,
          49.2,
          31.8,
          314,
          324,
          104,
          53.7,
          44.5,
          54.8,
          23.6,
          16.7,
          19,
          25.7,
          43.1,
          106,
          62.7,
          207,
          10.6,
          28.9,
          61.7,
          19.9,
          5.83,
          3.66,
          28.6,
          62.1,
          35.2,
          267,
          48.3,
          20,
          58.1,
          236,
          6.75,
          196,
          63.4,
          35.4,
          23.5,
          306,
          399,
          7.47,
          475,
          23.5,
          49.8,
          62.3,
          38.3,
          339,
          9.42,
          60.3,
          10.6,
          6.38,
          1.83,
          94.9,
          79.1,
          19.5,
          434,
          106,
          8.5,
          8.86,
          57.7,
          6.35,
          193,
          5.84,
          3.03,
          275,
          1.57,
          4.58,
          6.79,
          34.2,
          13,
          63,
          14.3,
          22.2,
          306,
          12.8,
          379,
          252,
          58.7,
          120,
          12.7,
          22.9,
          96.7,
          10.7,
          111,
          300,
          8.74,
          103,
          10.7,
          1.85,
          22.6,
          57.8,
          299,
          147,
          134,
          5.97,
          34.4,
          25.8,
          29.3,
          65.3,
          48.7,
          385,
          12.8,
          5.05,
          7.58,
          9.84,
          274,
          131,
          53.2,
          58.5,
          81.9,
          30.7,
          29.7,
          227,
          102,
          64.1,
          38,
          58,
          21.1,
          14.9,
          21.7,
          25.5,
          43.4,
          12,
          28.8,
          61.1,
          21.1,
          5.36,
          3.68,
          29.2,
          32.6,
          44.2,
          20.5,
          62.6,
          309,
          261,
          6.01,
          184,
          61.8,
          33.9,
          19.2,
          437,
          279,
          9.32,
          105,
          24.8,
          45.8,
          69.9,
          393,
          36.4,
          338,
          9.5,
          68.1,
          10.4,
          5.82,
          1.85,
          98.3,
          82.4,
          47.5,
          57.1,
          11.5,
          421,
          108,
          5.8,
          8.01,
          44.6,
          5.44,
          55.8,
          524,
          191,
          6.7,
          2.71,
          29,
          4.05,
          4.2,
          79,
          7.17,
          37.6,
          352,
          7.94,
          66.5,
          333,
          9,
          326,
          11.4,
          246,
          57.7,
          111,
          12,
          35.4,
          149,
          23,
          86.9,
          9.77,
          9.66,
          9.74,
          4.3,
          34.8,
          287,
          23.6,
          77,
          133,
          4.6,
          36.2,
          21.4,
          30.7,
          415,
          52.8,
          393,
          13.5,
          65.1,
          520,
          8.06,
          7.29,
          7.14,
          127,
          54.1,
          55.3,
          28.5,
          234,
          100,
          62.7,
          19.5,
          23.4,
          25.2,
          43.6,
          110,
          456,
          11.7,
          107,
          32.6,
          65.3,
          23.4,
          6.37,
          2.91,
          27.5,
          73.1,
          32.5,
          268,
          49.2,
          19.2,
          64.7,
          301,
          246,
          5.63,
          174,
          61.1,
          34,
          16.4,
          235,
          246,
          398,
          8.7,
          103,
          534,
          21.5,
          40.4,
          59.9,
          36.8,
          335,
          10.7,
          67.1,
          9.8,
          6.93,
          6.69,
          368,
          99,
          84.7,
          59.3,
          6.62,
          104,
          5.99,
          8.82,
          480,
          50.1,
          6.49,
          179,
          351,
          195,
          553,
          183,
          8.77,
          3.07,
          278,
          73.3,
          2.38,
          4.43,
          65.2,
          6.47,
          39.7,
          5.74,
          65.4,
          316,
          13.1,
          3.04,
          241,
          55.8,
          104,
          376,
          13.6,
          55.5,
          145,
          20.1,
          9.51,
          308,
          12.3,
          352,
          9.22,
          7.07,
          35.4,
          284,
          124,
          24.9,
          73.1,
          297,
          125,
          121,
          4.51,
          38.5,
          19.3,
          26.7,
          155,
          56,
          12.6,
          67.3,
          7.84,
          6.91,
          12.3,
          373,
          190,
          62.3,
          243,
          103,
          7.55,
          24.4,
          27.6,
          63.3,
          308,
          97.6,
          69.8,
          49,
          63.7,
          161,
          18.3,
          23.6,
          21.2,
          38.8,
          110,
          22.2,
          200,
          251,
          254,
          32.4,
          64.9,
          18.2,
          4.76,
          3.48,
          26.6,
          74.6,
          33.1,
          254,
          49.4,
          17.5,
          62.7,
          236,
          5.48,
          174,
          60.5,
          34.5,
          17.7,
          7.58,
          102,
          20.1,
          35.4,
          60.4,
          400,
          20.7,
          13.8,
          54,
          8.89,
          4.11,
          3.56,
          95,
          91.3,
          85.9,
          57.8,
          2.15,
          162,
          102,
          2.91,
          9.35,
          52.3,
          5.51,
          185,
          62.8,
          518,
          196,
          10.1,
          2.79,
          234,
          66.8,
          4.3,
          4.51,
          5.44,
          41.3,
          39.6,
          3.69,
          62.6,
          22.3,
          570,
          32.3,
          7.1,
          54.2,
          97.8,
          13.1,
          154,
          545,
          54.4,
          21.4,
          8.5,
          168,
          177,
          180,
          16.4,
          60.7,
          8.33,
          6.42,
          30.7,
          277,
          122,
          75,
          4.56,
          45.2,
          18.6,
          24,
          58.2,
          11.3,
          66.8,
          6.42,
          6.88,
          11.8,
          320,
          39.8,
          136,
          69,
          62.6,
          26.9,
          96.1,
          27,
          136,
          21.7,
          24.1,
          29.7,
          37.9,
          111,
          181,
          450,
          35.3,
          58.7,
          30.2,
          4.14,
          2.76,
          25.3,
          78,
          33.4,
          54.9,
          16.4,
          63.9,
          225,
          234,
          4.79,
          170,
          62.5,
          34.5,
          13.9,
          8.4,
          101,
          495,
          18.4,
          32,
          43.2,
          25.9,
          9.51,
          51.2,
          8.57,
          5.5,
          96.8,
          86.9,
          43,
          55,
          1.96,
          101,
          5.92,
          8.26,
          59.9,
          5.96,
          181,
          196,
          14.2,
          2.86,
          252,
          223,
          4.83,
          4.69,
          83.8,
          5.59,
          32.6,
          329,
          9.5,
          63.3,
          12.6,
          36.5,
          8.64,
          243,
          54,
          92.5,
          13.7,
          50.1,
          137,
          33.7,
          64.8,
          8.16,
          192,
          11.2,
          293,
          7.3,
          4.98,
          28.4,
          276,
          121,
          73.9,
          115,
          104,
          80.1,
          5.49,
          40.1,
          16.7,
          23.6,
          348,
          60,
          10.6,
          62.8,
          538,
          5.35,
          6.27,
          8.82,
          267,
          141,
          76.6,
          72.2,
          26.3,
          94.4,
          62.5,
          24.9,
          20.7,
          9.45,
          25.5,
          21.8,
          35.7,
          9.67,
          33.9,
          65.9,
          25.6,
          6.16,
          2.85,
          24.8,
          33.1,
          229,
          16.9,
          62.4,
          215,
          4.71,
          156,
          66.3,
          35.3,
          13.6,
          8,
          99.9,
          486,
          22.7,
          29.7,
          65.2,
          22,
          11.6,
          53.4,
          6.85,
          4.16,
          4.6,
          98.9,
          89.7,
          62.4,
          1.76,
          94.4,
          2.61,
          9.14,
          74.8,
          5.55,
          64,
          222,
          177,
          14.9,
          2.87,
          24,
          6.76,
          6.06,
          46.2,
          6.12,
          31.4,
          305,
          321,
          10.7,
          64.9,
          23.2,
          370,
          2.64,
          8.01,
          332,
          55.8,
          88.6,
          13.6,
          149,
          62.5,
          59.2,
          134,
          20.5,
          7.95,
          15.1,
          83.9,
          7.23,
          2.93,
          29,
          273,
          120,
          60.1,
          110,
          120,
          4.07,
          36.6,
          23.2,
          22.7,
          42.8,
          137,
          60.5,
          11.4,
          60.5,
          4.51,
          6.55,
          6.18,
          15.2,
          137,
          74.2,
          19.4,
          25.8,
          58.1,
          92.8,
          25.1,
          23.4,
          25.7,
          28.5,
          37.7,
          336,
          417,
          36.2,
          58.4,
          13.8,
          6.31,
          2.15,
          24.7,
          90.4,
          31.4,
          229,
          16.4,
          72.4,
          210,
          4.52,
          146,
          64.1,
          36.5,
          17.1,
          212,
          337,
          178,
          7.13,
          101,
          497,
          458,
          21.9,
          26.9,
          54.6,
          431,
          26.9,
          10.1,
          50.8,
          6.05,
          3.56,
          1.72,
          91.2,
          93,
          58.8,
          463,
          5,
          132,
          88.3,
          3.98,
          9.71,
          439,
          51.3,
          6.18,
          110,
          317,
          14,
          2.94,
          202,
          24,
          6.67,
          5.12,
          5.59,
          23.9,
          314,
          8.08,
          59.5,
          258,
          17.2,
          39.2,
          6.72,
          247,
          53.1,
          84.6,
          362,
          13.9,
          147,
          44.4,
          52.4,
          35.2,
          60.5,
          105,
          160,
          10.5,
          52.8,
          6.99,
          4.59,
          29.3,
          120,
          23.6,
          72,
          100,
          119,
          3.88,
          34.6,
          24.6,
          19.6,
          304,
          61.4,
          11.6,
          62.1,
          562,
          3.35,
          5.87,
          6.25,
          181,
          151,
          94.9,
          77.3,
          232,
          104,
          25.3,
          273,
          171,
          276,
          92.2,
          21.1,
          24.1,
          17.4,
          28.7,
          396,
          55.7,
          15.8,
          6.22,
          3.89,
          24.3,
          99.9,
          32.7,
          228,
          68,
          16.8,
          76.3,
          206,
          206,
          4.44,
          138,
          63,
          37.2,
          158,
          375,
          5.98,
          98.5,
          22.4,
          23.3,
          45.1,
          25.9,
          9.31,
          49.4,
          4.49,
          2.86,
          3.14,
          107,
          95.1,
          88.4,
          59.9,
          196,
          5.34,
          277,
          82.7,
          1.6,
          8.04,
          45.4,
          5.37,
          178,
          82.1,
          11.7,
          2.63,
          23.2,
          54.1,
          5.2,
          4.96,
          71.8,
          5.35,
          19.3,
          9.47,
          59.5,
          4.09,
          37.7,
          7.21,
          50.1,
          80,
          12,
          145,
          507,
          18.6,
          105,
          212,
          350,
          11.4,
          287,
          6.86,
          4.14,
          27.6,
          267,
          121,
          87.2,
          93.5,
          117,
          76,
          3.6,
          31.2,
          22.5,
          17.5,
          281,
          378,
          11.2,
          63.9,
          4.29,
          5.82,
          6.13,
          163,
          75.4,
          24.5,
          49.7,
          145,
          17.5,
          25.2,
          22.4,
          32.9,
          73.2,
          20.4,
          322,
          373,
          41.5,
          52.6,
          14.5,
          2.09,
          22.8,
          35.2,
          64.2,
          14.5,
          310,
          201,
          197,
          3.77,
          124,
          63,
          37.2,
          319,
          149,
          6.75,
          24,
          19.7,
          48.8,
          127,
          335,
          29.7,
          303,
          7.86,
          47.4,
          3.72,
          4.63,
          1.53,
          384,
          109,
          103,
          92.5,
          47.8,
          5.5,
          79.8,
          3.16,
          7.68,
          236,
          40.4,
          4.93,
          79.9,
          514,
          534,
          117,
          11,
          2.66,
          183,
          22.1,
          50.6,
          4.95,
          5.35,
          33.4,
          16.9,
          5.76,
          54.8,
          228,
          14.1,
          35.7,
          9.3,
          50,
          78.9,
          12.1,
          63.2,
          51,
          25,
          51.2,
          332,
          7.75,
          2.58,
          25.5,
          263,
          121,
          80.6,
          88.6,
          110,
          3.12,
          29.5,
          16.4,
          14.7,
          9.88,
          63.2,
          2.47,
          5.57,
          6.12,
          12.3,
          155,
          106,
          74.3,
          23.4,
          283,
          53.9,
          91.3,
          41.3,
          40.4,
          15.4,
          26,
          21.1,
          27.2,
          71.9,
          169,
          78.4,
          42.4,
          50.5,
          19.7,
          3.48,
          2.97,
          20.9,
          104,
          39,
          251,
          66.8,
          14.1,
          73.6,
          198,
          115,
          65.1,
          37.1,
          14.9,
          6.8,
          90.8,
          24.3,
          18.2,
          69.4,
          22.9,
          6.23,
          49.4,
          3.39,
          3.31,
          2.12,
          111,
          107,
          88.6,
          45.4,
          5.37,
          234,
          79.3,
          6.84,
          375,
          44.2,
          4.98,
          81.1,
          181,
          531,
          13,
          2.69,
          175,
          21.1,
          4.33,
          4.83,
          16.5,
          8.55,
          46.2,
          11.3,
          586,
          35,
          7.41,
          307,
          47.5,
          77.7,
          368,
          11.9,
          19.4,
          53.4,
          6.96,
          129,
          274,
          7.41,
          3.19,
          23.6,
          265,
          123,
          75.8,
          102,
          74.7,
          3.45,
          7.17,
          16.5,
          13.9,
          59,
          391,
          10.3,
          533,
          2.27,
          5.38,
          155,
          83.7,
          22,
          50.8,
          46.6,
          13.8,
          11.3,
          27.5,
          24.5,
          29.2,
          107,
          81.4,
          169,
          335,
          39.8,
          51.2,
          18.1,
          4.3,
          5.51,
          20,
          98.9,
          42.3,
          255,
          59.8,
          13.1,
          300,
          196,
          2.98,
          108,
          65.8,
          37.3,
          12.3,
          147,
          358,
          6.95,
          85.8,
          25,
          15.7,
          64.3,
          411,
          30.6,
          4.14,
          46.7,
          3,
          3.83,
          110,
          113,
          85.5,
          37.9,
          44.4,
          1.7,
          101,
          224,
          81.4,
          4.11,
          6.45,
          39.6,
          4.87,
          182,
          76.2,
          277,
          181,
          9.24,
          2.76,
          188,
          19.8,
          2.54,
          3.72,
          4.32,
          14.9,
          285,
          10.7,
          50.7,
          11.3,
          371,
          5.75,
          223,
          49.2,
          77.1,
          11.9,
          60.4,
          51.2,
          21.3,
          50.6,
          320,
          8.19,
          7.08,
          3.12,
          22.2,
          123,
          17.4,
          76,
          80,
          94.4,
          3.7,
          7.59,
          28,
          15.7,
          13.6,
          34.4,
          141,
          406,
          10.3,
          2.48,
          5.41,
          34.2,
          150,
          76.3,
          219,
          21,
          232,
          47.3,
          31.3,
          17.7,
          15.5,
          27.7,
          24.6,
          30,
          117,
          19.3,
          139,
          295,
          318,
          53.4,
          3.74,
          4.3,
          19.9,
          43.3,
          57.9,
          194,
          3.56,
          106,
          65.4,
          37.9,
          10.2,
          216,
          75.3,
          428,
          25.6,
          13.8,
          83.8,
          301,
          31.7,
          4.28,
          54,
          1.33,
          110,
          117,
          76.8,
          43.2,
          1.6,
          82.5,
          3.89,
          6.16,
          43.2,
          4.58,
          131,
          2.6,
          3.39,
          4.9,
          14,
          5.6,
          29.8,
          51.7,
          366,
          10.9,
          489,
          48.6,
          48.9,
          10.6,
          319,
          7,
          2.11,
          123,
          70.6,
          78.8,
          75.9,
          3.12,
          6.63,
          30.1,
          16.6,
          244,
          405,
          3.89,
          300,
          10.3,
          116,
          20.3,
          46.6,
          16.5,
          28,
          30.8,
          127,
          295
         ],
         "xaxis": "x",
         "y": [
          0.93,
          0.9690000000000001,
          0.997,
          0.973,
          0.99,
          0.9990000000000001,
          0.97,
          0.991,
          0.94,
          0.8059999999999999,
          0.998,
          0.998,
          1,
          1,
          0.953,
          0.988,
          0.441,
          0.966,
          0.9940000000000001,
          1,
          0.40700000000000003,
          0.9990000000000001,
          0.872,
          0.99,
          0.6,
          0.9890000000000001,
          1,
          1,
          0.9279999999999999,
          0.9109999999999999,
          0.838,
          1,
          0.308,
          0.889,
          0.9940000000000001,
          1,
          0.66,
          0.996,
          1,
          0.998,
          0.992,
          0.76,
          0.88,
          0.98,
          1,
          0.9990000000000001,
          0.85,
          0.98,
          0.685,
          0.94,
          0.95,
          0.9990000000000001,
          0.991,
          0.992,
          0.9940000000000001,
          0.79,
          0.9259999999999999,
          0.997,
          1,
          0.972,
          0.9990000000000001,
          0.769,
          0.9740000000000001,
          0.695,
          0.978,
          0.995,
          0.584,
          0.991,
          0.937,
          0.998,
          0.998,
          1,
          1,
          0.924,
          0.365,
          0.945,
          0.9129999999999999,
          0.9940000000000001,
          0.9990000000000001,
          0.317,
          0.981,
          0.9890000000000001,
          1,
          1,
          0.4,
          0.945,
          1,
          0.46299999999999997,
          0.07400000000000001,
          0.893,
          0.993,
          0.188,
          0.996,
          1,
          0.9990000000000001,
          0.992,
          1,
          0.9990000000000001,
          0.9790000000000001,
          0.903,
          0.92,
          0.9990000000000001,
          0.992,
          0.993,
          0.8640000000000001,
          0.765,
          0.958,
          0.983,
          0.993,
          0.965,
          0.9990000000000001,
          0.98,
          0.998,
          0.996,
          0.841,
          0.98,
          0.998,
          0.998,
          1,
          1,
          0.40700000000000003,
          0.99,
          0.986,
          0.9109999999999999,
          0.305,
          0.469,
          0.995,
          0.998,
          0.40700000000000003,
          0.9890000000000001,
          0.987,
          1,
          1,
          0.57,
          0.5479999999999999,
          0.965,
          1,
          0.31,
          0.682,
          0.149,
          0.909,
          0.993,
          0.858,
          0.525,
          0.996,
          1,
          0.997,
          0.991,
          0.258,
          1,
          0.9990000000000001,
          0.439,
          0.9990000000000001,
          0.993,
          0.99,
          0.159,
          0.505,
          0.872,
          0.955,
          0.993,
          1,
          0.963,
          0.9990000000000001,
          0.978,
          0.99,
          0.415,
          0.9940000000000001,
          0.9940000000000001,
          0.836,
          0.97,
          0.998,
          0.998,
          1,
          1,
          0.40700000000000003,
          0.8740000000000001,
          0.991,
          0.976,
          0.986,
          0.99,
          0.9079999999999999,
          0.43799999999999994,
          0.9940000000000001,
          0.998,
          0.342,
          0.934,
          0.986,
          0.45399999999999996,
          0.983,
          1,
          0.609,
          1,
          0.98,
          0.963,
          1,
          0.61,
          0.9329999999999999,
          0.9940000000000001,
          0.8690000000000001,
          0.528,
          0.996,
          1,
          0.9890000000000001,
          0.991,
          0.47200000000000003,
          1,
          0.9990000000000001,
          0.941,
          0.769,
          0.983,
          0.759,
          0.9990000000000001,
          0.9940000000000001,
          0.983,
          0.8909999999999999,
          0.9329999999999999,
          0.9940000000000001,
          0.996,
          0.095,
          0.9990000000000001,
          0.12,
          0.47200000000000003,
          0.982,
          0.99,
          0.993,
          0.995,
          0.904,
          0.45399999999999996,
          0.998,
          0.998,
          1,
          1,
          0.987,
          0.05,
          0.993,
          0.56,
          0.9620000000000001,
          0.985,
          0.43799999999999994,
          0.9940000000000001,
          0.998,
          0.365,
          0.983,
          0.72,
          0.982,
          1,
          0.376,
          1,
          0.9,
          0.977,
          1,
          0.95,
          0.934,
          0.993,
          0.88,
          0.996,
          0.99,
          0.991,
          1,
          0.9990000000000001,
          0.835,
          0.82,
          0.9840000000000001,
          0.826,
          0.98,
          0.9990000000000001,
          0.9940000000000001,
          0.982,
          0.87,
          0.6920000000000001,
          0.8909999999999999,
          1,
          0.985,
          0.9309999999999999,
          0.993,
          0.915,
          0.99,
          0.976,
          1,
          0.9990000000000001,
          0.79,
          0.986,
          0.9890000000000001,
          0.433,
          0.98,
          0.54,
          0.45899999999999996,
          0.995,
          0.893,
          0.836,
          0.9990000000000001,
          0.998,
          1,
          1,
          1,
          0.462,
          0.20600000000000002,
          0.995,
          0.9620000000000001,
          0.985,
          1,
          0.348,
          0.25,
          0.93,
          0.20600000000000002,
          0.9940000000000001,
          0.998,
          0.49700000000000005,
          0.9990000000000001,
          0.996,
          0.98,
          1,
          0.9440000000000001,
          1,
          0.951,
          0.981,
          1,
          0.396,
          1,
          0.941,
          0.992,
          0.95,
          1,
          0.883,
          0.42,
          0.996,
          1,
          0.991,
          0.991,
          0.914,
          0.987,
          0.99,
          1,
          0.9990000000000001,
          0.82,
          1,
          1,
          1,
          0.8,
          0.809,
          0.975,
          0.8059999999999999,
          0.37799999999999995,
          0.9990000000000001,
          0.992,
          0.9940000000000001,
          0.98,
          0.8909999999999999,
          0.912,
          0.225,
          1,
          0.9570000000000001,
          0.993,
          0.982,
          0.879,
          0.9990000000000001,
          0.598,
          0.9890000000000001,
          0.87,
          0.8759999999999999,
          0.9890000000000001,
          0.9990000000000001,
          0.992,
          0.996,
          0.9309999999999999,
          0.516,
          0.998,
          0.998,
          1,
          1,
          0.955,
          0.46299999999999997,
          0.20600000000000002,
          0.996,
          0.963,
          0.9840000000000001,
          0.545,
          0.995,
          0.998,
          0.9,
          1,
          0.981,
          0.981,
          0.981,
          1,
          0.89,
          1,
          0.4,
          0.975,
          1,
          0.09,
          0.95,
          0.992,
          0.9490000000000001,
          0.899,
          0.513,
          0.608,
          0.564,
          0.997,
          1,
          0.99,
          0.991,
          0.914,
          0.988,
          0.997,
          1,
          0.9990000000000001,
          0.79,
          0.382,
          0.98,
          0.958,
          0.9990000000000001,
          0.9940000000000001,
          0.98,
          0.975,
          0.46,
          0.988,
          0.972,
          0.9640000000000001,
          0.993,
          0.982,
          0.904,
          0.99,
          0.08,
          0.9990000000000001,
          0.99,
          0.986,
          0.996,
          0.9990000000000001,
          0.993,
          0.15,
          0.9940000000000001,
          0.938,
          0.9990000000000001,
          0.9990000000000001,
          1,
          1,
          0.983,
          0.564,
          0.995,
          0.9620000000000001,
          0.9840000000000001,
          0.95,
          0.995,
          0.998,
          0.43200000000000005,
          0.861,
          0.946,
          0.9670000000000001,
          0.976,
          0.981,
          1,
          1,
          0.473,
          0.978,
          0.857,
          1,
          0.456,
          0.442,
          0.564,
          0.956,
          0.991,
          0.18,
          0.895,
          0.997,
          1,
          0.983,
          0.991,
          0.466,
          0.997,
          1,
          0.9990000000000001,
          1,
          0.997,
          0.726,
          0.258,
          0.99,
          0.99,
          0.9990000000000001,
          0.9940000000000001,
          0.996,
          1,
          0.953,
          0.7709999999999999,
          0.21600000000000003,
          0.465,
          0.991,
          1,
          0.975,
          0.9740000000000001,
          0.993,
          0.983,
          0.915,
          0.99,
          0.9990000000000001,
          0.79,
          0.593,
          0.995,
          0.986,
          0.993,
          0.9990000000000001,
          0.34,
          0.55,
          0.993,
          0.885,
          0.996,
          0.9129999999999999,
          0.98,
          0.9990000000000001,
          0.9990000000000001,
          1,
          0.9990000000000001,
          0.988,
          0.95,
          0.552,
          0.904,
          0.996,
          0.065,
          1,
          0.983,
          0.96,
          0.44299999999999995,
          0.99,
          0.94,
          0.995,
          0.9990000000000001,
          0.56,
          0.98,
          0.44299999999999995,
          0.85,
          0.985,
          1,
          1,
          0.9620000000000001,
          0.9490000000000001,
          0.985,
          0.88,
          0.98,
          0.971,
          1,
          0.6459999999999999,
          0.17600000000000002,
          0.966,
          0.991,
          1,
          0.9,
          0.608,
          0.564,
          0.997,
          0.997,
          1,
          0.99,
          0.991,
          1,
          1,
          1,
          0.998,
          0.8440000000000001,
          0.9940000000000001,
          0.98,
          0.741,
          0.505,
          0.982,
          0.8059999999999999,
          0.9990000000000001,
          0.99,
          0.9940000000000001,
          0.99,
          1,
          0.99,
          0.975,
          0.988,
          0.993,
          0.983,
          0.924,
          0.99,
          0.91,
          0.9990000000000001,
          0.993,
          0.838,
          0.997,
          0.986,
          0.9940000000000001,
          0.99,
          0.31,
          0.992,
          0.9940000000000001,
          0.968,
          0.9209999999999999,
          0.982,
          0.47100000000000003,
          0.9990000000000001,
          0.9990000000000001,
          1,
          0.9990000000000001,
          0.987,
          0.9990000000000001,
          0.9740000000000001,
          0.991,
          0.996,
          0.9640000000000001,
          0.9840000000000001,
          0.9640000000000001,
          0.987,
          0.44299999999999995,
          0.99,
          0.406,
          0.348,
          0.995,
          0.996,
          0.402,
          0.995,
          0.991,
          0.985,
          1,
          0.99,
          1,
          0.998,
          0.838,
          0.98,
          0.92,
          0.41600000000000004,
          0.97,
          0.991,
          0.18,
          0.9009999999999999,
          0.856,
          0.58,
          0.997,
          1,
          0.98,
          0.991,
          0.483,
          0.997,
          1,
          0.9990000000000001,
          0.85,
          0.193,
          0.993,
          0.6659999999999999,
          0.358,
          0.96,
          0.99,
          0.9990000000000001,
          0.9940000000000001,
          0.998,
          1,
          0.88,
          0.45299999999999996,
          0.725,
          0.124,
          0.991,
          0.92,
          0.9990000000000001,
          0.991,
          0.968,
          0.993,
          0.983,
          0.841,
          0.99,
          0.977,
          0.121,
          0.98,
          0.9990000000000001,
          1,
          0.237,
          0.6729999999999999,
          0.9890000000000001,
          0.985,
          0.986,
          0.995,
          0.998,
          0.252,
          0.318,
          0.561,
          0.993,
          0.317,
          0.13699999999999998,
          0.99,
          0.966,
          0.861,
          0.618,
          0.9840000000000001,
          0.628,
          0.9990000000000001,
          0.9990000000000001,
          0.9790000000000001,
          0.9990000000000001,
          0.988,
          1,
          0.976,
          0.609,
          0.6459999999999999,
          0.997,
          0.654,
          0.055999999999999994,
          0.99,
          0.9840000000000001,
          0.826,
          0.516,
          0.9570000000000001,
          0.986,
          1,
          0.318,
          0.8290000000000001,
          0.23800000000000002,
          0.995,
          0.993,
          0.425,
          0.669,
          0.8959999999999999,
          0.652,
          0.996,
          0.998,
          0.9590000000000001,
          0.998,
          0.983,
          0.426,
          0.85,
          0.986,
          0.16699999999999998,
          1,
          0.9990000000000001,
          0.48100000000000004,
          0.509,
          1,
          0.47,
          0.556,
          0.966,
          0.997,
          0.8859999999999999,
          0.889,
          0.98,
          0.966,
          0.991,
          0.755,
          0.11900000000000001,
          0.973,
          0.157,
          0.9670000000000001,
          0.977,
          0.99,
          0.968,
          1,
          0.9740000000000001,
          0.905,
          0.41,
          0.593,
          0.58,
          0.998,
          0.997,
          1,
          0.99,
          0.992,
          0.313,
          0.8,
          0.7859999999999999,
          0.91,
          0.578,
          0.98,
          0.99,
          0.371,
          0.997,
          1,
          0.9990000000000001,
          0.193,
          0.9990000000000001,
          0.96,
          0.9940000000000001,
          1,
          1,
          0.616,
          0.7070000000000001,
          0.993,
          0.354,
          0.95,
          0.96,
          0.899,
          0.972,
          1,
          0.36,
          0.9990000000000001,
          0.9940000000000001,
          0.997,
          0.9490000000000001,
          0.88,
          0.94,
          0.588,
          0.99,
          0.447,
          1,
          0.9840000000000001,
          0.9840000000000001,
          0.993,
          0.983,
          0.94,
          0.975,
          0.12,
          0.9990000000000001,
          0.655,
          0.998,
          0.92,
          0.983,
          0.997,
          0.9890000000000001,
          0.993,
          0.998,
          0.973,
          0.9309999999999999,
          0.607,
          0.98,
          0.9990000000000001,
          0.9990000000000001,
          0.9990000000000001,
          0.9890000000000001,
          1,
          0.997,
          0.9840000000000001,
          0.985,
          0.996,
          0.855,
          0.9670000000000001,
          0.986,
          0.938,
          0.557,
          0.996,
          0.995,
          0.996,
          0.985,
          0.998,
          0.985,
          0.987,
          0.19399999999999998,
          0.99,
          1,
          0.968,
          0.703,
          0.406,
          0.9990000000000001,
          0.534,
          0.857,
          0.99,
          0.995,
          0.57,
          0.109,
          0.966,
          0.669,
          0.976,
          0.991,
          0.23,
          0.9209999999999999,
          0.39,
          0.998,
          0.9990000000000001,
          1,
          0.965,
          0.993,
          0.982,
          0.996,
          0.9940000000000001,
          0.9990000000000001,
          1,
          0.8109999999999999,
          0.953,
          0.995,
          0.899,
          0.39,
          0.9990000000000001,
          0.9940000000000001,
          0.996,
          1,
          0.98,
          0.9590000000000001,
          0.99,
          0.9890000000000001,
          0.988,
          0.993,
          0.9840000000000001,
          0.94,
          0.99,
          0.976,
          1,
          0.9990000000000001,
          0.97,
          0.6509999999999999,
          0.998,
          0.965,
          0.985,
          0.996,
          0.992,
          0.993,
          0.998,
          0.9670000000000001,
          0.945,
          0.985,
          0.9990000000000001,
          0.9990000000000001,
          0.9990000000000001,
          0.988,
          1,
          0.978,
          0.28300000000000003,
          0.996,
          0.74,
          0.9690000000000001,
          0.998,
          0.9740000000000001,
          0.986,
          1,
          0.414,
          0.996,
          0.9940000000000001,
          0.684,
          0.995,
          0.996,
          0.9690000000000001,
          0.998,
          0.995,
          0.9890000000000001,
          0.76,
          1,
          0.988,
          1,
          1,
          0.9990000000000001,
          0.605,
          0.97,
          0.995,
          0.95,
          0.816,
          0.996,
          0.997,
          0.992,
          0.982,
          0.991,
          0.23,
          1,
          0.9420000000000001,
          0.858,
          0.998,
          1,
          0.991,
          0.993,
          0.58,
          0.992,
          0.997,
          0.9940000000000001,
          0.9990000000000001,
          0.248,
          0.995,
          0.98,
          1,
          0.9,
          0.887,
          0.24,
          0.951,
          0.987,
          0.972,
          1,
          0.9990000000000001,
          0.995,
          0.997,
          1,
          0.85,
          0.42100000000000004,
          0.14300000000000002,
          0.988,
          0.99,
          0.987,
          0.992,
          0.993,
          0.9840000000000001,
          0.958,
          0.99,
          0.978,
          0.139,
          1,
          0.9990000000000001,
          0.561,
          0.608,
          0.9990000000000001,
          0.961,
          0.9840000000000001,
          0.996,
          0.992,
          0.37799999999999995,
          0.9890000000000001,
          0.977,
          0.9590000000000001,
          0.95,
          0.982,
          0.9990000000000001,
          0.9990000000000001,
          0.99,
          0.9990000000000001,
          0.9890000000000001,
          0.606,
          1,
          0.6940000000000001,
          0.924,
          0.997,
          0.9670000000000001,
          0.998,
          0.99,
          0.986,
          0.47100000000000003,
          1,
          0.48700000000000004,
          0.94,
          0.996,
          0.9940000000000001,
          0.6629999999999999,
          0.996,
          0.996,
          0.9740000000000001,
          0.998,
          0.9940000000000001,
          0.41600000000000004,
          0.9890000000000001,
          0.99,
          1,
          0.9990000000000001,
          0.976,
          0.995,
          0.9840000000000001,
          0.95,
          0.846,
          0.9940000000000001,
          0.986,
          0.997,
          0.47700000000000004,
          0.675,
          1,
          0.982,
          0.35200000000000004,
          0.99,
          0.99,
          0.925,
          0.8590000000000001,
          0.598,
          0.998,
          1,
          0.992,
          0.9940000000000001,
          0.764,
          0.985,
          0.997,
          0.995,
          0.9990000000000001,
          0.912,
          0.9990000000000001,
          0.99,
          0.8809999999999999,
          0.184,
          0.608,
          0.97,
          0.997,
          0.83,
          0.995,
          0.9990000000000001,
          1,
          0.993,
          0.997,
          1,
          0.84,
          0.95,
          0.268,
          0.993,
          1,
          0.991,
          0.995,
          0.993,
          0.9840000000000001,
          0.9590000000000001,
          0.98,
          0.9940000000000001,
          0.132,
          1,
          0.9990000000000001,
          0.878,
          0.608,
          0.9990000000000001,
          0.973,
          0.986,
          0.996,
          0.9940000000000001,
          0.163,
          0.589,
          0.99,
          0.14400000000000002,
          0.998,
          0.973,
          0.907,
          0.985,
          0.68,
          0.9990000000000001,
          0.9990000000000001,
          0.9570000000000001,
          0.9990000000000001,
          0.986,
          1,
          0.982,
          0.998,
          0.064,
          0.97,
          0.998,
          0.98,
          0.975,
          0.982,
          0.9590000000000001,
          0.996,
          0.9940000000000001,
          0.715,
          0.997,
          0.998,
          0.998,
          0.9940000000000001,
          0.983,
          0.982,
          1,
          0.982,
          0.5539999999999999,
          1,
          0.513,
          0.561,
          0.98,
          0.852,
          0.9990000000000001,
          0.993,
          0.997,
          0.996,
          0.626,
          0.158,
          0.94,
          0.971,
          0.99,
          0.991,
          0.983,
          0.9129999999999999,
          0.39,
          0.772,
          0.711,
          0.998,
          1,
          0.9890000000000001,
          0.993,
          1,
          0.96,
          0.58,
          0.987,
          0.997,
          0.995,
          0.9990000000000001,
          0.912,
          1,
          1,
          1,
          0.9,
          0.897,
          0.7509999999999999,
          0.434,
          0.98,
          0.997,
          0.83,
          0.985,
          0.9990000000000001,
          1,
          0.993,
          0.995,
          1,
          0.998,
          0.9990000000000001,
          0.991,
          0.978,
          0.9940000000000001,
          0.986,
          0.9440000000000001,
          1,
          1,
          1,
          0.893,
          0.75,
          0.523,
          0.9990000000000001,
          0.94,
          0.986,
          0.997,
          0.9940000000000001,
          0.318,
          0.43799999999999994,
          0.988,
          0.775,
          0.998,
          0.975,
          0.9640000000000001,
          0.8340000000000001,
          0.985,
          0.551,
          0.9990000000000001,
          0.9990000000000001,
          0.993,
          0.9990000000000001,
          0.988,
          0.99,
          0.8,
          0.742,
          0.872,
          0.998,
          0.057,
          0.972,
          0.998,
          0.9790000000000001,
          0.983,
          0.982,
          1,
          0.38,
          0.9670000000000001,
          0.996,
          0.99,
          0.973,
          0.997,
          0.998,
          0.9670000000000001,
          0.998,
          0.9940000000000001,
          0.897,
          0.986,
          0.9790000000000001,
          0.146,
          1,
          0.5539999999999999,
          1,
          0.561,
          0.981,
          0.9159999999999999,
          0.997,
          0.992,
          0.8270000000000001,
          0.995,
          0.992,
          0.9990000000000001,
          0.94,
          0.991,
          0.992,
          0.98,
          0.31,
          0.97,
          0.9109999999999999,
          0.875,
          0.9990000000000001,
          1,
          0.981,
          0.9940000000000001,
          0.386,
          0.96,
          0.519,
          0.997,
          0.99,
          0.4,
          0.997,
          0.995,
          0.9990000000000001,
          1,
          1,
          1,
          0.8240000000000001,
          0.434,
          0.961,
          0.997,
          0.998,
          0.9940000000000001,
          0.9990000000000001,
          1,
          0.92,
          0.18899999999999997,
          0.99,
          0.9520000000000001,
          0.9990000000000001,
          0.9940000000000001,
          0.997,
          0.993,
          0.986,
          0.8859999999999999,
          0.99,
          0.975,
          0.201,
          1,
          0.9990000000000001,
          0.9420000000000001,
          0.74,
          0.5710000000000001,
          0.9940000000000001,
          0.993,
          0.97,
          0.997,
          0.9940000000000001,
          0.535,
          0.43799999999999994,
          0.45899999999999996,
          0.988,
          0.764,
          0.414,
          0.998,
          0.978,
          0.971,
          0.986,
          0.568,
          0.9990000000000001,
          0.9990000000000001,
          0.985,
          0.9990000000000001,
          0.987,
          0.784,
          0.955,
          0.826,
          0.8959999999999999,
          0.998,
          0.993,
          0.998,
          0.983,
          0.521,
          0.988,
          0.9840000000000001,
          0.49700000000000005,
          0.31,
          0.966,
          0.261,
          0.6629999999999999,
          0.997,
          0.9890000000000001,
          0.466,
          0.885,
          0.997,
          0.998,
          0.945,
          0.998,
          0.998,
          0.987,
          0.976,
          0.18899999999999997,
          1,
          1,
          0.536,
          0.9840000000000001,
          0.9420000000000001,
          0.49,
          0.988,
          0.934,
          0.88,
          0.996,
          0.872,
          0.187,
          0.9790000000000001,
          0.177,
          0.978,
          0.992,
          0.98,
          0.56,
          1,
          0.966,
          0.91,
          0.53,
          0.905,
          0.71,
          0.9940000000000001,
          1,
          0.982,
          0.995,
          0.807,
          0.96,
          0.889,
          0.99,
          0.997,
          0.995,
          0.9990000000000001,
          0.094,
          0.09699999999999999,
          0.9790000000000001,
          0.28800000000000003,
          0.865,
          1,
          0.915,
          0.7829999999999999,
          0.9690000000000001,
          0.524,
          0.98,
          0.9690000000000001,
          0.946,
          0.995,
          0.419,
          0.9990000000000001,
          0.9940000000000001,
          0.9990000000000001,
          0.9990000000000001,
          0.929,
          0.838,
          0.35700000000000004,
          0.685,
          0.467,
          1,
          0.9940000000000001,
          0.9990000000000001,
          0.992,
          0.985,
          0.93,
          0.99,
          0.9740000000000001,
          0.18,
          1,
          0.9990000000000001,
          0.946,
          0.536,
          0.9990000000000001,
          0.946,
          0.986,
          0.9990000000000001,
          0.996,
          1,
          0.7440000000000001,
          0.997,
          0.9840000000000001,
          0.978,
          0.644,
          0.987,
          0.9990000000000001,
          0.9990000000000001,
          0.983,
          0.9990000000000001,
          0.978,
          0.94,
          0.978,
          0.841,
          0.9309999999999999,
          0.9940000000000001,
          0.69,
          0.99,
          0.998,
          0.981,
          0.9940000000000001,
          0.9840000000000001,
          0.552,
          0.988,
          0.461,
          0.809,
          0.996,
          0.9890000000000001,
          0.73,
          0.797,
          0.997,
          0.996,
          0.998,
          0.991,
          0.995,
          0.987,
          0.9840000000000001,
          0.9940000000000001,
          0.46299999999999997,
          0.983,
          1,
          0.986,
          0.963,
          0.998,
          0.862,
          0.5710000000000001,
          0.937,
          0.996,
          1,
          0.639,
          0.8140000000000001,
          0.9740000000000001,
          0.9570000000000001,
          0.737,
          0.996,
          0.991,
          0.99,
          0.38799999999999996,
          1,
          0.915,
          0.9940000000000001,
          1,
          0.988,
          0.996,
          0.97,
          0.998,
          1,
          0.997,
          0.992,
          0.9990000000000001,
          0.855,
          0.986,
          1,
          1,
          1,
          0.884,
          0.98,
          0.893,
          0.9309999999999999,
          0.987,
          0.993,
          0.986,
          1,
          0.74,
          0.452,
          0.24,
          1,
          0.948,
          0.9990000000000001,
          0.991,
          0.986,
          0.98,
          0.99,
          0.975,
          1,
          0.9990000000000001,
          0.9490000000000001,
          0.6629999999999999,
          0.711,
          0.9990000000000001,
          0.983,
          0.988,
          0.997,
          0.996,
          0.987,
          0.746,
          0.43700000000000006,
          0.998,
          0.991,
          0.981,
          0.991,
          0.9990000000000001,
          0.9990000000000001,
          0.972,
          0.9990000000000001,
          1,
          0.858,
          0.789,
          0.95,
          0.993,
          0.988,
          0.998,
          0.98,
          0.996,
          0.985,
          0.547,
          0.96,
          0.995,
          0.987,
          0.523,
          0.7490000000000001,
          0.998,
          0.998,
          0.983,
          0.998,
          0.998,
          0.65,
          0.987,
          0.985,
          0.991,
          0.998,
          1,
          0.68,
          0.986,
          0.983,
          0.9990000000000001,
          0.995,
          0.9,
          0.995,
          0.9940000000000001,
          0.9990000000000001,
          0.5529999999999999,
          0.9670000000000001,
          0.344,
          0.997,
          0.992,
          0.986,
          0.38,
          1,
          0.9179999999999999,
          0.872,
          0.794,
          0.622,
          0.9940000000000001,
          1,
          0.987,
          0.996,
          0.521,
          0.97,
          0.997,
          1,
          0.424,
          0.998,
          0.995,
          0.9990000000000001,
          0.943,
          1,
          1,
          0.992,
          0.85,
          0.97,
          0.995,
          0.9129999999999999,
          0.9990000000000001,
          1,
          0.993,
          0.996,
          1,
          0.993,
          1,
          0.9790000000000001,
          1,
          0.991,
          0.986,
          0.998,
          0.9940000000000001,
          0.244,
          0.9990000000000001,
          0.935,
          0.66,
          0.9990000000000001,
          0.995,
          0.9890000000000001,
          0.9990000000000001,
          0.996,
          0.986,
          0.7559999999999999,
          0.43700000000000006,
          0.998,
          0.993,
          0.986,
          0.991,
          0.9990000000000001,
          0.9990000000000001,
          0.983,
          0.996,
          0.987,
          1,
          0.877,
          0.975,
          0.992,
          0.998,
          0.998,
          0.9790000000000001,
          0.9990000000000001,
          0.983,
          1,
          0.515,
          0.8740000000000001,
          0.996,
          0.988,
          0.977,
          0.998,
          0.998,
          0.983,
          0.998,
          0.9940000000000001,
          0.43799999999999994,
          0.7979999999999999,
          0.987,
          0.985,
          0.9890000000000001,
          0.615,
          1,
          0.9990000000000001,
          0.439,
          0.986,
          0.948,
          0.998,
          0.865,
          0.9940000000000001,
          0.953,
          1,
          0.997,
          0.995,
          0.9670000000000001,
          1,
          0.998,
          0.992,
          0.986,
          0.41,
          0.993,
          0.8859999999999999,
          0.938,
          0.825,
          0.997,
          1,
          0.985,
          0.997,
          0.8079999999999999,
          0.8170000000000001,
          0.97,
          0.998,
          0.99,
          0.997,
          0.995,
          0.9990000000000001,
          0.9990000000000001,
          1,
          0.9890000000000001,
          0.9620000000000001,
          0.871,
          0.9940000000000001,
          0.981,
          0.95,
          0.9990000000000001,
          0.993,
          0.997,
          1,
          0.602,
          0.34299999999999997,
          1,
          0.95,
          0.995,
          0.991,
          0.985,
          0.9940000000000001,
          0.99,
          0.993,
          0.265,
          0.9990000000000001,
          0.94,
          0.645,
          0.9990000000000001,
          0.991,
          0.9890000000000001,
          0.998,
          0.995,
          0.659,
          0.603,
          0.71,
          0.985,
          0.985,
          0.4,
          0.166,
          0.998,
          0.996,
          0.948,
          0.742,
          0.953,
          0.9990000000000001,
          0.9990000000000001,
          0.986,
          0.9990000000000001,
          0.985,
          0.9690000000000001,
          0.892,
          0.98,
          0.341,
          0.993,
          0.82,
          0.997,
          0.998,
          0.975,
          0.561,
          0.996,
          0.983,
          0.523,
          0.43,
          0.991,
          0.982,
          0.8220000000000001,
          0.9640000000000001,
          0.998,
          0.9990000000000001,
          0.998,
          1,
          0.983,
          0.986,
          0.983,
          0.37,
          0.988,
          0.9990000000000001,
          1,
          0.7140000000000001,
          0.986,
          0.982,
          0.281,
          0.998,
          0.99,
          0.995,
          0.941,
          0.992,
          0.9840000000000001,
          0.741,
          0.706,
          0.9620000000000001,
          0.74,
          0.9990000000000001,
          0.991,
          0.986,
          1,
          0.99,
          0.927,
          0.956,
          0.838,
          0.998,
          1,
          0.985,
          0.997,
          0.69,
          0.97,
          0.997,
          0.99,
          0.608,
          0.997,
          0.992,
          0.9990000000000001,
          0.19399999999999998,
          1,
          0.985,
          0.983,
          0.7240000000000001,
          0.9,
          0.877,
          0.489,
          0.293,
          0.439,
          0.9840000000000001,
          0.9990000000000001,
          0.992,
          0.998,
          1,
          0.386,
          0.971,
          1,
          0.991,
          0.986,
          0.972,
          0.99,
          0.996,
          0.317,
          1,
          0.998,
          0.951,
          0.7,
          0.84,
          0.9990000000000001,
          0.998,
          0.99,
          0.997,
          0.71,
          0.561,
          0.9990000000000001,
          0.987,
          0.998,
          0.997,
          0.992,
          0.9840000000000001,
          0.9990000000000001,
          0.9990000000000001,
          0.983,
          0.9990000000000001,
          0.985,
          1,
          0.987,
          0.9109999999999999,
          0.99,
          0.6829999999999999,
          0.9940000000000001,
          0.1,
          0.996,
          0.997,
          0.9620000000000001,
          0.998,
          0.983,
          0.672,
          1,
          0.99,
          0.9790000000000001,
          0.985,
          0.909,
          0.998,
          0.9990000000000001,
          0.991,
          0.998,
          0.9990000000000001,
          0.988,
          0.986,
          0.986,
          0.9990000000000001,
          1,
          0.986,
          0.988,
          0.998,
          0.9009999999999999,
          0.6509999999999999,
          0.9940000000000001,
          0.736,
          0.5429999999999999,
          0.36,
          0.9670000000000001,
          0.473,
          0.912,
          0.992,
          0.986,
          0.43,
          1,
          0.935,
          0.958,
          0.85,
          0.722,
          0.998,
          1,
          0.985,
          0.987,
          0.69,
          0.6509999999999999,
          0.99,
          0.99,
          0.997,
          0.99,
          0.9990000000000001,
          1,
          0.988,
          0.89,
          0.98,
          0.574,
          0.9990000000000001,
          0.993,
          0.995,
          1,
          0.981,
          0.919,
          0.662,
          0.39899999999999997,
          1,
          0.982,
          1,
          0.985,
          0.998,
          0.998,
          0.9890000000000001,
          1,
          0.809,
          0.746,
          0.848,
          0.9990000000000001,
          0.998,
          0.99,
          0.998,
          0.784,
          0.74,
          0.981,
          0.998,
          0.998,
          0.987,
          0.8220000000000001,
          0.925,
          0.9890000000000001,
          0.594,
          0.9990000000000001,
          0.9990000000000001,
          0.987,
          0.9990000000000001,
          0.982,
          0.8740000000000001,
          1,
          0.988,
          0.9309999999999999,
          0.995,
          0.993,
          0.993,
          0.998,
          0.971,
          0.893,
          0.998,
          0.985,
          0.99,
          0.45299999999999996,
          0.373,
          0.828,
          0.99,
          0.978,
          0.831,
          0.988,
          0.7040000000000001,
          0.998,
          0.998,
          0.996,
          1,
          0.988,
          0.991,
          0.401,
          0.986,
          0.9990000000000001,
          1,
          0.987,
          0.955,
          0.995,
          0.995,
          0.996,
          0.992,
          0.88,
          0.293,
          0.9990000000000001,
          0.992,
          0.986,
          0.51,
          0.9740000000000001,
          0.943,
          0.9570000000000001,
          0.867,
          0.998,
          1,
          0.995,
          0.997,
          0.99,
          0.99,
          0.997,
          0.995,
          0.998,
          0.998,
          1,
          0.987,
          0.992,
          0.8740000000000001,
          0.614,
          0.996,
          0.955,
          1,
          0.736,
          0.99,
          0.993,
          0.995,
          1,
          0.96,
          0.344,
          0.966,
          1,
          0.97,
          1,
          0.993,
          0.985,
          0.9990000000000001,
          0.98,
          0.998,
          0.435,
          0.986,
          0.998,
          0.9420000000000001,
          0.89,
          0.9990000000000001,
          0.991,
          0.997,
          0.997,
          0.98,
          0.9229999999999999,
          0.998,
          0.9990000000000001,
          0.987,
          0.99,
          0.9990000000000001,
          0.9990000000000001,
          0.9990000000000001,
          0.998,
          0.963,
          1,
          0.986,
          0.9470000000000001,
          0.998,
          0.9940000000000001,
          0.231,
          0.997,
          0.983,
          0.5720000000000001,
          0.9990000000000001,
          0.985,
          0.99,
          0.628,
          0.486,
          0.991,
          0.981,
          0.8740000000000001,
          0.988,
          0.998,
          0.9990000000000001,
          1,
          0.987,
          0.99,
          0.9840000000000001,
          0.611,
          0.9990000000000001,
          1,
          0.44299999999999995,
          0.988,
          0.956,
          0.586,
          0.9990000000000001,
          0.998,
          0.9890000000000001,
          0.99,
          0.882,
          0.35200000000000004,
          0.9990000000000001,
          0.991,
          0.986,
          0.521,
          0.991,
          0.914,
          0.8909999999999999,
          0.728,
          0.998,
          0.99,
          0.985,
          0.997,
          0.98,
          0.505,
          0.9990000000000001,
          0.597,
          0.996,
          0.986,
          1,
          0.99,
          0.9079999999999999,
          0.996,
          1,
          0.9990000000000001,
          0.9990000000000001,
          0.992,
          0.982,
          1,
          0.894,
          0.992,
          0.447,
          0.452,
          1,
          0.996,
          1,
          0.997,
          0.985,
          0.9990000000000001,
          0.996,
          0.998,
          0.42100000000000004,
          0.997,
          0.998,
          0.772,
          0.89,
          0.9990000000000001,
          0.995,
          0.991,
          0.9990000000000001,
          0.997,
          0.89,
          0.647,
          0.9790000000000001,
          0.956,
          0.998,
          0.9990000000000001,
          0.9890000000000001,
          0.8009999999999999,
          0.991,
          0.9990000000000001,
          0.9940000000000001,
          0.9740000000000001,
          0.9590000000000001,
          1,
          0.976,
          0.963,
          0.915,
          0.977,
          0.9940000000000001,
          0.883,
          0.155,
          0.997,
          0.997,
          0.983,
          0.9990000000000001,
          0.985,
          0.708,
          0.99,
          0.45,
          0.857,
          0.992,
          0.978,
          0.8109999999999999,
          0.99,
          0.997,
          0.9990000000000001,
          0.998,
          1,
          0.618,
          0.987,
          0.9840000000000001,
          0.981,
          0.779,
          1,
          0.8740000000000001,
          0.9890000000000001,
          0.956,
          0.9990000000000001,
          0.998,
          0.956,
          0.997,
          0.9890000000000001,
          0.556,
          0.966,
          0.9990000000000001,
          0.991,
          0.991,
          1,
          0.996,
          0.9390000000000001,
          0.9640000000000001,
          0.9079999999999999,
          0.998,
          0.9890000000000001,
          1,
          0.985,
          0.997,
          0.825,
          0.925,
          0.591,
          0.9840000000000001,
          0.997,
          0.985,
          1,
          1,
          0.99,
          0.775,
          0.903,
          0.446,
          1,
          0.9740000000000001,
          0.9990000000000001,
          0.9990000000000001,
          0.985,
          0.9990000000000001,
          1,
          0.995,
          0.938,
          0.633,
          0.8,
          0.505,
          0.996,
          0.997,
          0.985,
          0.998,
          0.997,
          0.99,
          0.89,
          0.9990000000000001,
          0.997,
          0.992,
          1,
          0.998,
          0.7979999999999999,
          0.914,
          0.20199999999999999,
          0.997,
          0.9990000000000001,
          0.9590000000000001,
          0.9440000000000001,
          0.9,
          0.9990000000000001,
          0.9990000000000001,
          0.9540000000000001,
          0.96,
          0.996,
          0.95,
          0.9990000000000001,
          0.995,
          0.9990000000000001,
          0.9990000000000001,
          0.977,
          0.9990000000000001,
          0.987,
          0.655,
          0.982,
          0.997,
          0.9990000000000001,
          0.9940000000000001,
          0.9990000000000001,
          0.9990000000000001,
          0.9940000000000001,
          0.43700000000000006,
          0.998,
          0.693,
          0.998,
          0.977,
          0.963,
          0.397,
          1,
          0.991,
          1,
          0.95,
          0.963,
          0.9159999999999999,
          0.998,
          0.9890000000000001,
          1,
          0.9520000000000001,
          0.907,
          0.532,
          0.996,
          0.862,
          1,
          0.8,
          0.98,
          1,
          0.9990000000000001,
          0.991,
          1,
          0.973,
          0.7809999999999999
         ],
         "yaxis": "y"
        }
       ],
       "layout": {
        "legend": {
         "tracegroupgap": 0
        },
        "plot_bgcolor": "white",
        "template": {
         "data": {
          "bar": [
           {
            "error_x": {
             "color": "#2a3f5f"
            },
            "error_y": {
             "color": "#2a3f5f"
            },
            "marker": {
             "line": {
              "color": "#E5ECF6",
              "width": 0.5
             }
            },
            "type": "bar"
           }
          ],
          "barpolar": [
           {
            "marker": {
             "line": {
              "color": "#E5ECF6",
              "width": 0.5
             }
            },
            "type": "barpolar"
           }
          ],
          "carpet": [
           {
            "aaxis": {
             "endlinecolor": "#2a3f5f",
             "gridcolor": "white",
             "linecolor": "white",
             "minorgridcolor": "white",
             "startlinecolor": "#2a3f5f"
            },
            "baxis": {
             "endlinecolor": "#2a3f5f",
             "gridcolor": "white",
             "linecolor": "white",
             "minorgridcolor": "white",
             "startlinecolor": "#2a3f5f"
            },
            "type": "carpet"
           }
          ],
          "choropleth": [
           {
            "colorbar": {
             "outlinewidth": 0,
             "ticks": ""
            },
            "type": "choropleth"
           }
          ],
          "contour": [
           {
            "colorbar": {
             "outlinewidth": 0,
             "ticks": ""
            },
            "colorscale": [
             [
              0,
              "#0d0887"
             ],
             [
              0.1111111111111111,
              "#46039f"
             ],
             [
              0.2222222222222222,
              "#7201a8"
             ],
             [
              0.3333333333333333,
              "#9c179e"
             ],
             [
              0.4444444444444444,
              "#bd3786"
             ],
             [
              0.5555555555555556,
              "#d8576b"
             ],
             [
              0.6666666666666666,
              "#ed7953"
             ],
             [
              0.7777777777777778,
              "#fb9f3a"
             ],
             [
              0.8888888888888888,
              "#fdca26"
             ],
             [
              1,
              "#f0f921"
             ]
            ],
            "type": "contour"
           }
          ],
          "contourcarpet": [
           {
            "colorbar": {
             "outlinewidth": 0,
             "ticks": ""
            },
            "type": "contourcarpet"
           }
          ],
          "heatmap": [
           {
            "colorbar": {
             "outlinewidth": 0,
             "ticks": ""
            },
            "colorscale": [
             [
              0,
              "#0d0887"
             ],
             [
              0.1111111111111111,
              "#46039f"
             ],
             [
              0.2222222222222222,
              "#7201a8"
             ],
             [
              0.3333333333333333,
              "#9c179e"
             ],
             [
              0.4444444444444444,
              "#bd3786"
             ],
             [
              0.5555555555555556,
              "#d8576b"
             ],
             [
              0.6666666666666666,
              "#ed7953"
             ],
             [
              0.7777777777777778,
              "#fb9f3a"
             ],
             [
              0.8888888888888888,
              "#fdca26"
             ],
             [
              1,
              "#f0f921"
             ]
            ],
            "type": "heatmap"
           }
          ],
          "heatmapgl": [
           {
            "colorbar": {
             "outlinewidth": 0,
             "ticks": ""
            },
            "colorscale": [
             [
              0,
              "#0d0887"
             ],
             [
              0.1111111111111111,
              "#46039f"
             ],
             [
              0.2222222222222222,
              "#7201a8"
             ],
             [
              0.3333333333333333,
              "#9c179e"
             ],
             [
              0.4444444444444444,
              "#bd3786"
             ],
             [
              0.5555555555555556,
              "#d8576b"
             ],
             [
              0.6666666666666666,
              "#ed7953"
             ],
             [
              0.7777777777777778,
              "#fb9f3a"
             ],
             [
              0.8888888888888888,
              "#fdca26"
             ],
             [
              1,
              "#f0f921"
             ]
            ],
            "type": "heatmapgl"
           }
          ],
          "histogram": [
           {
            "marker": {
             "colorbar": {
              "outlinewidth": 0,
              "ticks": ""
             }
            },
            "type": "histogram"
           }
          ],
          "histogram2d": [
           {
            "colorbar": {
             "outlinewidth": 0,
             "ticks": ""
            },
            "colorscale": [
             [
              0,
              "#0d0887"
             ],
             [
              0.1111111111111111,
              "#46039f"
             ],
             [
              0.2222222222222222,
              "#7201a8"
             ],
             [
              0.3333333333333333,
              "#9c179e"
             ],
             [
              0.4444444444444444,
              "#bd3786"
             ],
             [
              0.5555555555555556,
              "#d8576b"
             ],
             [
              0.6666666666666666,
              "#ed7953"
             ],
             [
              0.7777777777777778,
              "#fb9f3a"
             ],
             [
              0.8888888888888888,
              "#fdca26"
             ],
             [
              1,
              "#f0f921"
             ]
            ],
            "type": "histogram2d"
           }
          ],
          "histogram2dcontour": [
           {
            "colorbar": {
             "outlinewidth": 0,
             "ticks": ""
            },
            "colorscale": [
             [
              0,
              "#0d0887"
             ],
             [
              0.1111111111111111,
              "#46039f"
             ],
             [
              0.2222222222222222,
              "#7201a8"
             ],
             [
              0.3333333333333333,
              "#9c179e"
             ],
             [
              0.4444444444444444,
              "#bd3786"
             ],
             [
              0.5555555555555556,
              "#d8576b"
             ],
             [
              0.6666666666666666,
              "#ed7953"
             ],
             [
              0.7777777777777778,
              "#fb9f3a"
             ],
             [
              0.8888888888888888,
              "#fdca26"
             ],
             [
              1,
              "#f0f921"
             ]
            ],
            "type": "histogram2dcontour"
           }
          ],
          "mesh3d": [
           {
            "colorbar": {
             "outlinewidth": 0,
             "ticks": ""
            },
            "type": "mesh3d"
           }
          ],
          "parcoords": [
           {
            "line": {
             "colorbar": {
              "outlinewidth": 0,
              "ticks": ""
             }
            },
            "type": "parcoords"
           }
          ],
          "pie": [
           {
            "automargin": true,
            "type": "pie"
           }
          ],
          "scatter": [
           {
            "marker": {
             "colorbar": {
              "outlinewidth": 0,
              "ticks": ""
             }
            },
            "type": "scatter"
           }
          ],
          "scatter3d": [
           {
            "line": {
             "colorbar": {
              "outlinewidth": 0,
              "ticks": ""
             }
            },
            "marker": {
             "colorbar": {
              "outlinewidth": 0,
              "ticks": ""
             }
            },
            "type": "scatter3d"
           }
          ],
          "scattercarpet": [
           {
            "marker": {
             "colorbar": {
              "outlinewidth": 0,
              "ticks": ""
             }
            },
            "type": "scattercarpet"
           }
          ],
          "scattergeo": [
           {
            "marker": {
             "colorbar": {
              "outlinewidth": 0,
              "ticks": ""
             }
            },
            "type": "scattergeo"
           }
          ],
          "scattergl": [
           {
            "marker": {
             "colorbar": {
              "outlinewidth": 0,
              "ticks": ""
             }
            },
            "type": "scattergl"
           }
          ],
          "scattermapbox": [
           {
            "marker": {
             "colorbar": {
              "outlinewidth": 0,
              "ticks": ""
             }
            },
            "type": "scattermapbox"
           }
          ],
          "scatterpolar": [
           {
            "marker": {
             "colorbar": {
              "outlinewidth": 0,
              "ticks": ""
             }
            },
            "type": "scatterpolar"
           }
          ],
          "scatterpolargl": [
           {
            "marker": {
             "colorbar": {
              "outlinewidth": 0,
              "ticks": ""
             }
            },
            "type": "scatterpolargl"
           }
          ],
          "scatterternary": [
           {
            "marker": {
             "colorbar": {
              "outlinewidth": 0,
              "ticks": ""
             }
            },
            "type": "scatterternary"
           }
          ],
          "surface": [
           {
            "colorbar": {
             "outlinewidth": 0,
             "ticks": ""
            },
            "colorscale": [
             [
              0,
              "#0d0887"
             ],
             [
              0.1111111111111111,
              "#46039f"
             ],
             [
              0.2222222222222222,
              "#7201a8"
             ],
             [
              0.3333333333333333,
              "#9c179e"
             ],
             [
              0.4444444444444444,
              "#bd3786"
             ],
             [
              0.5555555555555556,
              "#d8576b"
             ],
             [
              0.6666666666666666,
              "#ed7953"
             ],
             [
              0.7777777777777778,
              "#fb9f3a"
             ],
             [
              0.8888888888888888,
              "#fdca26"
             ],
             [
              1,
              "#f0f921"
             ]
            ],
            "type": "surface"
           }
          ],
          "table": [
           {
            "cells": {
             "fill": {
              "color": "#EBF0F8"
             },
             "line": {
              "color": "white"
             }
            },
            "header": {
             "fill": {
              "color": "#C8D4E3"
             },
             "line": {
              "color": "white"
             }
            },
            "type": "table"
           }
          ]
         },
         "layout": {
          "annotationdefaults": {
           "arrowcolor": "#2a3f5f",
           "arrowhead": 0,
           "arrowwidth": 1
          },
          "coloraxis": {
           "colorbar": {
            "outlinewidth": 0,
            "ticks": ""
           }
          },
          "colorscale": {
           "diverging": [
            [
             0,
             "#8e0152"
            ],
            [
             0.1,
             "#c51b7d"
            ],
            [
             0.2,
             "#de77ae"
            ],
            [
             0.3,
             "#f1b6da"
            ],
            [
             0.4,
             "#fde0ef"
            ],
            [
             0.5,
             "#f7f7f7"
            ],
            [
             0.6,
             "#e6f5d0"
            ],
            [
             0.7,
             "#b8e186"
            ],
            [
             0.8,
             "#7fbc41"
            ],
            [
             0.9,
             "#4d9221"
            ],
            [
             1,
             "#276419"
            ]
           ],
           "sequential": [
            [
             0,
             "#0d0887"
            ],
            [
             0.1111111111111111,
             "#46039f"
            ],
            [
             0.2222222222222222,
             "#7201a8"
            ],
            [
             0.3333333333333333,
             "#9c179e"
            ],
            [
             0.4444444444444444,
             "#bd3786"
            ],
            [
             0.5555555555555556,
             "#d8576b"
            ],
            [
             0.6666666666666666,
             "#ed7953"
            ],
            [
             0.7777777777777778,
             "#fb9f3a"
            ],
            [
             0.8888888888888888,
             "#fdca26"
            ],
            [
             1,
             "#f0f921"
            ]
           ],
           "sequentialminus": [
            [
             0,
             "#0d0887"
            ],
            [
             0.1111111111111111,
             "#46039f"
            ],
            [
             0.2222222222222222,
             "#7201a8"
            ],
            [
             0.3333333333333333,
             "#9c179e"
            ],
            [
             0.4444444444444444,
             "#bd3786"
            ],
            [
             0.5555555555555556,
             "#d8576b"
            ],
            [
             0.6666666666666666,
             "#ed7953"
            ],
            [
             0.7777777777777778,
             "#fb9f3a"
            ],
            [
             0.8888888888888888,
             "#fdca26"
            ],
            [
             1,
             "#f0f921"
            ]
           ]
          },
          "colorway": [
           "#636efa",
           "#EF553B",
           "#00cc96",
           "#ab63fa",
           "#FFA15A",
           "#19d3f3",
           "#FF6692",
           "#B6E880",
           "#FF97FF",
           "#FECB52"
          ],
          "font": {
           "color": "#2a3f5f"
          },
          "geo": {
           "bgcolor": "white",
           "lakecolor": "white",
           "landcolor": "#E5ECF6",
           "showlakes": true,
           "showland": true,
           "subunitcolor": "white"
          },
          "hoverlabel": {
           "align": "left"
          },
          "hovermode": "closest",
          "mapbox": {
           "style": "light"
          },
          "paper_bgcolor": "white",
          "plot_bgcolor": "#E5ECF6",
          "polar": {
           "angularaxis": {
            "gridcolor": "white",
            "linecolor": "white",
            "ticks": ""
           },
           "bgcolor": "#E5ECF6",
           "radialaxis": {
            "gridcolor": "white",
            "linecolor": "white",
            "ticks": ""
           }
          },
          "scene": {
           "xaxis": {
            "backgroundcolor": "#E5ECF6",
            "gridcolor": "white",
            "gridwidth": 2,
            "linecolor": "white",
            "showbackground": true,
            "ticks": "",
            "zerolinecolor": "white"
           },
           "yaxis": {
            "backgroundcolor": "#E5ECF6",
            "gridcolor": "white",
            "gridwidth": 2,
            "linecolor": "white",
            "showbackground": true,
            "ticks": "",
            "zerolinecolor": "white"
           },
           "zaxis": {
            "backgroundcolor": "#E5ECF6",
            "gridcolor": "white",
            "gridwidth": 2,
            "linecolor": "white",
            "showbackground": true,
            "ticks": "",
            "zerolinecolor": "white"
           }
          },
          "shapedefaults": {
           "line": {
            "color": "#2a3f5f"
           }
          },
          "ternary": {
           "aaxis": {
            "gridcolor": "white",
            "linecolor": "white",
            "ticks": ""
           },
           "baxis": {
            "gridcolor": "white",
            "linecolor": "white",
            "ticks": ""
           },
           "bgcolor": "#E5ECF6",
           "caxis": {
            "gridcolor": "white",
            "linecolor": "white",
            "ticks": ""
           }
          },
          "title": {
           "x": 0.05
          },
          "xaxis": {
           "automargin": true,
           "gridcolor": "white",
           "linecolor": "white",
           "ticks": "",
           "title": {
            "standoff": 15
           },
           "zerolinecolor": "white",
           "zerolinewidth": 2
          },
          "yaxis": {
           "automargin": true,
           "gridcolor": "white",
           "linecolor": "white",
           "ticks": "",
           "title": {
            "standoff": 15
           },
           "zerolinecolor": "white",
           "zerolinewidth": 2
          }
         }
        },
        "title": {
         "text": "Relationship between Maternal Mortality and Professional health Assistance at Birth"
        },
        "xaxis": {
         "anchor": "y",
         "domain": [
          0,
          1
         ],
         "title": {
          "text": "Avg Maternal Mortality Rate"
         }
        },
        "yaxis": {
         "anchor": "x",
         "domain": [
          0,
          1
         ],
         "title": {
          "text": "% births with professional health assistance (0 to 1)"
         }
        }
       }
      },
      "text/html": [
       "<div>                            <div id=\"f4211e6f-9dca-4d32-bb33-a4842644453b\" class=\"plotly-graph-div\" style=\"height:525px; width:100%;\"></div>            <script type=\"text/javascript\">                require([\"plotly\"], function(Plotly) {                    window.PLOTLYENV=window.PLOTLYENV || {};                                    if (document.getElementById(\"f4211e6f-9dca-4d32-bb33-a4842644453b\")) {                    Plotly.newPlot(                        \"f4211e6f-9dca-4d32-bb33-a4842644453b\",                        [{\"hovertemplate\": \"Avg Maternal Mortality Rate=%{x}<br>% births with professional health assistance (0 to 1)=%{y}<extra></extra>\", \"legendgroup\": \"\", \"marker\": {\"color\": \"#636efa\", \"opacity\": 0.4, \"symbol\": \"circle\"}, \"mode\": \"markers\", \"name\": \"\", \"showlegend\": false, \"type\": \"scattergl\", \"x\": [28.5, 65.7, 38.5, 36.7, 57.8, 25.1, 23.5, 33.9, 70.9, 82.0, 11.7, 53.2, 12.0, 14.4, 107.0, 6.68, 381.0, 32.0, 20.6, 4.89, 390.0, 14.4, 94.1, 60.0, 374.0, 68.8, 30.1, 24.4, 97.2, 68.3, 72.2, 44.6, 275.0, 16.2, 6.11, 115.0, 127.0, 18.9, 76.8, 70.6, 50.2, 82.8, 62.4, 99.4, 14.2, 9.85, 291.0, 20.5, 290.0, 108.0, 207.0, 37.9, 24.0, 12.8, 29.3, 97.3, 27.0, 29.5, 5.25, 40.5, 29.7, 31.4, 26.9, 101.0, 50.1, 31.5, 394.0, 4.71, 64.4, 11.0, 56.8, 13.4, 16.9, 83.8, 95.6, 110.0, 18.5, 14.9, 4.8, 383.0, 60.2, 66.8, 29.2, 22.0, 778.0, 68.7, 52.3, 178.0, 482.0, 15.8, 8.79, 252.0, 18.6, 80.3, 69.1, 53.8, 13.9, 6.55, 19.7, 69.2, 110.0, 37.1, 12.7, 46.9, 23.4, 194.0, 62.7, 24.6, 5.7, 46.9, 24.9, 47.3, 35.3, 6.67, 59.1, 30.6, 9.77, 57.1, 14.5, 14.8, 88.3, 28.9, 5.79, 10.8, 566.0, 251.0, 14.0, 4.62, 376.0, 67.3, 62.0, 32.8, 21.9, 392.0, 266.0, 55.6, 53.9, 302.0, 187.0, 373.0, 15.5, 7.93, 59.6, 233.0, 16.8, 76.9, 68.0, 55.5, 449.0, 12.3, 6.35, 288.0, 37.4, 12.5, 35.5, 224.0, 247.0, 20.4, 32.8, 7.67, 5.99, 49.2, 24.1, 44.4, 35.1, 248.0, 6.25, 41.8, 56.5, 27.2, 16.8, 52.3, 14.5, 13.6, 87.6, 144.0, 36.5, 113.0, 5.27, 14.2, 19.3, 200.0, 20.2, 4.11, 388.0, 51.9, 66.3, 258.0, 57.5, 35.6, 190.0, 19.0, 11.0, 42.3, 55.0, 98.1, 14.8, 4.68, 56.0, 95.6, 17.6, 66.1, 61.4, 59.5, 382.0, 12.2, 7.05, 72.8, 74.9, 84.9, 84.0, 39.4, 12.7, 33.8, 17.3, 31.1, 9.19, 50.7, 434.0, 24.1, 333.0, 330.0, 41.4, 35.1, 6.5, 35.9, 64.4, 302.0, 13.8, 63.1, 14.1, 9.45, 99.9, 371.0, 42.4, 115.0, 113.0, 8.63, 192.0, 13.6, 4.41, 375.0, 69.3, 382.0, 56.6, 45.7, 180.0, 19.5, 264.0, 67.9, 41.4, 12.2, 15.8, 2.1, 54.4, 17.8, 64.9, 62.4, 11.2, 2.81, 286.0, 158.0, 17.3, 86.0, 89.2, 38.9, 13.2, 31.5, 125.0, 163.0, 16.4, 26.1, 59.5, 36.0, 9.12, 48.9, 57.0, 31.5, 53.7, 20.7, 39.3, 38.4, 43.7, 384.0, 6.65, 132.0, 504.0, 38.1, 70.5, 77.7, 14.8, 60.2, 14.8, 5.13, 60.3, 78.3, 486.0, 40.3, 112.0, 4.36, 54.5, 282.0, 407.0, 160.0, 447.0, 16.3, 4.17, 374.0, 10.7, 75.3, 61.0, 32.5, 26.9, 19.7, 81.7, 62.6, 50.9, 249.0, 12.2, 16.3, 5.38, 57.2, 119.0, 57.9, 296.0, 14.9, 85.8, 58.1, 60.0, 54.3, 17.8, 74.4, 10.7, 5.9, 117.0, 201.0, 46.4, 66.1, 94.7, 80.8, 89.5, 70.9, 122.0, 41.5, 18.6, 12.5, 33.3, 122.0, 15.3, 278.0, 22.4, 28.6, 7.29, 5.74, 46.0, 23.9, 375.0, 29.5, 142.0, 74.7, 35.8, 42.9, 7.26, 32.1, 71.1, 272.0, 8.15, 52.1, 15.1, 7.28, 80.1, 78.6, 470.0, 8.96, 114.0, 4.59, 202.0, 11.5, 4.49, 67.5, 10.1, 74.2, 14.1, 46.4, 23.8, 32.8, 16.5, 505.0, 45.6, 46.5, 415.0, 14.9, 2.69, 24.3, 60.2, 298.0, 119.0, 222.0, 10.2, 72.8, 53.5, 53.9, 53.0, 17.4, 4.57, 9.43, 12.1, 72.7, 249.0, 63.0, 64.6, 38.5, 12.9, 30.9, 24.9, 249.0, 13.8, 59.2, 34.8, 8.7, 4.2, 42.5, 56.8, 385.0, 26.5, 26.1, 71.4, 32.9, 47.2, 8.32, 454.0, 31.4, 71.5, 12.7, 52.6, 15.8, 4.43, 6.98, 77.8, 18.7, 114.0, 5.72, 174.0, 16.8, 4.26, 363.0, 41.4, 67.5, 105.0, 74.7, 64.2, 34.7, 17.9, 377.0, 50.4, 62.7, 48.1, 228.0, 200.0, 196.0, 14.3, 3.08, 292.0, 56.2, 10.8, 60.0, 50.9, 50.8, 351.0, 4.94, 9.82, 9.67, 16.4, 49.4, 65.9, 349.0, 82.0, 184.0, 33.2, 13.5, 35.8, 22.6, 66.5, 31.4, 212.0, 242.0, 12.3, 25.3, 58.6, 26.3, 5.97, 4.95, 40.6, 58.8, 27.6, 46.9, 297.0, 20.7, 71.8, 31.9, 42.3, 384.0, 401.0, 6.34, 124.0, 28.9, 73.2, 28.6, 9.94, 53.3, 15.3, 6.59, 4.22, 63.0, 72.5, 79.7, 18.1, 539.0, 109.0, 5.61, 38.2, 160.0, 47.2, 189.0, 8.04, 4.16, 359.0, 70.0, 264.0, 375.0, 47.3, 40.3, 18.4, 72.3, 148.0, 34.5, 166.0, 36.9, 174.0, 13.0, 82.3, 365.0, 14.3, 6.22, 121.0, 62.9, 116.0, 84.8, 9.62, 12.4, 52.0, 48.4, 47.0, 92.9, 9.74, 9.98, 3.01, 104.0, 169.0, 59.5, 59.2, 314.0, 71.9, 73.5, 31.1, 9.25, 12.8, 29.0, 21.4, 11.8, 60.3, 31.4, 10.5, 3.57, 38.5, 65.1, 45.9, 22.8, 6.5, 50.7, 18.3, 70.4, 32.2, 45.5, 247.0, 4.72, 29.4, 75.9, 71.5, 28.5, 317.0, 12.3, 58.6, 14.6, 6.75, 5.41, 76.7, 67.3, 77.1, 17.8, 113.0, 4.62, 28.5, 6.37, 159.0, 46.8, 224.0, 540.0, 6.16, 3.58, 369.0, 3.54, 62.3, 53.8, 33.5, 23.0, 14.6, 39.3, 163.0, 30.6, 9.86, 299.0, 14.3, 7.31, 287.0, 62.0, 119.0, 82.2, 8.27, 44.8, 44.3, 48.8, 340.0, 7.81, 9.63, 16.7, 289.0, 410.0, 65.0, 52.3, 231.0, 113.0, 54.8, 30.0, 14.2, 22.2, 27.3, 123.0, 229.0, 123.0, 460.0, 12.4, 142.0, 24.7, 58.0, 36.4, 7.06, 4.29, 35.6, 65.8, 48.3, 316.0, 38.6, 22.6, 46.7, 277.0, 269.0, 15.6, 178.0, 64.7, 32.1, 40.8, 534.0, 374.0, 395.0, 5.47, 536.0, 475.0, 26.5, 74.0, 72.2, 256.0, 39.1, 321.0, 9.28, 53.9, 13.1, 6.45, 1.96, 90.6, 68.2, 60.7, 271.0, 28.5, 130.0, 508.0, 115.0, 6.54, 291.0, 415.0, 22.3, 6.61, 47.4, 386.0, 147.0, 475.0, 9.5, 3.3, 367.0, 337.0, 37.6, 78.8, 2.72, 4.96, 83.5, 8.77, 57.7, 269.0, 376.0, 53.6, 422.0, 23.8, 27.0, 207.0, 562.0, 11.3, 383.0, 259.0, 66.9, 26.5, 61.2, 161.0, 28.3, 151.0, 12.9, 204.0, 339.0, 11.0, 363.0, 118.0, 14.9, 4.27, 44.0, 120.0, 20.9, 60.6, 301.0, 180.0, 84.2, 9.69, 6.02, 42.9, 36.6, 43.7, 477.0, 92.1, 244.0, 47.8, 321.0, 13.4, 65.2, 466.0, 11.2, 8.63, 11.3, 402.0, 14.8, 60.8, 146.0, 43.8, 56.0, 76.2, 47.0, 102.0, 306.0, 113.0, 68.8, 58.4, 52.9, 174.0, 149.0, 28.4, 15.1, 25.6, 42.4, 119.0, 65.5, 25.5, 11.0, 264.0, 25.2, 63.8, 20.1, 6.82, 5.74, 31.8, 50.1, 298.0, 17.9, 332.0, 12.6, 190.0, 63.5, 32.3, 39.5, 8.26, 23.4, 69.3, 66.3, 307.0, 39.2, 6.34, 55.0, 5.11, 3.71, 91.1, 11.3, 108.0, 5.59, 9.42, 299.0, 20.4, 5.67, 173.0, 188.0, 7.56, 3.4, 5.99, 81.7, 8.23, 53.8, 53.2, 412.0, 22.7, 14.0, 63.5, 156.0, 452.0, 12.1, 643.0, 158.0, 37.7, 11.7, 191.0, 329.0, 7.65, 74.9, 13.9, 5.64, 293.0, 68.5, 299.0, 6.47, 7.5, 44.5, 36.0, 40.3, 13.1, 7.53, 9.26, 13.8, 56.1, 43.1, 109.0, 58.3, 56.4, 155.0, 27.2, 15.9, 35.7, 42.9, 11.0, 132.0, 26.4, 68.3, 12.6, 6.68, 3.09, 29.0, 58.8, 45.4, 42.3, 20.3, 55.7, 249.0, 9.94, 201.0, 63.8, 33.1, 31.7, 6.51, 23.4, 59.7, 63.5, 40.8, 11.4, 56.4, 4.81, 5.0, 89.1, 77.5, 475.0, 10.8, 159.0, 110.0, 5.87, 33.1, 4.76, 52.2, 340.0, 8.41, 3.19, 306.0, 6.59, 4.94, 88.3, 8.96, 67.4, 49.3, 369.0, 10.7, 56.8, 8.9, 15.6, 7.89, 250.0, 61.4, 12.0, 154.0, 155.0, 28.8, 10.4, 13.1, 12.5, 6.01, 295.0, 120.0, 68.8, 134.0, 7.0, 42.0, 27.5, 37.0, 380.0, 13.0, 8.15, 8.69, 2.82, 391.0, 138.0, 47.1, 57.2, 73.4, 37.2, 314.0, 106.0, 47.2, 55.5, 157.0, 26.7, 15.6, 38.3, 40.1, 24.2, 202.0, 459.0, 10.6, 27.3, 64.5, 22.1, 5.1, 3.03, 28.2, 62.4, 38.6, 282.0, 46.3, 20.7, 269.0, 243.0, 7.72, 204.0, 62.8, 34.4, 26.5, 240.0, 8.0, 20.6, 52.1, 62.1, 38.7, 10.6, 62.0, 10.8, 5.6, 2.86, 356.0, 89.8, 52.7, 47.0, 21.9, 111.0, 4.75, 39.6, 5.51, 171.0, 52.9, 534.0, 180.0, 8.32, 2.98, 293.0, 1.58, 5.68, 76.1, 7.59, 43.3, 306.0, 59.6, 14.9, 6.08, 7.47, 60.9, 11.8, 31.7, 60.9, 153.0, 22.3, 105.0, 11.1, 155.0, 186.0, 6.21, 9.74, 310.0, 11.7, 8.7, 68.9, 139.0, 83.1, 5.65, 35.5, 32.3, 35.1, 174.0, 13.0, 7.34, 8.38, 2.72, 252.0, 13.9, 49.2, 31.8, 314.0, 324.0, 104.0, 53.7, 44.5, 54.8, 23.6, 16.7, 19.0, 25.7, 43.1, 106.0, 62.7, 207.0, 10.6, 28.9, 61.7, 19.9, 5.83, 3.66, 28.6, 62.1, 35.2, 267.0, 48.3, 20.0, 58.1, 236.0, 6.75, 196.0, 63.4, 35.4, 23.5, 306.0, 399.0, 7.47, 475.0, 23.5, 49.8, 62.3, 38.3, 339.0, 9.42, 60.3, 10.6, 6.38, 1.83, 94.9, 79.1, 19.5, 434.0, 106.0, 8.5, 8.86, 57.7, 6.35, 193.0, 5.84, 3.03, 275.0, 1.57, 4.58, 6.79, 34.2, 13.0, 63.0, 14.3, 22.2, 306.0, 12.8, 379.0, 252.0, 58.7, 120.0, 12.7, 22.9, 96.7, 10.7, 111.0, 300.0, 8.74, 103.0, 10.7, 1.85, 22.6, 57.8, 299.0, 147.0, 134.0, 5.97, 34.4, 25.8, 29.3, 65.3, 48.7, 385.0, 12.8, 5.05, 7.58, 9.84, 274.0, 131.0, 53.2, 58.5, 81.9, 30.7, 29.7, 227.0, 102.0, 64.1, 38.0, 58.0, 21.1, 14.9, 21.7, 25.5, 43.4, 12.0, 28.8, 61.1, 21.1, 5.36, 3.68, 29.2, 32.6, 44.2, 20.5, 62.6, 309.0, 261.0, 6.01, 184.0, 61.8, 33.9, 19.2, 437.0, 279.0, 9.32, 105.0, 24.8, 45.8, 69.9, 393.0, 36.4, 338.0, 9.5, 68.1, 10.4, 5.82, 1.85, 98.3, 82.4, 47.5, 57.1, 11.5, 421.0, 108.0, 5.8, 8.01, 44.6, 5.44, 55.8, 524.0, 191.0, 6.7, 2.71, 29.0, 4.05, 4.2, 79.0, 7.17, 37.6, 352.0, 7.94, 66.5, 333.0, 9.0, 326.0, 11.4, 246.0, 57.7, 111.0, 12.0, 35.4, 149.0, 23.0, 86.9, 9.77, 9.66, 9.74, 4.3, 34.8, 287.0, 23.6, 77.0, 133.0, 4.6, 36.2, 21.4, 30.7, 415.0, 52.8, 393.0, 13.5, 65.1, 520.0, 8.06, 7.29, 7.14, 127.0, 54.1, 55.3, 28.5, 234.0, 100.0, 62.7, 19.5, 23.4, 25.2, 43.6, 110.0, 456.0, 11.7, 107.0, 32.6, 65.3, 23.4, 6.37, 2.91, 27.5, 73.1, 32.5, 268.0, 49.2, 19.2, 64.7, 301.0, 246.0, 5.63, 174.0, 61.1, 34.0, 16.4, 235.0, 246.0, 398.0, 8.7, 103.0, 534.0, 21.5, 40.4, 59.9, 36.8, 335.0, 10.7, 67.1, 9.8, 6.93, 6.69, 368.0, 99.0, 84.7, 59.3, 6.62, 104.0, 5.99, 8.82, 480.0, 50.1, 6.49, 179.0, 351.0, 195.0, 553.0, 183.0, 8.77, 3.07, 278.0, 73.3, 2.38, 4.43, 65.2, 6.47, 39.7, 5.74, 65.4, 316.0, 13.1, 3.04, 241.0, 55.8, 104.0, 376.0, 13.6, 55.5, 145.0, 20.1, 9.51, 308.0, 12.3, 352.0, 9.22, 7.07, 35.4, 284.0, 124.0, 24.9, 73.1, 297.0, 125.0, 121.0, 4.51, 38.5, 19.3, 26.7, 155.0, 56.0, 12.6, 67.3, 7.84, 6.91, 12.3, 373.0, 190.0, 62.3, 243.0, 103.0, 7.55, 24.4, 27.6, 63.3, 308.0, 97.6, 69.8, 49.0, 63.7, 161.0, 18.3, 23.6, 21.2, 38.8, 110.0, 22.2, 200.0, 251.0, 254.0, 32.4, 64.9, 18.2, 4.76, 3.48, 26.6, 74.6, 33.1, 254.0, 49.4, 17.5, 62.7, 236.0, 5.48, 174.0, 60.5, 34.5, 17.7, 7.58, 102.0, 20.1, 35.4, 60.4, 400.0, 20.7, 13.8, 54.0, 8.89, 4.11, 3.56, 95.0, 91.3, 85.9, 57.8, 2.15, 162.0, 102.0, 2.91, 9.35, 52.3, 5.51, 185.0, 62.8, 518.0, 196.0, 10.1, 2.79, 234.0, 66.8, 4.3, 4.51, 5.44, 41.3, 39.6, 3.69, 62.6, 22.3, 570.0, 32.3, 7.1, 54.2, 97.8, 13.1, 154.0, 545.0, 54.4, 21.4, 8.5, 168.0, 177.0, 180.0, 16.4, 60.7, 8.33, 6.42, 30.7, 277.0, 122.0, 75.0, 4.56, 45.2, 18.6, 24.0, 58.2, 11.3, 66.8, 6.42, 6.88, 11.8, 320.0, 39.8, 136.0, 69.0, 62.6, 26.9, 96.1, 27.0, 136.0, 21.7, 24.1, 29.7, 37.9, 111.0, 181.0, 450.0, 35.3, 58.7, 30.2, 4.14, 2.76, 25.3, 78.0, 33.4, 54.9, 16.4, 63.9, 225.0, 234.0, 4.79, 170.0, 62.5, 34.5, 13.9, 8.4, 101.0, 495.0, 18.4, 32.0, 43.2, 25.9, 9.51, 51.2, 8.57, 5.5, 96.8, 86.9, 43.0, 55.0, 1.96, 101.0, 5.92, 8.26, 59.9, 5.96, 181.0, 196.0, 14.2, 2.86, 252.0, 223.0, 4.83, 4.69, 83.8, 5.59, 32.6, 329.0, 9.5, 63.3, 12.6, 36.5, 8.64, 243.0, 54.0, 92.5, 13.7, 50.1, 137.0, 33.7, 64.8, 8.16, 192.0, 11.2, 293.0, 7.3, 4.98, 28.4, 276.0, 121.0, 73.9, 115.0, 104.0, 80.1, 5.49, 40.1, 16.7, 23.6, 348.0, 60.0, 10.6, 62.8, 538.0, 5.35, 6.27, 8.82, 267.0, 141.0, 76.6, 72.2, 26.3, 94.4, 62.5, 24.9, 20.7, 9.45, 25.5, 21.8, 35.7, 9.67, 33.9, 65.9, 25.6, 6.16, 2.85, 24.8, 33.1, 229.0, 16.9, 62.4, 215.0, 4.71, 156.0, 66.3, 35.3, 13.6, 8.0, 99.9, 486.0, 22.7, 29.7, 65.2, 22.0, 11.6, 53.4, 6.85, 4.16, 4.6, 98.9, 89.7, 62.4, 1.76, 94.4, 2.61, 9.14, 74.8, 5.55, 64.0, 222.0, 177.0, 14.9, 2.87, 24.0, 6.76, 6.06, 46.2, 6.12, 31.4, 305.0, 321.0, 10.7, 64.9, 23.2, 370.0, 2.64, 8.01, 332.0, 55.8, 88.6, 13.6, 149.0, 62.5, 59.2, 134.0, 20.5, 7.95, 15.1, 83.9, 7.23, 2.93, 29.0, 273.0, 120.0, 60.1, 110.0, 120.0, 4.07, 36.6, 23.2, 22.7, 42.8, 137.0, 60.5, 11.4, 60.5, 4.51, 6.55, 6.18, 15.2, 137.0, 74.2, 19.4, 25.8, 58.1, 92.8, 25.1, 23.4, 25.7, 28.5, 37.7, 336.0, 417.0, 36.2, 58.4, 13.8, 6.31, 2.15, 24.7, 90.4, 31.4, 229.0, 16.4, 72.4, 210.0, 4.52, 146.0, 64.1, 36.5, 17.1, 212.0, 337.0, 178.0, 7.13, 101.0, 497.0, 458.0, 21.9, 26.9, 54.6, 431.0, 26.9, 10.1, 50.8, 6.05, 3.56, 1.72, 91.2, 93.0, 58.8, 463.0, 5.0, 132.0, 88.3, 3.98, 9.71, 439.0, 51.3, 6.18, 110.0, 317.0, 14.0, 2.94, 202.0, 24.0, 6.67, 5.12, 5.59, 23.9, 314.0, 8.08, 59.5, 258.0, 17.2, 39.2, 6.72, 247.0, 53.1, 84.6, 362.0, 13.9, 147.0, 44.4, 52.4, 35.2, 60.5, 105.0, 160.0, 10.5, 52.8, 6.99, 4.59, 29.3, 120.0, 23.6, 72.0, 100.0, 119.0, 3.88, 34.6, 24.6, 19.6, 304.0, 61.4, 11.6, 62.1, 562.0, 3.35, 5.87, 6.25, 181.0, 151.0, 94.9, 77.3, 232.0, 104.0, 25.3, 273.0, 171.0, 276.0, 92.2, 21.1, 24.1, 17.4, 28.7, 396.0, 55.7, 15.8, 6.22, 3.89, 24.3, 99.9, 32.7, 228.0, 68.0, 16.8, 76.3, 206.0, 206.0, 4.44, 138.0, 63.0, 37.2, 158.0, 375.0, 5.98, 98.5, 22.4, 23.3, 45.1, 25.9, 9.31, 49.4, 4.49, 2.86, 3.14, 107.0, 95.1, 88.4, 59.9, 196.0, 5.34, 277.0, 82.7, 1.6, 8.04, 45.4, 5.37, 178.0, 82.1, 11.7, 2.63, 23.2, 54.1, 5.2, 4.96, 71.8, 5.35, 19.3, 9.47, 59.5, 4.09, 37.7, 7.21, 50.1, 80.0, 12.0, 145.0, 507.0, 18.6, 105.0, 212.0, 350.0, 11.4, 287.0, 6.86, 4.14, 27.6, 267.0, 121.0, 87.2, 93.5, 117.0, 76.0, 3.6, 31.2, 22.5, 17.5, 281.0, 378.0, 11.2, 63.9, 4.29, 5.82, 6.13, 163.0, 75.4, 24.5, 49.7, 145.0, 17.5, 25.2, 22.4, 32.9, 73.2, 20.4, 322.0, 373.0, 41.5, 52.6, 14.5, 2.09, 22.8, 35.2, 64.2, 14.5, 310.0, 201.0, 197.0, 3.77, 124.0, 63.0, 37.2, 319.0, 149.0, 6.75, 24.0, 19.7, 48.8, 127.0, 335.0, 29.7, 303.0, 7.86, 47.4, 3.72, 4.63, 1.53, 384.0, 109.0, 103.0, 92.5, 47.8, 5.5, 79.8, 3.16, 7.68, 236.0, 40.4, 4.93, 79.9, 514.0, 534.0, 117.0, 11.0, 2.66, 183.0, 22.1, 50.6, 4.95, 5.35, 33.4, 16.9, 5.76, 54.8, 228.0, 14.1, 35.7, 9.3, 50.0, 78.9, 12.1, 63.2, 51.0, 25.0, 51.2, 332.0, 7.75, 2.58, 25.5, 263.0, 121.0, 80.6, 88.6, 110.0, 3.12, 29.5, 16.4, 14.7, 9.88, 63.2, 2.47, 5.57, 6.12, 12.3, 155.0, 106.0, 74.3, 23.4, 283.0, 53.9, 91.3, 41.3, 40.4, 15.4, 26.0, 21.1, 27.2, 71.9, 169.0, 78.4, 42.4, 50.5, 19.7, 3.48, 2.97, 20.9, 104.0, 39.0, 251.0, 66.8, 14.1, 73.6, 198.0, 115.0, 65.1, 37.1, 14.9, 6.8, 90.8, 24.3, 18.2, 69.4, 22.9, 6.23, 49.4, 3.39, 3.31, 2.12, 111.0, 107.0, 88.6, 45.4, 5.37, 234.0, 79.3, 6.84, 375.0, 44.2, 4.98, 81.1, 181.0, 531.0, 13.0, 2.69, 175.0, 21.1, 4.33, 4.83, 16.5, 8.55, 46.2, 11.3, 586.0, 35.0, 7.41, 307.0, 47.5, 77.7, 368.0, 11.9, 19.4, 53.4, 6.96, 129.0, 274.0, 7.41, 3.19, 23.6, 265.0, 123.0, 75.8, 102.0, 74.7, 3.45, 7.17, 16.5, 13.9, 59.0, 391.0, 10.3, 533.0, 2.27, 5.38, 155.0, 83.7, 22.0, 50.8, 46.6, 13.8, 11.3, 27.5, 24.5, 29.2, 107.0, 81.4, 169.0, 335.0, 39.8, 51.2, 18.1, 4.3, 5.51, 20.0, 98.9, 42.3, 255.0, 59.8, 13.1, 300.0, 196.0, 2.98, 108.0, 65.8, 37.3, 12.3, 147.0, 358.0, 6.95, 85.8, 25.0, 15.7, 64.3, 411.0, 30.6, 4.14, 46.7, 3.0, 3.83, 110.0, 113.0, 85.5, 37.9, 44.4, 1.7, 101.0, 224.0, 81.4, 4.11, 6.45, 39.6, 4.87, 182.0, 76.2, 277.0, 181.0, 9.24, 2.76, 188.0, 19.8, 2.54, 3.72, 4.32, 14.9, 285.0, 10.7, 50.7, 11.3, 371.0, 5.75, 223.0, 49.2, 77.1, 11.9, 60.4, 51.2, 21.3, 50.6, 320.0, 8.19, 7.08, 3.12, 22.2, 123.0, 17.4, 76.0, 80.0, 94.4, 3.7, 7.59, 28.0, 15.7, 13.6, 34.4, 141.0, 406.0, 10.3, 2.48, 5.41, 34.2, 150.0, 76.3, 219.0, 21.0, 232.0, 47.3, 31.3, 17.7, 15.5, 27.7, 24.6, 30.0, 117.0, 19.3, 139.0, 295.0, 318.0, 53.4, 3.74, 4.3, 19.9, 43.3, 57.9, 194.0, 3.56, 106.0, 65.4, 37.9, 10.2, 216.0, 75.3, 428.0, 25.6, 13.8, 83.8, 301.0, 31.7, 4.28, 54.0, 1.33, 110.0, 117.0, 76.8, 43.2, 1.6, 82.5, 3.89, 6.16, 43.2, 4.58, 131.0, 2.6, 3.39, 4.9, 14.0, 5.6, 29.8, 51.7, 366.0, 10.9, 489.0, 48.6, 48.9, 10.6, 319.0, 7.0, 2.11, 123.0, 70.6, 78.8, 75.9, 3.12, 6.63, 30.1, 16.6, 244.0, 405.0, 3.89, 300.0, 10.3, 116.0, 20.3, 46.6, 16.5, 28.0, 30.8, 127.0, 295.0], \"xaxis\": \"x\", \"y\": [0.93, 0.9690000000000001, 0.997, 0.973, 0.99, 0.9990000000000001, 0.97, 0.991, 0.94, 0.8059999999999999, 0.998, 0.998, 1.0, 1.0, 0.953, 0.988, 0.441, 0.966, 0.9940000000000001, 1.0, 0.40700000000000003, 0.9990000000000001, 0.872, 0.99, 0.6, 0.9890000000000001, 1.0, 1.0, 0.9279999999999999, 0.9109999999999999, 0.838, 1.0, 0.308, 0.889, 0.9940000000000001, 1.0, 0.66, 0.996, 1.0, 0.998, 0.992, 0.76, 0.88, 0.98, 1.0, 0.9990000000000001, 0.85, 0.98, 0.685, 0.94, 0.95, 0.9990000000000001, 0.991, 0.992, 0.9940000000000001, 0.79, 0.9259999999999999, 0.997, 1.0, 0.972, 0.9990000000000001, 0.769, 0.9740000000000001, 0.695, 0.978, 0.995, 0.584, 0.991, 0.937, 0.998, 0.998, 1.0, 1.0, 0.924, 0.365, 0.945, 0.9129999999999999, 0.9940000000000001, 0.9990000000000001, 0.317, 0.981, 0.9890000000000001, 1.0, 1.0, 0.4, 0.945, 1.0, 0.46299999999999997, 0.07400000000000001, 0.893, 0.993, 0.188, 0.996, 1.0, 0.9990000000000001, 0.992, 1.0, 0.9990000000000001, 0.9790000000000001, 0.903, 0.92, 0.9990000000000001, 0.992, 0.993, 0.8640000000000001, 0.765, 0.958, 0.983, 0.993, 0.965, 0.9990000000000001, 0.98, 0.998, 0.996, 0.841, 0.98, 0.998, 0.998, 1.0, 1.0, 0.40700000000000003, 0.99, 0.986, 0.9109999999999999, 0.305, 0.469, 0.995, 0.998, 0.40700000000000003, 0.9890000000000001, 0.987, 1.0, 1.0, 0.57, 0.5479999999999999, 0.965, 1.0, 0.31, 0.682, 0.149, 0.909, 0.993, 0.858, 0.525, 0.996, 1.0, 0.997, 0.991, 0.258, 1.0, 0.9990000000000001, 0.439, 0.9990000000000001, 0.993, 0.99, 0.159, 0.505, 0.872, 0.955, 0.993, 1.0, 0.963, 0.9990000000000001, 0.978, 0.99, 0.415, 0.9940000000000001, 0.9940000000000001, 0.836, 0.97, 0.998, 0.998, 1.0, 1.0, 0.40700000000000003, 0.8740000000000001, 0.991, 0.976, 0.986, 0.99, 0.9079999999999999, 0.43799999999999994, 0.9940000000000001, 0.998, 0.342, 0.934, 0.986, 0.45399999999999996, 0.983, 1.0, 0.609, 1.0, 0.98, 0.963, 1.0, 0.61, 0.9329999999999999, 0.9940000000000001, 0.8690000000000001, 0.528, 0.996, 1.0, 0.9890000000000001, 0.991, 0.47200000000000003, 1.0, 0.9990000000000001, 0.941, 0.769, 0.983, 0.759, 0.9990000000000001, 0.9940000000000001, 0.983, 0.8909999999999999, 0.9329999999999999, 0.9940000000000001, 0.996, 0.095, 0.9990000000000001, 0.12, 0.47200000000000003, 0.982, 0.99, 0.993, 0.995, 0.904, 0.45399999999999996, 0.998, 0.998, 1.0, 1.0, 0.987, 0.05, 0.993, 0.56, 0.9620000000000001, 0.985, 0.43799999999999994, 0.9940000000000001, 0.998, 0.365, 0.983, 0.72, 0.982, 1.0, 0.376, 1.0, 0.9, 0.977, 1.0, 0.95, 0.934, 0.993, 0.88, 0.996, 0.99, 0.991, 1.0, 0.9990000000000001, 0.835, 0.82, 0.9840000000000001, 0.826, 0.98, 0.9990000000000001, 0.9940000000000001, 0.982, 0.87, 0.6920000000000001, 0.8909999999999999, 1.0, 0.985, 0.9309999999999999, 0.993, 0.915, 0.99, 0.976, 1.0, 0.9990000000000001, 0.79, 0.986, 0.9890000000000001, 0.433, 0.98, 0.54, 0.45899999999999996, 0.995, 0.893, 0.836, 0.9990000000000001, 0.998, 1.0, 1.0, 1.0, 0.462, 0.20600000000000002, 0.995, 0.9620000000000001, 0.985, 1.0, 0.348, 0.25, 0.93, 0.20600000000000002, 0.9940000000000001, 0.998, 0.49700000000000005, 0.9990000000000001, 0.996, 0.98, 1.0, 0.9440000000000001, 1.0, 0.951, 0.981, 1.0, 0.396, 1.0, 0.941, 0.992, 0.95, 1.0, 0.883, 0.42, 0.996, 1.0, 0.991, 0.991, 0.914, 0.987, 0.99, 1.0, 0.9990000000000001, 0.82, 1.0, 1.0, 1.0, 0.8, 0.809, 0.975, 0.8059999999999999, 0.37799999999999995, 0.9990000000000001, 0.992, 0.9940000000000001, 0.98, 0.8909999999999999, 0.912, 0.225, 1.0, 0.9570000000000001, 0.993, 0.982, 0.879, 0.9990000000000001, 0.598, 0.9890000000000001, 0.87, 0.8759999999999999, 0.9890000000000001, 0.9990000000000001, 0.992, 0.996, 0.9309999999999999, 0.516, 0.998, 0.998, 1.0, 1.0, 0.955, 0.46299999999999997, 0.20600000000000002, 0.996, 0.963, 0.9840000000000001, 0.545, 0.995, 0.998, 0.9, 1.0, 0.981, 0.981, 0.981, 1.0, 0.89, 1.0, 0.4, 0.975, 1.0, 0.09, 0.95, 0.992, 0.9490000000000001, 0.899, 0.513, 0.608, 0.564, 0.997, 1.0, 0.99, 0.991, 0.914, 0.988, 0.997, 1.0, 0.9990000000000001, 0.79, 0.382, 0.98, 0.958, 0.9990000000000001, 0.9940000000000001, 0.98, 0.975, 0.46, 0.988, 0.972, 0.9640000000000001, 0.993, 0.982, 0.904, 0.99, 0.08, 0.9990000000000001, 0.99, 0.986, 0.996, 0.9990000000000001, 0.993, 0.15, 0.9940000000000001, 0.938, 0.9990000000000001, 0.9990000000000001, 1.0, 1.0, 0.983, 0.564, 0.995, 0.9620000000000001, 0.9840000000000001, 0.95, 0.995, 0.998, 0.43200000000000005, 0.861, 0.946, 0.9670000000000001, 0.976, 0.981, 1.0, 1.0, 0.473, 0.978, 0.857, 1.0, 0.456, 0.442, 0.564, 0.956, 0.991, 0.18, 0.895, 0.997, 1.0, 0.983, 0.991, 0.466, 0.997, 1.0, 0.9990000000000001, 1.0, 0.997, 0.726, 0.258, 0.99, 0.99, 0.9990000000000001, 0.9940000000000001, 0.996, 1.0, 0.953, 0.7709999999999999, 0.21600000000000003, 0.465, 0.991, 1.0, 0.975, 0.9740000000000001, 0.993, 0.983, 0.915, 0.99, 0.9990000000000001, 0.79, 0.593, 0.995, 0.986, 0.993, 0.9990000000000001, 0.34, 0.55, 0.993, 0.885, 0.996, 0.9129999999999999, 0.98, 0.9990000000000001, 0.9990000000000001, 1.0, 0.9990000000000001, 0.988, 0.95, 0.552, 0.904, 0.996, 0.065, 1.0, 0.983, 0.96, 0.44299999999999995, 0.99, 0.94, 0.995, 0.9990000000000001, 0.56, 0.98, 0.44299999999999995, 0.85, 0.985, 1.0, 1.0, 0.9620000000000001, 0.9490000000000001, 0.985, 0.88, 0.98, 0.971, 1.0, 0.6459999999999999, 0.17600000000000002, 0.966, 0.991, 1.0, 0.9, 0.608, 0.564, 0.997, 0.997, 1.0, 0.99, 0.991, 1.0, 1.0, 1.0, 0.998, 0.8440000000000001, 0.9940000000000001, 0.98, 0.741, 0.505, 0.982, 0.8059999999999999, 0.9990000000000001, 0.99, 0.9940000000000001, 0.99, 1.0, 0.99, 0.975, 0.988, 0.993, 0.983, 0.924, 0.99, 0.91, 0.9990000000000001, 0.993, 0.838, 0.997, 0.986, 0.9940000000000001, 0.99, 0.31, 0.992, 0.9940000000000001, 0.968, 0.9209999999999999, 0.982, 0.47100000000000003, 0.9990000000000001, 0.9990000000000001, 1.0, 0.9990000000000001, 0.987, 0.9990000000000001, 0.9740000000000001, 0.991, 0.996, 0.9640000000000001, 0.9840000000000001, 0.9640000000000001, 0.987, 0.44299999999999995, 0.99, 0.406, 0.348, 0.995, 0.996, 0.402, 0.995, 0.991, 0.985, 1.0, 0.99, 1.0, 0.998, 0.838, 0.98, 0.92, 0.41600000000000004, 0.97, 0.991, 0.18, 0.9009999999999999, 0.856, 0.58, 0.997, 1.0, 0.98, 0.991, 0.483, 0.997, 1.0, 0.9990000000000001, 0.85, 0.193, 0.993, 0.6659999999999999, 0.358, 0.96, 0.99, 0.9990000000000001, 0.9940000000000001, 0.998, 1.0, 0.88, 0.45299999999999996, 0.725, 0.124, 0.991, 0.92, 0.9990000000000001, 0.991, 0.968, 0.993, 0.983, 0.841, 0.99, 0.977, 0.121, 0.98, 0.9990000000000001, 1.0, 0.237, 0.6729999999999999, 0.9890000000000001, 0.985, 0.986, 0.995, 0.998, 0.252, 0.318, 0.561, 0.993, 0.317, 0.13699999999999998, 0.99, 0.966, 0.861, 0.618, 0.9840000000000001, 0.628, 0.9990000000000001, 0.9990000000000001, 0.9790000000000001, 0.9990000000000001, 0.988, 1.0, 0.976, 0.609, 0.6459999999999999, 0.997, 0.654, 0.055999999999999994, 0.99, 0.9840000000000001, 0.826, 0.516, 0.9570000000000001, 0.986, 1.0, 0.318, 0.8290000000000001, 0.23800000000000002, 0.995, 0.993, 0.425, 0.669, 0.8959999999999999, 0.652, 0.996, 0.998, 0.9590000000000001, 0.998, 0.983, 0.426, 0.85, 0.986, 0.16699999999999998, 1.0, 0.9990000000000001, 0.48100000000000004, 0.509, 1.0, 0.47, 0.556, 0.966, 0.997, 0.8859999999999999, 0.889, 0.98, 0.966, 0.991, 0.755, 0.11900000000000001, 0.973, 0.157, 0.9670000000000001, 0.977, 0.99, 0.968, 1.0, 0.9740000000000001, 0.905, 0.41, 0.593, 0.58, 0.998, 0.997, 1.0, 0.99, 0.992, 0.313, 0.8, 0.7859999999999999, 0.91, 0.578, 0.98, 0.99, 0.371, 0.997, 1.0, 0.9990000000000001, 0.193, 0.9990000000000001, 0.96, 0.9940000000000001, 1.0, 1.0, 0.616, 0.7070000000000001, 0.993, 0.354, 0.95, 0.96, 0.899, 0.972, 1.0, 0.36, 0.9990000000000001, 0.9940000000000001, 0.997, 0.9490000000000001, 0.88, 0.94, 0.588, 0.99, 0.447, 1.0, 0.9840000000000001, 0.9840000000000001, 0.993, 0.983, 0.94, 0.975, 0.12, 0.9990000000000001, 0.655, 0.998, 0.92, 0.983, 0.997, 0.9890000000000001, 0.993, 0.998, 0.973, 0.9309999999999999, 0.607, 0.98, 0.9990000000000001, 0.9990000000000001, 0.9990000000000001, 0.9890000000000001, 1.0, 0.997, 0.9840000000000001, 0.985, 0.996, 0.855, 0.9670000000000001, 0.986, 0.938, 0.557, 0.996, 0.995, 0.996, 0.985, 0.998, 0.985, 0.987, 0.19399999999999998, 0.99, 1.0, 0.968, 0.703, 0.406, 0.9990000000000001, 0.534, 0.857, 0.99, 0.995, 0.57, 0.109, 0.966, 0.669, 0.976, 0.991, 0.23, 0.9209999999999999, 0.39, 0.998, 0.9990000000000001, 1.0, 0.965, 0.993, 0.982, 0.996, 0.9940000000000001, 0.9990000000000001, 1.0, 0.8109999999999999, 0.953, 0.995, 0.899, 0.39, 0.9990000000000001, 0.9940000000000001, 0.996, 1.0, 0.98, 0.9590000000000001, 0.99, 0.9890000000000001, 0.988, 0.993, 0.9840000000000001, 0.94, 0.99, 0.976, 1.0, 0.9990000000000001, 0.97, 0.6509999999999999, 0.998, 0.965, 0.985, 0.996, 0.992, 0.993, 0.998, 0.9670000000000001, 0.945, 0.985, 0.9990000000000001, 0.9990000000000001, 0.9990000000000001, 0.988, 1.0, 0.978, 0.28300000000000003, 0.996, 0.74, 0.9690000000000001, 0.998, 0.9740000000000001, 0.986, 1.0, 0.414, 0.996, 0.9940000000000001, 0.684, 0.995, 0.996, 0.9690000000000001, 0.998, 0.995, 0.9890000000000001, 0.76, 1.0, 0.988, 1.0, 1.0, 0.9990000000000001, 0.605, 0.97, 0.995, 0.95, 0.816, 0.996, 0.997, 0.992, 0.982, 0.991, 0.23, 1.0, 0.9420000000000001, 0.858, 0.998, 1.0, 0.991, 0.993, 0.58, 0.992, 0.997, 0.9940000000000001, 0.9990000000000001, 0.248, 0.995, 0.98, 1.0, 0.9, 0.887, 0.24, 0.951, 0.987, 0.972, 1.0, 0.9990000000000001, 0.995, 0.997, 1.0, 0.85, 0.42100000000000004, 0.14300000000000002, 0.988, 0.99, 0.987, 0.992, 0.993, 0.9840000000000001, 0.958, 0.99, 0.978, 0.139, 1.0, 0.9990000000000001, 0.561, 0.608, 0.9990000000000001, 0.961, 0.9840000000000001, 0.996, 0.992, 0.37799999999999995, 0.9890000000000001, 0.977, 0.9590000000000001, 0.95, 0.982, 0.9990000000000001, 0.9990000000000001, 0.99, 0.9990000000000001, 0.9890000000000001, 0.606, 1.0, 0.6940000000000001, 0.924, 0.997, 0.9670000000000001, 0.998, 0.99, 0.986, 0.47100000000000003, 1.0, 0.48700000000000004, 0.94, 0.996, 0.9940000000000001, 0.6629999999999999, 0.996, 0.996, 0.9740000000000001, 0.998, 0.9940000000000001, 0.41600000000000004, 0.9890000000000001, 0.99, 1.0, 0.9990000000000001, 0.976, 0.995, 0.9840000000000001, 0.95, 0.846, 0.9940000000000001, 0.986, 0.997, 0.47700000000000004, 0.675, 1.0, 0.982, 0.35200000000000004, 0.99, 0.99, 0.925, 0.8590000000000001, 0.598, 0.998, 1.0, 0.992, 0.9940000000000001, 0.764, 0.985, 0.997, 0.995, 0.9990000000000001, 0.912, 0.9990000000000001, 0.99, 0.8809999999999999, 0.184, 0.608, 0.97, 0.997, 0.83, 0.995, 0.9990000000000001, 1.0, 0.993, 0.997, 1.0, 0.84, 0.95, 0.268, 0.993, 1.0, 0.991, 0.995, 0.993, 0.9840000000000001, 0.9590000000000001, 0.98, 0.9940000000000001, 0.132, 1.0, 0.9990000000000001, 0.878, 0.608, 0.9990000000000001, 0.973, 0.986, 0.996, 0.9940000000000001, 0.163, 0.589, 0.99, 0.14400000000000002, 0.998, 0.973, 0.907, 0.985, 0.68, 0.9990000000000001, 0.9990000000000001, 0.9570000000000001, 0.9990000000000001, 0.986, 1.0, 0.982, 0.998, 0.064, 0.97, 0.998, 0.98, 0.975, 0.982, 0.9590000000000001, 0.996, 0.9940000000000001, 0.715, 0.997, 0.998, 0.998, 0.9940000000000001, 0.983, 0.982, 1.0, 0.982, 0.5539999999999999, 1.0, 0.513, 0.561, 0.98, 0.852, 0.9990000000000001, 0.993, 0.997, 0.996, 0.626, 0.158, 0.94, 0.971, 0.99, 0.991, 0.983, 0.9129999999999999, 0.39, 0.772, 0.711, 0.998, 1.0, 0.9890000000000001, 0.993, 1.0, 0.96, 0.58, 0.987, 0.997, 0.995, 0.9990000000000001, 0.912, 1.0, 1.0, 1.0, 0.9, 0.897, 0.7509999999999999, 0.434, 0.98, 0.997, 0.83, 0.985, 0.9990000000000001, 1.0, 0.993, 0.995, 1.0, 0.998, 0.9990000000000001, 0.991, 0.978, 0.9940000000000001, 0.986, 0.9440000000000001, 1.0, 1.0, 1.0, 0.893, 0.75, 0.523, 0.9990000000000001, 0.94, 0.986, 0.997, 0.9940000000000001, 0.318, 0.43799999999999994, 0.988, 0.775, 0.998, 0.975, 0.9640000000000001, 0.8340000000000001, 0.985, 0.551, 0.9990000000000001, 0.9990000000000001, 0.993, 0.9990000000000001, 0.988, 0.99, 0.8, 0.742, 0.872, 0.998, 0.057, 0.972, 0.998, 0.9790000000000001, 0.983, 0.982, 1.0, 0.38, 0.9670000000000001, 0.996, 0.99, 0.973, 0.997, 0.998, 0.9670000000000001, 0.998, 0.9940000000000001, 0.897, 0.986, 0.9790000000000001, 0.146, 1.0, 0.5539999999999999, 1.0, 0.561, 0.981, 0.9159999999999999, 0.997, 0.992, 0.8270000000000001, 0.995, 0.992, 0.9990000000000001, 0.94, 0.991, 0.992, 0.98, 0.31, 0.97, 0.9109999999999999, 0.875, 0.9990000000000001, 1.0, 0.981, 0.9940000000000001, 0.386, 0.96, 0.519, 0.997, 0.99, 0.4, 0.997, 0.995, 0.9990000000000001, 1.0, 1.0, 1.0, 0.8240000000000001, 0.434, 0.961, 0.997, 0.998, 0.9940000000000001, 0.9990000000000001, 1.0, 0.92, 0.18899999999999997, 0.99, 0.9520000000000001, 0.9990000000000001, 0.9940000000000001, 0.997, 0.993, 0.986, 0.8859999999999999, 0.99, 0.975, 0.201, 1.0, 0.9990000000000001, 0.9420000000000001, 0.74, 0.5710000000000001, 0.9940000000000001, 0.993, 0.97, 0.997, 0.9940000000000001, 0.535, 0.43799999999999994, 0.45899999999999996, 0.988, 0.764, 0.414, 0.998, 0.978, 0.971, 0.986, 0.568, 0.9990000000000001, 0.9990000000000001, 0.985, 0.9990000000000001, 0.987, 0.784, 0.955, 0.826, 0.8959999999999999, 0.998, 0.993, 0.998, 0.983, 0.521, 0.988, 0.9840000000000001, 0.49700000000000005, 0.31, 0.966, 0.261, 0.6629999999999999, 0.997, 0.9890000000000001, 0.466, 0.885, 0.997, 0.998, 0.945, 0.998, 0.998, 0.987, 0.976, 0.18899999999999997, 1.0, 1.0, 0.536, 0.9840000000000001, 0.9420000000000001, 0.49, 0.988, 0.934, 0.88, 0.996, 0.872, 0.187, 0.9790000000000001, 0.177, 0.978, 0.992, 0.98, 0.56, 1.0, 0.966, 0.91, 0.53, 0.905, 0.71, 0.9940000000000001, 1.0, 0.982, 0.995, 0.807, 0.96, 0.889, 0.99, 0.997, 0.995, 0.9990000000000001, 0.094, 0.09699999999999999, 0.9790000000000001, 0.28800000000000003, 0.865, 1.0, 0.915, 0.7829999999999999, 0.9690000000000001, 0.524, 0.98, 0.9690000000000001, 0.946, 0.995, 0.419, 0.9990000000000001, 0.9940000000000001, 0.9990000000000001, 0.9990000000000001, 0.929, 0.838, 0.35700000000000004, 0.685, 0.467, 1.0, 0.9940000000000001, 0.9990000000000001, 0.992, 0.985, 0.93, 0.99, 0.9740000000000001, 0.18, 1.0, 0.9990000000000001, 0.946, 0.536, 0.9990000000000001, 0.946, 0.986, 0.9990000000000001, 0.996, 1.0, 0.7440000000000001, 0.997, 0.9840000000000001, 0.978, 0.644, 0.987, 0.9990000000000001, 0.9990000000000001, 0.983, 0.9990000000000001, 0.978, 0.94, 0.978, 0.841, 0.9309999999999999, 0.9940000000000001, 0.69, 0.99, 0.998, 0.981, 0.9940000000000001, 0.9840000000000001, 0.552, 0.988, 0.461, 0.809, 0.996, 0.9890000000000001, 0.73, 0.797, 0.997, 0.996, 0.998, 0.991, 0.995, 0.987, 0.9840000000000001, 0.9940000000000001, 0.46299999999999997, 0.983, 1.0, 0.986, 0.963, 0.998, 0.862, 0.5710000000000001, 0.937, 0.996, 1.0, 0.639, 0.8140000000000001, 0.9740000000000001, 0.9570000000000001, 0.737, 0.996, 0.991, 0.99, 0.38799999999999996, 1.0, 0.915, 0.9940000000000001, 1.0, 0.988, 0.996, 0.97, 0.998, 1.0, 0.997, 0.992, 0.9990000000000001, 0.855, 0.986, 1.0, 1.0, 1.0, 0.884, 0.98, 0.893, 0.9309999999999999, 0.987, 0.993, 0.986, 1.0, 0.74, 0.452, 0.24, 1.0, 0.948, 0.9990000000000001, 0.991, 0.986, 0.98, 0.99, 0.975, 1.0, 0.9990000000000001, 0.9490000000000001, 0.6629999999999999, 0.711, 0.9990000000000001, 0.983, 0.988, 0.997, 0.996, 0.987, 0.746, 0.43700000000000006, 0.998, 0.991, 0.981, 0.991, 0.9990000000000001, 0.9990000000000001, 0.972, 0.9990000000000001, 1.0, 0.858, 0.789, 0.95, 0.993, 0.988, 0.998, 0.98, 0.996, 0.985, 0.547, 0.96, 0.995, 0.987, 0.523, 0.7490000000000001, 0.998, 0.998, 0.983, 0.998, 0.998, 0.65, 0.987, 0.985, 0.991, 0.998, 1.0, 0.68, 0.986, 0.983, 0.9990000000000001, 0.995, 0.9, 0.995, 0.9940000000000001, 0.9990000000000001, 0.5529999999999999, 0.9670000000000001, 0.344, 0.997, 0.992, 0.986, 0.38, 1.0, 0.9179999999999999, 0.872, 0.794, 0.622, 0.9940000000000001, 1.0, 0.987, 0.996, 0.521, 0.97, 0.997, 1.0, 0.424, 0.998, 0.995, 0.9990000000000001, 0.943, 1.0, 1.0, 0.992, 0.85, 0.97, 0.995, 0.9129999999999999, 0.9990000000000001, 1.0, 0.993, 0.996, 1.0, 0.993, 1.0, 0.9790000000000001, 1.0, 0.991, 0.986, 0.998, 0.9940000000000001, 0.244, 0.9990000000000001, 0.935, 0.66, 0.9990000000000001, 0.995, 0.9890000000000001, 0.9990000000000001, 0.996, 0.986, 0.7559999999999999, 0.43700000000000006, 0.998, 0.993, 0.986, 0.991, 0.9990000000000001, 0.9990000000000001, 0.983, 0.996, 0.987, 1.0, 0.877, 0.975, 0.992, 0.998, 0.998, 0.9790000000000001, 0.9990000000000001, 0.983, 1.0, 0.515, 0.8740000000000001, 0.996, 0.988, 0.977, 0.998, 0.998, 0.983, 0.998, 0.9940000000000001, 0.43799999999999994, 0.7979999999999999, 0.987, 0.985, 0.9890000000000001, 0.615, 1.0, 0.9990000000000001, 0.439, 0.986, 0.948, 0.998, 0.865, 0.9940000000000001, 0.953, 1.0, 0.997, 0.995, 0.9670000000000001, 1.0, 0.998, 0.992, 0.986, 0.41, 0.993, 0.8859999999999999, 0.938, 0.825, 0.997, 1.0, 0.985, 0.997, 0.8079999999999999, 0.8170000000000001, 0.97, 0.998, 0.99, 0.997, 0.995, 0.9990000000000001, 0.9990000000000001, 1.0, 0.9890000000000001, 0.9620000000000001, 0.871, 0.9940000000000001, 0.981, 0.95, 0.9990000000000001, 0.993, 0.997, 1.0, 0.602, 0.34299999999999997, 1.0, 0.95, 0.995, 0.991, 0.985, 0.9940000000000001, 0.99, 0.993, 0.265, 0.9990000000000001, 0.94, 0.645, 0.9990000000000001, 0.991, 0.9890000000000001, 0.998, 0.995, 0.659, 0.603, 0.71, 0.985, 0.985, 0.4, 0.166, 0.998, 0.996, 0.948, 0.742, 0.953, 0.9990000000000001, 0.9990000000000001, 0.986, 0.9990000000000001, 0.985, 0.9690000000000001, 0.892, 0.98, 0.341, 0.993, 0.82, 0.997, 0.998, 0.975, 0.561, 0.996, 0.983, 0.523, 0.43, 0.991, 0.982, 0.8220000000000001, 0.9640000000000001, 0.998, 0.9990000000000001, 0.998, 1.0, 0.983, 0.986, 0.983, 0.37, 0.988, 0.9990000000000001, 1.0, 0.7140000000000001, 0.986, 0.982, 0.281, 0.998, 0.99, 0.995, 0.941, 0.992, 0.9840000000000001, 0.741, 0.706, 0.9620000000000001, 0.74, 0.9990000000000001, 0.991, 0.986, 1.0, 0.99, 0.927, 0.956, 0.838, 0.998, 1.0, 0.985, 0.997, 0.69, 0.97, 0.997, 0.99, 0.608, 0.997, 0.992, 0.9990000000000001, 0.19399999999999998, 1.0, 0.985, 0.983, 0.7240000000000001, 0.9, 0.877, 0.489, 0.293, 0.439, 0.9840000000000001, 0.9990000000000001, 0.992, 0.998, 1.0, 0.386, 0.971, 1.0, 0.991, 0.986, 0.972, 0.99, 0.996, 0.317, 1.0, 0.998, 0.951, 0.7, 0.84, 0.9990000000000001, 0.998, 0.99, 0.997, 0.71, 0.561, 0.9990000000000001, 0.987, 0.998, 0.997, 0.992, 0.9840000000000001, 0.9990000000000001, 0.9990000000000001, 0.983, 0.9990000000000001, 0.985, 1.0, 0.987, 0.9109999999999999, 0.99, 0.6829999999999999, 0.9940000000000001, 0.1, 0.996, 0.997, 0.9620000000000001, 0.998, 0.983, 0.672, 1.0, 0.99, 0.9790000000000001, 0.985, 0.909, 0.998, 0.9990000000000001, 0.991, 0.998, 0.9990000000000001, 0.988, 0.986, 0.986, 0.9990000000000001, 1.0, 0.986, 0.988, 0.998, 0.9009999999999999, 0.6509999999999999, 0.9940000000000001, 0.736, 0.5429999999999999, 0.36, 0.9670000000000001, 0.473, 0.912, 0.992, 0.986, 0.43, 1.0, 0.935, 0.958, 0.85, 0.722, 0.998, 1.0, 0.985, 0.987, 0.69, 0.6509999999999999, 0.99, 0.99, 0.997, 0.99, 0.9990000000000001, 1.0, 0.988, 0.89, 0.98, 0.574, 0.9990000000000001, 0.993, 0.995, 1.0, 0.981, 0.919, 0.662, 0.39899999999999997, 1.0, 0.982, 1.0, 0.985, 0.998, 0.998, 0.9890000000000001, 1.0, 0.809, 0.746, 0.848, 0.9990000000000001, 0.998, 0.99, 0.998, 0.784, 0.74, 0.981, 0.998, 0.998, 0.987, 0.8220000000000001, 0.925, 0.9890000000000001, 0.594, 0.9990000000000001, 0.9990000000000001, 0.987, 0.9990000000000001, 0.982, 0.8740000000000001, 1.0, 0.988, 0.9309999999999999, 0.995, 0.993, 0.993, 0.998, 0.971, 0.893, 0.998, 0.985, 0.99, 0.45299999999999996, 0.373, 0.828, 0.99, 0.978, 0.831, 0.988, 0.7040000000000001, 0.998, 0.998, 0.996, 1.0, 0.988, 0.991, 0.401, 0.986, 0.9990000000000001, 1.0, 0.987, 0.955, 0.995, 0.995, 0.996, 0.992, 0.88, 0.293, 0.9990000000000001, 0.992, 0.986, 0.51, 0.9740000000000001, 0.943, 0.9570000000000001, 0.867, 0.998, 1.0, 0.995, 0.997, 0.99, 0.99, 0.997, 0.995, 0.998, 0.998, 1.0, 0.987, 0.992, 0.8740000000000001, 0.614, 0.996, 0.955, 1.0, 0.736, 0.99, 0.993, 0.995, 1.0, 0.96, 0.344, 0.966, 1.0, 0.97, 1.0, 0.993, 0.985, 0.9990000000000001, 0.98, 0.998, 0.435, 0.986, 0.998, 0.9420000000000001, 0.89, 0.9990000000000001, 0.991, 0.997, 0.997, 0.98, 0.9229999999999999, 0.998, 0.9990000000000001, 0.987, 0.99, 0.9990000000000001, 0.9990000000000001, 0.9990000000000001, 0.998, 0.963, 1.0, 0.986, 0.9470000000000001, 0.998, 0.9940000000000001, 0.231, 0.997, 0.983, 0.5720000000000001, 0.9990000000000001, 0.985, 0.99, 0.628, 0.486, 0.991, 0.981, 0.8740000000000001, 0.988, 0.998, 0.9990000000000001, 1.0, 0.987, 0.99, 0.9840000000000001, 0.611, 0.9990000000000001, 1.0, 0.44299999999999995, 0.988, 0.956, 0.586, 0.9990000000000001, 0.998, 0.9890000000000001, 0.99, 0.882, 0.35200000000000004, 0.9990000000000001, 0.991, 0.986, 0.521, 0.991, 0.914, 0.8909999999999999, 0.728, 0.998, 0.99, 0.985, 0.997, 0.98, 0.505, 0.9990000000000001, 0.597, 0.996, 0.986, 1.0, 0.99, 0.9079999999999999, 0.996, 1.0, 0.9990000000000001, 0.9990000000000001, 0.992, 0.982, 1.0, 0.894, 0.992, 0.447, 0.452, 1.0, 0.996, 1.0, 0.997, 0.985, 0.9990000000000001, 0.996, 0.998, 0.42100000000000004, 0.997, 0.998, 0.772, 0.89, 0.9990000000000001, 0.995, 0.991, 0.9990000000000001, 0.997, 0.89, 0.647, 0.9790000000000001, 0.956, 0.998, 0.9990000000000001, 0.9890000000000001, 0.8009999999999999, 0.991, 0.9990000000000001, 0.9940000000000001, 0.9740000000000001, 0.9590000000000001, 1.0, 0.976, 0.963, 0.915, 0.977, 0.9940000000000001, 0.883, 0.155, 0.997, 0.997, 0.983, 0.9990000000000001, 0.985, 0.708, 0.99, 0.45, 0.857, 0.992, 0.978, 0.8109999999999999, 0.99, 0.997, 0.9990000000000001, 0.998, 1.0, 0.618, 0.987, 0.9840000000000001, 0.981, 0.779, 1.0, 0.8740000000000001, 0.9890000000000001, 0.956, 0.9990000000000001, 0.998, 0.956, 0.997, 0.9890000000000001, 0.556, 0.966, 0.9990000000000001, 0.991, 0.991, 1.0, 0.996, 0.9390000000000001, 0.9640000000000001, 0.9079999999999999, 0.998, 0.9890000000000001, 1.0, 0.985, 0.997, 0.825, 0.925, 0.591, 0.9840000000000001, 0.997, 0.985, 1.0, 1.0, 0.99, 0.775, 0.903, 0.446, 1.0, 0.9740000000000001, 0.9990000000000001, 0.9990000000000001, 0.985, 0.9990000000000001, 1.0, 0.995, 0.938, 0.633, 0.8, 0.505, 0.996, 0.997, 0.985, 0.998, 0.997, 0.99, 0.89, 0.9990000000000001, 0.997, 0.992, 1.0, 0.998, 0.7979999999999999, 0.914, 0.20199999999999999, 0.997, 0.9990000000000001, 0.9590000000000001, 0.9440000000000001, 0.9, 0.9990000000000001, 0.9990000000000001, 0.9540000000000001, 0.96, 0.996, 0.95, 0.9990000000000001, 0.995, 0.9990000000000001, 0.9990000000000001, 0.977, 0.9990000000000001, 0.987, 0.655, 0.982, 0.997, 0.9990000000000001, 0.9940000000000001, 0.9990000000000001, 0.9990000000000001, 0.9940000000000001, 0.43700000000000006, 0.998, 0.693, 0.998, 0.977, 0.963, 0.397, 1.0, 0.991, 1.0, 0.95, 0.963, 0.9159999999999999, 0.998, 0.9890000000000001, 1.0, 0.9520000000000001, 0.907, 0.532, 0.996, 0.862, 1.0, 0.8, 0.98, 1.0, 0.9990000000000001, 0.991, 1.0, 0.973, 0.7809999999999999], \"yaxis\": \"y\"}],                        {\"legend\": {\"tracegroupgap\": 0}, \"plot_bgcolor\": \"white\", \"template\": {\"data\": {\"bar\": [{\"error_x\": {\"color\": \"#2a3f5f\"}, \"error_y\": {\"color\": \"#2a3f5f\"}, \"marker\": {\"line\": {\"color\": \"#E5ECF6\", \"width\": 0.5}}, \"type\": \"bar\"}], \"barpolar\": [{\"marker\": {\"line\": {\"color\": \"#E5ECF6\", \"width\": 0.5}}, \"type\": \"barpolar\"}], \"carpet\": [{\"aaxis\": {\"endlinecolor\": \"#2a3f5f\", \"gridcolor\": \"white\", \"linecolor\": \"white\", \"minorgridcolor\": \"white\", \"startlinecolor\": \"#2a3f5f\"}, \"baxis\": {\"endlinecolor\": \"#2a3f5f\", \"gridcolor\": \"white\", \"linecolor\": \"white\", \"minorgridcolor\": \"white\", \"startlinecolor\": \"#2a3f5f\"}, \"type\": \"carpet\"}], \"choropleth\": [{\"colorbar\": {\"outlinewidth\": 0, \"ticks\": \"\"}, \"type\": \"choropleth\"}], \"contour\": [{\"colorbar\": {\"outlinewidth\": 0, \"ticks\": \"\"}, \"colorscale\": [[0.0, \"#0d0887\"], [0.1111111111111111, \"#46039f\"], [0.2222222222222222, \"#7201a8\"], [0.3333333333333333, \"#9c179e\"], [0.4444444444444444, \"#bd3786\"], [0.5555555555555556, \"#d8576b\"], [0.6666666666666666, \"#ed7953\"], [0.7777777777777778, \"#fb9f3a\"], [0.8888888888888888, \"#fdca26\"], [1.0, \"#f0f921\"]], \"type\": \"contour\"}], \"contourcarpet\": [{\"colorbar\": {\"outlinewidth\": 0, \"ticks\": \"\"}, \"type\": \"contourcarpet\"}], \"heatmap\": [{\"colorbar\": {\"outlinewidth\": 0, \"ticks\": \"\"}, \"colorscale\": [[0.0, \"#0d0887\"], [0.1111111111111111, \"#46039f\"], [0.2222222222222222, \"#7201a8\"], [0.3333333333333333, \"#9c179e\"], [0.4444444444444444, \"#bd3786\"], [0.5555555555555556, \"#d8576b\"], [0.6666666666666666, \"#ed7953\"], [0.7777777777777778, \"#fb9f3a\"], [0.8888888888888888, \"#fdca26\"], [1.0, \"#f0f921\"]], \"type\": \"heatmap\"}], \"heatmapgl\": [{\"colorbar\": {\"outlinewidth\": 0, \"ticks\": \"\"}, \"colorscale\": [[0.0, \"#0d0887\"], [0.1111111111111111, \"#46039f\"], [0.2222222222222222, \"#7201a8\"], [0.3333333333333333, \"#9c179e\"], [0.4444444444444444, \"#bd3786\"], [0.5555555555555556, \"#d8576b\"], [0.6666666666666666, \"#ed7953\"], [0.7777777777777778, \"#fb9f3a\"], [0.8888888888888888, \"#fdca26\"], [1.0, \"#f0f921\"]], \"type\": \"heatmapgl\"}], \"histogram\": [{\"marker\": {\"colorbar\": {\"outlinewidth\": 0, \"ticks\": \"\"}}, \"type\": \"histogram\"}], \"histogram2d\": [{\"colorbar\": {\"outlinewidth\": 0, \"ticks\": \"\"}, \"colorscale\": [[0.0, \"#0d0887\"], [0.1111111111111111, \"#46039f\"], [0.2222222222222222, \"#7201a8\"], [0.3333333333333333, \"#9c179e\"], [0.4444444444444444, \"#bd3786\"], [0.5555555555555556, \"#d8576b\"], [0.6666666666666666, \"#ed7953\"], [0.7777777777777778, \"#fb9f3a\"], [0.8888888888888888, \"#fdca26\"], [1.0, \"#f0f921\"]], \"type\": \"histogram2d\"}], \"histogram2dcontour\": [{\"colorbar\": {\"outlinewidth\": 0, \"ticks\": \"\"}, \"colorscale\": [[0.0, \"#0d0887\"], [0.1111111111111111, \"#46039f\"], [0.2222222222222222, \"#7201a8\"], [0.3333333333333333, \"#9c179e\"], [0.4444444444444444, \"#bd3786\"], [0.5555555555555556, \"#d8576b\"], [0.6666666666666666, \"#ed7953\"], [0.7777777777777778, \"#fb9f3a\"], [0.8888888888888888, \"#fdca26\"], [1.0, \"#f0f921\"]], \"type\": \"histogram2dcontour\"}], \"mesh3d\": [{\"colorbar\": {\"outlinewidth\": 0, \"ticks\": \"\"}, \"type\": \"mesh3d\"}], \"parcoords\": [{\"line\": {\"colorbar\": {\"outlinewidth\": 0, \"ticks\": \"\"}}, \"type\": \"parcoords\"}], \"pie\": [{\"automargin\": true, \"type\": \"pie\"}], \"scatter\": [{\"marker\": {\"colorbar\": {\"outlinewidth\": 0, \"ticks\": \"\"}}, \"type\": \"scatter\"}], \"scatter3d\": [{\"line\": {\"colorbar\": {\"outlinewidth\": 0, \"ticks\": \"\"}}, \"marker\": {\"colorbar\": {\"outlinewidth\": 0, \"ticks\": \"\"}}, \"type\": \"scatter3d\"}], \"scattercarpet\": [{\"marker\": {\"colorbar\": {\"outlinewidth\": 0, \"ticks\": \"\"}}, \"type\": \"scattercarpet\"}], \"scattergeo\": [{\"marker\": {\"colorbar\": {\"outlinewidth\": 0, \"ticks\": \"\"}}, \"type\": \"scattergeo\"}], \"scattergl\": [{\"marker\": {\"colorbar\": {\"outlinewidth\": 0, \"ticks\": \"\"}}, \"type\": \"scattergl\"}], \"scattermapbox\": [{\"marker\": {\"colorbar\": {\"outlinewidth\": 0, \"ticks\": \"\"}}, \"type\": \"scattermapbox\"}], \"scatterpolar\": [{\"marker\": {\"colorbar\": {\"outlinewidth\": 0, \"ticks\": \"\"}}, \"type\": \"scatterpolar\"}], \"scatterpolargl\": [{\"marker\": {\"colorbar\": {\"outlinewidth\": 0, \"ticks\": \"\"}}, \"type\": \"scatterpolargl\"}], \"scatterternary\": [{\"marker\": {\"colorbar\": {\"outlinewidth\": 0, \"ticks\": \"\"}}, \"type\": \"scatterternary\"}], \"surface\": [{\"colorbar\": {\"outlinewidth\": 0, \"ticks\": \"\"}, \"colorscale\": [[0.0, \"#0d0887\"], [0.1111111111111111, \"#46039f\"], [0.2222222222222222, \"#7201a8\"], [0.3333333333333333, \"#9c179e\"], [0.4444444444444444, \"#bd3786\"], [0.5555555555555556, \"#d8576b\"], [0.6666666666666666, \"#ed7953\"], [0.7777777777777778, \"#fb9f3a\"], [0.8888888888888888, \"#fdca26\"], [1.0, \"#f0f921\"]], \"type\": \"surface\"}], \"table\": [{\"cells\": {\"fill\": {\"color\": \"#EBF0F8\"}, \"line\": {\"color\": \"white\"}}, \"header\": {\"fill\": {\"color\": \"#C8D4E3\"}, \"line\": {\"color\": \"white\"}}, \"type\": \"table\"}]}, \"layout\": {\"annotationdefaults\": {\"arrowcolor\": \"#2a3f5f\", \"arrowhead\": 0, \"arrowwidth\": 1}, \"coloraxis\": {\"colorbar\": {\"outlinewidth\": 0, \"ticks\": \"\"}}, \"colorscale\": {\"diverging\": [[0, \"#8e0152\"], [0.1, \"#c51b7d\"], [0.2, \"#de77ae\"], [0.3, \"#f1b6da\"], [0.4, \"#fde0ef\"], [0.5, \"#f7f7f7\"], [0.6, \"#e6f5d0\"], [0.7, \"#b8e186\"], [0.8, \"#7fbc41\"], [0.9, \"#4d9221\"], [1, \"#276419\"]], \"sequential\": [[0.0, \"#0d0887\"], [0.1111111111111111, \"#46039f\"], [0.2222222222222222, \"#7201a8\"], [0.3333333333333333, \"#9c179e\"], [0.4444444444444444, \"#bd3786\"], [0.5555555555555556, \"#d8576b\"], [0.6666666666666666, \"#ed7953\"], [0.7777777777777778, \"#fb9f3a\"], [0.8888888888888888, \"#fdca26\"], [1.0, \"#f0f921\"]], \"sequentialminus\": [[0.0, \"#0d0887\"], [0.1111111111111111, \"#46039f\"], [0.2222222222222222, \"#7201a8\"], [0.3333333333333333, \"#9c179e\"], [0.4444444444444444, \"#bd3786\"], [0.5555555555555556, \"#d8576b\"], [0.6666666666666666, \"#ed7953\"], [0.7777777777777778, \"#fb9f3a\"], [0.8888888888888888, \"#fdca26\"], [1.0, \"#f0f921\"]]}, \"colorway\": [\"#636efa\", \"#EF553B\", \"#00cc96\", \"#ab63fa\", \"#FFA15A\", \"#19d3f3\", \"#FF6692\", \"#B6E880\", \"#FF97FF\", \"#FECB52\"], \"font\": {\"color\": \"#2a3f5f\"}, \"geo\": {\"bgcolor\": \"white\", \"lakecolor\": \"white\", \"landcolor\": \"#E5ECF6\", \"showlakes\": true, \"showland\": true, \"subunitcolor\": \"white\"}, \"hoverlabel\": {\"align\": \"left\"}, \"hovermode\": \"closest\", \"mapbox\": {\"style\": \"light\"}, \"paper_bgcolor\": \"white\", \"plot_bgcolor\": \"#E5ECF6\", \"polar\": {\"angularaxis\": {\"gridcolor\": \"white\", \"linecolor\": \"white\", \"ticks\": \"\"}, \"bgcolor\": \"#E5ECF6\", \"radialaxis\": {\"gridcolor\": \"white\", \"linecolor\": \"white\", \"ticks\": \"\"}}, \"scene\": {\"xaxis\": {\"backgroundcolor\": \"#E5ECF6\", \"gridcolor\": \"white\", \"gridwidth\": 2, \"linecolor\": \"white\", \"showbackground\": true, \"ticks\": \"\", \"zerolinecolor\": \"white\"}, \"yaxis\": {\"backgroundcolor\": \"#E5ECF6\", \"gridcolor\": \"white\", \"gridwidth\": 2, \"linecolor\": \"white\", \"showbackground\": true, \"ticks\": \"\", \"zerolinecolor\": \"white\"}, \"zaxis\": {\"backgroundcolor\": \"#E5ECF6\", \"gridcolor\": \"white\", \"gridwidth\": 2, \"linecolor\": \"white\", \"showbackground\": true, \"ticks\": \"\", \"zerolinecolor\": \"white\"}}, \"shapedefaults\": {\"line\": {\"color\": \"#2a3f5f\"}}, \"ternary\": {\"aaxis\": {\"gridcolor\": \"white\", \"linecolor\": \"white\", \"ticks\": \"\"}, \"baxis\": {\"gridcolor\": \"white\", \"linecolor\": \"white\", \"ticks\": \"\"}, \"bgcolor\": \"#E5ECF6\", \"caxis\": {\"gridcolor\": \"white\", \"linecolor\": \"white\", \"ticks\": \"\"}}, \"title\": {\"x\": 0.05}, \"xaxis\": {\"automargin\": true, \"gridcolor\": \"white\", \"linecolor\": \"white\", \"ticks\": \"\", \"title\": {\"standoff\": 15}, \"zerolinecolor\": \"white\", \"zerolinewidth\": 2}, \"yaxis\": {\"automargin\": true, \"gridcolor\": \"white\", \"linecolor\": \"white\", \"ticks\": \"\", \"title\": {\"standoff\": 15}, \"zerolinecolor\": \"white\", \"zerolinewidth\": 2}}}, \"title\": {\"text\": \"Relationship between Maternal Mortality and Professional health Assistance at Birth\"}, \"xaxis\": {\"anchor\": \"y\", \"domain\": [0.0, 1.0], \"title\": {\"text\": \"Avg Maternal Mortality Rate\"}}, \"yaxis\": {\"anchor\": \"x\", \"domain\": [0.0, 1.0], \"title\": {\"text\": \"% births with professional health assistance (0 to 1)\"}}},                        {\"responsive\": true}                    ).then(function(){\n",
       "                            \n",
       "var gd = document.getElementById('f4211e6f-9dca-4d32-bb33-a4842644453b');\n",
       "var x = new MutationObserver(function (mutations, observer) {{\n",
       "        var display = window.getComputedStyle(gd).display;\n",
       "        if (!display || display === 'none') {{\n",
       "            console.log([gd, 'removed!']);\n",
       "            Plotly.purge(gd);\n",
       "            observer.disconnect();\n",
       "        }}\n",
       "}});\n",
       "\n",
       "// Listen for the removal of the full notebook cells\n",
       "var notebookContainer = gd.closest('#notebook-container');\n",
       "if (notebookContainer) {{\n",
       "    x.observe(notebookContainer, {childList: true});\n",
       "}}\n",
       "\n",
       "// Listen for the clearing of the current output cell\n",
       "var outputEl = gd.closest('.output');\n",
       "if (outputEl) {{\n",
       "    x.observe(outputEl, {childList: true});\n",
       "}}\n",
       "\n",
       "                        })                };                });            </script>        </div>"
      ]
     },
     "metadata": {},
     "output_type": "display_data"
    }
   ],
   "source": [
    "# Plot relationship between mother deaths and assistance\n",
    "graph = px.scatter(final_combined, x = \"Maternal Mortality\", y = \"Skilled assistance\", title=\"Relationship between Maternal Mortality and Professional health Assistance at Birth\", opacity = 0.4, labels={\n",
    "                     \"Maternal Mortality\": \"Avg Maternal Mortality Rate\",\n",
    "                     \"Skilled assistance\": \"% births with professional health assistance (0 to 1)\"\n",
    "                 }) \n",
    "graph.update_layout(plot_bgcolor='white')\n",
    "graph.show()"
   ]
  },
  {
   "cell_type": "code",
   "execution_count": 191,
   "metadata": {},
   "outputs": [
    {
     "data": {
      "application/vnd.plotly.v1+json": {
       "config": {
        "plotlyServerURL": "https://plot.ly"
       },
       "data": [
        {
         "hovertemplate": "Avg Newborn Mortality Rate=%{x}<br>% births with professional health assistance (0 to 1)=%{y}<extra></extra>",
         "legendgroup": "",
         "marker": {
          "color": "#636efa",
          "opacity": 0.4,
          "symbol": "circle"
         },
         "mode": "markers",
         "name": "",
         "showlegend": false,
         "type": "scattergl",
         "x": [
          13.4,
          15.4,
          23,
          35.9,
          14,
          9.3,
          11.3,
          11.6,
          29.7,
          17.9,
          8.1,
          6.7,
          5.6,
          10.3,
          17,
          3.9,
          50.7,
          24.7,
          13.6,
          3.5,
          30.3,
          2.5,
          20.2,
          22.3,
          36.1,
          25.2,
          12,
          9.5,
          9,
          14.6,
          20.6,
          18.6,
          50.4,
          17.3,
          4,
          19.3,
          22.7,
          11.1,
          11.3,
          13.5,
          14,
          16.7,
          22.3,
          11.3,
          12.5,
          5.7,
          16,
          2.7,
          40.7,
          10.1,
          30,
          12.1,
          8.2,
          5.8,
          12.2,
          16.3,
          13.2,
          22.5,
          4.4,
          36.2,
          9.2,
          18.2,
          11.1,
          23.3,
          6.2,
          11.9,
          40.5,
          4.3,
          29.7,
          8,
          6.4,
          5.5,
          9.7,
          24.2,
          32,
          16.5,
          24.7,
          12.8,
          3.3,
          29.6,
          22.3,
          25.5,
          13.7,
          11.1,
          45.2,
          14.1,
          18.9,
          46,
          56.2,
          16.4,
          3.8,
          65.4,
          10.7,
          10.6,
          13.4,
          14,
          12,
          5.3,
          2.5,
          32.3,
          9.7,
          12,
          5.6,
          11.9,
          13,
          22,
          14.7,
          21.9,
          4.2,
          36.6,
          9.3,
          6,
          12.1,
          4.2,
          29.4,
          8.8,
          7.8,
          6.2,
          5.3,
          8.9,
          30.7,
          12.8,
          3.6,
          24.6,
          60.5,
          20.1,
          11.9,
          3.1,
          28.9,
          22.4,
          25.6,
          15,
          12.5,
          39.1,
          45.7,
          13.9,
          19.6,
          34.7,
          26.1,
          52.7,
          15.6,
          3.6,
          16.6,
          25.9,
          10.5,
          9.9,
          13.3,
          14,
          42,
          11.5,
          4.9,
          38.1,
          12.1,
          5.4,
          11.6,
          42.3,
          35.1,
          12.9,
          21.2,
          4,
          4,
          37,
          9.5,
          5.8,
          12.2,
          45,
          4.1,
          7.1,
          28.8,
          8.8,
          7.4,
          6,
          5.1,
          8.1,
          29.4,
          20.2,
          12.1,
          15.6,
          3.4,
          3.1,
          24.5,
          40.1,
          10.8,
          3,
          53.7,
          19.7,
          22.7,
          27.1,
          25.6,
          15.9,
          40.8,
          12.8,
          6.8,
          14,
          20.4,
          21.6,
          14.6,
          3.4,
          16.3,
          18.1,
          10.5,
          9.3,
          13.3,
          14.2,
          40,
          11,
          4.6,
          13.7,
          15.1,
          19.2,
          28.7,
          12.2,
          5.2,
          11.2,
          12.9,
          20.5,
          3.9,
          37.3,
          54,
          9.6,
          39.7,
          38.1,
          5.6,
          12.2,
          4.1,
          6.8,
          28,
          51.1,
          6.9,
          5.9,
          4.8,
          7.3,
          21.2,
          48.1,
          11.3,
          22.5,
          15.2,
          3.2,
          39.6,
          9.9,
          2.8,
          27.4,
          22.9,
          33.1,
          25.5,
          16.2,
          40.8,
          11.3,
          37.7,
          14.4,
          21.4,
          3.6,
          13.6,
          3.2,
          16.1,
          10.4,
          13.2,
          14.3,
          10.5,
          4.3,
          14.8,
          18.8,
          2.1,
          32.8,
          19,
          12.4,
          5.1,
          10.8,
          14,
          20.4,
          12.7,
          11.7,
          13.3,
          19.8,
          3.7,
          37.4,
          10.7,
          9.5,
          9.2,
          9.7,
          15.1,
          5.4,
          12.2,
          39.9,
          4.1,
          21.7,
          49.7,
          6.5,
          26.9,
          15.9,
          6.4,
          5.6,
          4.5,
          6.5,
          10.9,
          26.9,
          30.4,
          10.3,
          14.9,
          3.1,
          9.3,
          24.6,
          61.6,
          28.8,
          33.6,
          9.1,
          2.7,
          26.5,
          2.2,
          22.8,
          25.1,
          15.9,
          17.9,
          9.3,
          7.1,
          15,
          22.3,
          32.1,
          3.5,
          12.6,
          3.1,
          11,
          17,
          15.9,
          30.9,
          9.7,
          8.3,
          13.1,
          14.3,
          16,
          12.2,
          9.5,
          9.9,
          4,
          18.4,
          14.3,
          11.2,
          12.9,
          21,
          32.5,
          18.9,
          24.1,
          34.6,
          12.6,
          6.6,
          5,
          10.3,
          13.6,
          12.5,
          59.5,
          11.2,
          19.1,
          3.7,
          3.4,
          37.1,
          9.8,
          41.9,
          9,
          24.4,
          19.3,
          5.2,
          12.3,
          4,
          6.4,
          25.7,
          43.6,
          6,
          5.2,
          4.2,
          5.8,
          23.8,
          25.9,
          29.5,
          9.3,
          14.7,
          2.9,
          18.7,
          8.5,
          2.6,
          18.6,
          2.1,
          22.6,
          7.7,
          24.4,
          15.2,
          14.8,
          7.8,
          64.8,
          15.5,
          23,
          45.8,
          11.6,
          2.9,
          18.4,
          15.7,
          30.8,
          19.5,
          20.8,
          8.8,
          7.9,
          13.1,
          14.1,
          15.1,
          10.8,
          2.1,
          9.3,
          3.8,
          32.2,
          35.5,
          18.9,
          32.2,
          12.6,
          4.9,
          9.6,
          30.3,
          34.6,
          12.3,
          12,
          18.3,
          3.6,
          3.2,
          36.6,
          9.6,
          47.7,
          9.5,
          8.4,
          18.5,
          5.1,
          12.3,
          3.9,
          49.2,
          6.3,
          24.4,
          5.7,
          4.7,
          4,
          5.2,
          3.7,
          24.9,
          8.3,
          14.4,
          2.8,
          27.9,
          8.1,
          2.5,
          24.7,
          21.3,
          18.3,
          17.5,
          22.2,
          23.7,
          14,
          6.8,
          35.2,
          15.5,
          13.1,
          23.3,
          30.1,
          51.6,
          40.2,
          10.9,
          2.8,
          64.5,
          15.5,
          7.8,
          7.5,
          13.1,
          13.8,
          40.3,
          2,
          8.8,
          3.7,
          1.8,
          11,
          31.9,
          42.8,
          18.8,
          26.9,
          12.4,
          4.8,
          9.1,
          30,
          12.9,
          18.9,
          39.9,
          34.9,
          11.9,
          10.3,
          11.5,
          17.5,
          3.6,
          3.2,
          35.8,
          9.2,
          9,
          13.4,
          32.5,
          7.8,
          17.8,
          5,
          12.2,
          38.8,
          37.5,
          3.8,
          19.6,
          6.2,
          14.4,
          8.2,
          5.7,
          4.3,
          3.7,
          4.6,
          3.7,
          11.1,
          24,
          15.9,
          7.5,
          50.5,
          14.2,
          2.7,
          22.4,
          37.8,
          7.9,
          27.3,
          7.7,
          2.3,
          23.9,
          21.5,
          28.4,
          30.4,
          23.1,
          12.7,
          6.2,
          6.2,
          18.2,
          14.8,
          26.2,
          23.1,
          27.9,
          3.9,
          18.5,
          45.8,
          10.3,
          2.8,
          15.5,
          15.3,
          18.6,
          17,
          6.9,
          3.8,
          7.2,
          13.1,
          13.5,
          12.6,
          1.9,
          8.2,
          3.5,
          16.9,
          12.6,
          13.3,
          31.4,
          37.5,
          18.8,
          22.3,
          12.1,
          3.9,
          4.7,
          8.7,
          29.8,
          11.7,
          11.3,
          16.7,
          3.5,
          3.1,
          34.7,
          8.9,
          8.6,
          8.3,
          3.1,
          13,
          7.2,
          17,
          4.9,
          11.8,
          43,
          3.7,
          6,
          22.2,
          14,
          8,
          50.4,
          5.7,
          4.2,
          3.5,
          4.2,
          3.6,
          11.2,
          24.1,
          17.9,
          6.8,
          14.1,
          2.6,
          21.8,
          2.8,
          37.1,
          7.8,
          21.6,
          51.1,
          7.4,
          2.2,
          46.5,
          4.1,
          20.9,
          22.3,
          11.5,
          15.6,
          5.8,
          13.6,
          26,
          22.3,
          3.5,
          49.3,
          9.7,
          2.7,
          61.8,
          15,
          18.3,
          16.9,
          6.2,
          6.8,
          13.1,
          13.1,
          39.6,
          1.8,
          7.7,
          3.4,
          14.4,
          44.4,
          13.4,
          30.9,
          33.1,
          7.8,
          18.8,
          11.7,
          4.6,
          8.5,
          29.5,
          12.5,
          35,
          20.7,
          45.2,
          11.3,
          21,
          9.4,
          11.3,
          15.9,
          3.5,
          3.1,
          33.4,
          8.7,
          4.7,
          42.6,
          8.7,
          7.4,
          12.6,
          32.7,
          29.9,
          6.6,
          24,
          16,
          4.9,
          11.3,
          39.4,
          36.1,
          34.7,
          3.7,
          49,
          46.7,
          5.7,
          21.2,
          13.5,
          41.8,
          7.7,
          49.9,
          5.5,
          4.2,
          3.2,
          3.9,
          3.5,
          11.2,
          24.1,
          22.3,
          44.8,
          6.3,
          21.3,
          48.4,
          13.9,
          2.5,
          29.8,
          41.7,
          21,
          2.8,
          7.7,
          55.7,
          26,
          30.6,
          7,
          2.1,
          45.1,
          22.3,
          19.2,
          24.3,
          4,
          3.4,
          17,
          1.8,
          20.1,
          29.1,
          28.9,
          21.8,
          43.3,
          10.4,
          11.8,
          37.7,
          43.7,
          5.5,
          31.7,
          35.8,
          5.3,
          12.3,
          10.1,
          25.7,
          20.7,
          25.7,
          9,
          19.6,
          39.3,
          3.5,
          43.4,
          27.3,
          9.2,
          2.7,
          7.5,
          14.6,
          16.4,
          14.7,
          30.1,
          15.8,
          16.8,
          5.8,
          3.4,
          6.5,
          13.1,
          12.5,
          42.3,
          11.7,
          24.5,
          12.4,
          38.9,
          7.7,
          9.2,
          50.1,
          1.6,
          7.3,
          3.3,
          44.5,
          2.4,
          10.1,
          11.6,
          11.2,
          13.5,
          18.6,
          30.1,
          12.7,
          36,
          7.6,
          18.7,
          18.4,
          30.6,
          25.3,
          32.5,
          11.2,
          4.6,
          8.4,
          29,
          12.2,
          12,
          15.7,
          11,
          58.2,
          9,
          11.1,
          15.1,
          3.5,
          3.1,
          32.1,
          4.2,
          41,
          6.6,
          38.6,
          6.1,
          24.3,
          14.9,
          4.9,
          10.8,
          3.8,
          5.5,
          20.1,
          13.1,
          38.4,
          7.4,
          5.3,
          4.1,
          3.7,
          3.4,
          11.2,
          5.7,
          13.7,
          2.4,
          2.7,
          29.6,
          20,
          2.7,
          25.5,
          17.3,
          6.6,
          2,
          3.9,
          16.5,
          1.7,
          19.4,
          21.2,
          42.3,
          9.7,
          5.3,
          4.9,
          23.2,
          54.4,
          5,
          42.7,
          25.3,
          18.9,
          8.7,
          36.5,
          37.8,
          3.4,
          16.7,
          8.7,
          2.6,
          59,
          14.4,
          29.9,
          5.4,
          3.2,
          6.2,
          13,
          11.9,
          7.5,
          1.5,
          6.9,
          3.1,
          13.6,
          29.2,
          7.4,
          18.6,
          17.2,
          31.6,
          10.6,
          4.6,
          8.3,
          28.5,
          10.7,
          20.7,
          8.6,
          10.6,
          14.4,
          3.4,
          3,
          30.6,
          8.6,
          3.7,
          9.2,
          5.9,
          11.8,
          28.4,
          5.7,
          24.7,
          13.9,
          4.9,
          10.3,
          3.8,
          5.3,
          18.6,
          12.7,
          7.2,
          5,
          4,
          3.5,
          3.3,
          11.2,
          23.9,
          25.2,
          5.3,
          19.8,
          13.5,
          2.3,
          18.7,
          2.7,
          7.5,
          19.6,
          6.1,
          1.8,
          20.9,
          3.7,
          3.1,
          16,
          1.7,
          15.9,
          18.6,
          27.5,
          6.2,
          20.7,
          9.1,
          5.2,
          2.2,
          31.7,
          4.6,
          4.9,
          18.4,
          25,
          17.1,
          8.3,
          3.4,
          8.5,
          2.5,
          57.8,
          13.7,
          14,
          16.7,
          5.2,
          6,
          13,
          11.2,
          36.7,
          7.1,
          1.4,
          6.6,
          3,
          45.2,
          10.7,
          11.3,
          13.7,
          17.3,
          28.4,
          34.1,
          7.3,
          18.5,
          29.7,
          24.8,
          10.1,
          4.6,
          8.2,
          27.9,
          13.9,
          32.3,
          43.2,
          10.3,
          8.2,
          10,
          13.7,
          3.4,
          3,
          29.2,
          8.6,
          3.2,
          38.2,
          9.5,
          5.3,
          29.8,
          28,
          5.4,
          25.1,
          13,
          4.9,
          9.8,
          39.6,
          3.9,
          5.3,
          17.1,
          12.3,
          7.1,
          4.7,
          3.8,
          2.6,
          3.4,
          3.2,
          42.3,
          11.2,
          20.2,
          12.3,
          4.8,
          13.2,
          2.2,
          17.4,
          2.7,
          34.4,
          7.5,
          43.3,
          24.8,
          5.7,
          1.7,
          20.3,
          3.5,
          2.9,
          15.5,
          1.6,
          17.9,
          29.3,
          20.3,
          8.6,
          5.2,
          2,
          4.4,
          4.8,
          9.9,
          8.1,
          24.5,
          15.6,
          22.3,
          7.8,
          38.1,
          34.9,
          3.6,
          3.3,
          45,
          8.5,
          2.4,
          13.7,
          16.3,
          16.4,
          5,
          5.7,
          12.8,
          10.5,
          22.7,
          6.6,
          1.3,
          6.2,
          2.8,
          14.6,
          2.9,
          11.3,
          27.5,
          32.6,
          34,
          7.2,
          18.2,
          16.8,
          29.1,
          9.6,
          5.2,
          4.6,
          8,
          27.4,
          11.8,
          10.5,
          34.1,
          9.8,
          7.9,
          9.5,
          13,
          3.3,
          2.9,
          27.8,
          8.7,
          2.8,
          36.8,
          9.8,
          4.7,
          11.2,
          27.6,
          5.2,
          25.4,
          12.2,
          4.9,
          9.2,
          28.3,
          31.1,
          4,
          45.2,
          5.4,
          15.5,
          12,
          7,
          47.1,
          4.5,
          3.6,
          2.5,
          3.3,
          3.1,
          11.3,
          15.1,
          4.4,
          42.7,
          12.9,
          2.2,
          2.5,
          16.1,
          2.6,
          24.6,
          5.3,
          1.6,
          19.8,
          3.2,
          2.8,
          1.5,
          17.2,
          5.9,
          20,
          8.2,
          9,
          35.5,
          5.2,
          27.4,
          28.6,
          4.3,
          15.7,
          4.7,
          14.5,
          21.2,
          7.4,
          24.9,
          33.8,
          3.2,
          18.7,
          8.8,
          2.4,
          15.3,
          13.3,
          29.5,
          15.8,
          13,
          4.8,
          5.5,
          12.3,
          9.7,
          10.6,
          10.9,
          34,
          6,
          1.3,
          5.9,
          2.6,
          14.2,
          9.9,
          11.2,
          13.8,
          16.3,
          10.7,
          26.4,
          27.3,
          7.1,
          17.8,
          15.6,
          28.5,
          9.1,
          5.1,
          4.5,
          7.7,
          26.6,
          9.4,
          7.5,
          9.2,
          12.4,
          3.3,
          2.8,
          26.6,
          2.4,
          10,
          4.2,
          11,
          35.5,
          27.7,
          5.1,
          25.5,
          11.5,
          4.9,
          8.6,
          36,
          26.8,
          4,
          13.8,
          5.4,
          14,
          11.7,
          28.4,
          7,
          46.1,
          4.2,
          3.4,
          2.4,
          3.1,
          3.1,
          11.5,
          14.6,
          19,
          11.3,
          4,
          40.9,
          12.5,
          2.1,
          2.4,
          14.8,
          2.6,
          7.3,
          40.9,
          24.4,
          5,
          1.5,
          15.3,
          3,
          2.7,
          14.7,
          1.4,
          16.2,
          26.2,
          5.9,
          19.8,
          38.3,
          7.9,
          35.2,
          5.1,
          27.7,
          4.2,
          13.6,
          4.7,
          9.9,
          23.5,
          13.8,
          20.1,
          6.8,
          3.1,
          8.9,
          2.3,
          5.8,
          53.4,
          14.9,
          13,
          15.4,
          4.6,
          5.2,
          11.7,
          9,
          31.2,
          10.7,
          32.5,
          5.5,
          9.1,
          46.7,
          1.3,
          5.6,
          2.5,
          9.5,
          11.2,
          13.8,
          25.6,
          26.2,
          7.1,
          28,
          8.8,
          4.5,
          7.4,
          26,
          12,
          41,
          8.9,
          18.8,
          7.2,
          8.8,
          11.8,
          3.2,
          2.8,
          25.4,
          8.6,
          2.1,
          34.2,
          9.9,
          3.7,
          10.7,
          35,
          26.6,
          5.1,
          25.5,
          10.8,
          4.9,
          8.1,
          35.2,
          25.5,
          30.2,
          4,
          13.9,
          47.9,
          5.5,
          12.6,
          11.4,
          6.9,
          45.2,
          4,
          3.2,
          2.3,
          3,
          3,
          40.4,
          23.8,
          14.2,
          10.9,
          3.7,
          11.8,
          2,
          2.3,
          36.2,
          13.7,
          2.6,
          33.4,
          50.4,
          24.2,
          29.4,
          15.3,
          4.8,
          1.4,
          37.1,
          22.3,
          2.8,
          2.6,
          14.5,
          1.3,
          15.1,
          5.8,
          19.5,
          37.2,
          7.5,
          4.8,
          27,
          4.2,
          11.8,
          46.4,
          4.6,
          7.5,
          23,
          13.3,
          6.4,
          31.3,
          3,
          35.4,
          8.7,
          2.2,
          5.6,
          52.5,
          12,
          14.5,
          12.6,
          28.9,
          14.9,
          12,
          4.4,
          5,
          10.9,
          8.3,
          21,
          10.5,
          5.2,
          9.1,
          1.2,
          5.4,
          2.3,
          45.2,
          48.6,
          11.1,
          32.9,
          15.4,
          3.3,
          9.9,
          24.9,
          9.5,
          32,
          7.1,
          17.1,
          12.6,
          27.5,
          26.3,
          8.5,
          4.4,
          7,
          25.4,
          12,
          12.5,
          30.8,
          23.7,
          55,
          6.9,
          8.5,
          11.1,
          3.1,
          2.7,
          24.4,
          8.5,
          1.8,
          32.8,
          9.8,
          3.2,
          10.4,
          25.5,
          5.1,
          25.3,
          10.4,
          4.8,
          7.7,
          3.9,
          14,
          5.5,
          11.3,
          11,
          35,
          6.8,
          3.9,
          3.1,
          2.2,
          2.8,
          2.9,
          12.2,
          23.9,
          13.8,
          10.6,
          3.4,
          17.1,
          11.1,
          2,
          2.3,
          12.6,
          2.5,
          33.1,
          7.1,
          37.7,
          24.1,
          4.6,
          1.3,
          18.1,
          21.9,
          2.6,
          2.5,
          1.3,
          13.6,
          14,
          5.7,
          19,
          7.2,
          31.3,
          10.8,
          4.4,
          4.3,
          10.4,
          4.6,
          17.9,
          41.1,
          6.9,
          13.2,
          5.9,
          32.1,
          17.1,
          24.6,
          3,
          13.3,
          8.4,
          2.1,
          5.5,
          51.8,
          11.6,
          12.3,
          4.2,
          4.9,
          10,
          7.7,
          10.2,
          5.1,
          9,
          1.2,
          5.3,
          2.2,
          14.5,
          7.7,
          8.8,
          10.9,
          13.6,
          24.4,
          7.1,
          12.6,
          22.7,
          8.2,
          4.3,
          6.6,
          24.9,
          12.1,
          26.5,
          39.8,
          6.6,
          8.1,
          10.6,
          3,
          2.6,
          23.4,
          8.4,
          1.6,
          9.5,
          2.8,
          10.1,
          24.4,
          24.4,
          5.1,
          25,
          10.3,
          4.7,
          7.4,
          3.8,
          14.1,
          47.4,
          5.5,
          10.1,
          10.7,
          6.7,
          3.8,
          2.9,
          2.1,
          2.7,
          12.7,
          13.4,
          16.9,
          10.3,
          3.1,
          10.7,
          1.9,
          2.3,
          11.6,
          2.4,
          32.8,
          24.1,
          4.4,
          1.3,
          34.9,
          17.6,
          2.5,
          2.5,
          14,
          1.2,
          12.9,
          26,
          5.4,
          18.4,
          6.9,
          10.1,
          4.1,
          26.5,
          4.4,
          9.2,
          4.6,
          9.6,
          22.1,
          13.1,
          17.2,
          5.4,
          32.3,
          3.1,
          39.8,
          7.9,
          2,
          5.4,
          51.2,
          11.3,
          12,
          13.9,
          11.1,
          15,
          4,
          4.8,
          9.2,
          7.2,
          26.7,
          9.9,
          5,
          9,
          43.3,
          1.2,
          5.2,
          2.1,
          12.3,
          8.4,
          10.8,
          13.5,
          23.9,
          7.1,
          16.2,
          11.7,
          7.8,
          4.6,
          4.3,
          6.4,
          24.3,
          7.9,
          6.3,
          7.8,
          10,
          2.9,
          2.6,
          22.5,
          1.5,
          30.2,
          2.5,
          9.9,
          23.3,
          5.2,
          24.6,
          10.5,
          4.7,
          7.2,
          3.8,
          14.1,
          47,
          5.5,
          9.1,
          10.4,
          6.6,
          3.7,
          2.8,
          2,
          2.5,
          2.8,
          13.2,
          13,
          10,
          2.8,
          10.4,
          1.8,
          2.3,
          10.8,
          2.4,
          6.9,
          16.2,
          24,
          4.2,
          1.2,
          12.4,
          2.5,
          2.5,
          13.7,
          1.2,
          11.8,
          26.6,
          25.9,
          5.1,
          17.3,
          6.6,
          34.7,
          3.7,
          1.3,
          22.9,
          4.3,
          8.2,
          4.6,
          17.8,
          9.3,
          6.9,
          21.7,
          13,
          5,
          3.2,
          17.3,
          7.3,
          1.9,
          5.3,
          50.6,
          10.9,
          11.6,
          13.5,
          10.7,
          3.8,
          4.6,
          8.5,
          6.7,
          10.2,
          19.5,
          9.6,
          4.9,
          9,
          1.2,
          5.1,
          1.9,
          1.8,
          8.1,
          13.3,
          8.7,
          23.3,
          8.4,
          7.1,
          10.8,
          7.5,
          4.2,
          6.2,
          23.7,
          25.2,
          38.7,
          6,
          7.5,
          9.5,
          2.8,
          2.5,
          21.7,
          8,
          1.4,
          28.9,
          2.3,
          9.6,
          22.2,
          5.1,
          24.2,
          10.7,
          4.6,
          7.1,
          30.4,
          31.7,
          20.7,
          3.7,
          13.9,
          46.4,
          42.5,
          5.4,
          8.2,
          10,
          32.9,
          6.6,
          3.5,
          2.7,
          1.9,
          2.4,
          2.8,
          23.5,
          12.6,
          9.8,
          20.5,
          2.5,
          16.6,
          10.3,
          1.7,
          2.3,
          33.2,
          10,
          2.3,
          15.8,
          45.5,
          4,
          1.2,
          16.4,
          11.7,
          2.5,
          2.4,
          1.1,
          10.7,
          25.7,
          4.6,
          16.1,
          33.6,
          6.3,
          8.9,
          3.4,
          25.7,
          4.3,
          7.4,
          42.1,
          4.6,
          17.7,
          9.1,
          7.7,
          12.9,
          14.9,
          21.1,
          29.7,
          3.3,
          11.8,
          6.5,
          1.9,
          5.3,
          10.6,
          13.4,
          11.3,
          13,
          10.2,
          3.6,
          4.5,
          7.9,
          6.3,
          24.3,
          9.3,
          4.8,
          9,
          40.7,
          1.1,
          5,
          1.8,
          43.7,
          7.8,
          10.5,
          13.1,
          32.2,
          13.5,
          22.8,
          21.5,
          25.3,
          29.2,
          7.2,
          7.1,
          4.1,
          6.1,
          23.1,
          38.1,
          7.2,
          9.1,
          2.6,
          2.4,
          21,
          7.8,
          1.3,
          27.6,
          8.9,
          2.2,
          9.4,
          21.3,
          21.9,
          5,
          23.7,
          10.8,
          4.5,
          19.4,
          27.5,
          3.6,
          13.7,
          5.4,
          7.5,
          9.7,
          6.5,
          3.3,
          2.6,
          1.8,
          2.3,
          2.7,
          14.6,
          23.3,
          12.2,
          9.5,
          35.7,
          2.3,
          31.4,
          10.3,
          1.6,
          2.2,
          9.3,
          2.3,
          31.2,
          6.7,
          3.9,
          1.1,
          11.2,
          20.4,
          2.5,
          2.4,
          13.1,
          1,
          9.8,
          4.2,
          14.8,
          6,
          8.5,
          3.2,
          4.2,
          6.7,
          4.5,
          17.6,
          38.3,
          12.8,
          20.3,
          29.8,
          25.6,
          3.4,
          37.4,
          5.6,
          1.8,
          5.3,
          49.2,
          10.2,
          10.9,
          12.6,
          9.8,
          14,
          3.4,
          4.4,
          7.4,
          6,
          22.9,
          24.3,
          4.7,
          9,
          1.1,
          4.9,
          1.7,
          7.5,
          12.8,
          22.3,
          14.9,
          21.2,
          6.8,
          4,
          5.9,
          22.6,
          9.9,
          12.7,
          25.1,
          37.4,
          5.5,
          7,
          8.6,
          2.4,
          20.4,
          1.2,
          8.7,
          2.1,
          32.9,
          20.4,
          21.2,
          4.7,
          23.3,
          10.7,
          4.4,
          30.4,
          18.2,
          3.5,
          5.3,
          6.9,
          9.4,
          36.2,
          19.9,
          6.5,
          40.2,
          3.1,
          2.5,
          1.7,
          2.1,
          2.7,
          35.9,
          15.1,
          23,
          11.8,
          9.2,
          2,
          10.2,
          1.5,
          2.2,
          24.7,
          8.7,
          2.3,
          6.5,
          33.2,
          26.9,
          12.2,
          3.8,
          1.1,
          15.1,
          10.7,
          20,
          2.5,
          1,
          11.7,
          8.9,
          3.8,
          13.7,
          32,
          5.8,
          8.1,
          2.9,
          4.1,
          6.1,
          4.5,
          9,
          8.1,
          12.6,
          11,
          28.9,
          4.8,
          1.7,
          5.3,
          48.4,
          9.9,
          10.6,
          12.2,
          9.4,
          3.3,
          4.3,
          7.1,
          5.7,
          4.5,
          9,
          1.1,
          4.7,
          1.6,
          1.7,
          7.2,
          10,
          12.5,
          21.8,
          20.3,
          7.5,
          7.3,
          14.5,
          9.2,
          6.4,
          3.9,
          5.8,
          22.1,
          9.7,
          24.4,
          15.7,
          5.3,
          6.8,
          8.2,
          2.4,
          2.3,
          19.7,
          7.3,
          1.2,
          25.2,
          8.4,
          2,
          8.9,
          19.7,
          22.9,
          10.3,
          4.3,
          6.2,
          3.4,
          12.9,
          5.2,
          6.3,
          9.1,
          6.4,
          2.9,
          2.4,
          1.6,
          2,
          2.6,
          15.5,
          22.6,
          11.4,
          8.9,
          1.8,
          29.3,
          10,
          2.3,
          31.4,
          8.2,
          2.2,
          6.4,
          14.3,
          26.5,
          3.7,
          1,
          14.5,
          10.2,
          2.4,
          2.2,
          8.1,
          3.6,
          12.8,
          5.6,
          25.3,
          7.8,
          2.7,
          20.5,
          4.1,
          5.6,
          39.4,
          4.5,
          12.4,
          12.3,
          3.5,
          16.4,
          35.8,
          4.2,
          1.6,
          5.3,
          47.4,
          9.6,
          10.2,
          8.9,
          13.3,
          3.2,
          2.1,
          6.8,
          5.4,
          8.5,
          22.2,
          4.4,
          37,
          1.1,
          4.6,
          7,
          12.2,
          21.4,
          7.3,
          14,
          6.1,
          3.8,
          3.8,
          5.5,
          21.5,
          12,
          9.5,
          23.6,
          36.1,
          5.1,
          6.5,
          7.7,
          2.3,
          2.2,
          18.9,
          7.1,
          1.1,
          24.2,
          8.2,
          1.9,
          32.2,
          19.1,
          4.2,
          22.4,
          9.6,
          4.3,
          5.9,
          15.7,
          26.1,
          3.3,
          12.6,
          5.1,
          5.9,
          8.8,
          30.6,
          6.3,
          2.7,
          2.4,
          1.5,
          2.6,
          15.6,
          22.1,
          11.1,
          13.3,
          8.6,
          1.7,
          14.6,
          28.5,
          9.8,
          1.3,
          2.3,
          7.6,
          2.2,
          29,
          6.2,
          40.6,
          23.2,
          3.6,
          1,
          28.6,
          9.8,
          2.3,
          2.1,
          1,
          7.5,
          22.9,
          3.4,
          12.1,
          5.4,
          33.4,
          2.6,
          22.4,
          4,
          5.2,
          4.4,
          8.7,
          7.4,
          12.1,
          11.7,
          23,
          3.2,
          3.8,
          1.6,
          5.3,
          9.3,
          12.1,
          9.9,
          11.4,
          8.6,
          3.2,
          2,
          4,
          6.5,
          5.2,
          9.7,
          17.5,
          21.5,
          4.3,
          1.1,
          4.4,
          5.6,
          6.8,
          11.8,
          30.4,
          20.9,
          27.2,
          13.6,
          7.5,
          5.7,
          3.6,
          3.7,
          5.3,
          20.9,
          9.2,
          11.7,
          22,
          23.9,
          35.5,
          6.3,
          2.2,
          2.1,
          18.2,
          1.1,
          8,
          18.3,
          4,
          21.9,
          8.9,
          4.3,
          5.6,
          26.7,
          12.2,
          39.3,
          4.9,
          5.5,
          8.5,
          18,
          6.2,
          2.6,
          2.3,
          2.5,
          15.6,
          21.7,
          10.8,
          8.3,
          1.5,
          9.6,
          1.3,
          2.2,
          7.2,
          2.1,
          13.4,
          0.9,
          2.3,
          0.9,
          7,
          3.2,
          5.2,
          3.9,
          37.8,
          4.4,
          35.7,
          8.4,
          7,
          3.1,
          26.8,
          3.5,
          1.5,
          9,
          9.6,
          10.9,
          8.2,
          3.1,
          2,
          3.8,
          6.3,
          18.7,
          20.8,
          1,
          12.2,
          1.6,
          11.5,
          20.5,
          13.2,
          3.5,
          3.6,
          20.4,
          8.9,
          23.5
         ],
         "xaxis": "x",
         "y": [
          0.93,
          0.9690000000000001,
          0.997,
          0.973,
          0.99,
          0.9990000000000001,
          0.97,
          0.991,
          0.94,
          0.8059999999999999,
          0.998,
          0.998,
          1,
          1,
          0.953,
          0.988,
          0.441,
          0.966,
          0.9940000000000001,
          1,
          0.40700000000000003,
          0.9990000000000001,
          0.872,
          0.99,
          0.6,
          0.9890000000000001,
          1,
          1,
          0.9279999999999999,
          0.9109999999999999,
          0.838,
          1,
          0.308,
          0.889,
          0.9940000000000001,
          1,
          0.66,
          0.996,
          1,
          0.998,
          0.992,
          0.76,
          0.88,
          0.98,
          1,
          0.9990000000000001,
          0.85,
          0.98,
          0.685,
          0.94,
          0.95,
          0.9990000000000001,
          0.991,
          0.992,
          0.9940000000000001,
          0.79,
          0.9259999999999999,
          0.997,
          1,
          0.972,
          0.9990000000000001,
          0.769,
          0.9740000000000001,
          0.695,
          0.978,
          0.995,
          0.584,
          0.991,
          0.937,
          0.998,
          0.998,
          1,
          1,
          0.924,
          0.365,
          0.945,
          0.9129999999999999,
          0.9940000000000001,
          0.9990000000000001,
          0.317,
          0.981,
          0.9890000000000001,
          1,
          1,
          0.4,
          0.945,
          1,
          0.46299999999999997,
          0.07400000000000001,
          0.893,
          0.993,
          0.188,
          0.996,
          1,
          0.9990000000000001,
          0.992,
          1,
          0.9990000000000001,
          0.9790000000000001,
          0.903,
          0.92,
          0.9990000000000001,
          0.992,
          0.993,
          0.8640000000000001,
          0.765,
          0.958,
          0.983,
          0.993,
          0.965,
          0.9990000000000001,
          0.98,
          0.998,
          0.996,
          0.841,
          0.98,
          0.998,
          0.998,
          1,
          1,
          0.40700000000000003,
          0.99,
          0.986,
          0.9109999999999999,
          0.305,
          0.469,
          0.995,
          0.998,
          0.40700000000000003,
          0.9890000000000001,
          0.987,
          1,
          1,
          0.57,
          0.5479999999999999,
          0.965,
          1,
          0.31,
          0.682,
          0.149,
          0.909,
          0.993,
          0.858,
          0.525,
          0.996,
          1,
          0.997,
          0.991,
          0.258,
          1,
          0.9990000000000001,
          0.439,
          0.9990000000000001,
          0.993,
          0.99,
          0.159,
          0.505,
          0.872,
          0.955,
          0.993,
          1,
          0.963,
          0.9990000000000001,
          0.978,
          0.99,
          0.415,
          0.9940000000000001,
          0.9940000000000001,
          0.836,
          0.97,
          0.998,
          0.998,
          1,
          1,
          0.40700000000000003,
          0.8740000000000001,
          0.991,
          0.976,
          0.986,
          0.99,
          0.9079999999999999,
          0.43799999999999994,
          0.9940000000000001,
          0.998,
          0.342,
          0.934,
          0.986,
          0.45399999999999996,
          0.983,
          1,
          0.609,
          1,
          0.98,
          0.963,
          1,
          0.61,
          0.9329999999999999,
          0.9940000000000001,
          0.8690000000000001,
          0.528,
          0.996,
          1,
          0.9890000000000001,
          0.991,
          0.47200000000000003,
          1,
          0.9990000000000001,
          0.941,
          0.769,
          0.983,
          0.759,
          0.9990000000000001,
          0.9940000000000001,
          0.983,
          0.8909999999999999,
          0.9329999999999999,
          0.9940000000000001,
          0.996,
          0.095,
          0.9990000000000001,
          0.12,
          0.47200000000000003,
          0.982,
          0.99,
          0.993,
          0.995,
          0.904,
          0.45399999999999996,
          0.998,
          0.998,
          1,
          1,
          0.987,
          0.05,
          0.993,
          0.56,
          0.9620000000000001,
          0.985,
          0.43799999999999994,
          0.9940000000000001,
          0.998,
          0.365,
          0.983,
          0.72,
          0.982,
          1,
          0.376,
          1,
          0.9,
          0.977,
          1,
          0.95,
          0.934,
          0.993,
          0.88,
          0.996,
          0.99,
          0.991,
          1,
          0.9990000000000001,
          0.835,
          0.82,
          0.9840000000000001,
          0.826,
          0.98,
          0.9990000000000001,
          0.9940000000000001,
          0.982,
          0.87,
          0.6920000000000001,
          0.8909999999999999,
          1,
          0.985,
          0.9309999999999999,
          0.993,
          0.915,
          0.99,
          0.976,
          1,
          0.9990000000000001,
          0.79,
          0.986,
          0.9890000000000001,
          0.433,
          0.98,
          0.54,
          0.45899999999999996,
          0.995,
          0.893,
          0.836,
          0.9990000000000001,
          0.998,
          1,
          1,
          1,
          0.462,
          0.20600000000000002,
          0.995,
          0.9620000000000001,
          0.985,
          1,
          0.348,
          0.25,
          0.93,
          0.20600000000000002,
          0.9940000000000001,
          0.998,
          0.49700000000000005,
          0.9990000000000001,
          0.996,
          0.98,
          1,
          0.9440000000000001,
          1,
          0.951,
          0.981,
          1,
          0.396,
          1,
          0.941,
          0.992,
          0.95,
          1,
          0.883,
          0.42,
          0.996,
          1,
          0.991,
          0.991,
          0.914,
          0.987,
          0.99,
          1,
          0.9990000000000001,
          0.82,
          1,
          1,
          1,
          0.8,
          0.809,
          0.975,
          0.8059999999999999,
          0.37799999999999995,
          0.9990000000000001,
          0.992,
          0.9940000000000001,
          0.98,
          0.8909999999999999,
          0.912,
          0.225,
          1,
          0.9570000000000001,
          0.993,
          0.982,
          0.879,
          0.9990000000000001,
          0.598,
          0.9890000000000001,
          0.87,
          0.8759999999999999,
          0.9890000000000001,
          0.9990000000000001,
          0.992,
          0.996,
          0.9309999999999999,
          0.516,
          0.998,
          0.998,
          1,
          1,
          0.955,
          0.46299999999999997,
          0.20600000000000002,
          0.996,
          0.963,
          0.9840000000000001,
          0.545,
          0.995,
          0.998,
          0.9,
          1,
          0.981,
          0.981,
          0.981,
          1,
          0.89,
          1,
          0.4,
          0.975,
          1,
          0.09,
          0.95,
          0.992,
          0.9490000000000001,
          0.899,
          0.513,
          0.608,
          0.564,
          0.997,
          1,
          0.99,
          0.991,
          0.914,
          0.988,
          0.997,
          1,
          0.9990000000000001,
          0.79,
          0.382,
          0.98,
          0.958,
          0.9990000000000001,
          0.9940000000000001,
          0.98,
          0.975,
          0.46,
          0.988,
          0.972,
          0.9640000000000001,
          0.993,
          0.982,
          0.904,
          0.99,
          0.08,
          0.9990000000000001,
          0.99,
          0.986,
          0.996,
          0.9990000000000001,
          0.993,
          0.15,
          0.9940000000000001,
          0.938,
          0.9990000000000001,
          0.9990000000000001,
          1,
          1,
          0.983,
          0.564,
          0.995,
          0.9620000000000001,
          0.9840000000000001,
          0.95,
          0.995,
          0.998,
          0.43200000000000005,
          0.861,
          0.946,
          0.9670000000000001,
          0.976,
          0.981,
          1,
          1,
          0.473,
          0.978,
          0.857,
          1,
          0.456,
          0.442,
          0.564,
          0.956,
          0.991,
          0.18,
          0.895,
          0.997,
          1,
          0.983,
          0.991,
          0.466,
          0.997,
          1,
          0.9990000000000001,
          1,
          0.997,
          0.726,
          0.258,
          0.99,
          0.99,
          0.9990000000000001,
          0.9940000000000001,
          0.996,
          1,
          0.953,
          0.7709999999999999,
          0.21600000000000003,
          0.465,
          0.991,
          1,
          0.975,
          0.9740000000000001,
          0.993,
          0.983,
          0.915,
          0.99,
          0.9990000000000001,
          0.79,
          0.593,
          0.995,
          0.986,
          0.993,
          0.9990000000000001,
          0.34,
          0.55,
          0.993,
          0.885,
          0.996,
          0.9129999999999999,
          0.98,
          0.9990000000000001,
          0.9990000000000001,
          1,
          0.9990000000000001,
          0.988,
          0.95,
          0.552,
          0.904,
          0.996,
          0.065,
          1,
          0.983,
          0.96,
          0.44299999999999995,
          0.99,
          0.94,
          0.995,
          0.9990000000000001,
          0.56,
          0.98,
          0.44299999999999995,
          0.85,
          0.985,
          1,
          1,
          0.9620000000000001,
          0.9490000000000001,
          0.985,
          0.88,
          0.98,
          0.971,
          1,
          0.6459999999999999,
          0.17600000000000002,
          0.966,
          0.991,
          1,
          0.9,
          0.608,
          0.564,
          0.997,
          0.997,
          1,
          0.99,
          0.991,
          1,
          1,
          1,
          0.998,
          0.8440000000000001,
          0.9940000000000001,
          0.98,
          0.741,
          0.505,
          0.982,
          0.8059999999999999,
          0.9990000000000001,
          0.99,
          0.9940000000000001,
          0.99,
          1,
          0.99,
          0.975,
          0.988,
          0.993,
          0.983,
          0.924,
          0.99,
          0.91,
          0.9990000000000001,
          0.993,
          0.838,
          0.997,
          0.986,
          0.9940000000000001,
          0.99,
          0.31,
          0.992,
          0.9940000000000001,
          0.968,
          0.9209999999999999,
          0.982,
          0.47100000000000003,
          0.9990000000000001,
          0.9990000000000001,
          1,
          0.9990000000000001,
          0.987,
          0.9990000000000001,
          0.9740000000000001,
          0.991,
          0.996,
          0.9640000000000001,
          0.9840000000000001,
          0.9640000000000001,
          0.987,
          0.44299999999999995,
          0.99,
          0.406,
          0.348,
          0.995,
          0.996,
          0.402,
          0.995,
          0.991,
          0.985,
          1,
          0.99,
          1,
          0.998,
          0.838,
          0.98,
          0.92,
          0.41600000000000004,
          0.97,
          0.991,
          0.18,
          0.9009999999999999,
          0.856,
          0.58,
          0.997,
          1,
          0.98,
          0.991,
          0.483,
          0.997,
          1,
          0.9990000000000001,
          0.85,
          0.193,
          0.993,
          0.6659999999999999,
          0.358,
          0.96,
          0.99,
          0.9990000000000001,
          0.9940000000000001,
          0.998,
          1,
          0.88,
          0.45299999999999996,
          0.725,
          0.124,
          0.991,
          0.92,
          0.9990000000000001,
          0.991,
          0.968,
          0.993,
          0.983,
          0.841,
          0.99,
          0.977,
          0.121,
          0.98,
          0.9990000000000001,
          1,
          0.237,
          0.6729999999999999,
          0.9890000000000001,
          0.985,
          0.986,
          0.995,
          0.998,
          0.252,
          0.318,
          0.561,
          0.993,
          0.317,
          0.13699999999999998,
          0.99,
          0.966,
          0.861,
          0.618,
          0.9840000000000001,
          0.628,
          0.9990000000000001,
          0.9990000000000001,
          0.9790000000000001,
          0.9990000000000001,
          0.988,
          1,
          0.976,
          0.609,
          0.6459999999999999,
          0.997,
          0.654,
          0.055999999999999994,
          0.99,
          0.9840000000000001,
          0.826,
          0.516,
          0.9570000000000001,
          0.986,
          1,
          0.318,
          0.8290000000000001,
          0.23800000000000002,
          0.995,
          0.993,
          0.425,
          0.669,
          0.8959999999999999,
          0.652,
          0.996,
          0.998,
          0.9590000000000001,
          0.998,
          0.983,
          0.426,
          0.85,
          0.986,
          0.16699999999999998,
          1,
          0.9990000000000001,
          0.48100000000000004,
          0.509,
          1,
          0.47,
          0.556,
          0.966,
          0.997,
          0.8859999999999999,
          0.889,
          0.98,
          0.966,
          0.991,
          0.755,
          0.11900000000000001,
          0.973,
          0.157,
          0.9670000000000001,
          0.977,
          0.99,
          0.968,
          1,
          0.9740000000000001,
          0.905,
          0.41,
          0.593,
          0.58,
          0.998,
          0.997,
          1,
          0.99,
          0.992,
          0.313,
          0.8,
          0.7859999999999999,
          0.91,
          0.578,
          0.98,
          0.99,
          0.371,
          0.997,
          1,
          0.9990000000000001,
          0.193,
          0.9990000000000001,
          0.96,
          0.9940000000000001,
          1,
          1,
          0.616,
          0.7070000000000001,
          0.993,
          0.354,
          0.95,
          0.96,
          0.899,
          0.972,
          1,
          0.36,
          0.9990000000000001,
          0.9940000000000001,
          0.997,
          0.9490000000000001,
          0.88,
          0.94,
          0.588,
          0.99,
          0.447,
          1,
          0.9840000000000001,
          0.9840000000000001,
          0.993,
          0.983,
          0.94,
          0.975,
          0.12,
          0.9990000000000001,
          0.655,
          0.998,
          0.92,
          0.983,
          0.997,
          0.9890000000000001,
          0.993,
          0.998,
          0.973,
          0.9309999999999999,
          0.607,
          0.98,
          0.9990000000000001,
          0.9990000000000001,
          0.9990000000000001,
          0.9890000000000001,
          1,
          0.997,
          0.9840000000000001,
          0.985,
          0.996,
          0.855,
          0.9670000000000001,
          0.986,
          0.938,
          0.557,
          0.996,
          0.995,
          0.996,
          0.985,
          0.998,
          0.985,
          0.987,
          0.19399999999999998,
          0.99,
          1,
          0.968,
          0.703,
          0.406,
          0.9990000000000001,
          0.534,
          0.857,
          0.99,
          0.995,
          0.57,
          0.109,
          0.966,
          0.669,
          0.976,
          0.991,
          0.23,
          0.9209999999999999,
          0.39,
          0.998,
          0.9990000000000001,
          1,
          0.965,
          0.993,
          0.982,
          0.996,
          0.9940000000000001,
          0.9990000000000001,
          1,
          0.8109999999999999,
          0.953,
          0.995,
          0.899,
          0.39,
          0.9990000000000001,
          0.9940000000000001,
          0.996,
          1,
          0.98,
          0.9590000000000001,
          0.99,
          0.9890000000000001,
          0.988,
          0.993,
          0.9840000000000001,
          0.94,
          0.99,
          0.976,
          1,
          0.9990000000000001,
          0.97,
          0.6509999999999999,
          0.998,
          0.965,
          0.985,
          0.996,
          0.992,
          0.993,
          0.998,
          0.9670000000000001,
          0.945,
          0.985,
          0.9990000000000001,
          0.9990000000000001,
          0.9990000000000001,
          0.988,
          1,
          0.978,
          0.28300000000000003,
          0.996,
          0.74,
          0.9690000000000001,
          0.998,
          0.9740000000000001,
          0.986,
          1,
          0.414,
          0.996,
          0.9940000000000001,
          0.684,
          0.995,
          0.996,
          0.9690000000000001,
          0.998,
          0.995,
          0.9890000000000001,
          0.76,
          1,
          0.988,
          1,
          1,
          0.9990000000000001,
          0.605,
          0.97,
          0.995,
          0.95,
          0.816,
          0.996,
          0.997,
          0.992,
          0.982,
          0.991,
          0.23,
          1,
          0.9420000000000001,
          0.858,
          0.998,
          1,
          0.991,
          0.993,
          0.58,
          0.992,
          0.997,
          0.9940000000000001,
          0.9990000000000001,
          0.248,
          0.995,
          0.98,
          1,
          0.9,
          0.887,
          0.24,
          0.951,
          0.987,
          0.972,
          1,
          0.9990000000000001,
          0.995,
          0.997,
          1,
          0.85,
          0.42100000000000004,
          0.14300000000000002,
          0.988,
          0.99,
          0.987,
          0.992,
          0.993,
          0.9840000000000001,
          0.958,
          0.99,
          0.978,
          0.139,
          1,
          0.9990000000000001,
          0.561,
          0.608,
          0.9990000000000001,
          0.961,
          0.9840000000000001,
          0.996,
          0.992,
          0.37799999999999995,
          0.9890000000000001,
          0.977,
          0.9590000000000001,
          0.95,
          0.982,
          0.9990000000000001,
          0.9990000000000001,
          0.99,
          0.9990000000000001,
          0.9890000000000001,
          0.606,
          1,
          0.6940000000000001,
          0.924,
          0.997,
          0.9670000000000001,
          0.998,
          0.99,
          0.986,
          0.47100000000000003,
          1,
          0.48700000000000004,
          0.94,
          0.996,
          0.9940000000000001,
          0.6629999999999999,
          0.996,
          0.996,
          0.9740000000000001,
          0.998,
          0.9940000000000001,
          0.41600000000000004,
          0.9890000000000001,
          0.99,
          1,
          0.9990000000000001,
          0.976,
          0.995,
          0.9840000000000001,
          0.95,
          0.846,
          0.9940000000000001,
          0.986,
          0.997,
          0.47700000000000004,
          0.675,
          1,
          0.982,
          0.35200000000000004,
          0.99,
          0.99,
          0.925,
          0.8590000000000001,
          0.598,
          0.998,
          1,
          0.992,
          0.9940000000000001,
          0.764,
          0.985,
          0.997,
          0.995,
          0.9990000000000001,
          0.912,
          0.9990000000000001,
          0.99,
          0.8809999999999999,
          0.184,
          0.608,
          0.97,
          0.997,
          0.83,
          0.995,
          0.9990000000000001,
          1,
          0.993,
          0.997,
          1,
          0.84,
          0.95,
          0.268,
          0.993,
          1,
          0.991,
          0.995,
          0.993,
          0.9840000000000001,
          0.9590000000000001,
          0.98,
          0.9940000000000001,
          0.132,
          1,
          0.9990000000000001,
          0.878,
          0.608,
          0.9990000000000001,
          0.973,
          0.986,
          0.996,
          0.9940000000000001,
          0.163,
          0.589,
          0.99,
          0.14400000000000002,
          0.998,
          0.973,
          0.907,
          0.985,
          0.68,
          0.9990000000000001,
          0.9990000000000001,
          0.9570000000000001,
          0.9990000000000001,
          0.986,
          1,
          0.982,
          0.998,
          0.064,
          0.97,
          0.998,
          0.98,
          0.975,
          0.982,
          0.9590000000000001,
          0.996,
          0.9940000000000001,
          0.715,
          0.997,
          0.998,
          0.998,
          0.9940000000000001,
          0.983,
          0.982,
          1,
          0.982,
          0.5539999999999999,
          1,
          0.513,
          0.561,
          0.98,
          0.852,
          0.9990000000000001,
          0.993,
          0.997,
          0.996,
          0.626,
          0.158,
          0.94,
          0.971,
          0.99,
          0.991,
          0.983,
          0.9129999999999999,
          0.39,
          0.772,
          0.711,
          0.998,
          1,
          0.9890000000000001,
          0.993,
          1,
          0.96,
          0.58,
          0.987,
          0.997,
          0.995,
          0.9990000000000001,
          0.912,
          1,
          1,
          1,
          0.9,
          0.897,
          0.7509999999999999,
          0.434,
          0.98,
          0.997,
          0.83,
          0.985,
          0.9990000000000001,
          1,
          0.993,
          0.995,
          1,
          0.998,
          0.9990000000000001,
          0.991,
          0.978,
          0.9940000000000001,
          0.986,
          0.9440000000000001,
          1,
          1,
          1,
          0.893,
          0.75,
          0.523,
          0.9990000000000001,
          0.94,
          0.986,
          0.997,
          0.9940000000000001,
          0.318,
          0.43799999999999994,
          0.988,
          0.775,
          0.998,
          0.975,
          0.9640000000000001,
          0.8340000000000001,
          0.985,
          0.551,
          0.9990000000000001,
          0.9990000000000001,
          0.993,
          0.9990000000000001,
          0.988,
          0.99,
          0.8,
          0.742,
          0.872,
          0.998,
          0.057,
          0.972,
          0.998,
          0.9790000000000001,
          0.983,
          0.982,
          1,
          0.38,
          0.9670000000000001,
          0.996,
          0.99,
          0.973,
          0.997,
          0.998,
          0.9670000000000001,
          0.998,
          0.9940000000000001,
          0.897,
          0.986,
          0.9790000000000001,
          0.146,
          1,
          0.5539999999999999,
          1,
          0.561,
          0.981,
          0.9159999999999999,
          0.997,
          0.992,
          0.8270000000000001,
          0.995,
          0.992,
          0.9990000000000001,
          0.94,
          0.991,
          0.992,
          0.98,
          0.31,
          0.97,
          0.9109999999999999,
          0.875,
          0.9990000000000001,
          1,
          0.981,
          0.9940000000000001,
          0.386,
          0.96,
          0.519,
          0.997,
          0.99,
          0.4,
          0.997,
          0.995,
          0.9990000000000001,
          1,
          1,
          1,
          0.8240000000000001,
          0.434,
          0.961,
          0.997,
          0.998,
          0.9940000000000001,
          0.9990000000000001,
          1,
          0.92,
          0.18899999999999997,
          0.99,
          0.9520000000000001,
          0.9990000000000001,
          0.9940000000000001,
          0.997,
          0.993,
          0.986,
          0.8859999999999999,
          0.99,
          0.975,
          0.201,
          1,
          0.9990000000000001,
          0.9420000000000001,
          0.74,
          0.5710000000000001,
          0.9940000000000001,
          0.993,
          0.97,
          0.997,
          0.9940000000000001,
          0.535,
          0.43799999999999994,
          0.45899999999999996,
          0.988,
          0.764,
          0.414,
          0.998,
          0.978,
          0.971,
          0.986,
          0.568,
          0.9990000000000001,
          0.9990000000000001,
          0.985,
          0.9990000000000001,
          0.987,
          0.784,
          0.955,
          0.826,
          0.8959999999999999,
          0.998,
          0.993,
          0.998,
          0.983,
          0.521,
          0.988,
          0.9840000000000001,
          0.49700000000000005,
          0.31,
          0.966,
          0.261,
          0.6629999999999999,
          0.997,
          0.9890000000000001,
          0.466,
          0.885,
          0.997,
          0.998,
          0.945,
          0.998,
          0.998,
          0.987,
          0.976,
          0.18899999999999997,
          1,
          1,
          0.536,
          0.9840000000000001,
          0.9420000000000001,
          0.49,
          0.988,
          0.934,
          0.88,
          0.996,
          0.872,
          0.187,
          0.9790000000000001,
          0.177,
          0.978,
          0.992,
          0.98,
          0.56,
          1,
          0.966,
          0.91,
          0.53,
          0.905,
          0.71,
          0.9940000000000001,
          1,
          0.982,
          0.995,
          0.807,
          0.96,
          0.889,
          0.99,
          0.997,
          0.995,
          0.9990000000000001,
          0.094,
          0.09699999999999999,
          0.9790000000000001,
          0.28800000000000003,
          0.865,
          1,
          0.915,
          0.7829999999999999,
          0.9690000000000001,
          0.524,
          0.98,
          0.9690000000000001,
          0.946,
          0.995,
          0.419,
          0.9990000000000001,
          0.9940000000000001,
          0.9990000000000001,
          0.9990000000000001,
          0.929,
          0.838,
          0.35700000000000004,
          0.685,
          0.467,
          1,
          0.9940000000000001,
          0.9990000000000001,
          0.992,
          0.985,
          0.93,
          0.99,
          0.9740000000000001,
          0.18,
          1,
          0.9990000000000001,
          0.946,
          0.536,
          0.9990000000000001,
          0.946,
          0.986,
          0.9990000000000001,
          0.996,
          1,
          0.7440000000000001,
          0.997,
          0.9840000000000001,
          0.978,
          0.644,
          0.987,
          0.9990000000000001,
          0.9990000000000001,
          0.983,
          0.9990000000000001,
          0.978,
          0.94,
          0.978,
          0.841,
          0.9309999999999999,
          0.9940000000000001,
          0.69,
          0.99,
          0.998,
          0.981,
          0.9940000000000001,
          0.9840000000000001,
          0.552,
          0.988,
          0.461,
          0.809,
          0.996,
          0.9890000000000001,
          0.73,
          0.797,
          0.997,
          0.996,
          0.998,
          0.991,
          0.995,
          0.987,
          0.9840000000000001,
          0.9940000000000001,
          0.46299999999999997,
          0.983,
          1,
          0.986,
          0.963,
          0.998,
          0.862,
          0.5710000000000001,
          0.937,
          0.996,
          1,
          0.639,
          0.8140000000000001,
          0.9740000000000001,
          0.9570000000000001,
          0.737,
          0.996,
          0.991,
          0.99,
          0.38799999999999996,
          1,
          0.915,
          0.9940000000000001,
          1,
          0.988,
          0.996,
          0.97,
          0.998,
          1,
          0.997,
          0.992,
          0.9990000000000001,
          0.855,
          0.986,
          1,
          1,
          1,
          0.884,
          0.98,
          0.893,
          0.9309999999999999,
          0.987,
          0.993,
          0.986,
          1,
          0.74,
          0.452,
          0.24,
          1,
          0.948,
          0.9990000000000001,
          0.991,
          0.986,
          0.98,
          0.99,
          0.975,
          1,
          0.9990000000000001,
          0.9490000000000001,
          0.6629999999999999,
          0.711,
          0.9990000000000001,
          0.983,
          0.988,
          0.997,
          0.996,
          0.987,
          0.746,
          0.43700000000000006,
          0.998,
          0.991,
          0.981,
          0.991,
          0.9990000000000001,
          0.9990000000000001,
          0.972,
          0.9990000000000001,
          1,
          0.858,
          0.789,
          0.95,
          0.993,
          0.988,
          0.998,
          0.98,
          0.996,
          0.985,
          0.547,
          0.96,
          0.995,
          0.987,
          0.523,
          0.7490000000000001,
          0.998,
          0.998,
          0.983,
          0.998,
          0.998,
          0.65,
          0.987,
          0.985,
          0.991,
          0.998,
          1,
          0.68,
          0.986,
          0.983,
          0.9990000000000001,
          0.995,
          0.9,
          0.995,
          0.9940000000000001,
          0.9990000000000001,
          0.5529999999999999,
          0.9670000000000001,
          0.344,
          0.997,
          0.992,
          0.986,
          0.38,
          1,
          0.9179999999999999,
          0.872,
          0.794,
          0.622,
          0.9940000000000001,
          1,
          0.987,
          0.996,
          0.521,
          0.97,
          0.997,
          1,
          0.424,
          0.998,
          0.995,
          0.9990000000000001,
          0.943,
          1,
          1,
          0.992,
          0.85,
          0.97,
          0.995,
          0.9129999999999999,
          0.9990000000000001,
          1,
          0.993,
          0.996,
          1,
          0.993,
          1,
          0.9790000000000001,
          1,
          0.991,
          0.986,
          0.998,
          0.9940000000000001,
          0.244,
          0.9990000000000001,
          0.935,
          0.66,
          0.9990000000000001,
          0.995,
          0.9890000000000001,
          0.9990000000000001,
          0.996,
          0.986,
          0.7559999999999999,
          0.43700000000000006,
          0.998,
          0.993,
          0.986,
          0.991,
          0.9990000000000001,
          0.9990000000000001,
          0.983,
          0.996,
          0.987,
          1,
          0.877,
          0.975,
          0.992,
          0.998,
          0.998,
          0.9790000000000001,
          0.9990000000000001,
          0.983,
          1,
          0.515,
          0.8740000000000001,
          0.996,
          0.988,
          0.977,
          0.998,
          0.998,
          0.983,
          0.998,
          0.9940000000000001,
          0.43799999999999994,
          0.7979999999999999,
          0.987,
          0.985,
          0.9890000000000001,
          0.615,
          1,
          0.9990000000000001,
          0.439,
          0.986,
          0.948,
          0.998,
          0.865,
          0.9940000000000001,
          0.953,
          1,
          0.997,
          0.995,
          0.9670000000000001,
          1,
          0.998,
          0.992,
          0.986,
          0.41,
          0.993,
          0.8859999999999999,
          0.938,
          0.825,
          0.997,
          1,
          0.985,
          0.997,
          0.8079999999999999,
          0.8170000000000001,
          0.97,
          0.998,
          0.99,
          0.997,
          0.995,
          0.9990000000000001,
          0.9990000000000001,
          1,
          0.9890000000000001,
          0.9620000000000001,
          0.871,
          0.9940000000000001,
          0.981,
          0.95,
          0.9990000000000001,
          0.993,
          0.997,
          1,
          0.602,
          0.34299999999999997,
          1,
          0.95,
          0.995,
          0.991,
          0.985,
          0.9940000000000001,
          0.99,
          0.993,
          0.265,
          0.9990000000000001,
          0.94,
          0.645,
          0.9990000000000001,
          0.991,
          0.9890000000000001,
          0.998,
          0.995,
          0.659,
          0.603,
          0.71,
          0.985,
          0.985,
          0.4,
          0.166,
          0.998,
          0.996,
          0.948,
          0.742,
          0.953,
          0.9990000000000001,
          0.9990000000000001,
          0.986,
          0.9990000000000001,
          0.985,
          0.9690000000000001,
          0.892,
          0.98,
          0.341,
          0.993,
          0.82,
          0.997,
          0.998,
          0.975,
          0.561,
          0.996,
          0.983,
          0.523,
          0.43,
          0.991,
          0.982,
          0.8220000000000001,
          0.9640000000000001,
          0.998,
          0.9990000000000001,
          0.998,
          1,
          0.983,
          0.986,
          0.983,
          0.37,
          0.988,
          0.9990000000000001,
          1,
          0.7140000000000001,
          0.986,
          0.982,
          0.281,
          0.998,
          0.99,
          0.995,
          0.941,
          0.992,
          0.9840000000000001,
          0.741,
          0.706,
          0.9620000000000001,
          0.74,
          0.9990000000000001,
          0.991,
          0.986,
          1,
          0.99,
          0.927,
          0.956,
          0.838,
          0.998,
          1,
          0.985,
          0.997,
          0.69,
          0.97,
          0.997,
          0.99,
          0.608,
          0.997,
          0.992,
          0.9990000000000001,
          0.19399999999999998,
          1,
          0.985,
          0.983,
          0.7240000000000001,
          0.9,
          0.877,
          0.489,
          0.293,
          0.439,
          0.9840000000000001,
          0.9990000000000001,
          0.992,
          0.998,
          1,
          0.386,
          0.971,
          1,
          0.991,
          0.986,
          0.972,
          0.99,
          0.996,
          0.317,
          1,
          0.998,
          0.951,
          0.7,
          0.84,
          0.9990000000000001,
          0.998,
          0.99,
          0.997,
          0.71,
          0.561,
          0.9990000000000001,
          0.987,
          0.998,
          0.997,
          0.992,
          0.9840000000000001,
          0.9990000000000001,
          0.9990000000000001,
          0.983,
          0.9990000000000001,
          0.985,
          1,
          0.987,
          0.9109999999999999,
          0.99,
          0.6829999999999999,
          0.9940000000000001,
          0.1,
          0.996,
          0.997,
          0.9620000000000001,
          0.998,
          0.983,
          0.672,
          1,
          0.99,
          0.9790000000000001,
          0.985,
          0.909,
          0.998,
          0.9990000000000001,
          0.991,
          0.998,
          0.9990000000000001,
          0.988,
          0.986,
          0.986,
          0.9990000000000001,
          1,
          0.986,
          0.988,
          0.998,
          0.9009999999999999,
          0.6509999999999999,
          0.9940000000000001,
          0.736,
          0.5429999999999999,
          0.36,
          0.9670000000000001,
          0.473,
          0.912,
          0.992,
          0.986,
          0.43,
          1,
          0.935,
          0.958,
          0.85,
          0.722,
          0.998,
          1,
          0.985,
          0.987,
          0.69,
          0.6509999999999999,
          0.99,
          0.99,
          0.997,
          0.99,
          0.9990000000000001,
          1,
          0.988,
          0.89,
          0.98,
          0.574,
          0.9990000000000001,
          0.993,
          0.995,
          1,
          0.981,
          0.919,
          0.662,
          0.39899999999999997,
          1,
          0.982,
          1,
          0.985,
          0.998,
          0.998,
          0.9890000000000001,
          1,
          0.809,
          0.746,
          0.848,
          0.9990000000000001,
          0.998,
          0.99,
          0.998,
          0.784,
          0.74,
          0.981,
          0.998,
          0.998,
          0.987,
          0.8220000000000001,
          0.925,
          0.9890000000000001,
          0.594,
          0.9990000000000001,
          0.9990000000000001,
          0.987,
          0.9990000000000001,
          0.982,
          0.8740000000000001,
          1,
          0.988,
          0.9309999999999999,
          0.995,
          0.993,
          0.993,
          0.998,
          0.971,
          0.893,
          0.998,
          0.985,
          0.99,
          0.45299999999999996,
          0.373,
          0.828,
          0.99,
          0.978,
          0.831,
          0.988,
          0.7040000000000001,
          0.998,
          0.998,
          0.996,
          1,
          0.988,
          0.991,
          0.401,
          0.986,
          0.9990000000000001,
          1,
          0.987,
          0.955,
          0.995,
          0.995,
          0.996,
          0.992,
          0.88,
          0.293,
          0.9990000000000001,
          0.992,
          0.986,
          0.51,
          0.9740000000000001,
          0.943,
          0.9570000000000001,
          0.867,
          0.998,
          1,
          0.995,
          0.997,
          0.99,
          0.99,
          0.997,
          0.995,
          0.998,
          0.998,
          1,
          0.987,
          0.992,
          0.8740000000000001,
          0.614,
          0.996,
          0.955,
          1,
          0.736,
          0.99,
          0.993,
          0.995,
          1,
          0.96,
          0.344,
          0.966,
          1,
          0.97,
          1,
          0.993,
          0.985,
          0.9990000000000001,
          0.98,
          0.998,
          0.435,
          0.986,
          0.998,
          0.9420000000000001,
          0.89,
          0.9990000000000001,
          0.991,
          0.997,
          0.997,
          0.98,
          0.9229999999999999,
          0.998,
          0.9990000000000001,
          0.987,
          0.99,
          0.9990000000000001,
          0.9990000000000001,
          0.9990000000000001,
          0.998,
          0.963,
          1,
          0.986,
          0.9470000000000001,
          0.998,
          0.9940000000000001,
          0.231,
          0.997,
          0.983,
          0.5720000000000001,
          0.9990000000000001,
          0.985,
          0.99,
          0.628,
          0.486,
          0.991,
          0.981,
          0.8740000000000001,
          0.988,
          0.998,
          0.9990000000000001,
          1,
          0.987,
          0.99,
          0.9840000000000001,
          0.611,
          0.9990000000000001,
          1,
          0.44299999999999995,
          0.988,
          0.956,
          0.586,
          0.9990000000000001,
          0.998,
          0.9890000000000001,
          0.99,
          0.882,
          0.35200000000000004,
          0.9990000000000001,
          0.991,
          0.986,
          0.521,
          0.991,
          0.914,
          0.8909999999999999,
          0.728,
          0.998,
          0.99,
          0.985,
          0.997,
          0.98,
          0.505,
          0.9990000000000001,
          0.597,
          0.996,
          0.986,
          1,
          0.99,
          0.9079999999999999,
          0.996,
          1,
          0.9990000000000001,
          0.9990000000000001,
          0.992,
          0.982,
          1,
          0.894,
          0.992,
          0.447,
          0.452,
          1,
          0.996,
          1,
          0.997,
          0.985,
          0.9990000000000001,
          0.996,
          0.998,
          0.42100000000000004,
          0.997,
          0.998,
          0.772,
          0.89,
          0.9990000000000001,
          0.995,
          0.991,
          0.9990000000000001,
          0.997,
          0.89,
          0.647,
          0.9790000000000001,
          0.956,
          0.998,
          0.9990000000000001,
          0.9890000000000001,
          0.8009999999999999,
          0.991,
          0.9990000000000001,
          0.9940000000000001,
          0.9740000000000001,
          0.9590000000000001,
          1,
          0.976,
          0.963,
          0.915,
          0.977,
          0.9940000000000001,
          0.883,
          0.155,
          0.997,
          0.997,
          0.983,
          0.9990000000000001,
          0.985,
          0.708,
          0.99,
          0.45,
          0.857,
          0.992,
          0.978,
          0.8109999999999999,
          0.99,
          0.997,
          0.9990000000000001,
          0.998,
          1,
          0.618,
          0.987,
          0.9840000000000001,
          0.981,
          0.779,
          1,
          0.8740000000000001,
          0.9890000000000001,
          0.956,
          0.9990000000000001,
          0.998,
          0.956,
          0.997,
          0.9890000000000001,
          0.556,
          0.966,
          0.9990000000000001,
          0.991,
          0.991,
          1,
          0.996,
          0.9390000000000001,
          0.9640000000000001,
          0.9079999999999999,
          0.998,
          0.9890000000000001,
          1,
          0.985,
          0.997,
          0.825,
          0.925,
          0.591,
          0.9840000000000001,
          0.997,
          0.985,
          1,
          1,
          0.99,
          0.775,
          0.903,
          0.446,
          1,
          0.9740000000000001,
          0.9990000000000001,
          0.9990000000000001,
          0.985,
          0.9990000000000001,
          1,
          0.995,
          0.938,
          0.633,
          0.8,
          0.505,
          0.996,
          0.997,
          0.985,
          0.998,
          0.997,
          0.99,
          0.89,
          0.9990000000000001,
          0.997,
          0.992,
          1,
          0.998,
          0.7979999999999999,
          0.914,
          0.20199999999999999,
          0.997,
          0.9990000000000001,
          0.9590000000000001,
          0.9440000000000001,
          0.9,
          0.9990000000000001,
          0.9990000000000001,
          0.9540000000000001,
          0.96,
          0.996,
          0.95,
          0.9990000000000001,
          0.995,
          0.9990000000000001,
          0.9990000000000001,
          0.977,
          0.9990000000000001,
          0.987,
          0.655,
          0.982,
          0.997,
          0.9990000000000001,
          0.9940000000000001,
          0.9990000000000001,
          0.9990000000000001,
          0.9940000000000001,
          0.43700000000000006,
          0.998,
          0.693,
          0.998,
          0.977,
          0.963,
          0.397,
          1,
          0.991,
          1,
          0.95,
          0.963,
          0.9159999999999999,
          0.998,
          0.9890000000000001,
          1,
          0.9520000000000001,
          0.907,
          0.532,
          0.996,
          0.862,
          1,
          0.8,
          0.98,
          1,
          0.9990000000000001,
          0.991,
          1,
          0.973,
          0.7809999999999999
         ],
         "yaxis": "y"
        }
       ],
       "layout": {
        "legend": {
         "tracegroupgap": 0
        },
        "plot_bgcolor": "white",
        "template": {
         "data": {
          "bar": [
           {
            "error_x": {
             "color": "#2a3f5f"
            },
            "error_y": {
             "color": "#2a3f5f"
            },
            "marker": {
             "line": {
              "color": "#E5ECF6",
              "width": 0.5
             }
            },
            "type": "bar"
           }
          ],
          "barpolar": [
           {
            "marker": {
             "line": {
              "color": "#E5ECF6",
              "width": 0.5
             }
            },
            "type": "barpolar"
           }
          ],
          "carpet": [
           {
            "aaxis": {
             "endlinecolor": "#2a3f5f",
             "gridcolor": "white",
             "linecolor": "white",
             "minorgridcolor": "white",
             "startlinecolor": "#2a3f5f"
            },
            "baxis": {
             "endlinecolor": "#2a3f5f",
             "gridcolor": "white",
             "linecolor": "white",
             "minorgridcolor": "white",
             "startlinecolor": "#2a3f5f"
            },
            "type": "carpet"
           }
          ],
          "choropleth": [
           {
            "colorbar": {
             "outlinewidth": 0,
             "ticks": ""
            },
            "type": "choropleth"
           }
          ],
          "contour": [
           {
            "colorbar": {
             "outlinewidth": 0,
             "ticks": ""
            },
            "colorscale": [
             [
              0,
              "#0d0887"
             ],
             [
              0.1111111111111111,
              "#46039f"
             ],
             [
              0.2222222222222222,
              "#7201a8"
             ],
             [
              0.3333333333333333,
              "#9c179e"
             ],
             [
              0.4444444444444444,
              "#bd3786"
             ],
             [
              0.5555555555555556,
              "#d8576b"
             ],
             [
              0.6666666666666666,
              "#ed7953"
             ],
             [
              0.7777777777777778,
              "#fb9f3a"
             ],
             [
              0.8888888888888888,
              "#fdca26"
             ],
             [
              1,
              "#f0f921"
             ]
            ],
            "type": "contour"
           }
          ],
          "contourcarpet": [
           {
            "colorbar": {
             "outlinewidth": 0,
             "ticks": ""
            },
            "type": "contourcarpet"
           }
          ],
          "heatmap": [
           {
            "colorbar": {
             "outlinewidth": 0,
             "ticks": ""
            },
            "colorscale": [
             [
              0,
              "#0d0887"
             ],
             [
              0.1111111111111111,
              "#46039f"
             ],
             [
              0.2222222222222222,
              "#7201a8"
             ],
             [
              0.3333333333333333,
              "#9c179e"
             ],
             [
              0.4444444444444444,
              "#bd3786"
             ],
             [
              0.5555555555555556,
              "#d8576b"
             ],
             [
              0.6666666666666666,
              "#ed7953"
             ],
             [
              0.7777777777777778,
              "#fb9f3a"
             ],
             [
              0.8888888888888888,
              "#fdca26"
             ],
             [
              1,
              "#f0f921"
             ]
            ],
            "type": "heatmap"
           }
          ],
          "heatmapgl": [
           {
            "colorbar": {
             "outlinewidth": 0,
             "ticks": ""
            },
            "colorscale": [
             [
              0,
              "#0d0887"
             ],
             [
              0.1111111111111111,
              "#46039f"
             ],
             [
              0.2222222222222222,
              "#7201a8"
             ],
             [
              0.3333333333333333,
              "#9c179e"
             ],
             [
              0.4444444444444444,
              "#bd3786"
             ],
             [
              0.5555555555555556,
              "#d8576b"
             ],
             [
              0.6666666666666666,
              "#ed7953"
             ],
             [
              0.7777777777777778,
              "#fb9f3a"
             ],
             [
              0.8888888888888888,
              "#fdca26"
             ],
             [
              1,
              "#f0f921"
             ]
            ],
            "type": "heatmapgl"
           }
          ],
          "histogram": [
           {
            "marker": {
             "colorbar": {
              "outlinewidth": 0,
              "ticks": ""
             }
            },
            "type": "histogram"
           }
          ],
          "histogram2d": [
           {
            "colorbar": {
             "outlinewidth": 0,
             "ticks": ""
            },
            "colorscale": [
             [
              0,
              "#0d0887"
             ],
             [
              0.1111111111111111,
              "#46039f"
             ],
             [
              0.2222222222222222,
              "#7201a8"
             ],
             [
              0.3333333333333333,
              "#9c179e"
             ],
             [
              0.4444444444444444,
              "#bd3786"
             ],
             [
              0.5555555555555556,
              "#d8576b"
             ],
             [
              0.6666666666666666,
              "#ed7953"
             ],
             [
              0.7777777777777778,
              "#fb9f3a"
             ],
             [
              0.8888888888888888,
              "#fdca26"
             ],
             [
              1,
              "#f0f921"
             ]
            ],
            "type": "histogram2d"
           }
          ],
          "histogram2dcontour": [
           {
            "colorbar": {
             "outlinewidth": 0,
             "ticks": ""
            },
            "colorscale": [
             [
              0,
              "#0d0887"
             ],
             [
              0.1111111111111111,
              "#46039f"
             ],
             [
              0.2222222222222222,
              "#7201a8"
             ],
             [
              0.3333333333333333,
              "#9c179e"
             ],
             [
              0.4444444444444444,
              "#bd3786"
             ],
             [
              0.5555555555555556,
              "#d8576b"
             ],
             [
              0.6666666666666666,
              "#ed7953"
             ],
             [
              0.7777777777777778,
              "#fb9f3a"
             ],
             [
              0.8888888888888888,
              "#fdca26"
             ],
             [
              1,
              "#f0f921"
             ]
            ],
            "type": "histogram2dcontour"
           }
          ],
          "mesh3d": [
           {
            "colorbar": {
             "outlinewidth": 0,
             "ticks": ""
            },
            "type": "mesh3d"
           }
          ],
          "parcoords": [
           {
            "line": {
             "colorbar": {
              "outlinewidth": 0,
              "ticks": ""
             }
            },
            "type": "parcoords"
           }
          ],
          "pie": [
           {
            "automargin": true,
            "type": "pie"
           }
          ],
          "scatter": [
           {
            "marker": {
             "colorbar": {
              "outlinewidth": 0,
              "ticks": ""
             }
            },
            "type": "scatter"
           }
          ],
          "scatter3d": [
           {
            "line": {
             "colorbar": {
              "outlinewidth": 0,
              "ticks": ""
             }
            },
            "marker": {
             "colorbar": {
              "outlinewidth": 0,
              "ticks": ""
             }
            },
            "type": "scatter3d"
           }
          ],
          "scattercarpet": [
           {
            "marker": {
             "colorbar": {
              "outlinewidth": 0,
              "ticks": ""
             }
            },
            "type": "scattercarpet"
           }
          ],
          "scattergeo": [
           {
            "marker": {
             "colorbar": {
              "outlinewidth": 0,
              "ticks": ""
             }
            },
            "type": "scattergeo"
           }
          ],
          "scattergl": [
           {
            "marker": {
             "colorbar": {
              "outlinewidth": 0,
              "ticks": ""
             }
            },
            "type": "scattergl"
           }
          ],
          "scattermapbox": [
           {
            "marker": {
             "colorbar": {
              "outlinewidth": 0,
              "ticks": ""
             }
            },
            "type": "scattermapbox"
           }
          ],
          "scatterpolar": [
           {
            "marker": {
             "colorbar": {
              "outlinewidth": 0,
              "ticks": ""
             }
            },
            "type": "scatterpolar"
           }
          ],
          "scatterpolargl": [
           {
            "marker": {
             "colorbar": {
              "outlinewidth": 0,
              "ticks": ""
             }
            },
            "type": "scatterpolargl"
           }
          ],
          "scatterternary": [
           {
            "marker": {
             "colorbar": {
              "outlinewidth": 0,
              "ticks": ""
             }
            },
            "type": "scatterternary"
           }
          ],
          "surface": [
           {
            "colorbar": {
             "outlinewidth": 0,
             "ticks": ""
            },
            "colorscale": [
             [
              0,
              "#0d0887"
             ],
             [
              0.1111111111111111,
              "#46039f"
             ],
             [
              0.2222222222222222,
              "#7201a8"
             ],
             [
              0.3333333333333333,
              "#9c179e"
             ],
             [
              0.4444444444444444,
              "#bd3786"
             ],
             [
              0.5555555555555556,
              "#d8576b"
             ],
             [
              0.6666666666666666,
              "#ed7953"
             ],
             [
              0.7777777777777778,
              "#fb9f3a"
             ],
             [
              0.8888888888888888,
              "#fdca26"
             ],
             [
              1,
              "#f0f921"
             ]
            ],
            "type": "surface"
           }
          ],
          "table": [
           {
            "cells": {
             "fill": {
              "color": "#EBF0F8"
             },
             "line": {
              "color": "white"
             }
            },
            "header": {
             "fill": {
              "color": "#C8D4E3"
             },
             "line": {
              "color": "white"
             }
            },
            "type": "table"
           }
          ]
         },
         "layout": {
          "annotationdefaults": {
           "arrowcolor": "#2a3f5f",
           "arrowhead": 0,
           "arrowwidth": 1
          },
          "coloraxis": {
           "colorbar": {
            "outlinewidth": 0,
            "ticks": ""
           }
          },
          "colorscale": {
           "diverging": [
            [
             0,
             "#8e0152"
            ],
            [
             0.1,
             "#c51b7d"
            ],
            [
             0.2,
             "#de77ae"
            ],
            [
             0.3,
             "#f1b6da"
            ],
            [
             0.4,
             "#fde0ef"
            ],
            [
             0.5,
             "#f7f7f7"
            ],
            [
             0.6,
             "#e6f5d0"
            ],
            [
             0.7,
             "#b8e186"
            ],
            [
             0.8,
             "#7fbc41"
            ],
            [
             0.9,
             "#4d9221"
            ],
            [
             1,
             "#276419"
            ]
           ],
           "sequential": [
            [
             0,
             "#0d0887"
            ],
            [
             0.1111111111111111,
             "#46039f"
            ],
            [
             0.2222222222222222,
             "#7201a8"
            ],
            [
             0.3333333333333333,
             "#9c179e"
            ],
            [
             0.4444444444444444,
             "#bd3786"
            ],
            [
             0.5555555555555556,
             "#d8576b"
            ],
            [
             0.6666666666666666,
             "#ed7953"
            ],
            [
             0.7777777777777778,
             "#fb9f3a"
            ],
            [
             0.8888888888888888,
             "#fdca26"
            ],
            [
             1,
             "#f0f921"
            ]
           ],
           "sequentialminus": [
            [
             0,
             "#0d0887"
            ],
            [
             0.1111111111111111,
             "#46039f"
            ],
            [
             0.2222222222222222,
             "#7201a8"
            ],
            [
             0.3333333333333333,
             "#9c179e"
            ],
            [
             0.4444444444444444,
             "#bd3786"
            ],
            [
             0.5555555555555556,
             "#d8576b"
            ],
            [
             0.6666666666666666,
             "#ed7953"
            ],
            [
             0.7777777777777778,
             "#fb9f3a"
            ],
            [
             0.8888888888888888,
             "#fdca26"
            ],
            [
             1,
             "#f0f921"
            ]
           ]
          },
          "colorway": [
           "#636efa",
           "#EF553B",
           "#00cc96",
           "#ab63fa",
           "#FFA15A",
           "#19d3f3",
           "#FF6692",
           "#B6E880",
           "#FF97FF",
           "#FECB52"
          ],
          "font": {
           "color": "#2a3f5f"
          },
          "geo": {
           "bgcolor": "white",
           "lakecolor": "white",
           "landcolor": "#E5ECF6",
           "showlakes": true,
           "showland": true,
           "subunitcolor": "white"
          },
          "hoverlabel": {
           "align": "left"
          },
          "hovermode": "closest",
          "mapbox": {
           "style": "light"
          },
          "paper_bgcolor": "white",
          "plot_bgcolor": "#E5ECF6",
          "polar": {
           "angularaxis": {
            "gridcolor": "white",
            "linecolor": "white",
            "ticks": ""
           },
           "bgcolor": "#E5ECF6",
           "radialaxis": {
            "gridcolor": "white",
            "linecolor": "white",
            "ticks": ""
           }
          },
          "scene": {
           "xaxis": {
            "backgroundcolor": "#E5ECF6",
            "gridcolor": "white",
            "gridwidth": 2,
            "linecolor": "white",
            "showbackground": true,
            "ticks": "",
            "zerolinecolor": "white"
           },
           "yaxis": {
            "backgroundcolor": "#E5ECF6",
            "gridcolor": "white",
            "gridwidth": 2,
            "linecolor": "white",
            "showbackground": true,
            "ticks": "",
            "zerolinecolor": "white"
           },
           "zaxis": {
            "backgroundcolor": "#E5ECF6",
            "gridcolor": "white",
            "gridwidth": 2,
            "linecolor": "white",
            "showbackground": true,
            "ticks": "",
            "zerolinecolor": "white"
           }
          },
          "shapedefaults": {
           "line": {
            "color": "#2a3f5f"
           }
          },
          "ternary": {
           "aaxis": {
            "gridcolor": "white",
            "linecolor": "white",
            "ticks": ""
           },
           "baxis": {
            "gridcolor": "white",
            "linecolor": "white",
            "ticks": ""
           },
           "bgcolor": "#E5ECF6",
           "caxis": {
            "gridcolor": "white",
            "linecolor": "white",
            "ticks": ""
           }
          },
          "title": {
           "x": 0.05
          },
          "xaxis": {
           "automargin": true,
           "gridcolor": "white",
           "linecolor": "white",
           "ticks": "",
           "title": {
            "standoff": 15
           },
           "zerolinecolor": "white",
           "zerolinewidth": 2
          },
          "yaxis": {
           "automargin": true,
           "gridcolor": "white",
           "linecolor": "white",
           "ticks": "",
           "title": {
            "standoff": 15
           },
           "zerolinecolor": "white",
           "zerolinewidth": 2
          }
         }
        },
        "title": {
         "text": "Relationship between Newborn Mortality and Professional health Assistance at Birth"
        },
        "xaxis": {
         "anchor": "y",
         "domain": [
          0,
          1
         ],
         "title": {
          "text": "Avg Newborn Mortality Rate"
         }
        },
        "yaxis": {
         "anchor": "x",
         "domain": [
          0,
          1
         ],
         "title": {
          "text": "% births with professional health assistance (0 to 1)"
         }
        }
       }
      },
      "text/html": [
       "<div>                            <div id=\"e38303c5-97a4-4697-825e-81aa59117b73\" class=\"plotly-graph-div\" style=\"height:525px; width:100%;\"></div>            <script type=\"text/javascript\">                require([\"plotly\"], function(Plotly) {                    window.PLOTLYENV=window.PLOTLYENV || {};                                    if (document.getElementById(\"e38303c5-97a4-4697-825e-81aa59117b73\")) {                    Plotly.newPlot(                        \"e38303c5-97a4-4697-825e-81aa59117b73\",                        [{\"hovertemplate\": \"Avg Newborn Mortality Rate=%{x}<br>% births with professional health assistance (0 to 1)=%{y}<extra></extra>\", \"legendgroup\": \"\", \"marker\": {\"color\": \"#636efa\", \"opacity\": 0.4, \"symbol\": \"circle\"}, \"mode\": \"markers\", \"name\": \"\", \"showlegend\": false, \"type\": \"scattergl\", \"x\": [13.4, 15.4, 23.0, 35.9, 14.0, 9.3, 11.3, 11.6, 29.7, 17.9, 8.1, 6.7, 5.6, 10.3, 17.0, 3.9, 50.7, 24.7, 13.6, 3.5, 30.3, 2.5, 20.2, 22.3, 36.1, 25.2, 12.0, 9.5, 9.0, 14.6, 20.6, 18.6, 50.4, 17.3, 4.0, 19.3, 22.7, 11.1, 11.3, 13.5, 14.0, 16.7, 22.3, 11.3, 12.5, 5.7, 16.0, 2.7, 40.7, 10.1, 30.0, 12.1, 8.2, 5.8, 12.2, 16.3, 13.2, 22.5, 4.4, 36.2, 9.2, 18.2, 11.1, 23.3, 6.2, 11.9, 40.5, 4.3, 29.7, 8.0, 6.4, 5.5, 9.7, 24.2, 32.0, 16.5, 24.7, 12.8, 3.3, 29.6, 22.3, 25.5, 13.7, 11.1, 45.2, 14.1, 18.9, 46.0, 56.2, 16.4, 3.8, 65.4, 10.7, 10.6, 13.4, 14.0, 12.0, 5.3, 2.5, 32.3, 9.7, 12.0, 5.6, 11.9, 13.0, 22.0, 14.7, 21.9, 4.2, 36.6, 9.3, 6.0, 12.1, 4.2, 29.4, 8.8, 7.8, 6.2, 5.3, 8.9, 30.7, 12.8, 3.6, 24.6, 60.5, 20.1, 11.9, 3.1, 28.9, 22.4, 25.6, 15.0, 12.5, 39.1, 45.7, 13.9, 19.6, 34.7, 26.1, 52.7, 15.6, 3.6, 16.6, 25.9, 10.5, 9.9, 13.3, 14.0, 42.0, 11.5, 4.9, 38.1, 12.1, 5.4, 11.6, 42.3, 35.1, 12.9, 21.2, 4.0, 4.0, 37.0, 9.5, 5.8, 12.2, 45.0, 4.1, 7.1, 28.8, 8.8, 7.4, 6.0, 5.1, 8.1, 29.4, 20.2, 12.1, 15.6, 3.4, 3.1, 24.5, 40.1, 10.8, 3.0, 53.7, 19.7, 22.7, 27.1, 25.6, 15.9, 40.8, 12.8, 6.8, 14.0, 20.4, 21.6, 14.6, 3.4, 16.3, 18.1, 10.5, 9.3, 13.3, 14.2, 40.0, 11.0, 4.6, 13.7, 15.1, 19.2, 28.7, 12.2, 5.2, 11.2, 12.9, 20.5, 3.9, 37.3, 54.0, 9.6, 39.7, 38.1, 5.6, 12.2, 4.1, 6.8, 28.0, 51.1, 6.9, 5.9, 4.8, 7.3, 21.2, 48.1, 11.3, 22.5, 15.2, 3.2, 39.6, 9.9, 2.8, 27.4, 22.9, 33.1, 25.5, 16.2, 40.8, 11.3, 37.7, 14.4, 21.4, 3.6, 13.6, 3.2, 16.1, 10.4, 13.2, 14.3, 10.5, 4.3, 14.8, 18.8, 2.1, 32.8, 19.0, 12.4, 5.1, 10.8, 14.0, 20.4, 12.7, 11.7, 13.3, 19.8, 3.7, 37.4, 10.7, 9.5, 9.2, 9.7, 15.1, 5.4, 12.2, 39.9, 4.1, 21.7, 49.7, 6.5, 26.9, 15.9, 6.4, 5.6, 4.5, 6.5, 10.9, 26.9, 30.4, 10.3, 14.9, 3.1, 9.3, 24.6, 61.6, 28.8, 33.6, 9.1, 2.7, 26.5, 2.2, 22.8, 25.1, 15.9, 17.9, 9.3, 7.1, 15.0, 22.3, 32.1, 3.5, 12.6, 3.1, 11.0, 17.0, 15.9, 30.9, 9.7, 8.3, 13.1, 14.3, 16.0, 12.2, 9.5, 9.9, 4.0, 18.4, 14.3, 11.2, 12.9, 21.0, 32.5, 18.9, 24.1, 34.6, 12.6, 6.6, 5.0, 10.3, 13.6, 12.5, 59.5, 11.2, 19.1, 3.7, 3.4, 37.1, 9.8, 41.9, 9.0, 24.4, 19.3, 5.2, 12.3, 4.0, 6.4, 25.7, 43.6, 6.0, 5.2, 4.2, 5.8, 23.8, 25.9, 29.5, 9.3, 14.7, 2.9, 18.7, 8.5, 2.6, 18.6, 2.1, 22.6, 7.7, 24.4, 15.2, 14.8, 7.8, 64.8, 15.5, 23.0, 45.8, 11.6, 2.9, 18.4, 15.7, 30.8, 19.5, 20.8, 8.8, 7.9, 13.1, 14.1, 15.1, 10.8, 2.1, 9.3, 3.8, 32.2, 35.5, 18.9, 32.2, 12.6, 4.9, 9.6, 30.3, 34.6, 12.3, 12.0, 18.3, 3.6, 3.2, 36.6, 9.6, 47.7, 9.5, 8.4, 18.5, 5.1, 12.3, 3.9, 49.2, 6.3, 24.4, 5.7, 4.7, 4.0, 5.2, 3.7, 24.9, 8.3, 14.4, 2.8, 27.9, 8.1, 2.5, 24.7, 21.3, 18.3, 17.5, 22.2, 23.7, 14.0, 6.8, 35.2, 15.5, 13.1, 23.3, 30.1, 51.6, 40.2, 10.9, 2.8, 64.5, 15.5, 7.8, 7.5, 13.1, 13.8, 40.3, 2.0, 8.8, 3.7, 1.8, 11.0, 31.9, 42.8, 18.8, 26.9, 12.4, 4.8, 9.1, 30.0, 12.9, 18.9, 39.9, 34.9, 11.9, 10.3, 11.5, 17.5, 3.6, 3.2, 35.8, 9.2, 9.0, 13.4, 32.5, 7.8, 17.8, 5.0, 12.2, 38.8, 37.5, 3.8, 19.6, 6.2, 14.4, 8.2, 5.7, 4.3, 3.7, 4.6, 3.7, 11.1, 24.0, 15.9, 7.5, 50.5, 14.2, 2.7, 22.4, 37.8, 7.9, 27.3, 7.7, 2.3, 23.9, 21.5, 28.4, 30.4, 23.1, 12.7, 6.2, 6.2, 18.2, 14.8, 26.2, 23.1, 27.9, 3.9, 18.5, 45.8, 10.3, 2.8, 15.5, 15.3, 18.6, 17.0, 6.9, 3.8, 7.2, 13.1, 13.5, 12.6, 1.9, 8.2, 3.5, 16.9, 12.6, 13.3, 31.4, 37.5, 18.8, 22.3, 12.1, 3.9, 4.7, 8.7, 29.8, 11.7, 11.3, 16.7, 3.5, 3.1, 34.7, 8.9, 8.6, 8.3, 3.1, 13.0, 7.2, 17.0, 4.9, 11.8, 43.0, 3.7, 6.0, 22.2, 14.0, 8.0, 50.4, 5.7, 4.2, 3.5, 4.2, 3.6, 11.2, 24.1, 17.9, 6.8, 14.1, 2.6, 21.8, 2.8, 37.1, 7.8, 21.6, 51.1, 7.4, 2.2, 46.5, 4.1, 20.9, 22.3, 11.5, 15.6, 5.8, 13.6, 26.0, 22.3, 3.5, 49.3, 9.7, 2.7, 61.8, 15.0, 18.3, 16.9, 6.2, 6.8, 13.1, 13.1, 39.6, 1.8, 7.7, 3.4, 14.4, 44.4, 13.4, 30.9, 33.1, 7.8, 18.8, 11.7, 4.6, 8.5, 29.5, 12.5, 35.0, 20.7, 45.2, 11.3, 21.0, 9.4, 11.3, 15.9, 3.5, 3.1, 33.4, 8.7, 4.7, 42.6, 8.7, 7.4, 12.6, 32.7, 29.9, 6.6, 24.0, 16.0, 4.9, 11.3, 39.4, 36.1, 34.7, 3.7, 49.0, 46.7, 5.7, 21.2, 13.5, 41.8, 7.7, 49.9, 5.5, 4.2, 3.2, 3.9, 3.5, 11.2, 24.1, 22.3, 44.8, 6.3, 21.3, 48.4, 13.9, 2.5, 29.8, 41.7, 21.0, 2.8, 7.7, 55.7, 26.0, 30.6, 7.0, 2.1, 45.1, 22.3, 19.2, 24.3, 4.0, 3.4, 17.0, 1.8, 20.1, 29.1, 28.9, 21.8, 43.3, 10.4, 11.8, 37.7, 43.7, 5.5, 31.7, 35.8, 5.3, 12.3, 10.1, 25.7, 20.7, 25.7, 9.0, 19.6, 39.3, 3.5, 43.4, 27.3, 9.2, 2.7, 7.5, 14.6, 16.4, 14.7, 30.1, 15.8, 16.8, 5.8, 3.4, 6.5, 13.1, 12.5, 42.3, 11.7, 24.5, 12.4, 38.9, 7.7, 9.2, 50.1, 1.6, 7.3, 3.3, 44.5, 2.4, 10.1, 11.6, 11.2, 13.5, 18.6, 30.1, 12.7, 36.0, 7.6, 18.7, 18.4, 30.6, 25.3, 32.5, 11.2, 4.6, 8.4, 29.0, 12.2, 12.0, 15.7, 11.0, 58.2, 9.0, 11.1, 15.1, 3.5, 3.1, 32.1, 4.2, 41.0, 6.6, 38.6, 6.1, 24.3, 14.9, 4.9, 10.8, 3.8, 5.5, 20.1, 13.1, 38.4, 7.4, 5.3, 4.1, 3.7, 3.4, 11.2, 5.7, 13.7, 2.4, 2.7, 29.6, 20.0, 2.7, 25.5, 17.3, 6.6, 2.0, 3.9, 16.5, 1.7, 19.4, 21.2, 42.3, 9.7, 5.3, 4.9, 23.2, 54.4, 5.0, 42.7, 25.3, 18.9, 8.7, 36.5, 37.8, 3.4, 16.7, 8.7, 2.6, 59.0, 14.4, 29.9, 5.4, 3.2, 6.2, 13.0, 11.9, 7.5, 1.5, 6.9, 3.1, 13.6, 29.2, 7.4, 18.6, 17.2, 31.6, 10.6, 4.6, 8.3, 28.5, 10.7, 20.7, 8.6, 10.6, 14.4, 3.4, 3.0, 30.6, 8.6, 3.7, 9.2, 5.9, 11.8, 28.4, 5.7, 24.7, 13.9, 4.9, 10.3, 3.8, 5.3, 18.6, 12.7, 7.2, 5.0, 4.0, 3.5, 3.3, 11.2, 23.9, 25.2, 5.3, 19.8, 13.5, 2.3, 18.7, 2.7, 7.5, 19.6, 6.1, 1.8, 20.9, 3.7, 3.1, 16.0, 1.7, 15.9, 18.6, 27.5, 6.2, 20.7, 9.1, 5.2, 2.2, 31.7, 4.6, 4.9, 18.4, 25.0, 17.1, 8.3, 3.4, 8.5, 2.5, 57.8, 13.7, 14.0, 16.7, 5.2, 6.0, 13.0, 11.2, 36.7, 7.1, 1.4, 6.6, 3.0, 45.2, 10.7, 11.3, 13.7, 17.3, 28.4, 34.1, 7.3, 18.5, 29.7, 24.8, 10.1, 4.6, 8.2, 27.9, 13.9, 32.3, 43.2, 10.3, 8.2, 10.0, 13.7, 3.4, 3.0, 29.2, 8.6, 3.2, 38.2, 9.5, 5.3, 29.8, 28.0, 5.4, 25.1, 13.0, 4.9, 9.8, 39.6, 3.9, 5.3, 17.1, 12.3, 7.1, 4.7, 3.8, 2.6, 3.4, 3.2, 42.3, 11.2, 20.2, 12.3, 4.8, 13.2, 2.2, 17.4, 2.7, 34.4, 7.5, 43.3, 24.8, 5.7, 1.7, 20.3, 3.5, 2.9, 15.5, 1.6, 17.9, 29.3, 20.3, 8.6, 5.2, 2.0, 4.4, 4.8, 9.9, 8.1, 24.5, 15.6, 22.3, 7.8, 38.1, 34.9, 3.6, 3.3, 45.0, 8.5, 2.4, 13.7, 16.3, 16.4, 5.0, 5.7, 12.8, 10.5, 22.7, 6.6, 1.3, 6.2, 2.8, 14.6, 2.9, 11.3, 27.5, 32.6, 34.0, 7.2, 18.2, 16.8, 29.1, 9.6, 5.2, 4.6, 8.0, 27.4, 11.8, 10.5, 34.1, 9.8, 7.9, 9.5, 13.0, 3.3, 2.9, 27.8, 8.7, 2.8, 36.8, 9.8, 4.7, 11.2, 27.6, 5.2, 25.4, 12.2, 4.9, 9.2, 28.3, 31.1, 4.0, 45.2, 5.4, 15.5, 12.0, 7.0, 47.1, 4.5, 3.6, 2.5, 3.3, 3.1, 11.3, 15.1, 4.4, 42.7, 12.9, 2.2, 2.5, 16.1, 2.6, 24.6, 5.3, 1.6, 19.8, 3.2, 2.8, 1.5, 17.2, 5.9, 20.0, 8.2, 9.0, 35.5, 5.2, 27.4, 28.6, 4.3, 15.7, 4.7, 14.5, 21.2, 7.4, 24.9, 33.8, 3.2, 18.7, 8.8, 2.4, 15.3, 13.3, 29.5, 15.8, 13.0, 4.8, 5.5, 12.3, 9.7, 10.6, 10.9, 34.0, 6.0, 1.3, 5.9, 2.6, 14.2, 9.9, 11.2, 13.8, 16.3, 10.7, 26.4, 27.3, 7.1, 17.8, 15.6, 28.5, 9.1, 5.1, 4.5, 7.7, 26.6, 9.4, 7.5, 9.2, 12.4, 3.3, 2.8, 26.6, 2.4, 10.0, 4.2, 11.0, 35.5, 27.7, 5.1, 25.5, 11.5, 4.9, 8.6, 36.0, 26.8, 4.0, 13.8, 5.4, 14.0, 11.7, 28.4, 7.0, 46.1, 4.2, 3.4, 2.4, 3.1, 3.1, 11.5, 14.6, 19.0, 11.3, 4.0, 40.9, 12.5, 2.1, 2.4, 14.8, 2.6, 7.3, 40.9, 24.4, 5.0, 1.5, 15.3, 3.0, 2.7, 14.7, 1.4, 16.2, 26.2, 5.9, 19.8, 38.3, 7.9, 35.2, 5.1, 27.7, 4.2, 13.6, 4.7, 9.9, 23.5, 13.8, 20.1, 6.8, 3.1, 8.9, 2.3, 5.8, 53.4, 14.9, 13.0, 15.4, 4.6, 5.2, 11.7, 9.0, 31.2, 10.7, 32.5, 5.5, 9.1, 46.7, 1.3, 5.6, 2.5, 9.5, 11.2, 13.8, 25.6, 26.2, 7.1, 28.0, 8.8, 4.5, 7.4, 26.0, 12.0, 41.0, 8.9, 18.8, 7.2, 8.8, 11.8, 3.2, 2.8, 25.4, 8.6, 2.1, 34.2, 9.9, 3.7, 10.7, 35.0, 26.6, 5.1, 25.5, 10.8, 4.9, 8.1, 35.2, 25.5, 30.2, 4.0, 13.9, 47.9, 5.5, 12.6, 11.4, 6.9, 45.2, 4.0, 3.2, 2.3, 3.0, 3.0, 40.4, 23.8, 14.2, 10.9, 3.7, 11.8, 2.0, 2.3, 36.2, 13.7, 2.6, 33.4, 50.4, 24.2, 29.4, 15.3, 4.8, 1.4, 37.1, 22.3, 2.8, 2.6, 14.5, 1.3, 15.1, 5.8, 19.5, 37.2, 7.5, 4.8, 27.0, 4.2, 11.8, 46.4, 4.6, 7.5, 23.0, 13.3, 6.4, 31.3, 3.0, 35.4, 8.7, 2.2, 5.6, 52.5, 12.0, 14.5, 12.6, 28.9, 14.9, 12.0, 4.4, 5.0, 10.9, 8.3, 21.0, 10.5, 5.2, 9.1, 1.2, 5.4, 2.3, 45.2, 48.6, 11.1, 32.9, 15.4, 3.3, 9.9, 24.9, 9.5, 32.0, 7.1, 17.1, 12.6, 27.5, 26.3, 8.5, 4.4, 7.0, 25.4, 12.0, 12.5, 30.8, 23.7, 55.0, 6.9, 8.5, 11.1, 3.1, 2.7, 24.4, 8.5, 1.8, 32.8, 9.8, 3.2, 10.4, 25.5, 5.1, 25.3, 10.4, 4.8, 7.7, 3.9, 14.0, 5.5, 11.3, 11.0, 35.0, 6.8, 3.9, 3.1, 2.2, 2.8, 2.9, 12.2, 23.9, 13.8, 10.6, 3.4, 17.1, 11.1, 2.0, 2.3, 12.6, 2.5, 33.1, 7.1, 37.7, 24.1, 4.6, 1.3, 18.1, 21.9, 2.6, 2.5, 1.3, 13.6, 14.0, 5.7, 19.0, 7.2, 31.3, 10.8, 4.4, 4.3, 10.4, 4.6, 17.9, 41.1, 6.9, 13.2, 5.9, 32.1, 17.1, 24.6, 3.0, 13.3, 8.4, 2.1, 5.5, 51.8, 11.6, 12.3, 4.2, 4.9, 10.0, 7.7, 10.2, 5.1, 9.0, 1.2, 5.3, 2.2, 14.5, 7.7, 8.8, 10.9, 13.6, 24.4, 7.1, 12.6, 22.7, 8.2, 4.3, 6.6, 24.9, 12.1, 26.5, 39.8, 6.6, 8.1, 10.6, 3.0, 2.6, 23.4, 8.4, 1.6, 9.5, 2.8, 10.1, 24.4, 24.4, 5.1, 25.0, 10.3, 4.7, 7.4, 3.8, 14.1, 47.4, 5.5, 10.1, 10.7, 6.7, 3.8, 2.9, 2.1, 2.7, 12.7, 13.4, 16.9, 10.3, 3.1, 10.7, 1.9, 2.3, 11.6, 2.4, 32.8, 24.1, 4.4, 1.3, 34.9, 17.6, 2.5, 2.5, 14.0, 1.2, 12.9, 26.0, 5.4, 18.4, 6.9, 10.1, 4.1, 26.5, 4.4, 9.2, 4.6, 9.6, 22.1, 13.1, 17.2, 5.4, 32.3, 3.1, 39.8, 7.9, 2.0, 5.4, 51.2, 11.3, 12.0, 13.9, 11.1, 15.0, 4.0, 4.8, 9.2, 7.2, 26.7, 9.9, 5.0, 9.0, 43.3, 1.2, 5.2, 2.1, 12.3, 8.4, 10.8, 13.5, 23.9, 7.1, 16.2, 11.7, 7.8, 4.6, 4.3, 6.4, 24.3, 7.9, 6.3, 7.8, 10.0, 2.9, 2.6, 22.5, 1.5, 30.2, 2.5, 9.9, 23.3, 5.2, 24.6, 10.5, 4.7, 7.2, 3.8, 14.1, 47.0, 5.5, 9.1, 10.4, 6.6, 3.7, 2.8, 2.0, 2.5, 2.8, 13.2, 13.0, 10.0, 2.8, 10.4, 1.8, 2.3, 10.8, 2.4, 6.9, 16.2, 24.0, 4.2, 1.2, 12.4, 2.5, 2.5, 13.7, 1.2, 11.8, 26.6, 25.9, 5.1, 17.3, 6.6, 34.7, 3.7, 1.3, 22.9, 4.3, 8.2, 4.6, 17.8, 9.3, 6.9, 21.7, 13.0, 5.0, 3.2, 17.3, 7.3, 1.9, 5.3, 50.6, 10.9, 11.6, 13.5, 10.7, 3.8, 4.6, 8.5, 6.7, 10.2, 19.5, 9.6, 4.9, 9.0, 1.2, 5.1, 1.9, 1.8, 8.1, 13.3, 8.7, 23.3, 8.4, 7.1, 10.8, 7.5, 4.2, 6.2, 23.7, 25.2, 38.7, 6.0, 7.5, 9.5, 2.8, 2.5, 21.7, 8.0, 1.4, 28.9, 2.3, 9.6, 22.2, 5.1, 24.2, 10.7, 4.6, 7.1, 30.4, 31.7, 20.7, 3.7, 13.9, 46.4, 42.5, 5.4, 8.2, 10.0, 32.9, 6.6, 3.5, 2.7, 1.9, 2.4, 2.8, 23.5, 12.6, 9.8, 20.5, 2.5, 16.6, 10.3, 1.7, 2.3, 33.2, 10.0, 2.3, 15.8, 45.5, 4.0, 1.2, 16.4, 11.7, 2.5, 2.4, 1.1, 10.7, 25.7, 4.6, 16.1, 33.6, 6.3, 8.9, 3.4, 25.7, 4.3, 7.4, 42.1, 4.6, 17.7, 9.1, 7.7, 12.9, 14.9, 21.1, 29.7, 3.3, 11.8, 6.5, 1.9, 5.3, 10.6, 13.4, 11.3, 13.0, 10.2, 3.6, 4.5, 7.9, 6.3, 24.3, 9.3, 4.8, 9.0, 40.7, 1.1, 5.0, 1.8, 43.7, 7.8, 10.5, 13.1, 32.2, 13.5, 22.8, 21.5, 25.3, 29.2, 7.2, 7.1, 4.1, 6.1, 23.1, 38.1, 7.2, 9.1, 2.6, 2.4, 21.0, 7.8, 1.3, 27.6, 8.9, 2.2, 9.4, 21.3, 21.9, 5.0, 23.7, 10.8, 4.5, 19.4, 27.5, 3.6, 13.7, 5.4, 7.5, 9.7, 6.5, 3.3, 2.6, 1.8, 2.3, 2.7, 14.6, 23.3, 12.2, 9.5, 35.7, 2.3, 31.4, 10.3, 1.6, 2.2, 9.3, 2.3, 31.2, 6.7, 3.9, 1.1, 11.2, 20.4, 2.5, 2.4, 13.1, 1.0, 9.8, 4.2, 14.8, 6.0, 8.5, 3.2, 4.2, 6.7, 4.5, 17.6, 38.3, 12.8, 20.3, 29.8, 25.6, 3.4, 37.4, 5.6, 1.8, 5.3, 49.2, 10.2, 10.9, 12.6, 9.8, 14.0, 3.4, 4.4, 7.4, 6.0, 22.9, 24.3, 4.7, 9.0, 1.1, 4.9, 1.7, 7.5, 12.8, 22.3, 14.9, 21.2, 6.8, 4.0, 5.9, 22.6, 9.9, 12.7, 25.1, 37.4, 5.5, 7.0, 8.6, 2.4, 20.4, 1.2, 8.7, 2.1, 32.9, 20.4, 21.2, 4.7, 23.3, 10.7, 4.4, 30.4, 18.2, 3.5, 5.3, 6.9, 9.4, 36.2, 19.9, 6.5, 40.2, 3.1, 2.5, 1.7, 2.1, 2.7, 35.9, 15.1, 23.0, 11.8, 9.2, 2.0, 10.2, 1.5, 2.2, 24.7, 8.7, 2.3, 6.5, 33.2, 26.9, 12.2, 3.8, 1.1, 15.1, 10.7, 20.0, 2.5, 1.0, 11.7, 8.9, 3.8, 13.7, 32.0, 5.8, 8.1, 2.9, 4.1, 6.1, 4.5, 9.0, 8.1, 12.6, 11.0, 28.9, 4.8, 1.7, 5.3, 48.4, 9.9, 10.6, 12.2, 9.4, 3.3, 4.3, 7.1, 5.7, 4.5, 9.0, 1.1, 4.7, 1.6, 1.7, 7.2, 10.0, 12.5, 21.8, 20.3, 7.5, 7.3, 14.5, 9.2, 6.4, 3.9, 5.8, 22.1, 9.7, 24.4, 15.7, 5.3, 6.8, 8.2, 2.4, 2.3, 19.7, 7.3, 1.2, 25.2, 8.4, 2.0, 8.9, 19.7, 22.9, 10.3, 4.3, 6.2, 3.4, 12.9, 5.2, 6.3, 9.1, 6.4, 2.9, 2.4, 1.6, 2.0, 2.6, 15.5, 22.6, 11.4, 8.9, 1.8, 29.3, 10.0, 2.3, 31.4, 8.2, 2.2, 6.4, 14.3, 26.5, 3.7, 1.0, 14.5, 10.2, 2.4, 2.2, 8.1, 3.6, 12.8, 5.6, 25.3, 7.8, 2.7, 20.5, 4.1, 5.6, 39.4, 4.5, 12.4, 12.3, 3.5, 16.4, 35.8, 4.2, 1.6, 5.3, 47.4, 9.6, 10.2, 8.9, 13.3, 3.2, 2.1, 6.8, 5.4, 8.5, 22.2, 4.4, 37.0, 1.1, 4.6, 7.0, 12.2, 21.4, 7.3, 14.0, 6.1, 3.8, 3.8, 5.5, 21.5, 12.0, 9.5, 23.6, 36.1, 5.1, 6.5, 7.7, 2.3, 2.2, 18.9, 7.1, 1.1, 24.2, 8.2, 1.9, 32.2, 19.1, 4.2, 22.4, 9.6, 4.3, 5.9, 15.7, 26.1, 3.3, 12.6, 5.1, 5.9, 8.8, 30.6, 6.3, 2.7, 2.4, 1.5, 2.6, 15.6, 22.1, 11.1, 13.3, 8.6, 1.7, 14.6, 28.5, 9.8, 1.3, 2.3, 7.6, 2.2, 29.0, 6.2, 40.6, 23.2, 3.6, 1.0, 28.6, 9.8, 2.3, 2.1, 1.0, 7.5, 22.9, 3.4, 12.1, 5.4, 33.4, 2.6, 22.4, 4.0, 5.2, 4.4, 8.7, 7.4, 12.1, 11.7, 23.0, 3.2, 3.8, 1.6, 5.3, 9.3, 12.1, 9.9, 11.4, 8.6, 3.2, 2.0, 4.0, 6.5, 5.2, 9.7, 17.5, 21.5, 4.3, 1.1, 4.4, 5.6, 6.8, 11.8, 30.4, 20.9, 27.2, 13.6, 7.5, 5.7, 3.6, 3.7, 5.3, 20.9, 9.2, 11.7, 22.0, 23.9, 35.5, 6.3, 2.2, 2.1, 18.2, 1.1, 8.0, 18.3, 4.0, 21.9, 8.9, 4.3, 5.6, 26.7, 12.2, 39.3, 4.9, 5.5, 8.5, 18.0, 6.2, 2.6, 2.3, 2.5, 15.6, 21.7, 10.8, 8.3, 1.5, 9.6, 1.3, 2.2, 7.2, 2.1, 13.4, 0.9, 2.3, 0.9, 7.0, 3.2, 5.2, 3.9, 37.8, 4.4, 35.7, 8.4, 7.0, 3.1, 26.8, 3.5, 1.5, 9.0, 9.6, 10.9, 8.2, 3.1, 2.0, 3.8, 6.3, 18.7, 20.8, 1.0, 12.2, 1.6, 11.5, 20.5, 13.2, 3.5, 3.6, 20.4, 8.9, 23.5], \"xaxis\": \"x\", \"y\": [0.93, 0.9690000000000001, 0.997, 0.973, 0.99, 0.9990000000000001, 0.97, 0.991, 0.94, 0.8059999999999999, 0.998, 0.998, 1.0, 1.0, 0.953, 0.988, 0.441, 0.966, 0.9940000000000001, 1.0, 0.40700000000000003, 0.9990000000000001, 0.872, 0.99, 0.6, 0.9890000000000001, 1.0, 1.0, 0.9279999999999999, 0.9109999999999999, 0.838, 1.0, 0.308, 0.889, 0.9940000000000001, 1.0, 0.66, 0.996, 1.0, 0.998, 0.992, 0.76, 0.88, 0.98, 1.0, 0.9990000000000001, 0.85, 0.98, 0.685, 0.94, 0.95, 0.9990000000000001, 0.991, 0.992, 0.9940000000000001, 0.79, 0.9259999999999999, 0.997, 1.0, 0.972, 0.9990000000000001, 0.769, 0.9740000000000001, 0.695, 0.978, 0.995, 0.584, 0.991, 0.937, 0.998, 0.998, 1.0, 1.0, 0.924, 0.365, 0.945, 0.9129999999999999, 0.9940000000000001, 0.9990000000000001, 0.317, 0.981, 0.9890000000000001, 1.0, 1.0, 0.4, 0.945, 1.0, 0.46299999999999997, 0.07400000000000001, 0.893, 0.993, 0.188, 0.996, 1.0, 0.9990000000000001, 0.992, 1.0, 0.9990000000000001, 0.9790000000000001, 0.903, 0.92, 0.9990000000000001, 0.992, 0.993, 0.8640000000000001, 0.765, 0.958, 0.983, 0.993, 0.965, 0.9990000000000001, 0.98, 0.998, 0.996, 0.841, 0.98, 0.998, 0.998, 1.0, 1.0, 0.40700000000000003, 0.99, 0.986, 0.9109999999999999, 0.305, 0.469, 0.995, 0.998, 0.40700000000000003, 0.9890000000000001, 0.987, 1.0, 1.0, 0.57, 0.5479999999999999, 0.965, 1.0, 0.31, 0.682, 0.149, 0.909, 0.993, 0.858, 0.525, 0.996, 1.0, 0.997, 0.991, 0.258, 1.0, 0.9990000000000001, 0.439, 0.9990000000000001, 0.993, 0.99, 0.159, 0.505, 0.872, 0.955, 0.993, 1.0, 0.963, 0.9990000000000001, 0.978, 0.99, 0.415, 0.9940000000000001, 0.9940000000000001, 0.836, 0.97, 0.998, 0.998, 1.0, 1.0, 0.40700000000000003, 0.8740000000000001, 0.991, 0.976, 0.986, 0.99, 0.9079999999999999, 0.43799999999999994, 0.9940000000000001, 0.998, 0.342, 0.934, 0.986, 0.45399999999999996, 0.983, 1.0, 0.609, 1.0, 0.98, 0.963, 1.0, 0.61, 0.9329999999999999, 0.9940000000000001, 0.8690000000000001, 0.528, 0.996, 1.0, 0.9890000000000001, 0.991, 0.47200000000000003, 1.0, 0.9990000000000001, 0.941, 0.769, 0.983, 0.759, 0.9990000000000001, 0.9940000000000001, 0.983, 0.8909999999999999, 0.9329999999999999, 0.9940000000000001, 0.996, 0.095, 0.9990000000000001, 0.12, 0.47200000000000003, 0.982, 0.99, 0.993, 0.995, 0.904, 0.45399999999999996, 0.998, 0.998, 1.0, 1.0, 0.987, 0.05, 0.993, 0.56, 0.9620000000000001, 0.985, 0.43799999999999994, 0.9940000000000001, 0.998, 0.365, 0.983, 0.72, 0.982, 1.0, 0.376, 1.0, 0.9, 0.977, 1.0, 0.95, 0.934, 0.993, 0.88, 0.996, 0.99, 0.991, 1.0, 0.9990000000000001, 0.835, 0.82, 0.9840000000000001, 0.826, 0.98, 0.9990000000000001, 0.9940000000000001, 0.982, 0.87, 0.6920000000000001, 0.8909999999999999, 1.0, 0.985, 0.9309999999999999, 0.993, 0.915, 0.99, 0.976, 1.0, 0.9990000000000001, 0.79, 0.986, 0.9890000000000001, 0.433, 0.98, 0.54, 0.45899999999999996, 0.995, 0.893, 0.836, 0.9990000000000001, 0.998, 1.0, 1.0, 1.0, 0.462, 0.20600000000000002, 0.995, 0.9620000000000001, 0.985, 1.0, 0.348, 0.25, 0.93, 0.20600000000000002, 0.9940000000000001, 0.998, 0.49700000000000005, 0.9990000000000001, 0.996, 0.98, 1.0, 0.9440000000000001, 1.0, 0.951, 0.981, 1.0, 0.396, 1.0, 0.941, 0.992, 0.95, 1.0, 0.883, 0.42, 0.996, 1.0, 0.991, 0.991, 0.914, 0.987, 0.99, 1.0, 0.9990000000000001, 0.82, 1.0, 1.0, 1.0, 0.8, 0.809, 0.975, 0.8059999999999999, 0.37799999999999995, 0.9990000000000001, 0.992, 0.9940000000000001, 0.98, 0.8909999999999999, 0.912, 0.225, 1.0, 0.9570000000000001, 0.993, 0.982, 0.879, 0.9990000000000001, 0.598, 0.9890000000000001, 0.87, 0.8759999999999999, 0.9890000000000001, 0.9990000000000001, 0.992, 0.996, 0.9309999999999999, 0.516, 0.998, 0.998, 1.0, 1.0, 0.955, 0.46299999999999997, 0.20600000000000002, 0.996, 0.963, 0.9840000000000001, 0.545, 0.995, 0.998, 0.9, 1.0, 0.981, 0.981, 0.981, 1.0, 0.89, 1.0, 0.4, 0.975, 1.0, 0.09, 0.95, 0.992, 0.9490000000000001, 0.899, 0.513, 0.608, 0.564, 0.997, 1.0, 0.99, 0.991, 0.914, 0.988, 0.997, 1.0, 0.9990000000000001, 0.79, 0.382, 0.98, 0.958, 0.9990000000000001, 0.9940000000000001, 0.98, 0.975, 0.46, 0.988, 0.972, 0.9640000000000001, 0.993, 0.982, 0.904, 0.99, 0.08, 0.9990000000000001, 0.99, 0.986, 0.996, 0.9990000000000001, 0.993, 0.15, 0.9940000000000001, 0.938, 0.9990000000000001, 0.9990000000000001, 1.0, 1.0, 0.983, 0.564, 0.995, 0.9620000000000001, 0.9840000000000001, 0.95, 0.995, 0.998, 0.43200000000000005, 0.861, 0.946, 0.9670000000000001, 0.976, 0.981, 1.0, 1.0, 0.473, 0.978, 0.857, 1.0, 0.456, 0.442, 0.564, 0.956, 0.991, 0.18, 0.895, 0.997, 1.0, 0.983, 0.991, 0.466, 0.997, 1.0, 0.9990000000000001, 1.0, 0.997, 0.726, 0.258, 0.99, 0.99, 0.9990000000000001, 0.9940000000000001, 0.996, 1.0, 0.953, 0.7709999999999999, 0.21600000000000003, 0.465, 0.991, 1.0, 0.975, 0.9740000000000001, 0.993, 0.983, 0.915, 0.99, 0.9990000000000001, 0.79, 0.593, 0.995, 0.986, 0.993, 0.9990000000000001, 0.34, 0.55, 0.993, 0.885, 0.996, 0.9129999999999999, 0.98, 0.9990000000000001, 0.9990000000000001, 1.0, 0.9990000000000001, 0.988, 0.95, 0.552, 0.904, 0.996, 0.065, 1.0, 0.983, 0.96, 0.44299999999999995, 0.99, 0.94, 0.995, 0.9990000000000001, 0.56, 0.98, 0.44299999999999995, 0.85, 0.985, 1.0, 1.0, 0.9620000000000001, 0.9490000000000001, 0.985, 0.88, 0.98, 0.971, 1.0, 0.6459999999999999, 0.17600000000000002, 0.966, 0.991, 1.0, 0.9, 0.608, 0.564, 0.997, 0.997, 1.0, 0.99, 0.991, 1.0, 1.0, 1.0, 0.998, 0.8440000000000001, 0.9940000000000001, 0.98, 0.741, 0.505, 0.982, 0.8059999999999999, 0.9990000000000001, 0.99, 0.9940000000000001, 0.99, 1.0, 0.99, 0.975, 0.988, 0.993, 0.983, 0.924, 0.99, 0.91, 0.9990000000000001, 0.993, 0.838, 0.997, 0.986, 0.9940000000000001, 0.99, 0.31, 0.992, 0.9940000000000001, 0.968, 0.9209999999999999, 0.982, 0.47100000000000003, 0.9990000000000001, 0.9990000000000001, 1.0, 0.9990000000000001, 0.987, 0.9990000000000001, 0.9740000000000001, 0.991, 0.996, 0.9640000000000001, 0.9840000000000001, 0.9640000000000001, 0.987, 0.44299999999999995, 0.99, 0.406, 0.348, 0.995, 0.996, 0.402, 0.995, 0.991, 0.985, 1.0, 0.99, 1.0, 0.998, 0.838, 0.98, 0.92, 0.41600000000000004, 0.97, 0.991, 0.18, 0.9009999999999999, 0.856, 0.58, 0.997, 1.0, 0.98, 0.991, 0.483, 0.997, 1.0, 0.9990000000000001, 0.85, 0.193, 0.993, 0.6659999999999999, 0.358, 0.96, 0.99, 0.9990000000000001, 0.9940000000000001, 0.998, 1.0, 0.88, 0.45299999999999996, 0.725, 0.124, 0.991, 0.92, 0.9990000000000001, 0.991, 0.968, 0.993, 0.983, 0.841, 0.99, 0.977, 0.121, 0.98, 0.9990000000000001, 1.0, 0.237, 0.6729999999999999, 0.9890000000000001, 0.985, 0.986, 0.995, 0.998, 0.252, 0.318, 0.561, 0.993, 0.317, 0.13699999999999998, 0.99, 0.966, 0.861, 0.618, 0.9840000000000001, 0.628, 0.9990000000000001, 0.9990000000000001, 0.9790000000000001, 0.9990000000000001, 0.988, 1.0, 0.976, 0.609, 0.6459999999999999, 0.997, 0.654, 0.055999999999999994, 0.99, 0.9840000000000001, 0.826, 0.516, 0.9570000000000001, 0.986, 1.0, 0.318, 0.8290000000000001, 0.23800000000000002, 0.995, 0.993, 0.425, 0.669, 0.8959999999999999, 0.652, 0.996, 0.998, 0.9590000000000001, 0.998, 0.983, 0.426, 0.85, 0.986, 0.16699999999999998, 1.0, 0.9990000000000001, 0.48100000000000004, 0.509, 1.0, 0.47, 0.556, 0.966, 0.997, 0.8859999999999999, 0.889, 0.98, 0.966, 0.991, 0.755, 0.11900000000000001, 0.973, 0.157, 0.9670000000000001, 0.977, 0.99, 0.968, 1.0, 0.9740000000000001, 0.905, 0.41, 0.593, 0.58, 0.998, 0.997, 1.0, 0.99, 0.992, 0.313, 0.8, 0.7859999999999999, 0.91, 0.578, 0.98, 0.99, 0.371, 0.997, 1.0, 0.9990000000000001, 0.193, 0.9990000000000001, 0.96, 0.9940000000000001, 1.0, 1.0, 0.616, 0.7070000000000001, 0.993, 0.354, 0.95, 0.96, 0.899, 0.972, 1.0, 0.36, 0.9990000000000001, 0.9940000000000001, 0.997, 0.9490000000000001, 0.88, 0.94, 0.588, 0.99, 0.447, 1.0, 0.9840000000000001, 0.9840000000000001, 0.993, 0.983, 0.94, 0.975, 0.12, 0.9990000000000001, 0.655, 0.998, 0.92, 0.983, 0.997, 0.9890000000000001, 0.993, 0.998, 0.973, 0.9309999999999999, 0.607, 0.98, 0.9990000000000001, 0.9990000000000001, 0.9990000000000001, 0.9890000000000001, 1.0, 0.997, 0.9840000000000001, 0.985, 0.996, 0.855, 0.9670000000000001, 0.986, 0.938, 0.557, 0.996, 0.995, 0.996, 0.985, 0.998, 0.985, 0.987, 0.19399999999999998, 0.99, 1.0, 0.968, 0.703, 0.406, 0.9990000000000001, 0.534, 0.857, 0.99, 0.995, 0.57, 0.109, 0.966, 0.669, 0.976, 0.991, 0.23, 0.9209999999999999, 0.39, 0.998, 0.9990000000000001, 1.0, 0.965, 0.993, 0.982, 0.996, 0.9940000000000001, 0.9990000000000001, 1.0, 0.8109999999999999, 0.953, 0.995, 0.899, 0.39, 0.9990000000000001, 0.9940000000000001, 0.996, 1.0, 0.98, 0.9590000000000001, 0.99, 0.9890000000000001, 0.988, 0.993, 0.9840000000000001, 0.94, 0.99, 0.976, 1.0, 0.9990000000000001, 0.97, 0.6509999999999999, 0.998, 0.965, 0.985, 0.996, 0.992, 0.993, 0.998, 0.9670000000000001, 0.945, 0.985, 0.9990000000000001, 0.9990000000000001, 0.9990000000000001, 0.988, 1.0, 0.978, 0.28300000000000003, 0.996, 0.74, 0.9690000000000001, 0.998, 0.9740000000000001, 0.986, 1.0, 0.414, 0.996, 0.9940000000000001, 0.684, 0.995, 0.996, 0.9690000000000001, 0.998, 0.995, 0.9890000000000001, 0.76, 1.0, 0.988, 1.0, 1.0, 0.9990000000000001, 0.605, 0.97, 0.995, 0.95, 0.816, 0.996, 0.997, 0.992, 0.982, 0.991, 0.23, 1.0, 0.9420000000000001, 0.858, 0.998, 1.0, 0.991, 0.993, 0.58, 0.992, 0.997, 0.9940000000000001, 0.9990000000000001, 0.248, 0.995, 0.98, 1.0, 0.9, 0.887, 0.24, 0.951, 0.987, 0.972, 1.0, 0.9990000000000001, 0.995, 0.997, 1.0, 0.85, 0.42100000000000004, 0.14300000000000002, 0.988, 0.99, 0.987, 0.992, 0.993, 0.9840000000000001, 0.958, 0.99, 0.978, 0.139, 1.0, 0.9990000000000001, 0.561, 0.608, 0.9990000000000001, 0.961, 0.9840000000000001, 0.996, 0.992, 0.37799999999999995, 0.9890000000000001, 0.977, 0.9590000000000001, 0.95, 0.982, 0.9990000000000001, 0.9990000000000001, 0.99, 0.9990000000000001, 0.9890000000000001, 0.606, 1.0, 0.6940000000000001, 0.924, 0.997, 0.9670000000000001, 0.998, 0.99, 0.986, 0.47100000000000003, 1.0, 0.48700000000000004, 0.94, 0.996, 0.9940000000000001, 0.6629999999999999, 0.996, 0.996, 0.9740000000000001, 0.998, 0.9940000000000001, 0.41600000000000004, 0.9890000000000001, 0.99, 1.0, 0.9990000000000001, 0.976, 0.995, 0.9840000000000001, 0.95, 0.846, 0.9940000000000001, 0.986, 0.997, 0.47700000000000004, 0.675, 1.0, 0.982, 0.35200000000000004, 0.99, 0.99, 0.925, 0.8590000000000001, 0.598, 0.998, 1.0, 0.992, 0.9940000000000001, 0.764, 0.985, 0.997, 0.995, 0.9990000000000001, 0.912, 0.9990000000000001, 0.99, 0.8809999999999999, 0.184, 0.608, 0.97, 0.997, 0.83, 0.995, 0.9990000000000001, 1.0, 0.993, 0.997, 1.0, 0.84, 0.95, 0.268, 0.993, 1.0, 0.991, 0.995, 0.993, 0.9840000000000001, 0.9590000000000001, 0.98, 0.9940000000000001, 0.132, 1.0, 0.9990000000000001, 0.878, 0.608, 0.9990000000000001, 0.973, 0.986, 0.996, 0.9940000000000001, 0.163, 0.589, 0.99, 0.14400000000000002, 0.998, 0.973, 0.907, 0.985, 0.68, 0.9990000000000001, 0.9990000000000001, 0.9570000000000001, 0.9990000000000001, 0.986, 1.0, 0.982, 0.998, 0.064, 0.97, 0.998, 0.98, 0.975, 0.982, 0.9590000000000001, 0.996, 0.9940000000000001, 0.715, 0.997, 0.998, 0.998, 0.9940000000000001, 0.983, 0.982, 1.0, 0.982, 0.5539999999999999, 1.0, 0.513, 0.561, 0.98, 0.852, 0.9990000000000001, 0.993, 0.997, 0.996, 0.626, 0.158, 0.94, 0.971, 0.99, 0.991, 0.983, 0.9129999999999999, 0.39, 0.772, 0.711, 0.998, 1.0, 0.9890000000000001, 0.993, 1.0, 0.96, 0.58, 0.987, 0.997, 0.995, 0.9990000000000001, 0.912, 1.0, 1.0, 1.0, 0.9, 0.897, 0.7509999999999999, 0.434, 0.98, 0.997, 0.83, 0.985, 0.9990000000000001, 1.0, 0.993, 0.995, 1.0, 0.998, 0.9990000000000001, 0.991, 0.978, 0.9940000000000001, 0.986, 0.9440000000000001, 1.0, 1.0, 1.0, 0.893, 0.75, 0.523, 0.9990000000000001, 0.94, 0.986, 0.997, 0.9940000000000001, 0.318, 0.43799999999999994, 0.988, 0.775, 0.998, 0.975, 0.9640000000000001, 0.8340000000000001, 0.985, 0.551, 0.9990000000000001, 0.9990000000000001, 0.993, 0.9990000000000001, 0.988, 0.99, 0.8, 0.742, 0.872, 0.998, 0.057, 0.972, 0.998, 0.9790000000000001, 0.983, 0.982, 1.0, 0.38, 0.9670000000000001, 0.996, 0.99, 0.973, 0.997, 0.998, 0.9670000000000001, 0.998, 0.9940000000000001, 0.897, 0.986, 0.9790000000000001, 0.146, 1.0, 0.5539999999999999, 1.0, 0.561, 0.981, 0.9159999999999999, 0.997, 0.992, 0.8270000000000001, 0.995, 0.992, 0.9990000000000001, 0.94, 0.991, 0.992, 0.98, 0.31, 0.97, 0.9109999999999999, 0.875, 0.9990000000000001, 1.0, 0.981, 0.9940000000000001, 0.386, 0.96, 0.519, 0.997, 0.99, 0.4, 0.997, 0.995, 0.9990000000000001, 1.0, 1.0, 1.0, 0.8240000000000001, 0.434, 0.961, 0.997, 0.998, 0.9940000000000001, 0.9990000000000001, 1.0, 0.92, 0.18899999999999997, 0.99, 0.9520000000000001, 0.9990000000000001, 0.9940000000000001, 0.997, 0.993, 0.986, 0.8859999999999999, 0.99, 0.975, 0.201, 1.0, 0.9990000000000001, 0.9420000000000001, 0.74, 0.5710000000000001, 0.9940000000000001, 0.993, 0.97, 0.997, 0.9940000000000001, 0.535, 0.43799999999999994, 0.45899999999999996, 0.988, 0.764, 0.414, 0.998, 0.978, 0.971, 0.986, 0.568, 0.9990000000000001, 0.9990000000000001, 0.985, 0.9990000000000001, 0.987, 0.784, 0.955, 0.826, 0.8959999999999999, 0.998, 0.993, 0.998, 0.983, 0.521, 0.988, 0.9840000000000001, 0.49700000000000005, 0.31, 0.966, 0.261, 0.6629999999999999, 0.997, 0.9890000000000001, 0.466, 0.885, 0.997, 0.998, 0.945, 0.998, 0.998, 0.987, 0.976, 0.18899999999999997, 1.0, 1.0, 0.536, 0.9840000000000001, 0.9420000000000001, 0.49, 0.988, 0.934, 0.88, 0.996, 0.872, 0.187, 0.9790000000000001, 0.177, 0.978, 0.992, 0.98, 0.56, 1.0, 0.966, 0.91, 0.53, 0.905, 0.71, 0.9940000000000001, 1.0, 0.982, 0.995, 0.807, 0.96, 0.889, 0.99, 0.997, 0.995, 0.9990000000000001, 0.094, 0.09699999999999999, 0.9790000000000001, 0.28800000000000003, 0.865, 1.0, 0.915, 0.7829999999999999, 0.9690000000000001, 0.524, 0.98, 0.9690000000000001, 0.946, 0.995, 0.419, 0.9990000000000001, 0.9940000000000001, 0.9990000000000001, 0.9990000000000001, 0.929, 0.838, 0.35700000000000004, 0.685, 0.467, 1.0, 0.9940000000000001, 0.9990000000000001, 0.992, 0.985, 0.93, 0.99, 0.9740000000000001, 0.18, 1.0, 0.9990000000000001, 0.946, 0.536, 0.9990000000000001, 0.946, 0.986, 0.9990000000000001, 0.996, 1.0, 0.7440000000000001, 0.997, 0.9840000000000001, 0.978, 0.644, 0.987, 0.9990000000000001, 0.9990000000000001, 0.983, 0.9990000000000001, 0.978, 0.94, 0.978, 0.841, 0.9309999999999999, 0.9940000000000001, 0.69, 0.99, 0.998, 0.981, 0.9940000000000001, 0.9840000000000001, 0.552, 0.988, 0.461, 0.809, 0.996, 0.9890000000000001, 0.73, 0.797, 0.997, 0.996, 0.998, 0.991, 0.995, 0.987, 0.9840000000000001, 0.9940000000000001, 0.46299999999999997, 0.983, 1.0, 0.986, 0.963, 0.998, 0.862, 0.5710000000000001, 0.937, 0.996, 1.0, 0.639, 0.8140000000000001, 0.9740000000000001, 0.9570000000000001, 0.737, 0.996, 0.991, 0.99, 0.38799999999999996, 1.0, 0.915, 0.9940000000000001, 1.0, 0.988, 0.996, 0.97, 0.998, 1.0, 0.997, 0.992, 0.9990000000000001, 0.855, 0.986, 1.0, 1.0, 1.0, 0.884, 0.98, 0.893, 0.9309999999999999, 0.987, 0.993, 0.986, 1.0, 0.74, 0.452, 0.24, 1.0, 0.948, 0.9990000000000001, 0.991, 0.986, 0.98, 0.99, 0.975, 1.0, 0.9990000000000001, 0.9490000000000001, 0.6629999999999999, 0.711, 0.9990000000000001, 0.983, 0.988, 0.997, 0.996, 0.987, 0.746, 0.43700000000000006, 0.998, 0.991, 0.981, 0.991, 0.9990000000000001, 0.9990000000000001, 0.972, 0.9990000000000001, 1.0, 0.858, 0.789, 0.95, 0.993, 0.988, 0.998, 0.98, 0.996, 0.985, 0.547, 0.96, 0.995, 0.987, 0.523, 0.7490000000000001, 0.998, 0.998, 0.983, 0.998, 0.998, 0.65, 0.987, 0.985, 0.991, 0.998, 1.0, 0.68, 0.986, 0.983, 0.9990000000000001, 0.995, 0.9, 0.995, 0.9940000000000001, 0.9990000000000001, 0.5529999999999999, 0.9670000000000001, 0.344, 0.997, 0.992, 0.986, 0.38, 1.0, 0.9179999999999999, 0.872, 0.794, 0.622, 0.9940000000000001, 1.0, 0.987, 0.996, 0.521, 0.97, 0.997, 1.0, 0.424, 0.998, 0.995, 0.9990000000000001, 0.943, 1.0, 1.0, 0.992, 0.85, 0.97, 0.995, 0.9129999999999999, 0.9990000000000001, 1.0, 0.993, 0.996, 1.0, 0.993, 1.0, 0.9790000000000001, 1.0, 0.991, 0.986, 0.998, 0.9940000000000001, 0.244, 0.9990000000000001, 0.935, 0.66, 0.9990000000000001, 0.995, 0.9890000000000001, 0.9990000000000001, 0.996, 0.986, 0.7559999999999999, 0.43700000000000006, 0.998, 0.993, 0.986, 0.991, 0.9990000000000001, 0.9990000000000001, 0.983, 0.996, 0.987, 1.0, 0.877, 0.975, 0.992, 0.998, 0.998, 0.9790000000000001, 0.9990000000000001, 0.983, 1.0, 0.515, 0.8740000000000001, 0.996, 0.988, 0.977, 0.998, 0.998, 0.983, 0.998, 0.9940000000000001, 0.43799999999999994, 0.7979999999999999, 0.987, 0.985, 0.9890000000000001, 0.615, 1.0, 0.9990000000000001, 0.439, 0.986, 0.948, 0.998, 0.865, 0.9940000000000001, 0.953, 1.0, 0.997, 0.995, 0.9670000000000001, 1.0, 0.998, 0.992, 0.986, 0.41, 0.993, 0.8859999999999999, 0.938, 0.825, 0.997, 1.0, 0.985, 0.997, 0.8079999999999999, 0.8170000000000001, 0.97, 0.998, 0.99, 0.997, 0.995, 0.9990000000000001, 0.9990000000000001, 1.0, 0.9890000000000001, 0.9620000000000001, 0.871, 0.9940000000000001, 0.981, 0.95, 0.9990000000000001, 0.993, 0.997, 1.0, 0.602, 0.34299999999999997, 1.0, 0.95, 0.995, 0.991, 0.985, 0.9940000000000001, 0.99, 0.993, 0.265, 0.9990000000000001, 0.94, 0.645, 0.9990000000000001, 0.991, 0.9890000000000001, 0.998, 0.995, 0.659, 0.603, 0.71, 0.985, 0.985, 0.4, 0.166, 0.998, 0.996, 0.948, 0.742, 0.953, 0.9990000000000001, 0.9990000000000001, 0.986, 0.9990000000000001, 0.985, 0.9690000000000001, 0.892, 0.98, 0.341, 0.993, 0.82, 0.997, 0.998, 0.975, 0.561, 0.996, 0.983, 0.523, 0.43, 0.991, 0.982, 0.8220000000000001, 0.9640000000000001, 0.998, 0.9990000000000001, 0.998, 1.0, 0.983, 0.986, 0.983, 0.37, 0.988, 0.9990000000000001, 1.0, 0.7140000000000001, 0.986, 0.982, 0.281, 0.998, 0.99, 0.995, 0.941, 0.992, 0.9840000000000001, 0.741, 0.706, 0.9620000000000001, 0.74, 0.9990000000000001, 0.991, 0.986, 1.0, 0.99, 0.927, 0.956, 0.838, 0.998, 1.0, 0.985, 0.997, 0.69, 0.97, 0.997, 0.99, 0.608, 0.997, 0.992, 0.9990000000000001, 0.19399999999999998, 1.0, 0.985, 0.983, 0.7240000000000001, 0.9, 0.877, 0.489, 0.293, 0.439, 0.9840000000000001, 0.9990000000000001, 0.992, 0.998, 1.0, 0.386, 0.971, 1.0, 0.991, 0.986, 0.972, 0.99, 0.996, 0.317, 1.0, 0.998, 0.951, 0.7, 0.84, 0.9990000000000001, 0.998, 0.99, 0.997, 0.71, 0.561, 0.9990000000000001, 0.987, 0.998, 0.997, 0.992, 0.9840000000000001, 0.9990000000000001, 0.9990000000000001, 0.983, 0.9990000000000001, 0.985, 1.0, 0.987, 0.9109999999999999, 0.99, 0.6829999999999999, 0.9940000000000001, 0.1, 0.996, 0.997, 0.9620000000000001, 0.998, 0.983, 0.672, 1.0, 0.99, 0.9790000000000001, 0.985, 0.909, 0.998, 0.9990000000000001, 0.991, 0.998, 0.9990000000000001, 0.988, 0.986, 0.986, 0.9990000000000001, 1.0, 0.986, 0.988, 0.998, 0.9009999999999999, 0.6509999999999999, 0.9940000000000001, 0.736, 0.5429999999999999, 0.36, 0.9670000000000001, 0.473, 0.912, 0.992, 0.986, 0.43, 1.0, 0.935, 0.958, 0.85, 0.722, 0.998, 1.0, 0.985, 0.987, 0.69, 0.6509999999999999, 0.99, 0.99, 0.997, 0.99, 0.9990000000000001, 1.0, 0.988, 0.89, 0.98, 0.574, 0.9990000000000001, 0.993, 0.995, 1.0, 0.981, 0.919, 0.662, 0.39899999999999997, 1.0, 0.982, 1.0, 0.985, 0.998, 0.998, 0.9890000000000001, 1.0, 0.809, 0.746, 0.848, 0.9990000000000001, 0.998, 0.99, 0.998, 0.784, 0.74, 0.981, 0.998, 0.998, 0.987, 0.8220000000000001, 0.925, 0.9890000000000001, 0.594, 0.9990000000000001, 0.9990000000000001, 0.987, 0.9990000000000001, 0.982, 0.8740000000000001, 1.0, 0.988, 0.9309999999999999, 0.995, 0.993, 0.993, 0.998, 0.971, 0.893, 0.998, 0.985, 0.99, 0.45299999999999996, 0.373, 0.828, 0.99, 0.978, 0.831, 0.988, 0.7040000000000001, 0.998, 0.998, 0.996, 1.0, 0.988, 0.991, 0.401, 0.986, 0.9990000000000001, 1.0, 0.987, 0.955, 0.995, 0.995, 0.996, 0.992, 0.88, 0.293, 0.9990000000000001, 0.992, 0.986, 0.51, 0.9740000000000001, 0.943, 0.9570000000000001, 0.867, 0.998, 1.0, 0.995, 0.997, 0.99, 0.99, 0.997, 0.995, 0.998, 0.998, 1.0, 0.987, 0.992, 0.8740000000000001, 0.614, 0.996, 0.955, 1.0, 0.736, 0.99, 0.993, 0.995, 1.0, 0.96, 0.344, 0.966, 1.0, 0.97, 1.0, 0.993, 0.985, 0.9990000000000001, 0.98, 0.998, 0.435, 0.986, 0.998, 0.9420000000000001, 0.89, 0.9990000000000001, 0.991, 0.997, 0.997, 0.98, 0.9229999999999999, 0.998, 0.9990000000000001, 0.987, 0.99, 0.9990000000000001, 0.9990000000000001, 0.9990000000000001, 0.998, 0.963, 1.0, 0.986, 0.9470000000000001, 0.998, 0.9940000000000001, 0.231, 0.997, 0.983, 0.5720000000000001, 0.9990000000000001, 0.985, 0.99, 0.628, 0.486, 0.991, 0.981, 0.8740000000000001, 0.988, 0.998, 0.9990000000000001, 1.0, 0.987, 0.99, 0.9840000000000001, 0.611, 0.9990000000000001, 1.0, 0.44299999999999995, 0.988, 0.956, 0.586, 0.9990000000000001, 0.998, 0.9890000000000001, 0.99, 0.882, 0.35200000000000004, 0.9990000000000001, 0.991, 0.986, 0.521, 0.991, 0.914, 0.8909999999999999, 0.728, 0.998, 0.99, 0.985, 0.997, 0.98, 0.505, 0.9990000000000001, 0.597, 0.996, 0.986, 1.0, 0.99, 0.9079999999999999, 0.996, 1.0, 0.9990000000000001, 0.9990000000000001, 0.992, 0.982, 1.0, 0.894, 0.992, 0.447, 0.452, 1.0, 0.996, 1.0, 0.997, 0.985, 0.9990000000000001, 0.996, 0.998, 0.42100000000000004, 0.997, 0.998, 0.772, 0.89, 0.9990000000000001, 0.995, 0.991, 0.9990000000000001, 0.997, 0.89, 0.647, 0.9790000000000001, 0.956, 0.998, 0.9990000000000001, 0.9890000000000001, 0.8009999999999999, 0.991, 0.9990000000000001, 0.9940000000000001, 0.9740000000000001, 0.9590000000000001, 1.0, 0.976, 0.963, 0.915, 0.977, 0.9940000000000001, 0.883, 0.155, 0.997, 0.997, 0.983, 0.9990000000000001, 0.985, 0.708, 0.99, 0.45, 0.857, 0.992, 0.978, 0.8109999999999999, 0.99, 0.997, 0.9990000000000001, 0.998, 1.0, 0.618, 0.987, 0.9840000000000001, 0.981, 0.779, 1.0, 0.8740000000000001, 0.9890000000000001, 0.956, 0.9990000000000001, 0.998, 0.956, 0.997, 0.9890000000000001, 0.556, 0.966, 0.9990000000000001, 0.991, 0.991, 1.0, 0.996, 0.9390000000000001, 0.9640000000000001, 0.9079999999999999, 0.998, 0.9890000000000001, 1.0, 0.985, 0.997, 0.825, 0.925, 0.591, 0.9840000000000001, 0.997, 0.985, 1.0, 1.0, 0.99, 0.775, 0.903, 0.446, 1.0, 0.9740000000000001, 0.9990000000000001, 0.9990000000000001, 0.985, 0.9990000000000001, 1.0, 0.995, 0.938, 0.633, 0.8, 0.505, 0.996, 0.997, 0.985, 0.998, 0.997, 0.99, 0.89, 0.9990000000000001, 0.997, 0.992, 1.0, 0.998, 0.7979999999999999, 0.914, 0.20199999999999999, 0.997, 0.9990000000000001, 0.9590000000000001, 0.9440000000000001, 0.9, 0.9990000000000001, 0.9990000000000001, 0.9540000000000001, 0.96, 0.996, 0.95, 0.9990000000000001, 0.995, 0.9990000000000001, 0.9990000000000001, 0.977, 0.9990000000000001, 0.987, 0.655, 0.982, 0.997, 0.9990000000000001, 0.9940000000000001, 0.9990000000000001, 0.9990000000000001, 0.9940000000000001, 0.43700000000000006, 0.998, 0.693, 0.998, 0.977, 0.963, 0.397, 1.0, 0.991, 1.0, 0.95, 0.963, 0.9159999999999999, 0.998, 0.9890000000000001, 1.0, 0.9520000000000001, 0.907, 0.532, 0.996, 0.862, 1.0, 0.8, 0.98, 1.0, 0.9990000000000001, 0.991, 1.0, 0.973, 0.7809999999999999], \"yaxis\": \"y\"}],                        {\"legend\": {\"tracegroupgap\": 0}, \"plot_bgcolor\": \"white\", \"template\": {\"data\": {\"bar\": [{\"error_x\": {\"color\": \"#2a3f5f\"}, \"error_y\": {\"color\": \"#2a3f5f\"}, \"marker\": {\"line\": {\"color\": \"#E5ECF6\", \"width\": 0.5}}, \"type\": \"bar\"}], \"barpolar\": [{\"marker\": {\"line\": {\"color\": \"#E5ECF6\", \"width\": 0.5}}, \"type\": \"barpolar\"}], \"carpet\": [{\"aaxis\": {\"endlinecolor\": \"#2a3f5f\", \"gridcolor\": \"white\", \"linecolor\": \"white\", \"minorgridcolor\": \"white\", \"startlinecolor\": \"#2a3f5f\"}, \"baxis\": {\"endlinecolor\": \"#2a3f5f\", \"gridcolor\": \"white\", \"linecolor\": \"white\", \"minorgridcolor\": \"white\", \"startlinecolor\": \"#2a3f5f\"}, \"type\": \"carpet\"}], \"choropleth\": [{\"colorbar\": {\"outlinewidth\": 0, \"ticks\": \"\"}, \"type\": \"choropleth\"}], \"contour\": [{\"colorbar\": {\"outlinewidth\": 0, \"ticks\": \"\"}, \"colorscale\": [[0.0, \"#0d0887\"], [0.1111111111111111, \"#46039f\"], [0.2222222222222222, \"#7201a8\"], [0.3333333333333333, \"#9c179e\"], [0.4444444444444444, \"#bd3786\"], [0.5555555555555556, \"#d8576b\"], [0.6666666666666666, \"#ed7953\"], [0.7777777777777778, \"#fb9f3a\"], [0.8888888888888888, \"#fdca26\"], [1.0, \"#f0f921\"]], \"type\": \"contour\"}], \"contourcarpet\": [{\"colorbar\": {\"outlinewidth\": 0, \"ticks\": \"\"}, \"type\": \"contourcarpet\"}], \"heatmap\": [{\"colorbar\": {\"outlinewidth\": 0, \"ticks\": \"\"}, \"colorscale\": [[0.0, \"#0d0887\"], [0.1111111111111111, \"#46039f\"], [0.2222222222222222, \"#7201a8\"], [0.3333333333333333, \"#9c179e\"], [0.4444444444444444, \"#bd3786\"], [0.5555555555555556, \"#d8576b\"], [0.6666666666666666, \"#ed7953\"], [0.7777777777777778, \"#fb9f3a\"], [0.8888888888888888, \"#fdca26\"], [1.0, \"#f0f921\"]], \"type\": \"heatmap\"}], \"heatmapgl\": [{\"colorbar\": {\"outlinewidth\": 0, \"ticks\": \"\"}, \"colorscale\": [[0.0, \"#0d0887\"], [0.1111111111111111, \"#46039f\"], [0.2222222222222222, \"#7201a8\"], [0.3333333333333333, \"#9c179e\"], [0.4444444444444444, \"#bd3786\"], [0.5555555555555556, \"#d8576b\"], [0.6666666666666666, \"#ed7953\"], [0.7777777777777778, \"#fb9f3a\"], [0.8888888888888888, \"#fdca26\"], [1.0, \"#f0f921\"]], \"type\": \"heatmapgl\"}], \"histogram\": [{\"marker\": {\"colorbar\": {\"outlinewidth\": 0, \"ticks\": \"\"}}, \"type\": \"histogram\"}], \"histogram2d\": [{\"colorbar\": {\"outlinewidth\": 0, \"ticks\": \"\"}, \"colorscale\": [[0.0, \"#0d0887\"], [0.1111111111111111, \"#46039f\"], [0.2222222222222222, \"#7201a8\"], [0.3333333333333333, \"#9c179e\"], [0.4444444444444444, \"#bd3786\"], [0.5555555555555556, \"#d8576b\"], [0.6666666666666666, \"#ed7953\"], [0.7777777777777778, \"#fb9f3a\"], [0.8888888888888888, \"#fdca26\"], [1.0, \"#f0f921\"]], \"type\": \"histogram2d\"}], \"histogram2dcontour\": [{\"colorbar\": {\"outlinewidth\": 0, \"ticks\": \"\"}, \"colorscale\": [[0.0, \"#0d0887\"], [0.1111111111111111, \"#46039f\"], [0.2222222222222222, \"#7201a8\"], [0.3333333333333333, \"#9c179e\"], [0.4444444444444444, \"#bd3786\"], [0.5555555555555556, \"#d8576b\"], [0.6666666666666666, \"#ed7953\"], [0.7777777777777778, \"#fb9f3a\"], [0.8888888888888888, \"#fdca26\"], [1.0, \"#f0f921\"]], \"type\": \"histogram2dcontour\"}], \"mesh3d\": [{\"colorbar\": {\"outlinewidth\": 0, \"ticks\": \"\"}, \"type\": \"mesh3d\"}], \"parcoords\": [{\"line\": {\"colorbar\": {\"outlinewidth\": 0, \"ticks\": \"\"}}, \"type\": \"parcoords\"}], \"pie\": [{\"automargin\": true, \"type\": \"pie\"}], \"scatter\": [{\"marker\": {\"colorbar\": {\"outlinewidth\": 0, \"ticks\": \"\"}}, \"type\": \"scatter\"}], \"scatter3d\": [{\"line\": {\"colorbar\": {\"outlinewidth\": 0, \"ticks\": \"\"}}, \"marker\": {\"colorbar\": {\"outlinewidth\": 0, \"ticks\": \"\"}}, \"type\": \"scatter3d\"}], \"scattercarpet\": [{\"marker\": {\"colorbar\": {\"outlinewidth\": 0, \"ticks\": \"\"}}, \"type\": \"scattercarpet\"}], \"scattergeo\": [{\"marker\": {\"colorbar\": {\"outlinewidth\": 0, \"ticks\": \"\"}}, \"type\": \"scattergeo\"}], \"scattergl\": [{\"marker\": {\"colorbar\": {\"outlinewidth\": 0, \"ticks\": \"\"}}, \"type\": \"scattergl\"}], \"scattermapbox\": [{\"marker\": {\"colorbar\": {\"outlinewidth\": 0, \"ticks\": \"\"}}, \"type\": \"scattermapbox\"}], \"scatterpolar\": [{\"marker\": {\"colorbar\": {\"outlinewidth\": 0, \"ticks\": \"\"}}, \"type\": \"scatterpolar\"}], \"scatterpolargl\": [{\"marker\": {\"colorbar\": {\"outlinewidth\": 0, \"ticks\": \"\"}}, \"type\": \"scatterpolargl\"}], \"scatterternary\": [{\"marker\": {\"colorbar\": {\"outlinewidth\": 0, \"ticks\": \"\"}}, \"type\": \"scatterternary\"}], \"surface\": [{\"colorbar\": {\"outlinewidth\": 0, \"ticks\": \"\"}, \"colorscale\": [[0.0, \"#0d0887\"], [0.1111111111111111, \"#46039f\"], [0.2222222222222222, \"#7201a8\"], [0.3333333333333333, \"#9c179e\"], [0.4444444444444444, \"#bd3786\"], [0.5555555555555556, \"#d8576b\"], [0.6666666666666666, \"#ed7953\"], [0.7777777777777778, \"#fb9f3a\"], [0.8888888888888888, \"#fdca26\"], [1.0, \"#f0f921\"]], \"type\": \"surface\"}], \"table\": [{\"cells\": {\"fill\": {\"color\": \"#EBF0F8\"}, \"line\": {\"color\": \"white\"}}, \"header\": {\"fill\": {\"color\": \"#C8D4E3\"}, \"line\": {\"color\": \"white\"}}, \"type\": \"table\"}]}, \"layout\": {\"annotationdefaults\": {\"arrowcolor\": \"#2a3f5f\", \"arrowhead\": 0, \"arrowwidth\": 1}, \"coloraxis\": {\"colorbar\": {\"outlinewidth\": 0, \"ticks\": \"\"}}, \"colorscale\": {\"diverging\": [[0, \"#8e0152\"], [0.1, \"#c51b7d\"], [0.2, \"#de77ae\"], [0.3, \"#f1b6da\"], [0.4, \"#fde0ef\"], [0.5, \"#f7f7f7\"], [0.6, \"#e6f5d0\"], [0.7, \"#b8e186\"], [0.8, \"#7fbc41\"], [0.9, \"#4d9221\"], [1, \"#276419\"]], \"sequential\": [[0.0, \"#0d0887\"], [0.1111111111111111, \"#46039f\"], [0.2222222222222222, \"#7201a8\"], [0.3333333333333333, \"#9c179e\"], [0.4444444444444444, \"#bd3786\"], [0.5555555555555556, \"#d8576b\"], [0.6666666666666666, \"#ed7953\"], [0.7777777777777778, \"#fb9f3a\"], [0.8888888888888888, \"#fdca26\"], [1.0, \"#f0f921\"]], \"sequentialminus\": [[0.0, \"#0d0887\"], [0.1111111111111111, \"#46039f\"], [0.2222222222222222, \"#7201a8\"], [0.3333333333333333, \"#9c179e\"], [0.4444444444444444, \"#bd3786\"], [0.5555555555555556, \"#d8576b\"], [0.6666666666666666, \"#ed7953\"], [0.7777777777777778, \"#fb9f3a\"], [0.8888888888888888, \"#fdca26\"], [1.0, \"#f0f921\"]]}, \"colorway\": [\"#636efa\", \"#EF553B\", \"#00cc96\", \"#ab63fa\", \"#FFA15A\", \"#19d3f3\", \"#FF6692\", \"#B6E880\", \"#FF97FF\", \"#FECB52\"], \"font\": {\"color\": \"#2a3f5f\"}, \"geo\": {\"bgcolor\": \"white\", \"lakecolor\": \"white\", \"landcolor\": \"#E5ECF6\", \"showlakes\": true, \"showland\": true, \"subunitcolor\": \"white\"}, \"hoverlabel\": {\"align\": \"left\"}, \"hovermode\": \"closest\", \"mapbox\": {\"style\": \"light\"}, \"paper_bgcolor\": \"white\", \"plot_bgcolor\": \"#E5ECF6\", \"polar\": {\"angularaxis\": {\"gridcolor\": \"white\", \"linecolor\": \"white\", \"ticks\": \"\"}, \"bgcolor\": \"#E5ECF6\", \"radialaxis\": {\"gridcolor\": \"white\", \"linecolor\": \"white\", \"ticks\": \"\"}}, \"scene\": {\"xaxis\": {\"backgroundcolor\": \"#E5ECF6\", \"gridcolor\": \"white\", \"gridwidth\": 2, \"linecolor\": \"white\", \"showbackground\": true, \"ticks\": \"\", \"zerolinecolor\": \"white\"}, \"yaxis\": {\"backgroundcolor\": \"#E5ECF6\", \"gridcolor\": \"white\", \"gridwidth\": 2, \"linecolor\": \"white\", \"showbackground\": true, \"ticks\": \"\", \"zerolinecolor\": \"white\"}, \"zaxis\": {\"backgroundcolor\": \"#E5ECF6\", \"gridcolor\": \"white\", \"gridwidth\": 2, \"linecolor\": \"white\", \"showbackground\": true, \"ticks\": \"\", \"zerolinecolor\": \"white\"}}, \"shapedefaults\": {\"line\": {\"color\": \"#2a3f5f\"}}, \"ternary\": {\"aaxis\": {\"gridcolor\": \"white\", \"linecolor\": \"white\", \"ticks\": \"\"}, \"baxis\": {\"gridcolor\": \"white\", \"linecolor\": \"white\", \"ticks\": \"\"}, \"bgcolor\": \"#E5ECF6\", \"caxis\": {\"gridcolor\": \"white\", \"linecolor\": \"white\", \"ticks\": \"\"}}, \"title\": {\"x\": 0.05}, \"xaxis\": {\"automargin\": true, \"gridcolor\": \"white\", \"linecolor\": \"white\", \"ticks\": \"\", \"title\": {\"standoff\": 15}, \"zerolinecolor\": \"white\", \"zerolinewidth\": 2}, \"yaxis\": {\"automargin\": true, \"gridcolor\": \"white\", \"linecolor\": \"white\", \"ticks\": \"\", \"title\": {\"standoff\": 15}, \"zerolinecolor\": \"white\", \"zerolinewidth\": 2}}}, \"title\": {\"text\": \"Relationship between Newborn Mortality and Professional health Assistance at Birth\"}, \"xaxis\": {\"anchor\": \"y\", \"domain\": [0.0, 1.0], \"title\": {\"text\": \"Avg Newborn Mortality Rate\"}}, \"yaxis\": {\"anchor\": \"x\", \"domain\": [0.0, 1.0], \"title\": {\"text\": \"% births with professional health assistance (0 to 1)\"}}},                        {\"responsive\": true}                    ).then(function(){\n",
       "                            \n",
       "var gd = document.getElementById('e38303c5-97a4-4697-825e-81aa59117b73');\n",
       "var x = new MutationObserver(function (mutations, observer) {{\n",
       "        var display = window.getComputedStyle(gd).display;\n",
       "        if (!display || display === 'none') {{\n",
       "            console.log([gd, 'removed!']);\n",
       "            Plotly.purge(gd);\n",
       "            observer.disconnect();\n",
       "        }}\n",
       "}});\n",
       "\n",
       "// Listen for the removal of the full notebook cells\n",
       "var notebookContainer = gd.closest('#notebook-container');\n",
       "if (notebookContainer) {{\n",
       "    x.observe(notebookContainer, {childList: true});\n",
       "}}\n",
       "\n",
       "// Listen for the clearing of the current output cell\n",
       "var outputEl = gd.closest('.output');\n",
       "if (outputEl) {{\n",
       "    x.observe(outputEl, {childList: true});\n",
       "}}\n",
       "\n",
       "                        })                };                });            </script>        </div>"
      ]
     },
     "metadata": {},
     "output_type": "display_data"
    }
   ],
   "source": [
    "# Plot relationship between newborn deaths and assistance\n",
    "graph = px.scatter(final_combined, x = \"Newborn Mortality\", y = \"Skilled assistance\", title=\"Relationship between Newborn Mortality and Professional health Assistance at Birth\", opacity = 0.4, labels={\n",
    "                     \"Newborn Mortality\": \"Avg Newborn Mortality Rate\",\n",
    "                     \"Skilled assistance\": \"% births with professional health assistance (0 to 1)\"\n",
    "                 }) \n",
    "graph.update_layout(plot_bgcolor='white')\n",
    "graph.show()"
   ]
  },
  {
   "cell_type": "markdown",
   "metadata": {},
   "source": [
    "__Observations:__ According to the calculations and scatter plots, there is a strong, negative, and signiticant correlation between skilled health assistance for pregnancy and maternal mortality rate, as well as between the former and newborn mortality rates. This means that the higher the proportion of pregnancies/deliveries supported by skilled health professionals, the fewer the deaths, both for mothers and newborns. "
   ]
  },
  {
   "cell_type": "markdown",
   "metadata": {},
   "source": [
    "<a id='conclusions'></a>\n",
    "## Conclusions\n",
    "\n",
    "\n",
    "The data analyzed in this project focused on the interaction of worldwide maternal and newborn mortality rates, skilled health assistance during pregnancy, delivery and post-partum, and income inequality.\n",
    "\n",
    "In terms of maternal mortality rates, European countries showed the lowest rates, while some African countries and countries in the Caribbean showed the highest. Regarding newborn mortality rates, the lowest rates were observed in European and some Asian countries such as Japan, Bahrain and Singapore, and the highest rates were observed in some African and South Asian countries.\n",
    "\n",
    "Across the timespan analyzed (1990 - 2015), both the number of maternal deaths within the first year since delivery (deaths associated with birth) and the number of newborn deaths have decreased consistently worldwide. \n",
    "\n",
    "In terms of the improvement - or lack thereof - made by individual countries, the countries with the highest improvement in maternal mortality rates include some African countries and countries from South East and South Asia. Likewise, those with highest improvement in newborn mortality rates include South Asian and African countries. On the other hand, countries such as Latvia, Kuwait, Slovenia, Ireland, and Motenegro showed the lowest improvement in maternal mortality rate, while countries such as South Korea, Switzerland, New Zealand, Canada, and Germany did so regarding newborn mortality rates. Finally, maternal mortality rates in countries such as Lesotho, Sierra Leone, Democratic Republic of Congo, Zimbabwe, and Venezuela worsened considerably, while only two countries in the dataset showed a regression from 1990: Dominica and Zimbabwe.\n",
    "\n",
    "It is important to note that those countries that made low improvement or that even showed a slight increase in the mortality rates (e.g. Sweden, New Zealand, Canada, Singapore, Costa Rica), that show low improvement. It is difficult to state for sure in the absence of more context, but it is possible to suggests that this is mostly because these countries already had a low mortality rate, and so a few deaths a year would greatly affect their baseline.\n",
    "\n",
    "The second section of the Exploratory Analysis focused on the interaction among variables.\n",
    "\n",
    "As it could have been expected, maternal and newborn mortality rates are strongly, positively correlated. On the other hand, calculating the correlation between those two variables and income inequality yielded a low correlation. This low correlation was somewhat unexpected, since people tend to associate successful deliveries and post-partum care with the possibility to access health resources. It is sometimes assumed that countries with higher inequality may fail to provide those resources accross the board for the whole population. This popular notion is not supported by these data.\n",
    "\n",
    "Finally, the data showed that there is a strong relationship between mortality rates - both maternal and newborn - and the assistance of health professionals during pregnancy, delivery and post-partum. According to the analysis, the higher the proportion of pregnancies/deliveries supported by skilled health professionals, the fewer the deaths, both for mothers and newborns.\n",
    "\n",
    "### Limitations\n",
    "\n",
    "This analysis has two important limitations:\n",
    "\n",
    "> First, since the dataset of skilled health assistance was far from complete, it is important to view with caution the results regarding the relation between mortality rates and skilled health assistance calculation. This is because the reasons why only the data for some years and some countries were possible to be collected could also be the source of an underlying bias.\n",
    "\n",
    "> Second, since I lack the specialized background and broader view of the data collection process, there is the possibility that I misunderstood some information and missed opportunities of more interesting analysis.\n",
    "\n"
   ]
  },
  {
   "cell_type": "code",
   "execution_count": null,
   "metadata": {},
   "outputs": [],
   "source": []
  }
 ],
 "metadata": {
  "kernelspec": {
   "display_name": "Python 3",
   "language": "python",
   "name": "python3"
  },
  "language_info": {
   "codemirror_mode": {
    "name": "ipython",
    "version": 3
   },
   "file_extension": ".py",
   "mimetype": "text/x-python",
   "name": "python",
   "nbconvert_exporter": "python",
   "pygments_lexer": "ipython3",
   "version": "3.7.9"
  }
 },
 "nbformat": 4,
 "nbformat_minor": 4
}
